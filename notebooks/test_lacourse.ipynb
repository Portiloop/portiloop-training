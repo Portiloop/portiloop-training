{
 "cells": [
  {
   "attachments": {},
   "cell_type": "markdown",
   "metadata": {},
   "source": [
    "## Loading LAcourse Data"
   ]
  },
  {
   "cell_type": "code",
   "execution_count": 7,
   "metadata": {},
   "outputs": [],
   "source": [
    "import numpy as np\n",
    "\n",
    "filename_lacourse = '/project/portiloop-training/portiloop_software/dataset/20230515_130328_detectionVector_01-01-0001.csv'\n",
    "# Load file\n",
    "spindle_labels = np.loadtxt(filename_lacourse, delimiter=',')"
   ]
  },
  {
   "cell_type": "code",
   "execution_count": 25,
   "metadata": {},
   "outputs": [
    {
     "data": {
      "text/plain": [
       "7638500"
      ]
     },
     "execution_count": 25,
     "metadata": {},
     "output_type": "execute_result"
    }
   ],
   "source": [
    "len(spindle_labels) "
   ]
  },
  {
   "attachments": {},
   "cell_type": "markdown",
   "metadata": {},
   "source": [
    "## Loading Signal data and Sleep stage"
   ]
  },
  {
   "cell_type": "code",
   "execution_count": 9,
   "metadata": {},
   "outputs": [
    {
     "name": "stderr",
     "output_type": "stream",
     "text": [
      "/project/portiloop-training/venv/lib/python3.10/site-packages/tqdm/auto.py:21: TqdmWarning: IProgress not found. Please update jupyter and ipywidgets. See https://ipywidgets.readthedocs.io/en/stable/user_install.html\n",
      "  from .autonotebook import tqdm as notebook_tqdm\n"
     ]
    }
   ],
   "source": [
    "from portiloop_software.portiloop_python.ANN.data.mass_data import read_pretraining_dataset, read_sleep_staging_labels\n",
    "\n",
    "\n",
    "subject_id = '01-01-0001'\n",
    "\n",
    "ss_labels = read_sleep_staging_labels('/project/portiloop-training/portiloop_software/dataset/')\n",
    "data = read_pretraining_dataset('/project/portiloop-training/portiloop_software/dataset/MASS', patients_to_keep=[subject_id])"
   ]
  },
  {
   "cell_type": "code",
   "execution_count": null,
   "metadata": {},
   "outputs": [],
   "source": [
    "from portiloop_software.portiloop_python.ANN.data.mass_data import SingleSubjectDataset, read_spindle_trains_labels\n",
    "old_dataset = \"/project/portiloop-training/portiloop_software/dataset\"\n",
    "labels = read_spindle_trains_labels(old_dataset)\n",
    "dataset = SingleSubjectDataset(subject_id, data=data, labels=labels, config=config, ss_labels=ss_labels)  "
   ]
  },
  {
   "cell_type": "code",
   "execution_count": 20,
   "metadata": {},
   "outputs": [
    {
     "data": {
      "text/plain": [
       "12310"
      ]
     },
     "execution_count": 20,
     "metadata": {},
     "output_type": "execute_result"
    }
   ],
   "source": [
    "len(indexes)"
   ]
  },
  {
   "cell_type": "code",
   "execution_count": 23,
   "metadata": {},
   "outputs": [],
   "source": [
    "from portiloop_software.portiloop_python.ANN.utils import SpindlePlotter\n",
    "\n",
    "plotter = SpindlePlotter(data[subject_id]['signal'], spindle_labels)"
   ]
  },
  {
   "cell_type": "code",
   "execution_count": 26,
   "metadata": {},
   "outputs": [
    {
     "name": "stdout",
     "output_type": "stream",
     "text": [
      "RMS score: 0.6754504764230409\n"
     ]
    },
    {
     "data": {
      "image/png": "[encoded data removed]",
      "text/plain": [
       "<Figure size 640x480 with 1 Axes>"
      ]
     },
     "metadata": {},
     "output_type": "display_data"
    },
    {
     "ename": "TypeError",
     "evalue": "'NoneType' object is not subscriptable",
     "output_type": "error",
     "traceback": [
      "\u001b[0;31m---------------------------------------------------------------------------\u001b[0m",
      "\u001b[0;31mTypeError\u001b[0m                                 Traceback (most recent call last)",
      "Cell \u001b[0;32mIn[26], line 1\u001b[0m\n\u001b[0;32m----> 1\u001b[0m plotter\u001b[39m.\u001b[39;49mplot(\u001b[39m0\u001b[39;49m)\n",
      "File \u001b[0;32m/project/portiloop-training/portiloop_software/portiloop_python/ANN/utils.py:125\u001b[0m, in \u001b[0;36mSpindlePlotter.plot\u001b[0;34m(self, index, model, time_before, time_after)\u001b[0m\n\u001b[1;32m    121\u001b[0m plt\u001b[39m.\u001b[39mlegend()\n\u001b[1;32m    123\u001b[0m plt\u001b[39m.\u001b[39mshow()\n\u001b[0;32m--> 125\u001b[0m sleep_stages \u001b[39m=\u001b[39m np\u001b[39m.\u001b[39munique(\u001b[39mself\u001b[39;49m\u001b[39m.\u001b[39;49msleep_stage_labels[spindle_start])\n\u001b[1;32m    126\u001b[0m \u001b[39mif\u001b[39;00m \u001b[39mlen\u001b[39m(sleep_stages) \u001b[39m==\u001b[39m \u001b[39m1\u001b[39m:\n\u001b[1;32m    127\u001b[0m     \u001b[39mprint\u001b[39m(\u001b[39m\"\u001b[39m\u001b[39mSleep stage: \u001b[39m\u001b[39m\"\u001b[39m, SleepStageDataset\u001b[39m.\u001b[39mget_labels()[sleep_stages[\u001b[39m0\u001b[39m]])\n",
      "\u001b[0;31mTypeError\u001b[0m: 'NoneType' object is not subscriptable"
     ]
    }
   ],
   "source": [
    "plotter.plot(0)"
   ]
  }
 ],
 "metadata": {
  "kernelspec": {
   "display_name": "venv",
   "language": "python",
   "name": "python3"
  },
  "language_info": {
   "codemirror_mode": {
    "name": "ipython",
    "version": 3
   },
   "file_extension": ".py",
   "mimetype": "text/x-python",
   "name": "python",
   "nbconvert_exporter": "python",
   "pygments_lexer": "ipython3",
   "version": "3.10.6"
  },
  "orig_nbformat": 4
 },
 "nbformat": 4,
 "nbformat_minor": 2
}
