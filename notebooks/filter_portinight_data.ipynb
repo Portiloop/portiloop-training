{
 "cells": [
  {
   "cell_type": "code",
   "execution_count": 1,
   "metadata": {},
   "outputs": [],
   "source": [
    "import pandas as pd\n",
    "import numpy as np\n",
    "import matplotlib.pyplot as plt\n",
    "from scipy.signal import firwin\n",
    "from tqdm import tqdm\n",
    "from portiloopml.portiloop_python.ANN.wamsley_utils import detect_lacourse\n",
    "import os"
   ]
  },
  {
   "cell_type": "code",
   "execution_count": 19,
   "metadata": {},
   "outputs": [],
   "source": [
    "\n",
    "\n",
    "def shift_numpy(arr, num, fill_value=np.nan):\n",
    "    result = np.empty_like(arr)\n",
    "    if num > 0:\n",
    "        result[:num] = fill_value\n",
    "        result[num:] = arr[:-num]\n",
    "    elif num < 0:\n",
    "        result[num:] = fill_value\n",
    "        result[:num] = arr[-num:]\n",
    "    else:\n",
    "        result[:] = arr\n",
    "    return result\n",
    "\n",
    "class FIR:\n",
    "    def __init__(self, nb_channels, coefficients, buffer=None):\n",
    "        \n",
    "        self.coefficients = np.expand_dims(np.array(coefficients), axis=1)\n",
    "        self.taps = len(self.coefficients)\n",
    "        self.nb_channels = nb_channels\n",
    "        self.buffer = np.array(buffer) if buffer is not None else np.zeros((self.taps, self.nb_channels))\n",
    "    \n",
    "    def filter(self, x):\n",
    "        self.buffer = shift_numpy(self.buffer, 1, x)\n",
    "        filtered = np.sum(self.buffer * self.coefficients, axis=0)\n",
    "        return filtered\n",
    "\n",
    "    \n",
    "class FilterPipeline:\n",
    "    def __init__(self,\n",
    "                 nb_channels,\n",
    "                 sampling_rate,\n",
    "                 power_line_fq=60,\n",
    "                 use_custom_fir=False,\n",
    "                 custom_fir_order=20,\n",
    "                 custom_fir_cutoff=30,\n",
    "                 alpha_avg=0.1,\n",
    "                 alpha_std=0.001,\n",
    "                 epsilon=0.000001,\n",
    "                 filter_args=[]):\n",
    "        if len(filter_args) > 0:\n",
    "            use_fir, use_notch, use_std = filter_args\n",
    "        else:\n",
    "            use_fir=True,\n",
    "            use_notch=False,\n",
    "            use_std=True\n",
    "        self.use_fir = use_fir\n",
    "        self.use_notch = use_notch\n",
    "        self.use_std = use_std\n",
    "        self.nb_channels = nb_channels\n",
    "        assert power_line_fq in [50, 60], f\"The only supported power line frequencies are 50 Hz and 60 Hz\"\n",
    "        if power_line_fq == 60:\n",
    "            self.notch_coeff1 = -0.12478308884588535\n",
    "            self.notch_coeff2 = 0.98729186796473023\n",
    "            self.notch_coeff3 = 0.99364593398236511\n",
    "            self.notch_coeff4 = -0.12478308884588535\n",
    "            self.notch_coeff5 = 0.99364593398236511\n",
    "        else:\n",
    "            self.notch_coeff1 = -0.61410695998423581\n",
    "            self.notch_coeff2 =  0.98729186796473023\n",
    "            self.notch_coeff3 = 0.99364593398236511\n",
    "            self.notch_coeff4 = -0.61410695998423581\n",
    "            self.notch_coeff5 = 0.99364593398236511\n",
    "        self.dfs = [np.zeros(self.nb_channels), np.zeros(self.nb_channels)]\n",
    "        \n",
    "        self.moving_average = None\n",
    "        self.moving_variance = np.zeros(self.nb_channels)\n",
    "        self.ALPHA_AVG = alpha_avg\n",
    "        self.ALPHA_STD = alpha_std\n",
    "        self.EPSILON = epsilon\n",
    "        \n",
    "        if use_custom_fir:\n",
    "            self.fir_coef = firwin(numtaps=custom_fir_order+1, cutoff=custom_fir_cutoff, fs=sampling_rate)\n",
    "        else:\n",
    "            self.fir_coef = [\n",
    "                0.001623780150148094927192721215192250384,\n",
    "                0.014988684599373741992978104065059596905,\n",
    "                0.021287595318265635502275046064823982306,\n",
    "                0.007349500393709578957568417933998716762,\n",
    "                -0.025127515717112181709014251396183681209,\n",
    "                -0.052210507359822452833064687638398027048,\n",
    "                -0.039273839505489904766477593511808663607,\n",
    "                0.033021568427940004020193498490698402748,\n",
    "                0.147606943281569008563636202779889572412,\n",
    "                0.254000252034505602516389899392379447818,\n",
    "                0.297330876398883392486283128164359368384,\n",
    "                0.254000252034505602516389899392379447818,\n",
    "                0.147606943281569008563636202779889572412,\n",
    "                0.033021568427940004020193498490698402748,\n",
    "                -0.039273839505489904766477593511808663607,\n",
    "                -0.052210507359822452833064687638398027048,\n",
    "                -0.025127515717112181709014251396183681209,\n",
    "                0.007349500393709578957568417933998716762,\n",
    "                0.021287595318265635502275046064823982306,\n",
    "                0.014988684599373741992978104065059596905,\n",
    "                0.001623780150148094927192721215192250384]\n",
    "        self.fir = FIR(self.nb_channels, self.fir_coef)\n",
    "        \n",
    "    def filter(self, value):\n",
    "        \"\"\"\n",
    "        value: a numpy array of shape (data series, channels)\n",
    "        \"\"\"\n",
    "        for i, x in enumerate(value):  # loop over the data series\n",
    "            # FIR:\n",
    "            if self.use_fir:\n",
    "                x = self.fir.filter(x)\n",
    "            # notch:\n",
    "            if self.use_notch:\n",
    "                denAccum = (x - self.notch_coeff1 * self.dfs[0]) - self.notch_coeff2 * self.dfs[1]\n",
    "                x = (self.notch_coeff3 * denAccum + self.notch_coeff4 * self.dfs[0]) + self.notch_coeff5 * self.dfs[1]\n",
    "                self.dfs[1] = self.dfs[0]\n",
    "                self.dfs[0] = denAccum\n",
    "            # standardization:\n",
    "            if self.use_std:\n",
    "                if self.moving_average is not None:\n",
    "                    delta = x - self.moving_average\n",
    "                    self.moving_average = self.moving_average + self.ALPHA_AVG * delta\n",
    "                    self.moving_variance = (1 - self.ALPHA_STD) * (self.moving_variance + self.ALPHA_STD * delta**2)\n",
    "                    moving_std = np.sqrt(self.moving_variance)\n",
    "                    x = (x - self.moving_average) / (moving_std + self.EPSILON)\n",
    "                else:\n",
    "                    self.moving_average = x\n",
    "            try:\n",
    "                value[i] = x\n",
    "            except:\n",
    "                print(f\"Error in filtering: {x}\")\n",
    "                continue\n",
    "        return value"
   ]
  },
  {
   "cell_type": "code",
   "execution_count": 20,
   "metadata": {},
   "outputs": [],
   "source": [
    "def online_detrend(y, alpha=0.95):\n",
    "    detrended_y = np.zeros_like(y)\n",
    "    trend = 0\n",
    "    for i in range(len(y)):\n",
    "        trend = alpha * trend + (1 - alpha) * y[i]\n",
    "        detrended_y[i] = y[i] - trend\n",
    "    return detrended_y"
   ]
  },
  {
   "cell_type": "code",
   "execution_count": 39,
   "metadata": {},
   "outputs": [],
   "source": [
    "def raw2filtered(raw):\n",
    "    '''\n",
    "    Take in the raw data and filter it online, detrend it\n",
    "    '''\n",
    "    filtering4lac = FilterPipeline(nb_channels=1, sampling_rate=250, filter_args=[True, True, False])\n",
    "    filtered4lac = []\n",
    "    print(f'Filtering Data Online')\n",
    "    for i in tqdm(raw):\n",
    "        filtered4lac.append(filtering4lac.filter(np.array([i])))\n",
    "\n",
    "    print(f'Detrending Data')\n",
    "    detrended_data = online_detrend(np.array(filtered4lac).flatten())\n",
    "\n",
    "    print(f\"Running Lacourse\")\n",
    "    data_detect = np.array(detrended_data)\n",
    "    mask = np.ones(len(data_detect), dtype=bool)\n",
    "    lacourse = detect_lacourse(\n",
    "        data_detect,\n",
    "        mask,\n",
    "        sampling_rate=250,\n",
    "    )\n",
    "\n",
    "    if len(lacourse) == 0:\n",
    "        return None, None, None\n",
    "\n",
    "    print(f\"Lacourse found {len(lacourse)} spindles\")\n",
    "\n",
    "    # Filter data online like on Portiloop\n",
    "    print(f\"Filtering Online with standardization\")\n",
    "    filtering_online = FilterPipeline(nb_channels=1, sampling_rate=250, filter_args=[True, True, True])\n",
    "    filtered_online = []\n",
    "    for i in tqdm(raw):\n",
    "        filtered_online.append(filtering_online.filter(np.array([i])))\n",
    "    filtered_online = np.array(filtered_online).flatten()\n",
    "\n",
    "    return detrended_data, lacourse, filtered_online \n"
   ]
  },
  {
   "cell_type": "code",
   "execution_count": 41,
   "metadata": {},
   "outputs": [
    {
     "name": "stdout",
     "output_type": "stream",
     "text": [
      "Processing PN_08_AC_Night6a_Stim.csv\n"
     ]
    },
    {
     "name": "stderr",
     "output_type": "stream",
     "text": [
      "Skipping line 57060: expected 7 fields, saw 12\n",
      "\n",
      "Skipping line 339025: expected 7 fields, saw 8\n",
      "Skipping line 344135: expected 7 fields, saw 9\n",
      "\n",
      "Skipping line 2033544: expected 7 fields, saw 13\n",
      "Skipping line 2033549: expected 7 fields, saw 10\n",
      "\n",
      "/tmp/ipykernel_819244/2703276161.py:17: DtypeWarning: Columns (0,1,2,3,4,5,6) have mixed types. Specify dtype option on import or set low_memory=False.\n",
      "  df = pd.read_csv(path + file, on_bad_lines='warn', encoding_errors='ignore')\n",
      "/tmp/ipykernel_819244/2703276161.py:20: FutureWarning: Series.fillna with 'method' is deprecated and will raise in a future version. Use obj.ffill() or obj.bfill() instead.\n",
      "  df['converted'] = df['converted'].fillna(method='ffill')\n"
     ]
    },
    {
     "name": "stdout",
     "output_type": "stream",
     "text": [
      "Filtering Data Online\n"
     ]
    },
    {
     "name": "stderr",
     "output_type": "stream",
     "text": [
      "  0%|          | 0/2162978 [00:00<?, ?it/s]/tmp/ipykernel_819244/1879190733.py:122: DeprecationWarning: Conversion of an array with ndim > 0 to a scalar is deprecated, and will error in future. Ensure you extract a single element from your array before performing this operation. (Deprecated NumPy 1.25.)\n",
      "  value[i] = x\n",
      "100%|██████████| 2162978/2162978 [01:16<00:00, 28278.71it/s]\n"
     ]
    },
    {
     "name": "stdout",
     "output_type": "stream",
     "text": [
      "Detrending Data\n",
      "Running Lacourse\n",
      "Lacourse found 471 spindles\n",
      "Filtering Online with standardization\n"
     ]
    },
    {
     "name": "stderr",
     "output_type": "stream",
     "text": [
      "100%|██████████| 2162978/2162978 [01:40<00:00, 21502.35it/s]\n"
     ]
    },
    {
     "name": "stdout",
     "output_type": "stream",
     "text": [
      "Processing PN_08_AC_Night2_Stim.csv\n"
     ]
    },
    {
     "name": "stderr",
     "output_type": "stream",
     "text": [
      "Skipping line 297054: expected 7 fields, saw 8\n",
      "Skipping line 297077: expected 7 fields, saw 8\n",
      "Skipping line 297112: expected 7 fields, saw 8\n",
      "Skipping line 299105: expected 7 fields, saw 16\n",
      "Skipping line 299130: expected 7 fields, saw 8\n",
      "Skipping line 301967: expected 7 fields, saw 13\n",
      "Skipping line 301969: expected 7 fields, saw 11\n",
      "Skipping line 303816: expected 7 fields, saw 11\n",
      "Skipping line 303817: expected 7 fields, saw 11\n",
      "\n",
      "Skipping line 426256: expected 7 fields, saw 8\n",
      "Skipping line 426257: expected 7 fields, saw 17\n",
      "Skipping line 426275: expected 7 fields, saw 10\n",
      "Skipping line 426325: expected 7 fields, saw 12\n",
      "Skipping line 426326: expected 7 fields, saw 12\n",
      "Skipping line 426830: expected 7 fields, saw 19\n",
      "Skipping line 430414: expected 7 fields, saw 12\n",
      "Skipping line 430436: expected 7 fields, saw 11\n",
      "Skipping line 430780: expected 7 fields, saw 8\n",
      "Skipping line 431521: expected 7 fields, saw 31\n",
      "Skipping line 431526: expected 7 fields, saw 14\n",
      "Skipping line 431527: expected 7 fields, saw 9\n",
      "Skipping line 431534: expected 7 fields, saw 10\n",
      "Skipping line 431535: expected 7 fields, saw 18\n",
      "Skipping line 433035: expected 7 fields, saw 8\n",
      "Skipping line 435791: expected 7 fields, saw 12\n",
      "Skipping line 435792: expected 7 fields, saw 12\n",
      "\n",
      "Skipping line 1186825: expected 7 fields, saw 8\n",
      "Skipping line 1186837: expected 7 fields, saw 11\n",
      "Skipping line 1186838: expected 7 fields, saw 12\n",
      "Skipping line 1186845: expected 7 fields, saw 8\n",
      "Skipping line 1235256: expected 7 fields, saw 8\n",
      "Skipping line 1235259: expected 7 fields, saw 12\n",
      "Skipping line 1235300: expected 7 fields, saw 15\n",
      "\n",
      "Skipping line 1344955: expected 7 fields, saw 13\n",
      "Skipping line 1345344: expected 7 fields, saw 10\n",
      "Skipping line 1345549: expected 7 fields, saw 10\n",
      "\n",
      "Skipping line 1656914: expected 7 fields, saw 8\n",
      "Skipping line 1656916: expected 7 fields, saw 13\n",
      "Skipping line 1656918: expected 7 fields, saw 10\n",
      "Skipping line 1656920: expected 7 fields, saw 8\n",
      "Skipping line 1684138: expected 7 fields, saw 9\n",
      "\n",
      "Skipping line 1816981: expected 7 fields, saw 10\n",
      "\n",
      "Skipping line 1947666: expected 7 fields, saw 9\n",
      "Skipping line 1947668: expected 7 fields, saw 12\n",
      "Skipping line 1947717: expected 7 fields, saw 13\n",
      "Skipping line 1947718: expected 7 fields, saw 8\n",
      "Skipping line 1947720: expected 7 fields, saw 13\n",
      "Skipping line 1948081: expected 7 fields, saw 17\n",
      "Skipping line 1953076: expected 7 fields, saw 13\n",
      "\n",
      "Skipping line 3343108: expected 7 fields, saw 8\n",
      "Skipping line 3343687: expected 7 fields, saw 12\n",
      "Skipping line 3343699: expected 7 fields, saw 18\n",
      "Skipping line 3344267: expected 7 fields, saw 12\n",
      "Skipping line 3345685: expected 7 fields, saw 14\n",
      "Skipping line 3345693: expected 7 fields, saw 11\n",
      "Skipping line 3345694: expected 7 fields, saw 9\n",
      "Skipping line 3345740: expected 7 fields, saw 8\n",
      "Skipping line 3345743: expected 7 fields, saw 8\n",
      "Skipping line 3345897: expected 7 fields, saw 12\n",
      "Skipping line 3346233: expected 7 fields, saw 8\n",
      "Skipping line 3346234: expected 7 fields, saw 9\n",
      "Skipping line 3346245: expected 7 fields, saw 11\n",
      "Skipping line 3346259: expected 7 fields, saw 11\n",
      "Skipping line 3346260: expected 7 fields, saw 12\n",
      "Skipping line 3346293: expected 7 fields, saw 12\n",
      "Skipping line 3346294: expected 7 fields, saw 10\n",
      "Skipping line 3346303: expected 7 fields, saw 10\n",
      "\n",
      "Skipping line 3431432: expected 7 fields, saw 8\n",
      "Skipping line 3443174: expected 7 fields, saw 11\n",
      "Skipping line 3471954: expected 7 fields, saw 13\n",
      "Skipping line 3472484: expected 7 fields, saw 18\n",
      "Skipping line 3472485: expected 7 fields, saw 13\n",
      "Skipping line 3473088: expected 7 fields, saw 13\n",
      "Skipping line 3474152: expected 7 fields, saw 12\n",
      "Skipping line 3477727: expected 7 fields, saw 8\n",
      "Skipping line 3477889: expected 7 fields, saw 13\n",
      "Skipping line 3477901: expected 7 fields, saw 9\n",
      "Skipping line 3480861: expected 7 fields, saw 11\n",
      "Skipping line 3487072: expected 7 fields, saw 11\n",
      "Skipping line 3487467: expected 7 fields, saw 14\n",
      "Skipping line 3488004: expected 7 fields, saw 9\n",
      "Skipping line 3488628: expected 7 fields, saw 10\n",
      "Skipping line 3488931: expected 7 fields, saw 8\n",
      "Skipping line 3488942: expected 7 fields, saw 10\n",
      "Skipping line 3488952: expected 7 fields, saw 10\n",
      "Skipping line 3488964: expected 7 fields, saw 8\n",
      "Skipping line 3488966: expected 7 fields, saw 11\n",
      "Skipping line 3497098: expected 7 fields, saw 13\n",
      "\n",
      "Skipping line 4240242: expected 7 fields, saw 10\n",
      "\n",
      "Skipping line 4383923: expected 7 fields, saw 10\n",
      "Skipping line 4383929: expected 7 fields, saw 9\n",
      "Skipping line 4383945: expected 7 fields, saw 10\n",
      "\n",
      "Skipping line 4484550: expected 7 fields, saw 10\n",
      "Skipping line 4484551: expected 7 fields, saw 14\n",
      "Skipping line 4484559: expected 7 fields, saw 14\n",
      "Skipping line 4484561: expected 7 fields, saw 14\n",
      "Skipping line 4484595: expected 7 fields, saw 13\n",
      "Skipping line 4488869: expected 7 fields, saw 12\n",
      "\n",
      "Skipping line 4720073: expected 7 fields, saw 13\n",
      "Skipping line 4720074: expected 7 fields, saw 13\n",
      "Skipping line 4720093: expected 7 fields, saw 12\n",
      "Skipping line 4720094: expected 7 fields, saw 10\n",
      "Skipping line 4720104: expected 7 fields, saw 11\n",
      "Skipping line 4720112: expected 7 fields, saw 8\n",
      "\n",
      "Skipping line 4875411: expected 7 fields, saw 8\n",
      "Skipping line 4875478: expected 7 fields, saw 11\n",
      "Skipping line 4883675: expected 7 fields, saw 12\n",
      "Skipping line 4927407: expected 7 fields, saw 8\n",
      "Skipping line 4930361: expected 7 fields, saw 10\n",
      "Skipping line 4930372: expected 7 fields, saw 14\n",
      "Skipping line 4930774: expected 7 fields, saw 10\n",
      "Skipping line 4931890: expected 7 fields, saw 13\n",
      "Skipping line 4961891: expected 7 fields, saw 10\n",
      "Skipping line 4961947: expected 7 fields, saw 11\n",
      "Skipping line 4966189: expected 7 fields, saw 11\n",
      "Skipping line 4971124: expected 7 fields, saw 10\n",
      "Skipping line 4971125: expected 7 fields, saw 12\n",
      "Skipping line 4971126: expected 7 fields, saw 10\n",
      "Skipping line 4974402: expected 7 fields, saw 8\n",
      "\n",
      "Skipping line 5004175: expected 7 fields, saw 12\n",
      "Skipping line 5004253: expected 7 fields, saw 8\n",
      "Skipping line 5004758: expected 7 fields, saw 15\n",
      "Skipping line 5029068: expected 7 fields, saw 13\n",
      "\n",
      "Skipping line 6493733: expected 7 fields, saw 8\n",
      "Skipping line 6493738: expected 7 fields, saw 8\n",
      "Skipping line 6494237: expected 7 fields, saw 11\n",
      "Skipping line 6497241: expected 7 fields, saw 12\n",
      "Skipping line 6497243: expected 7 fields, saw 10\n",
      "Skipping line 6497244: expected 7 fields, saw 12\n",
      "Skipping line 6497255: expected 7 fields, saw 8\n",
      "Skipping line 6497261: expected 7 fields, saw 12\n",
      "Skipping line 6497263: expected 7 fields, saw 13\n",
      "Skipping line 6497271: expected 7 fields, saw 13\n",
      "Skipping line 6497280: expected 7 fields, saw 9\n",
      "Skipping line 6497790: expected 7 fields, saw 11\n",
      "Skipping line 6498331: expected 7 fields, saw 18\n",
      "Skipping line 6498344: expected 7 fields, saw 10\n",
      "Skipping line 6498964: expected 7 fields, saw 11\n",
      "Skipping line 6499455: expected 7 fields, saw 13\n",
      "Skipping line 6499466: expected 7 fields, saw 12\n",
      "Skipping line 6499517: expected 7 fields, saw 12\n",
      "Skipping line 6499519: expected 7 fields, saw 12\n",
      "Skipping line 6500076: expected 7 fields, saw 10\n",
      "Skipping line 6500077: expected 7 fields, saw 13\n",
      "Skipping line 6500213: expected 7 fields, saw 8\n",
      "Skipping line 6500592: expected 7 fields, saw 12\n",
      "Skipping line 6500603: expected 7 fields, saw 12\n",
      "Skipping line 6502824: expected 7 fields, saw 8\n",
      "Skipping line 6502839: expected 7 fields, saw 11\n",
      "Skipping line 6502842: expected 7 fields, saw 9\n",
      "Skipping line 6502850: expected 7 fields, saw 9\n",
      "Skipping line 6502853: expected 7 fields, saw 8\n",
      "Skipping line 6503144: expected 7 fields, saw 22\n",
      "Skipping line 6503175: expected 7 fields, saw 15\n",
      "Skipping line 6528126: expected 7 fields, saw 8\n",
      "Skipping line 6528686: expected 7 fields, saw 8\n",
      "Skipping line 6528715: expected 7 fields, saw 8\n",
      "Skipping line 6528725: expected 7 fields, saw 15\n",
      "Skipping line 6533549: expected 7 fields, saw 13\n",
      "Skipping line 6533550: expected 7 fields, saw 11\n",
      "Skipping line 6533738: expected 7 fields, saw 12\n",
      "Skipping line 6533740: expected 7 fields, saw 12\n",
      "Skipping line 6534056: expected 7 fields, saw 12\n",
      "Skipping line 6534058: expected 7 fields, saw 13\n",
      "Skipping line 6536649: expected 7 fields, saw 8\n",
      "\n",
      "/tmp/ipykernel_819244/2703276161.py:17: DtypeWarning: Columns (0,1,2,3,4,5,6) have mixed types. Specify dtype option on import or set low_memory=False.\n",
      "  df = pd.read_csv(path + file, on_bad_lines='warn', encoding_errors='ignore')\n",
      "/tmp/ipykernel_819244/2703276161.py:20: FutureWarning: Series.fillna with 'method' is deprecated and will raise in a future version. Use obj.ffill() or obj.bfill() instead.\n",
      "  df['converted'] = df['converted'].fillna(method='ffill')\n"
     ]
    },
    {
     "name": "stdout",
     "output_type": "stream",
     "text": [
      "Filtering Data Online\n"
     ]
    },
    {
     "name": "stderr",
     "output_type": "stream",
     "text": [
      "  0%|          | 0/6655663 [00:00<?, ?it/s]/tmp/ipykernel_819244/1879190733.py:122: DeprecationWarning: Conversion of an array with ndim > 0 to a scalar is deprecated, and will error in future. Ensure you extract a single element from your array before performing this operation. (Deprecated NumPy 1.25.)\n",
      "  value[i] = x\n",
      "100%|██████████| 6655663/6655663 [03:55<00:00, 28268.49it/s]\n"
     ]
    },
    {
     "name": "stdout",
     "output_type": "stream",
     "text": [
      "Detrending Data\n",
      "Running Lacourse\n"
     ]
    },
    {
     "name": "stderr",
     "output_type": "stream",
     "text": [
      "/home/ubuntu/anaconda3/envs/portiloop-training/lib/python3.11/site-packages/wonambi/detect/spindle.py:1521: RuntimeWarning: divide by zero encountered in scalar divide\n",
      "  out[i] = (dat[i] - mean(windat)) / std(stddat)\n",
      "/home/ubuntu/anaconda3/envs/portiloop-training/lib/python3.11/site-packages/numpy/core/_methods.py:206: RuntimeWarning: Degrees of freedom <= 0 for slice\n",
      "  ret = _var(a, axis=axis, dtype=dtype, out=out, ddof=ddof,\n",
      "/home/ubuntu/anaconda3/envs/portiloop-training/lib/python3.11/site-packages/numpy/core/_methods.py:163: RuntimeWarning: invalid value encountered in divide\n",
      "  arrmean = um.true_divide(arrmean, div, out=arrmean,\n",
      "/home/ubuntu/anaconda3/envs/portiloop-training/lib/python3.11/site-packages/numpy/core/_methods.py:198: RuntimeWarning: invalid value encountered in scalar divide\n",
      "  ret = ret.dtype.type(ret / rcount)\n"
     ]
    },
    {
     "name": "stdout",
     "output_type": "stream",
     "text": [
      "No spindles found in PN_08_AC_Night2_Stim.csv, skipping\n",
      "Processing PN_08_AC_Night3_Sham.csv\n"
     ]
    },
    {
     "name": "stderr",
     "output_type": "stream",
     "text": [
      "Skipping line 1294303: expected 7 fields, saw 13\n",
      "Skipping line 1294376: expected 7 fields, saw 11\n",
      "\n",
      "Skipping line 1415599: expected 7 fields, saw 12\n",
      "Skipping line 1415601: expected 7 fields, saw 8\n",
      "Skipping line 1415613: expected 7 fields, saw 13\n",
      "Skipping line 1415643: expected 7 fields, saw 14\n",
      "Skipping line 1415646: expected 7 fields, saw 12\n",
      "Skipping line 1433296: expected 7 fields, saw 8\n",
      "Skipping line 1433341: expected 7 fields, saw 8\n",
      "\n",
      "Skipping line 2869941: expected 7 fields, saw 11\n",
      "\n",
      "Skipping line 2916664: expected 7 fields, saw 8\n",
      "Skipping line 2916706: expected 7 fields, saw 11\n",
      "Skipping line 2916710: expected 7 fields, saw 8\n",
      "Skipping line 2917012: expected 7 fields, saw 18\n",
      "Skipping line 2917789: expected 7 fields, saw 9\n",
      "Skipping line 2918834: expected 7 fields, saw 12\n",
      "Skipping line 2918835: expected 7 fields, saw 12\n",
      "Skipping line 2918961: expected 7 fields, saw 14\n",
      "Skipping line 2918973: expected 7 fields, saw 10\n",
      "Skipping line 2919134: expected 7 fields, saw 12\n",
      "Skipping line 2919135: expected 7 fields, saw 10\n",
      "Skipping line 2919158: expected 7 fields, saw 12\n",
      "Skipping line 2919159: expected 7 fields, saw 8\n",
      "Skipping line 2919330: expected 7 fields, saw 8\n",
      "Skipping line 2919331: expected 7 fields, saw 15\n",
      "Skipping line 2919339: expected 7 fields, saw 21\n",
      "Skipping line 2919345: expected 7 fields, saw 9\n",
      "Skipping line 2919356: expected 7 fields, saw 9\n",
      "Skipping line 2920415: expected 7 fields, saw 8\n",
      "Skipping line 2920981: expected 7 fields, saw 15\n",
      "Skipping line 2920983: expected 7 fields, saw 12\n",
      "\n",
      "Skipping line 3717475: expected 7 fields, saw 13\n",
      "\n",
      "Skipping line 4366027: expected 7 fields, saw 13\n",
      "Skipping line 4366029: expected 7 fields, saw 17\n",
      "Skipping line 4366093: expected 7 fields, saw 12\n",
      "Skipping line 4366094: expected 7 fields, saw 8\n",
      "Skipping line 4366095: expected 7 fields, saw 10\n",
      "Skipping line 4375075: expected 7 fields, saw 8\n",
      "Skipping line 4382758: expected 7 fields, saw 11\n",
      "Skipping line 4447487: expected 7 fields, saw 9\n",
      "Skipping line 4447495: expected 7 fields, saw 9\n",
      "Skipping line 4447496: expected 7 fields, saw 9\n",
      "Skipping line 4447505: expected 7 fields, saw 16\n",
      "Skipping line 4447507: expected 7 fields, saw 10\n",
      "Skipping line 4447539: expected 7 fields, saw 11\n",
      "\n",
      "Skipping line 4464130: expected 7 fields, saw 8\n",
      "Skipping line 4464131: expected 7 fields, saw 8\n",
      "Skipping line 4493566: expected 7 fields, saw 14\n",
      "Skipping line 4493577: expected 7 fields, saw 10\n",
      "Skipping line 4493578: expected 7 fields, saw 14\n",
      "Skipping line 4493598: expected 7 fields, saw 13\n",
      "Skipping line 4493600: expected 7 fields, saw 15\n",
      "Skipping line 4493606: expected 7 fields, saw 10\n",
      "Skipping line 4493608: expected 7 fields, saw 14\n",
      "Skipping line 4494175: expected 7 fields, saw 12\n",
      "Skipping line 4494176: expected 7 fields, saw 12\n",
      "Skipping line 4494730: expected 7 fields, saw 9\n",
      "Skipping line 4500248: expected 7 fields, saw 13\n",
      "Skipping line 4500885: expected 7 fields, saw 10\n",
      "Skipping line 4500887: expected 7 fields, saw 13\n",
      "Skipping line 4500998: expected 7 fields, saw 12\n",
      "Skipping line 4555153: expected 7 fields, saw 14\n",
      "Skipping line 4567630: expected 7 fields, saw 8\n",
      "Skipping line 4567636: expected 7 fields, saw 13\n",
      "Skipping line 4567638: expected 7 fields, saw 8\n",
      "\n",
      "Skipping line 4807384: expected 7 fields, saw 10\n",
      "Skipping line 4807407: expected 7 fields, saw 8\n",
      "Skipping line 4808510: expected 7 fields, saw 10\n",
      "Skipping line 4808886: expected 7 fields, saw 13\n",
      "\n",
      "Skipping line 5136341: expected 7 fields, saw 14\n",
      "\n",
      "Skipping line 5649692: expected 7 fields, saw 19\n",
      "Skipping line 5649723: expected 7 fields, saw 12\n",
      "Skipping line 5649726: expected 7 fields, saw 9\n",
      "Skipping line 5649737: expected 7 fields, saw 10\n",
      "Skipping line 5650466: expected 7 fields, saw 14\n",
      "Skipping line 5650467: expected 7 fields, saw 11\n",
      "Skipping line 5650780: expected 7 fields, saw 19\n",
      "Skipping line 5650791: expected 7 fields, saw 11\n",
      "Skipping line 5650799: expected 7 fields, saw 12\n",
      "Skipping line 5650800: expected 7 fields, saw 8\n",
      "Skipping line 5651030: expected 7 fields, saw 13\n",
      "Skipping line 5651031: expected 7 fields, saw 10\n",
      "Skipping line 5657300: expected 7 fields, saw 14\n",
      "Skipping line 5657310: expected 7 fields, saw 12\n",
      "\n",
      "Skipping line 6449097: expected 7 fields, saw 11\n",
      "Skipping line 6449099: expected 7 fields, saw 8\n",
      "Skipping line 6449135: expected 7 fields, saw 8\n",
      "Skipping line 6466602: expected 7 fields, saw 11\n",
      "Skipping line 6466604: expected 7 fields, saw 12\n",
      "Skipping line 6467169: expected 7 fields, saw 9\n",
      "Skipping line 6467170: expected 7 fields, saw 17\n",
      "Skipping line 6467175: expected 7 fields, saw 9\n",
      "Skipping line 6467179: expected 7 fields, saw 8\n",
      "\n",
      "/tmp/ipykernel_819244/2703276161.py:17: DtypeWarning: Columns (0,1,2,3,4,5,6) have mixed types. Specify dtype option on import or set low_memory=False.\n",
      "  df = pd.read_csv(path + file, on_bad_lines='warn', encoding_errors='ignore')\n",
      "/tmp/ipykernel_819244/2703276161.py:20: FutureWarning: Series.fillna with 'method' is deprecated and will raise in a future version. Use obj.ffill() or obj.bfill() instead.\n",
      "  df['converted'] = df['converted'].fillna(method='ffill')\n"
     ]
    },
    {
     "name": "stdout",
     "output_type": "stream",
     "text": [
      "Filtering Data Online\n"
     ]
    },
    {
     "name": "stderr",
     "output_type": "stream",
     "text": [
      "  0%|          | 0/6836126 [00:00<?, ?it/s]/tmp/ipykernel_819244/1879190733.py:122: DeprecationWarning: Conversion of an array with ndim > 0 to a scalar is deprecated, and will error in future. Ensure you extract a single element from your array before performing this operation. (Deprecated NumPy 1.25.)\n",
      "  value[i] = x\n",
      "100%|██████████| 6836126/6836126 [04:04<00:00, 27925.63it/s]\n"
     ]
    },
    {
     "name": "stdout",
     "output_type": "stream",
     "text": [
      "Detrending Data\n",
      "Running Lacourse\n"
     ]
    },
    {
     "name": "stderr",
     "output_type": "stream",
     "text": [
      "/home/ubuntu/anaconda3/envs/portiloop-training/lib/python3.11/site-packages/wonambi/detect/spindle.py:1521: RuntimeWarning: divide by zero encountered in scalar divide\n",
      "  out[i] = (dat[i] - mean(windat)) / std(stddat)\n",
      "/home/ubuntu/anaconda3/envs/portiloop-training/lib/python3.11/site-packages/numpy/core/_methods.py:206: RuntimeWarning: Degrees of freedom <= 0 for slice\n",
      "  ret = _var(a, axis=axis, dtype=dtype, out=out, ddof=ddof,\n",
      "/home/ubuntu/anaconda3/envs/portiloop-training/lib/python3.11/site-packages/numpy/core/_methods.py:163: RuntimeWarning: invalid value encountered in divide\n",
      "  arrmean = um.true_divide(arrmean, div, out=arrmean,\n",
      "/home/ubuntu/anaconda3/envs/portiloop-training/lib/python3.11/site-packages/numpy/core/_methods.py:198: RuntimeWarning: invalid value encountered in scalar divide\n",
      "  ret = ret.dtype.type(ret / rcount)\n"
     ]
    },
    {
     "name": "stdout",
     "output_type": "stream",
     "text": [
      "No spindles found in PN_08_AC_Night3_Sham.csv, skipping\n",
      "Processing PN_08_AC_Night4_Stim.csv\n"
     ]
    },
    {
     "name": "stderr",
     "output_type": "stream",
     "text": [
      "Skipping line 1701418: expected 7 fields, saw 8\n",
      "\n",
      "Skipping line 4971264: expected 7 fields, saw 14\n",
      "\n",
      "Skipping line 7045695: expected 7 fields, saw 9\n",
      "\n",
      "Skipping line 7198436: expected 7 fields, saw 11\n",
      "Skipping line 7198437: expected 7 fields, saw 13\n",
      "Skipping line 7198454: expected 7 fields, saw 9\n",
      "Skipping line 7198455: expected 7 fields, saw 8\n",
      "Skipping line 7198457: expected 7 fields, saw 10\n",
      "Skipping line 7198476: expected 7 fields, saw 10\n",
      "Skipping line 7198479: expected 7 fields, saw 12\n",
      "\n",
      "Skipping line 7244529: expected 7 fields, saw 11\n",
      "\n",
      "/tmp/ipykernel_819244/2703276161.py:17: DtypeWarning: Columns (0,1,2,3,4,5,6) have mixed types. Specify dtype option on import or set low_memory=False.\n",
      "  df = pd.read_csv(path + file, on_bad_lines='warn', encoding_errors='ignore')\n",
      "/tmp/ipykernel_819244/2703276161.py:20: FutureWarning: Series.fillna with 'method' is deprecated and will raise in a future version. Use obj.ffill() or obj.bfill() instead.\n",
      "  df['converted'] = df['converted'].fillna(method='ffill')\n"
     ]
    },
    {
     "name": "stdout",
     "output_type": "stream",
     "text": [
      "Filtering Data Online\n"
     ]
    },
    {
     "name": "stderr",
     "output_type": "stream",
     "text": [
      "  0%|          | 0/7431566 [00:00<?, ?it/s]/tmp/ipykernel_819244/1879190733.py:122: DeprecationWarning: Conversion of an array with ndim > 0 to a scalar is deprecated, and will error in future. Ensure you extract a single element from your array before performing this operation. (Deprecated NumPy 1.25.)\n",
      "  value[i] = x\n",
      "100%|██████████| 7431566/7431566 [04:24<00:00, 28097.20it/s]\n"
     ]
    },
    {
     "name": "stdout",
     "output_type": "stream",
     "text": [
      "Detrending Data\n",
      "Running Lacourse\n",
      "Lacourse found 1638 spindles\n",
      "Filtering Online with standardization\n"
     ]
    },
    {
     "name": "stderr",
     "output_type": "stream",
     "text": [
      "100%|██████████| 7431566/7431566 [05:45<00:00, 21518.50it/s]\n"
     ]
    },
    {
     "name": "stdout",
     "output_type": "stream",
     "text": [
      "Processing PN_08_AC_Night6b_Stim.csv\n"
     ]
    },
    {
     "name": "stderr",
     "output_type": "stream",
     "text": [
      "Skipping line 360787: expected 7 fields, saw 13\n",
      "Skipping line 360805: expected 7 fields, saw 8\n",
      "Skipping line 360807: expected 7 fields, saw 14\n",
      "Skipping line 360815: expected 7 fields, saw 19\n",
      "Skipping line 362859: expected 7 fields, saw 15\n",
      "Skipping line 362865: expected 7 fields, saw 8\n",
      "Skipping line 362866: expected 7 fields, saw 16\n",
      "Skipping line 366875: expected 7 fields, saw 10\n",
      "Skipping line 366877: expected 7 fields, saw 13\n",
      "Skipping line 366885: expected 7 fields, saw 13\n",
      "Skipping line 366916: expected 7 fields, saw 12\n",
      "\n",
      "Skipping line 446079: expected 7 fields, saw 10\n",
      "Skipping line 447225: expected 7 fields, saw 12\n",
      "Skipping line 448345: expected 7 fields, saw 8\n",
      "Skipping line 448365: expected 7 fields, saw 19\n",
      "Skipping line 482681: expected 7 fields, saw 11\n",
      "\n",
      "/tmp/ipykernel_819244/2703276161.py:17: DtypeWarning: Columns (0,1,2,3,4,5,6) have mixed types. Specify dtype option on import or set low_memory=False.\n",
      "  df = pd.read_csv(path + file, on_bad_lines='warn', encoding_errors='ignore')\n",
      "/tmp/ipykernel_819244/2703276161.py:20: FutureWarning: Series.fillna with 'method' is deprecated and will raise in a future version. Use obj.ffill() or obj.bfill() instead.\n",
      "  df['converted'] = df['converted'].fillna(method='ffill')\n"
     ]
    },
    {
     "name": "stdout",
     "output_type": "stream",
     "text": [
      "Filtering Data Online\n"
     ]
    },
    {
     "name": "stderr",
     "output_type": "stream",
     "text": [
      "  0%|          | 0/5021967 [00:00<?, ?it/s]/tmp/ipykernel_819244/1879190733.py:122: DeprecationWarning: Conversion of an array with ndim > 0 to a scalar is deprecated, and will error in future. Ensure you extract a single element from your array before performing this operation. (Deprecated NumPy 1.25.)\n",
      "  value[i] = x\n",
      "100%|██████████| 5021967/5021967 [02:59<00:00, 27978.78it/s]\n"
     ]
    },
    {
     "name": "stdout",
     "output_type": "stream",
     "text": [
      "Detrending Data\n",
      "Running Lacourse\n"
     ]
    },
    {
     "name": "stderr",
     "output_type": "stream",
     "text": [
      "/home/ubuntu/anaconda3/envs/portiloop-training/lib/python3.11/site-packages/wonambi/detect/spindle.py:1521: RuntimeWarning: divide by zero encountered in scalar divide\n",
      "  out[i] = (dat[i] - mean(windat)) / std(stddat)\n",
      "/home/ubuntu/anaconda3/envs/portiloop-training/lib/python3.11/site-packages/numpy/core/_methods.py:206: RuntimeWarning: Degrees of freedom <= 0 for slice\n",
      "  ret = _var(a, axis=axis, dtype=dtype, out=out, ddof=ddof,\n",
      "/home/ubuntu/anaconda3/envs/portiloop-training/lib/python3.11/site-packages/numpy/core/_methods.py:163: RuntimeWarning: invalid value encountered in divide\n",
      "  arrmean = um.true_divide(arrmean, div, out=arrmean,\n",
      "/home/ubuntu/anaconda3/envs/portiloop-training/lib/python3.11/site-packages/numpy/core/_methods.py:198: RuntimeWarning: invalid value encountered in scalar divide\n",
      "  ret = ret.dtype.type(ret / rcount)\n"
     ]
    },
    {
     "name": "stdout",
     "output_type": "stream",
     "text": [
      "No spindles found in PN_08_AC_Night6b_Stim.csv, skipping\n",
      "Processing PN_08_AC_Night5_Sham.csv\n"
     ]
    },
    {
     "name": "stderr",
     "output_type": "stream",
     "text": [
      "Skipping line 236252: expected 7 fields, saw 11\n",
      "Skipping line 236814: expected 7 fields, saw 10\n",
      "Skipping line 236816: expected 7 fields, saw 11\n",
      "Skipping line 237715: expected 7 fields, saw 11\n",
      "\n",
      "Skipping line 263038: expected 7 fields, saw 13\n",
      "Skipping line 263040: expected 7 fields, saw 11\n",
      "Skipping line 271956: expected 7 fields, saw 12\n",
      "Skipping line 272487: expected 7 fields, saw 12\n",
      "Skipping line 272835: expected 7 fields, saw 12\n",
      "Skipping line 273053: expected 7 fields, saw 16\n",
      "Skipping line 273086: expected 7 fields, saw 8\n",
      "Skipping line 273448: expected 7 fields, saw 8\n",
      "Skipping line 273640: expected 7 fields, saw 8\n",
      "\n",
      "Skipping line 559005: expected 7 fields, saw 13\n",
      "Skipping line 598073: expected 7 fields, saw 13\n",
      "Skipping line 598075: expected 7 fields, saw 8\n",
      "Skipping line 598670: expected 7 fields, saw 12\n",
      "Skipping line 647910: expected 7 fields, saw 9\n",
      "\n",
      "Skipping line 775543: expected 7 fields, saw 8\n",
      "Skipping line 775554: expected 7 fields, saw 8\n",
      "Skipping line 775573: expected 7 fields, saw 8\n",
      "Skipping line 775583: expected 7 fields, saw 8\n",
      "Skipping line 776649: expected 7 fields, saw 8\n",
      "Skipping line 776650: expected 7 fields, saw 12\n",
      "Skipping line 776653: expected 7 fields, saw 10\n",
      "Skipping line 776837: expected 7 fields, saw 18\n",
      "Skipping line 777253: expected 7 fields, saw 11\n",
      "Skipping line 777254: expected 7 fields, saw 12\n",
      "\n",
      "Skipping line 2897004: expected 7 fields, saw 11\n",
      "Skipping line 2897005: expected 7 fields, saw 14\n",
      "Skipping line 2897023: expected 7 fields, saw 11\n",
      "Skipping line 2897027: expected 7 fields, saw 8\n",
      "Skipping line 2897035: expected 7 fields, saw 13\n",
      "Skipping line 2897036: expected 7 fields, saw 9\n",
      "Skipping line 2897037: expected 7 fields, saw 17\n",
      "Skipping line 2897040: expected 7 fields, saw 11\n",
      "Skipping line 2897041: expected 7 fields, saw 11\n",
      "Skipping line 2897067: expected 7 fields, saw 19\n",
      "Skipping line 2897069: expected 7 fields, saw 10\n",
      "Skipping line 2897228: expected 7 fields, saw 14\n",
      "Skipping line 2897233: expected 7 fields, saw 9\n",
      "Skipping line 2897373: expected 7 fields, saw 12\n",
      "Skipping line 2897385: expected 7 fields, saw 11\n",
      "Skipping line 2897386: expected 7 fields, saw 9\n",
      "Skipping line 2897389: expected 7 fields, saw 8\n",
      "Skipping line 2897401: expected 7 fields, saw 12\n",
      "Skipping line 2897403: expected 7 fields, saw 8\n",
      "Skipping line 2897404: expected 7 fields, saw 11\n",
      "Skipping line 2897408: expected 7 fields, saw 12\n",
      "Skipping line 2897562: expected 7 fields, saw 8\n",
      "Skipping line 2897572: expected 7 fields, saw 11\n",
      "Skipping line 2897575: expected 7 fields, saw 13\n",
      "Skipping line 2897950: expected 7 fields, saw 10\n",
      "Skipping line 2897972: expected 7 fields, saw 8\n",
      "Skipping line 2898533: expected 7 fields, saw 14\n",
      "Skipping line 2898680: expected 7 fields, saw 11\n",
      "Skipping line 2898683: expected 7 fields, saw 11\n",
      "Skipping line 2898693: expected 7 fields, saw 8\n",
      "\n",
      "Skipping line 3192643: expected 7 fields, saw 13\n",
      "Skipping line 3205693: expected 7 fields, saw 8\n",
      "Skipping line 3205694: expected 7 fields, saw 14\n",
      "Skipping line 3251039: expected 7 fields, saw 11\n",
      "Skipping line 3251574: expected 7 fields, saw 10\n",
      "Skipping line 3251585: expected 7 fields, saw 9\n",
      "\n",
      "Skipping line 3528080: expected 7 fields, saw 14\n",
      "Skipping line 3528089: expected 7 fields, saw 8\n",
      "Skipping line 3528090: expected 7 fields, saw 8\n",
      "Skipping line 3529342: expected 7 fields, saw 12\n",
      "Skipping line 3529380: expected 7 fields, saw 13\n",
      "Skipping line 3529382: expected 7 fields, saw 12\n",
      "Skipping line 3529389: expected 7 fields, saw 13\n",
      "Skipping line 3529899: expected 7 fields, saw 8\n",
      "Skipping line 3529902: expected 7 fields, saw 12\n",
      "Skipping line 3530433: expected 7 fields, saw 18\n",
      "Skipping line 3530435: expected 7 fields, saw 11\n",
      "Skipping line 3530467: expected 7 fields, saw 10\n",
      "Skipping line 3530468: expected 7 fields, saw 9\n",
      "Skipping line 3530651: expected 7 fields, saw 10\n",
      "Skipping line 3530652: expected 7 fields, saw 9\n",
      "Skipping line 3530671: expected 7 fields, saw 18\n",
      "Skipping line 3531186: expected 7 fields, saw 12\n",
      "Skipping line 3531206: expected 7 fields, saw 15\n",
      "Skipping line 3532307: expected 7 fields, saw 11\n",
      "Skipping line 3532858: expected 7 fields, saw 12\n",
      "Skipping line 3533388: expected 7 fields, saw 9\n",
      "Skipping line 3533406: expected 7 fields, saw 8\n",
      "Skipping line 3533407: expected 7 fields, saw 12\n",
      "Skipping line 3533429: expected 7 fields, saw 9\n",
      "Skipping line 3535112: expected 7 fields, saw 12\n",
      "Skipping line 3535113: expected 7 fields, saw 12\n",
      "Skipping line 3535114: expected 7 fields, saw 13\n",
      "Skipping line 3535244: expected 7 fields, saw 10\n",
      "Skipping line 3537610: expected 7 fields, saw 8\n",
      "\n",
      "Skipping line 4263953: expected 7 fields, saw 12\n",
      "Skipping line 4263978: expected 7 fields, saw 8\n",
      "Skipping line 4264000: expected 7 fields, saw 8\n",
      "Skipping line 4264002: expected 7 fields, saw 8\n",
      "Skipping line 4264003: expected 7 fields, saw 13\n",
      "\n",
      "Skipping line 5111358: expected 7 fields, saw 11\n",
      "Skipping line 5111503: expected 7 fields, saw 11\n",
      "\n",
      "Skipping line 5112408: expected 7 fields, saw 10\n",
      "Skipping line 5112409: expected 7 fields, saw 10\n",
      "Skipping line 5112417: expected 7 fields, saw 13\n",
      "\n",
      "Skipping line 5368508: expected 7 fields, saw 13\n",
      "Skipping line 5368518: expected 7 fields, saw 10\n",
      "Skipping line 5368536: expected 7 fields, saw 11\n",
      "\n",
      "Skipping line 5376899: expected 7 fields, saw 11\n",
      "Skipping line 5376911: expected 7 fields, saw 11\n",
      "Skipping line 5376933: expected 7 fields, saw 11\n",
      "Skipping line 5467033: expected 7 fields, saw 8\n",
      "Skipping line 5467034: expected 7 fields, saw 8\n",
      "Skipping line 5468123: expected 7 fields, saw 12\n",
      "Skipping line 5468159: expected 7 fields, saw 8\n",
      "Skipping line 5471009: expected 7 fields, saw 12\n",
      "Skipping line 5474735: expected 7 fields, saw 10\n",
      "Skipping line 5474764: expected 7 fields, saw 13\n",
      "Skipping line 5475836: expected 7 fields, saw 19\n",
      "\n",
      "Skipping line 5510722: expected 7 fields, saw 13\n",
      "Skipping line 5525237: expected 7 fields, saw 12\n",
      "Skipping line 5525253: expected 7 fields, saw 9\n",
      "Skipping line 5525283: expected 7 fields, saw 17\n",
      "Skipping line 5551446: expected 7 fields, saw 9\n",
      "Skipping line 5551457: expected 7 fields, saw 11\n",
      "Skipping line 5551458: expected 7 fields, saw 13\n",
      "Skipping line 5555741: expected 7 fields, saw 9\n",
      "\n",
      "Skipping line 5835711: expected 7 fields, saw 14\n",
      "Skipping line 5835739: expected 7 fields, saw 13\n",
      "Skipping line 5879283: expected 7 fields, saw 8\n",
      "Skipping line 5881978: expected 7 fields, saw 10\n",
      "Skipping line 5881981: expected 7 fields, saw 13\n",
      "Skipping line 5882010: expected 7 fields, saw 8\n",
      "Skipping line 5884640: expected 7 fields, saw 13\n",
      "\n",
      "Skipping line 6037339: expected 7 fields, saw 11\n",
      "Skipping line 6037341: expected 7 fields, saw 17\n",
      "Skipping line 6037342: expected 7 fields, saw 10\n",
      "Skipping line 6037343: expected 7 fields, saw 9\n",
      "Skipping line 6037349: expected 7 fields, saw 11\n",
      "Skipping line 6037352: expected 7 fields, saw 12\n",
      "\n",
      "/tmp/ipykernel_819244/2703276161.py:17: DtypeWarning: Columns (0,1,2,3,4,5,6) have mixed types. Specify dtype option on import or set low_memory=False.\n",
      "  df = pd.read_csv(path + file, on_bad_lines='warn', encoding_errors='ignore')\n",
      "/tmp/ipykernel_819244/2703276161.py:20: FutureWarning: Series.fillna with 'method' is deprecated and will raise in a future version. Use obj.ffill() or obj.bfill() instead.\n",
      "  df['converted'] = df['converted'].fillna(method='ffill')\n"
     ]
    },
    {
     "name": "stdout",
     "output_type": "stream",
     "text": [
      "Filtering Data Online\n"
     ]
    },
    {
     "name": "stderr",
     "output_type": "stream",
     "text": [
      "  0%|          | 0/6268914 [00:00<?, ?it/s]/tmp/ipykernel_819244/1879190733.py:122: DeprecationWarning: Conversion of an array with ndim > 0 to a scalar is deprecated, and will error in future. Ensure you extract a single element from your array before performing this operation. (Deprecated NumPy 1.25.)\n",
      "  value[i] = x\n",
      "100%|██████████| 6268914/6268914 [03:41<00:00, 28295.91it/s]\n"
     ]
    },
    {
     "name": "stdout",
     "output_type": "stream",
     "text": [
      "Detrending Data\n",
      "Running Lacourse\n"
     ]
    },
    {
     "name": "stderr",
     "output_type": "stream",
     "text": [
      "/home/ubuntu/anaconda3/envs/portiloop-training/lib/python3.11/site-packages/wonambi/detect/spindle.py:1521: RuntimeWarning: divide by zero encountered in scalar divide\n",
      "  out[i] = (dat[i] - mean(windat)) / std(stddat)\n",
      "/home/ubuntu/anaconda3/envs/portiloop-training/lib/python3.11/site-packages/numpy/core/_methods.py:206: RuntimeWarning: Degrees of freedom <= 0 for slice\n",
      "  ret = _var(a, axis=axis, dtype=dtype, out=out, ddof=ddof,\n",
      "/home/ubuntu/anaconda3/envs/portiloop-training/lib/python3.11/site-packages/numpy/core/_methods.py:163: RuntimeWarning: invalid value encountered in divide\n",
      "  arrmean = um.true_divide(arrmean, div, out=arrmean,\n",
      "/home/ubuntu/anaconda3/envs/portiloop-training/lib/python3.11/site-packages/numpy/core/_methods.py:198: RuntimeWarning: invalid value encountered in scalar divide\n",
      "  ret = ret.dtype.type(ret / rcount)\n"
     ]
    },
    {
     "name": "stdout",
     "output_type": "stream",
     "text": [
      "No spindles found in PN_08_AC_Night5_Sham.csv, skipping\n",
      "Saving fPN_08_AC.npz\n"
     ]
    }
   ],
   "source": [
    "path = '/project/portinight-raw/PN_08_AC/'\n",
    "save_path = '/project/portinight-dataset/'\n",
    "subject_id = 'PN_08_AC'\n",
    "age = 24\n",
    "gender = 'F'\n",
    "\n",
    "# Iterate through all the csvs in the folder\n",
    "data = {}\n",
    "for idx, file in enumerate(os.listdir(path)):\n",
    "    if file.endswith(\".csv\"):\n",
    "        print(f\"Processing {file}\")\n",
    "\n",
    "        # Get the filename\n",
    "        filename = file.split('_')[:-1]\n",
    "        filename = '_'.join(filename)\n",
    "\n",
    "        df = pd.read_csv(path + file, on_bad_lines='warn', encoding_errors='ignore')\n",
    "        # convert useful data to floats\n",
    "        df['converted'] = pd.to_numeric(df.iloc[:, 1], errors='coerce')\n",
    "        df['converted'] = df['converted'].fillna(method='ffill')\n",
    "        useful_data = df['converted'].values\n",
    "        filtered4lac, lacourse, filtered_online = raw2filtered(useful_data)\n",
    "\n",
    "        if filtered4lac is None:\n",
    "            print(f\"No spindles found in {file}, skipping\")\n",
    "            continue\n",
    "\n",
    "        spindle_info_mass = {}\n",
    "        spindle_info_mass[filename] = {\n",
    "            'onsets': [],\n",
    "            'offsets': [],\n",
    "            'labels_num': []\n",
    "        }\n",
    "\n",
    "        for spindle in lacourse:\n",
    "            spindle_info_mass[filename]['onsets'].append(spindle[0])\n",
    "            spindle_info_mass[filename]['offsets'].append(spindle[1])\n",
    "            spindle_info_mass[filename]['labels_num'].append(1)\n",
    "\n",
    "        data[filename] = {}\n",
    "\n",
    "        data[filename]['age'] = age\n",
    "        data[filename]['gender'] = gender\n",
    "        data[filename]['signal_mass'] = filtered4lac\n",
    "        data[filename]['signal_filt'] = filtered_online\n",
    "        data[filename]['ss_label'] = np.ones(len(filtered4lac)) * 5\n",
    "        data[filename]['spindle_mass_lacourse'] = spindle_info_mass\n",
    "\n",
    "print(f\"Saving f{subject_id}.npz\")\n",
    "np.savez_compressed(os.path.join(save_path, f\"{subject_id}.npz\"), data)\n"
   ]
  },
  {
   "cell_type": "code",
   "execution_count": 36,
   "metadata": {},
   "outputs": [
    {
     "data": {
      "text/plain": [
       "0"
      ]
     },
     "execution_count": 36,
     "metadata": {},
     "output_type": "execute_result"
    }
   ],
   "source": [
    "# Count how many NaNs are in the data\n",
    "df['converted'].isna().sum()"
   ]
  },
  {
   "cell_type": "code",
   "execution_count": 26,
   "metadata": {},
   "outputs": [],
   "source": [
    "save_path = '/project/portinight-dataset/'\n",
    "subject_id = 'PN_01_HJ'\n",
    "\n",
    "# Try loading the portinight data:\n",
    "data = np.load(os.path.join(save_path, f\"{subject_id}.npz\"), allow_pickle=True)"
   ]
  },
  {
   "cell_type": "code",
   "execution_count": 27,
   "metadata": {},
   "outputs": [
    {
     "data": {
      "text/plain": [
       "array({'PN_01_HJ_Night1': {'age': 28, 'gender': 'M', 'signal_mass': array([  16.36395368,  248.29117582, 1204.59631932, ...,   62.28175158,\n",
       "         78.37960546,   90.34512397]), 'signal_filt': array([17.2252144 , 28.4747362 , 27.93541527, ...,  1.04844287,\n",
       "        1.33055178,  1.51649733]), 'ss_label': array([5., 5., 5., ..., 5., 5., 5.]), 'spindle_mass_lacourse': {'PN_01_HJ_Night1': {'onsets': [4375, 13300, 14450, 24650, 32450, 34425, 38500, 39400, 43400, 56875, 63725, 65950, 66650, 71600, 79900, 87250, 98825, 107025, 114450, 129324, 130250, 140375, 146475, 150000, 156450, 169300, 169775, 172425, 178200, 181675, 188825, 189100, 190150, 190400, 190725, 192075, 195850, 202325, 207225, 207925, 209025, 209900, 213200, 214075, 222250, 222675, 224950, 227100, 228000, 229325, 239200, 240275, 241500, 242475, 249575, 250550, 254850, 256925, 263325, 263775, 264700, 267775, 271150, 273125, 279225, 281900, 296650, 300350, 309450, 342000, 343650, 347350, 347875, 355700, 370750, 392475, 404150, 410850, 455400, 474200, 490775, 518750, 546650, 634325, 645350, 652625, 657950, 671900, 697425, 703650, 709575, 711650, 716775, 719225, 730625, 794825, 843425, 875200, 886350, 908975, 909225, 912575, 960475, 1023750, 1024450, 1066475, 1080425, 1098450, 1099350, 1104300, 1113175, 1114200, 1115400, 1115700, 1116925, 1117350, 1124825, 1126375, 1134350, 1142000, 1145300, 1145975, 1149800, 1175700, 1188625, 1194375, 1226175, 1227625, 1228200, 1238475, 1244825, 1245175, 1248400, 1280400, 1282550, 1287850, 1310125, 1310525, 1311600, 1315525, 1316925, 1317100, 1317650, 1333950, 1335850, 1336700, 1338125, 1345775, 1348625, 1353325, 1353775, 1354375, 1356225, 1357225, 1358400, 1362375, 1363650, 1364825, 1366250, 1370850, 1386225, 1387425, 1389125, 1392650, 1394800, 1395125, 1396350, 1399475, 1401050, 1402650, 1407900, 1409475, 1410375, 1411775, 1413850, 1415700, 1418100, 1418775, 1422850, 1424825, 1425975, 1426975, 1428300, 1430875, 1434550, 1437200, 1438275, 1439150, 1442275, 1444600, 1449750, 1451725, 1455275, 1457750, 1458925, 1460150, 1463075, 1465875, 1466900, 1467575, 1469075, 1471050, 1474875, 1477950, 1480000, 1481700, 1484125, 1486575, 1491000, 1492050, 1494200, 1498875, 1500425, 1502000, 1508025, 1512700, 1516575, 1528425, 1530050, 1531625, 1532975, 1537275, 1538575, 1542675, 1545000, 1546500, 1547450, 1549300, 1551975, 1552675, 1554000, 1557250, 1559425, 1560050, 1564800, 1567725, 1572000, 1578500, 1579525, 1583875, 1586400, 1587000, 1588750, 1590950, 1594650, 1595625, 1596825, 1599825, 1601950, 1603050, 1605050, 1609400, 1612050, 1618275, 1620800, 1621350, 1630025, 1631150, 1638100, 1640650, 1648375, 1650525, 1656975, 1658000, 1659125, 1664625, 1666075, 1667975, 1670175, 1671050, 1674400, 1683500, 1688125, 1698575, 1699100, 1701175, 1710450, 1712600, 1716925, 1721950, 1722325, 1723100, 1730800, 1733425, 1738600, 1745475, 1755425, 1758525, 1761900, 1767550, 1774250, 1775100, 1776500, 1778250, 1779150, 1783150, 1800875, 1802400, 1810650, 1872650, 1875800, 1877100, 1877325, 1884775, 1887175, 1893250, 1895000, 1896400, 1897050, 1899425, 1901375, 1907925, 1911325, 1921850, 1923250, 1925250, 1926400, 1934925, 1939225, 1942600, 1946500, 1954350, 1955475, 1959650, 1967300, 1970375, 1972300, 1974150, 1979975, 1985000, 1986725, 1990700, 1992050, 1999425, 2007950, 2010925, 2011475, 2026900, 2030550, 2035525, 2037025, 2039850, 2045075, 2048275, 2056574, 2069949, 2073225, 2077725, 2078650, 2079725, 2084949, 2085525, 2088949, 2095449, 2096375, 2097500, 2099400, 2102275, 2103000, 2108625, 2110225, 2111000, 2113850, 2119325, 2121325, 2123225, 2124200, 2127975, 2129400, 2140700, 2142025, 2147050, 2147875, 2160825, 2197975, 2198550, 2205325, 2219900, 2269575, 2293300, 2294175, 2295400, 2302575, 2312275, 2320175, 2339650, 2342050, 2343600, 2349875, 2368200, 2374300, 2382450, 2406175, 2409425, 2413150, 2413500, 2434325, 2460300, 2462775, 2471850, 2483750, 2488550, 2489050, 2490025, 2493125, 2493450, 2494450, 2496050, 2497750, 2498550, 2499450, 2501575, 2502525, 2507475, 2507825, 2511225, 2513100, 2514725, 2516325, 2521150, 2523450, 2524250, 2527425, 2527825, 2530750, 2534150, 2536375, 2538325, 2539150, 2541600, 2542550, 2547500, 2551600, 2553625, 2555075, 2556150, 2558050, 2560250, 2561300, 2564125, 2567775, 2568250, 2572600, 2576675, 2578625, 2587175, 2589100, 2592525, 2593425, 2594775, 2595675, 2597075, 2598025, 2601600, 2602750, 2605350, 2607575, 2608800, 2609625, 2610125, 2611725, 2616300, 2619375, 2620400, 2621475, 2625525, 2630750, 2631900, 2634725, 2635225, 2635575, 2638550, 2641975, 2644075, 2648225, 2649975, 2650525, 2651975, 2652775, 2653450, 2656800, 2658725, 2664050, 2664975, 2666625, 2669975, 2671850, 2676625, 2678800, 2683350, 2687150, 2688325, 2693700, 2694300, 2697450, 2702150, 2702525, 2702975, 2703875, 2711075, 2712200, 2713300, 2714875, 2716600, 2724225, 2731225, 2738100, 2738950, 2740700, 2741400, 2741625, 2746275, 2747800, 2748775, 2749150, 2751650, 2754150, 2756200, 2758050, 2762400, 2764700, 2783175, 2785050, 2785825, 2800025, 2801150, 2803800, 2804875, 2806500, 2842475, 2842900, 2849025, 2852750, 2861200, 2866450, 2867450, 2870475, 2871650, 2876350, 2879775, 2882750, 2884175, 2888800, 2889400, 2892100, 2893375, 2894225, 2899000, 2902350, 2906500, 2908000, 2908225, 2911900, 2922550, 2924050, 2926050, 2930375, 2933425, 2943475, 2945300, 2945775, 2947425, 2949425, 2955375, 2956900, 2959400, 2961175, 2968750, 2971850, 2973200, 3001100, 3003425, 3105575, 3117650, 3177400, 3181425, 3191925, 3192525, 3193225, 3197150, 3203400, 3203675, 3204800, 3207925, 3212850, 3213200, 3219975, 3222875, 3223425, 3227500, 3229350, 3231800, 3234925, 3237875, 3239650, 3241725, 3244250, 3245825, 3251000, 3253000, 3259700, 3263175, 3266675, 3270225, 3272175, 3274500, 3275325, 3276075, 3278075, 3281675, 3285750, 3286125, 3288700, 3291925, 3294350, 3301550, 3302550, 3304975, 3309975, 3310575, 3315300, 3319325, 3327075, 3334750, 3335725, 3337550, 3343250, 3344825, 3351975, 3358550, 3358950, 3361400, 3362000, 3370325, 3374100, 3391300, 3410800, 3420125, 3443825, 3447175, 3451625, 3452575, 3458650, 3468350, 3482300, 3497375, 3522525, 3553875, 3572925, 3575025, 3580950, 3581350, 3604650, 3631525, 3666425, 3667875, 3690100, 3731000, 3739425, 3752375, 3759950], 'offsets': [4697, 13381, 14507, 24770, 32527, 34562, 38611, 39466, 43525, 56946, 63898, 66166, 66745, 71650, 79966, 87327, 98913, 107206, 114522, 129757, 130348, 140416, 146648, 150184, 156589, 169655, 169850, 172598, 178314, 181736, 188923, 189198, 190237, 190480, 190824, 192238, 195971, 202519, 207347, 208049, 209184, 209971, 213303, 214163, 222378, 222805, 225026, 227237, 228083, 229384, 239290, 240352, 241625, 242528, 249720, 250702, 254984, 257148, 263398, 263817, 264782, 267835, 271253, 273194, 279323, 282024, 296833, 300454, 309537, 342199, 343729, 347456, 347990, 355780, 370821, 392529, 404212, 410994, 455513, 474276, 490862, 518806, 546731, 634448, 645472, 652778, 658036, 671966, 697539, 703795, 709685, 711755, 716885, 719359, 730689, 794926, 843506, 875275, 886475, 909022, 909510, 912723, 960584, 1023828, 1024541, 1066556, 1080562, 1098544, 1099620, 1104450, 1113331, 1114288, 1115494, 1115830, 1117076, 1117450, 1124895, 1126554, 1134407, 1142072, 1145347, 1146103, 1149861, 1175766, 1188686, 1194753, 1226253, 1227888, 1228261, 1238575, 1244897, 1245370, 1248469, 1280496, 1282608, 1287896, 1310403, 1310664, 1311721, 1315591, 1317015, 1317309, 1317713, 1334079, 1336147, 1336895, 1338199, 1345849, 1348710, 1353581, 1353951, 1354418, 1356351, 1357284, 1358514, 1362463, 1363726, 1364889, 1366356, 1370909, 1386277, 1387485, 1389225, 1392813, 1394915, 1395265, 1396412, 1399527, 1401237, 1402704, 1408011, 1409558, 1410423, 1411862, 1413985, 1415813, 1418171, 1419191, 1422905, 1425008, 1426157, 1427053, 1428405, 1430967, 1434735, 1437305, 1438432, 1439327, 1442327, 1444710, 1449896, 1451834, 1455322, 1457960, 1459032, 1460324, 1463137, 1466075, 1466958, 1467768, 1469185, 1471132, 1474941, 1478094, 1480061, 1481820, 1484330, 1486644, 1491058, 1492131, 1494379, 1499084, 1500548, 1502143, 1508141, 1512858, 1516650, 1528465, 1530217, 1531663, 1533161, 1537435, 1538698, 1542749, 1545285, 1546599, 1547547, 1549472, 1552083, 1552834, 1554149, 1557333, 1559519, 1560125, 1564920, 1567874, 1572070, 1578601, 1579687, 1584059, 1586530, 1587089, 1588877, 1591123, 1594775, 1595680, 1597018, 1599897, 1602289, 1603112, 1605198, 1609528, 1612128, 1618451, 1620850, 1621441, 1630084, 1631360, 1638209, 1640815, 1648444, 1650588, 1657064, 1658069, 1659276, 1664677, 1666160, 1668087, 1670278, 1671109, 1674487, 1683577, 1688219, 1698773, 1699191, 1701247, 1710563, 1712756, 1717060, 1722099, 1722503, 1723213, 1730837, 1733697, 1738765, 1745591, 1755550, 1758578, 1762054, 1767682, 1774348, 1775168, 1776670, 1778332, 1779259, 1783301, 1801059, 1802495, 1810801, 1872710, 1875903, 1877135, 1877574, 1884868, 1887315, 1893287, 1895117, 1896459, 1897130, 1899510, 1901480, 1908123, 1911444, 1922007, 1923501, 1925310, 1926457, 1934979, 1939289, 1942682, 1946649, 1954435, 1955585, 1959789, 1967480, 1970422, 1972408, 1974213, 1980039, 1985100, 1986843, 1990798, 1992122, 1999568, 2008035, 2011000, 2011643, 2027002, 2030769, 2035611, 2037149, 2040032, 2045145, 2048431, 2056623, 2070042, 2073328, 2077789, 2078935, 2079945, 2084987, 2085750, 2088998, 2095518, 2096454, 2097625, 2099461, 2102337, 2103161, 2108691, 2110283, 2111119, 2113976, 2119458, 2121409, 2123265, 2124291, 2128106, 2129472, 2140834, 2142269, 2147248, 2148026, 2160889, 2198366, 2198839, 2205388, 2220084, 2269666, 2293387, 2294220, 2295485, 2302649, 2312350, 2320366, 2339949, 2342100, 2343737, 2349930, 2368255, 2374377, 2382574, 2406456, 2409506, 2413244, 2413574, 2434615, 2460528, 2462966, 2472051, 2483979, 2488614, 2489109, 2490133, 2493196, 2493695, 2494541, 2496179, 2497832, 2498685, 2499618, 2501716, 2502602, 2507608, 2507976, 2511374, 2513417, 2514796, 2516645, 2521257, 2523519, 2524297, 2527604, 2527983, 2530853, 2534368, 2536504, 2538515, 2539243, 2541720, 2542643, 2547560, 2551690, 2553789, 2555159, 2556284, 2558159, 2560337, 2561435, 2564249, 2567953, 2568347, 2572722, 2576712, 2578834, 2587277, 2589238, 2592709, 2593648, 2594843, 2595777, 2597151, 2598084, 2601668, 2602856, 2605486, 2607694, 2608886, 2609866, 2610196, 2611800, 2616436, 2619452, 2620587, 2621564, 2625638, 2630971, 2632028, 2634887, 2635307, 2635714, 2638693, 2642198, 2644146, 2648351, 2650011, 2650600, 2652098, 2652855, 2653578, 2656967, 2658785, 2664138, 2665131, 2666732, 2670036, 2671980, 2676726, 2678878, 2683470, 2687207, 2688484, 2693793, 2694370, 2697597, 2702203, 2702765, 2703068, 2704005, 2711219, 2712315, 2713404, 2714945, 2716710, 2724303, 2731296, 2738190, 2739090, 2740842, 2741478, 2741825, 2746454, 2747876, 2748944, 2749203, 2751698, 2754246, 2756284, 2758238, 2762579, 2764839, 2783227, 2785147, 2785977, 2800163, 2801265, 2803989, 2804964, 2806614, 2842540, 2843036, 2849060, 2852819, 2861294, 2866559, 2867590, 2870620, 2871875, 2876404, 2879852, 2882833, 2884382, 2888964, 2889573, 2892175, 2893509, 2894302, 2899206, 2902480, 2906587, 2908147, 2908308, 2912016, 2922699, 2924312, 2926241, 2930466, 2933656, 2943589, 2945509, 2945898, 2947519, 2949517, 2955482, 2956984, 2959444, 2961279, 2968785, 2971933, 2973267, 3001204, 3003500, 3105662, 3117719, 3177453, 3181487, 3192048, 3192596, 3193290, 3197282, 3203436, 3203845, 3204877, 3208068, 3212914, 3213271, 3220057, 3222937, 3223547, 3227548, 3229428, 3231879, 3235051, 3238003, 3239731, 3241824, 3244354, 3245979, 3251058, 3253100, 3259783, 3263463, 3266864, 3270356, 3272376, 3274564, 3275456, 3276142, 3278219, 3281794, 3285842, 3286346, 3288772, 3292023, 3294453, 3301706, 3302718, 3305049, 3310050, 3310768, 3315375, 3319444, 3327147, 3334815, 3335930, 3337706, 3343409, 3345079, 3352088, 3358696, 3359091, 3361461, 3362083, 3370394, 3374184, 3391405, 3410955, 3420175, 3443962, 3447351, 3451753, 3452685, 3458771, 3468443, 3482360, 3497455, 3522714, 3554055, 3572993, 3575202, 3581170, 3581421, 3604753, 3631595, 3666574, 3668134, 3690217, 3731249, 3739461, 3752457, 3760151], 'labels_num': [1, 1, 1, 1, 1, 1, 1, 1, 1, 1, 1, 1, 1, 1, 1, 1, 1, 1, 1, 1, 1, 1, 1, 1, 1, 1, 1, 1, 1, 1, 1, 1, 1, 1, 1, 1, 1, 1, 1, 1, 1, 1, 1, 1, 1, 1, 1, 1, 1, 1, 1, 1, 1, 1, 1, 1, 1, 1, 1, 1, 1, 1, 1, 1, 1, 1, 1, 1, 1, 1, 1, 1, 1, 1, 1, 1, 1, 1, 1, 1, 1, 1, 1, 1, 1, 1, 1, 1, 1, 1, 1, 1, 1, 1, 1, 1, 1, 1, 1, 1, 1, 1, 1, 1, 1, 1, 1, 1, 1, 1, 1, 1, 1, 1, 1, 1, 1, 1, 1, 1, 1, 1, 1, 1, 1, 1, 1, 1, 1, 1, 1, 1, 1, 1, 1, 1, 1, 1, 1, 1, 1, 1, 1, 1, 1, 1, 1, 1, 1, 1, 1, 1, 1, 1, 1, 1, 1, 1, 1, 1, 1, 1, 1, 1, 1, 1, 1, 1, 1, 1, 1, 1, 1, 1, 1, 1, 1, 1, 1, 1, 1, 1, 1, 1, 1, 1, 1, 1, 1, 1, 1, 1, 1, 1, 1, 1, 1, 1, 1, 1, 1, 1, 1, 1, 1, 1, 1, 1, 1, 1, 1, 1, 1, 1, 1, 1, 1, 1, 1, 1, 1, 1, 1, 1, 1, 1, 1, 1, 1, 1, 1, 1, 1, 1, 1, 1, 1, 1, 1, 1, 1, 1, 1, 1, 1, 1, 1, 1, 1, 1, 1, 1, 1, 1, 1, 1, 1, 1, 1, 1, 1, 1, 1, 1, 1, 1, 1, 1, 1, 1, 1, 1, 1, 1, 1, 1, 1, 1, 1, 1, 1, 1, 1, 1, 1, 1, 1, 1, 1, 1, 1, 1, 1, 1, 1, 1, 1, 1, 1, 1, 1, 1, 1, 1, 1, 1, 1, 1, 1, 1, 1, 1, 1, 1, 1, 1, 1, 1, 1, 1, 1, 1, 1, 1, 1, 1, 1, 1, 1, 1, 1, 1, 1, 1, 1, 1, 1, 1, 1, 1, 1, 1, 1, 1, 1, 1, 1, 1, 1, 1, 1, 1, 1, 1, 1, 1, 1, 1, 1, 1, 1, 1, 1, 1, 1, 1, 1, 1, 1, 1, 1, 1, 1, 1, 1, 1, 1, 1, 1, 1, 1, 1, 1, 1, 1, 1, 1, 1, 1, 1, 1, 1, 1, 1, 1, 1, 1, 1, 1, 1, 1, 1, 1, 1, 1, 1, 1, 1, 1, 1, 1, 1, 1, 1, 1, 1, 1, 1, 1, 1, 1, 1, 1, 1, 1, 1, 1, 1, 1, 1, 1, 1, 1, 1, 1, 1, 1, 1, 1, 1, 1, 1, 1, 1, 1, 1, 1, 1, 1, 1, 1, 1, 1, 1, 1, 1, 1, 1, 1, 1, 1, 1, 1, 1, 1, 1, 1, 1, 1, 1, 1, 1, 1, 1, 1, 1, 1, 1, 1, 1, 1, 1, 1, 1, 1, 1, 1, 1, 1, 1, 1, 1, 1, 1, 1, 1, 1, 1, 1, 1, 1, 1, 1, 1, 1, 1, 1, 1, 1, 1, 1, 1, 1, 1, 1, 1, 1, 1, 1, 1, 1, 1, 1, 1, 1, 1, 1, 1, 1, 1, 1, 1, 1, 1, 1, 1, 1, 1, 1, 1, 1, 1, 1, 1, 1, 1, 1, 1, 1, 1, 1, 1, 1, 1, 1, 1, 1, 1, 1, 1, 1, 1, 1, 1, 1, 1, 1, 1, 1, 1, 1, 1, 1, 1, 1, 1, 1, 1, 1, 1, 1, 1, 1, 1, 1, 1, 1, 1, 1, 1, 1, 1, 1, 1, 1, 1, 1, 1, 1, 1, 1, 1, 1, 1, 1, 1, 1, 1, 1, 1, 1, 1, 1, 1, 1, 1, 1, 1, 1, 1, 1, 1, 1, 1, 1, 1, 1, 1, 1, 1, 1, 1, 1, 1, 1, 1, 1, 1, 1, 1, 1, 1, 1, 1, 1, 1, 1, 1, 1, 1, 1, 1, 1, 1, 1, 1, 1, 1, 1, 1, 1]}}}, 'PN_01_HJ_Night4': {'age': 28, 'gender': 'M', 'signal_mass': array([  57.03591572,  685.53028278, 2289.8568287 , ...,   10.08260444,\n",
       "         12.88275106,    4.55901665]), 'signal_filt': array([60.03780602, 28.47473852, 27.37746562, ...,  0.60859923,\n",
       "        0.68232259,  0.30170539]), 'ss_label': array([5., 5., 5., ..., 5., 5., 5.]), 'spindle_mass_lacourse': {'PN_01_HJ_Night4': {'onsets': [61075, 70300, 72600, 92350, 92775, 97150, 97775, 99400, 101350, 103675, 110200, 114775, 115500, 123375, 124100, 130600, 143550, 147975, 151725, 152450, 159600, 160275, 162625, 172125, 172575, 184400, 184550, 192125, 193600, 194650, 195100, 198350, 203325, 206450, 214400, 215825, 217600, 224975, 226100, 227825, 230400, 232225, 233250, 233725, 236200, 236925, 240400, 245050, 246425, 247175, 255000, 258274, 264825, 269725, 283525, 285050, 290375, 293800, 300350, 310850, 362050, 561425, 569725, 575825, 578100, 584300, 590750, 791625, 884950, 925275, 964625, 1046349, 1054775, 1096675, 1115875, 1117350, 1122050, 1125175, 1129675, 1144250, 1156425, 1175450, 1176725, 1179675, 1180250, 1180825, 1188200, 1190775, 1192175, 1195375, 1197850, 1206550, 1206950, 1221125, 1240625, 1281850, 1291025, 1306875, 1315250, 1329700, 1334450, 1334850, 1336050, 1336400, 1352300, 1353225, 1355250, 1356550, 1359925, 1360525, 1361850, 1365225, 1366375, 1371050, 1371975, 1373825, 1375225, 1376425, 1379575, 1381650, 1383325, 1386925, 1387825, 1392075, 1399400, 1401575, 1402950, 1404700, 1407525, 1414125, 1414475, 1419150, 1420075, 1423500, 1430475, 1437050, 1439175, 1442300, 1443100, 1445775, 1446275, 1448000, 1452775, 1455575, 1456150, 1466700, 1476925, 1478225, 1484200, 1491800, 1500650, 1501775, 1506450, 1507200, 1515575, 1516375, 1520575, 1536025, 1538100, 1539725, 1562325, 1567900, 1568500, 1572600, 1578975, 1613100, 1623175, 1639675, 1646200, 1649125, 1661750, 1663550, 1666450, 1669325, 1670325, 1670650, 1676125, 1679500, 1681700, 1682375, 1683100, 1686100, 1695325, 1696200, 1701075, 1702800, 1708775, 1713550, 1715100, 1736650, 1740700, 1741625, 1745775, 1748200, 1753325, 1756250, 1759450, 1774600, 1790825, 1813400, 1819225, 1825125, 1827750, 1832950, 1834100, 1837475, 1837800, 1846250, 1851800, 1852750, 1860075, 1860700, 1873050, 1874450, 1879975, 1881450, 1895075, 1896850, 1898700, 1899525, 1903550, 1903900, 1907025, 1913275, 1922075, 1927450, 1929050, 1934650, 1940800, 1941575, 1945200, 1946050, 1946975, 1948775, 1949925, 1953425, 1954300, 1955175, 1955825, 1958000, 1958875, 1962500, 1964800, 1968250, 1970450, 1971950, 1973900, 1982725, 1984150, 1986750, 2007350, 2008800, 2010375, 2019425, 2021725, 2025400, 2075199, 2081199, 2085324, 2088725, 2106300, 2107450, 2113175, 2137850, 2140750, 2142325, 2157125, 2161700, 2169550, 2184125, 2191225, 2203775, 2205775, 2212700, 2218950, 2219275, 2224950, 2225375, 2241300, 2241525, 2245675, 2247675, 2248725, 2252600, 2254850, 2256025, 2271300, 2274950, 2276650, 2290325, 2293650, 2300275, 2310300, 2316025, 2335925, 2338500, 2339875, 2350575, 2352050, 2352725, 2355500, 2373975, 2398025, 2416825, 2419475, 2442450, 2446250, 2451950, 2456575, 2460100, 2467150, 2467450, 2481725, 2483250, 2490200, 2508875, 2509525, 2537450, 2544950, 2565075, 2575250, 2577400, 2579100, 2586675, 2594750, 2595450, 2667875, 2668975, 2669325, 2684150, 2686700, 2698875, 2700700, 2726225, 2747575, 2754325, 2790200, 2816250, 2817525, 2832275, 2841550, 2844950, 2846500, 2897025, 2903700, 2905550, 2916800, 2918225, 2919325, 2924225, 2925700, 2927700, 2934425, 2939000, 2943725, 2959300, 2970525, 2974250, 2986525, 2987325, 2987850, 2988250, 2989950, 2995050, 2995600, 2996750, 3002925, 3005900, 3011000, 3015575, 3018950, 3021125, 3024475, 3024725, 3029750, 3032575, 3034200, 3036850, 3042800, 3043600, 3047225, 3047700, 3049375, 3055825, 3059050, 3062600, 3063625, 3064600, 3066125, 3070725, 3074100, 3077500, 3081250, 3082500, 3083475, 3084225, 3089650, 3090575, 3092050, 3093675, 3094875, 3095675, 3101875, 3102600, 3103850, 3104325, 3105125, 3108000, 3109400, 3117050, 3119200, 3120825, 3121450, 3123075, 3124100, 3126000, 3126475, 3128700, 3131950, 3135125, 3136775, 3141625, 3145450, 3146450, 3150000, 3152150, 3155100, 3155275, 3155875, 3156750, 3157875, 3159150, 3159925, 3163475, 3170500, 3171800, 3172650, 3175200, 3176125, 3179100, 3184700, 3191125, 3192575, 3195675, 3196675, 3202325, 3204025, 3206025, 3211475, 3216550, 3217475, 3221625, 3225525, 3239900, 3240975, 3242025, 3244300, 3245275, 3247375, 3262500, 3263400, 3264025, 3265575, 3267525, 3270125, 3272550, 3273700, 3276300, 3279775, 3281325, 3288550, 3289900, 3291125, 3294000, 3294975, 3295800, 3299850, 3302575, 3305350, 3308750, 3314175, 3318675, 3329450, 3331300, 3332125, 3335925, 3336400, 3344950, 3357050, 3359175, 3361875, 3369200, 3385575, 3387350, 3423125, 3425325, 3439300, 3441950, 3442625, 3449750, 3451350, 3462825, 3484525, 3486100, 3486475, 3487450, 3494775, 3508050, 3515175, 3519525, 3525300, 3528850, 3531400, 3551775, 3554875, 3587950, 3590675, 3613775, 3617075, 3644800, 3658650, 3692000, 3703225, 3725300, 3751625, 3759950, 3775200, 3775925, 3789200, 3799725, 3805400, 3807175, 3808350, 3809925, 3811825, 3812725, 3823725, 3828975, 3830000, 3833200, 3835750, 3836200, 3838300, 3846400, 3852525, 3858100, 3859175, 3860475, 3862875, 3867850, 3872925, 3873150, 3876425, 3878450, 3888875, 3917675, 3963425, 3973000, 3995250, 3996000, 4001025, 4015075, 4021800, 4055375, 4060950, 4075325, 4076125, 4093075, 4097625, 4103825, 4104225, 4104425, 4109700, 4115524, 4127050, 4128250, 4133500, 4146899, 4147274, 4154375, 4159425, 4163125, 4187774, 4188850, 4196050, 4199125, 4199850, 4204125, 4208925, 4213175, 4214300, 4218075, 4218725, 4218900, 4219500, 4229200, 4230350, 4233875, 4235625, 4236875, 4237850, 4240925, 4246425, 4247400, 4248050, 4248550, 4250950, 4252500, 4255750, 4258900, 4263000, 4264550, 4265925, 4274050, 4275950, 4277600, 4279050, 4280525, 4284875, 4286550, 4287700, 4292750, 4293775, 4294475, 4295600, 4302300, 4303925, 4306125, 4309250, 4310100, 4320225, 4321900, 4322650, 4323450, 4323850, 4325700, 4325875, 4330400, 4335850, 4337100, 4340850, 4341700, 4345600, 4349675, 4351000, 4354700, 4355650, 4357000, 4358575, 4360950, 4362050, 4364825, 4366025, 4368075, 4371000, 4373100, 4375025, 4381300, 4382100, 4385450, 4386875, 4388775, 4400500, 4404200, 4404950, 4410375, 4415275, 4415500, 4415900, 4417850, 4421175, 4425375, 4427425, 4430375, 4430675, 4437025, 4441950, 4449700, 4450625, 4452650, 4454650, 4457500, 4459225, 4459550, 4463800, 4465800, 4470100, 4471525, 4472350, 4479500, 4480300, 4482550, 4490775, 4492325, 4498150, 4501325, 4505075, 4505400, 4514900, 4522900, 4524575, 4529125, 4529500, 4531350, 4534025, 4541150, 4545650, 4557250, 4557825, 4558925, 4560400, 4562850, 4568725, 4570150, 4571050, 4574400, 4578700, 4579775, 4580975, 4581500, 4582250, 4587425, 4595275, 4596625, 4600600, 4601225, 4609725, 4612725, 4618325, 4620325, 4623925, 4625250, 4628025, 4630075, 4634800, 4636800, 4639800, 4653875, 4655725, 4669750, 4670450, 4671525, 4673125, 4682175, 4682350, 4687600, 4692325, 4694700, 4696775, 4698200, 4699250, 4700775, 4704525, 4719900, 4735675, 4750400, 4754150, 4774775, 4777100, 4801700, 4806500, 4822300, 4823475, 4828950, 4835900, 4841400, 4853375, 4854025, 4863100, 4866200, 4867000, 4873425, 4878875, 4884700, 4885375, 4887675, 4897425, 4898025, 4900600, 4902400, 4904925, 4907100, 4907700, 4913825, 4930225, 4930950, 4934200, 4938725, 4946725, 4969425, 4979350, 5026400, 5050450, 5065800, 5076250, 5076600, 5088625, 5098775, 5122275, 5126600, 5127950, 5143800, 5147450, 5163350, 5166675, 5195825, 5200300, 5206350, 5244150, 5246675, 5249250, 5275300, 5284025, 5292000, 5316175, 5362800, 5402825, 5406775, 5467475, 5521925, 5544800, 5560200, 5572050, 5581900, 5588275, 5619475, 5660250, 5672075, 5710225, 5741575, 5749375, 5750150, 5750700, 5775475, 5776775, 5803650, 5804275, 5836725, 5841925, 5849025, 5851450, 5862250, 5862600, 5863625, 5864325, 5864725, 5865275, 5875975, 5877550, 5886025, 5887150, 5888175, 5889150, 5894700, 5896000, 5899575, 5901025, 5902925, 5903250, 5904075, 5905525, 5906400, 5908275, 5908625, 5913975, 5914950, 5915925, 5917100, 5917725, 5918725, 5919375, 5920275, 5921950, 5922925, 5924700, 5931650, 5938425, 5940325, 5944675, 5950375, 5951325, 5953500, 5953975, 5960725, 5965400, 5967200, 5968275, 5969300, 5970100, 5974050, 5974575, 5983925, 5985425, 5992325, 5993925, 5995075, 5997475, 5998350, 5999250, 6001900, 6010025, 6011600, 6012700, 6013475, 6015575, 6016225, 6027800, 6028875, 6030100, 6030875, 6033650, 6034350, 6041375, 6052600, 6056500, 6064675, 6067700, 6068450, 6069000, 6069950, 6070850, 6076075, 6080350, 6093850, 6094850, 6095950, 6098200, 6098950, 6099700, 6106375, 6108625, 6109600, 6112650, 6114900, 6117250, 6118575, 6120400, 6122900, 6126600, 6129625, 6132225, 6133600, 6143100, 6146200, 6150100, 6153800, 6155050, 6165175, 6178000, 6210325, 6212550, 6219200, 6229300, 6231250, 6244125, 6251400, 6253300, 6312300, 6316050, 6323900, 6381475, 6382050, 6391725, 6393150, 6393775, 6400725, 6407000, 6413275, 6414650, 6421250, 6422475, 6426125, 6429700, 6446050, 6447025, 6467525, 6471700, 6482775, 6483000, 6505725, 6516575, 6526450, 6548875, 6557375, 6559500, 6569525, 6570075, 6570975, 6573750, 6585475, 6616625, 6641950, 6651550, 6673975, 6690350, 6979075, 6981950, 6990075, 6992225, 7001025, 7011825, 7012650, 7044950, 7061850, 7063750, 7082975, 7087950, 7130025, 7131050, 7133950, 7150475, 7152450, 7153375, 7154575, 7160025, 7160850, 7162250, 7166425, 7167325, 7168375, 7170375, 7170800, 7173575, 7173850, 7175025, 7179450, 7180050, 7180725, 7181975, 7183475, 7185125, 7191125], 'offsets': [61135, 70417, 72732, 92446, 92842, 97233, 97800, 99511, 101424, 103753, 110331, 114898, 115603, 123750, 124246, 130812, 143641, 148132, 151817, 152569, 159707, 160422, 162728, 172319, 172843, 184442, 184802, 192193, 193669, 194764, 195168, 198470, 203507, 206659, 214466, 215952, 217655, 225066, 226281, 227890, 230500, 232333, 233296, 233859, 236284, 237134, 240471, 245196, 246715, 247330, 255120, 258430, 264907, 269928, 283652, 285106, 290433, 293899, 300423, 310916, 362140, 561503, 569825, 575909, 578187, 584350, 590830, 791670, 885036, 925342, 964694, 1046486, 1054874, 1096748, 1115966, 1117507, 1122132, 1125256, 1129798, 1144335, 1156528, 1175527, 1176798, 1179776, 1180409, 1180862, 1188310, 1190908, 1192335, 1195434, 1197937, 1206707, 1207074, 1221210, 1240708, 1281916, 1291082, 1307007, 1315290, 1329765, 1334619, 1334943, 1336150, 1336538, 1352362, 1353353, 1355304, 1356711, 1360001, 1360581, 1361899, 1365284, 1366475, 1371090, 1372049, 1373900, 1375311, 1376506, 1379714, 1381700, 1383406, 1387109, 1387924, 1392258, 1399502, 1401695, 1403109, 1404762, 1407600, 1414191, 1414556, 1419260, 1420167, 1423536, 1430579, 1437148, 1439241, 1442394, 1443365, 1445855, 1446452, 1448229, 1452822, 1455625, 1456269, 1466800, 1477064, 1478294, 1484266, 1491932, 1500847, 1502113, 1506546, 1507258, 1515620, 1516422, 1520735, 1536084, 1538242, 1539781, 1562499, 1567948, 1568777, 1572662, 1579069, 1613196, 1623269, 1639848, 1646279, 1649255, 1661862, 1663655, 1666456, 1669349, 1670361, 1670723, 1676193, 1679718, 1681845, 1682427, 1683144, 1686224, 1695443, 1696285, 1701196, 1703014, 1708944, 1713720, 1715133, 1736777, 1740890, 1741727, 1745990, 1748363, 1753389, 1756393, 1759579, 1774705, 1791083, 1813504, 1819365, 1825242, 1827797, 1833021, 1834176, 1837530, 1837900, 1846327, 1851932, 1852848, 1860133, 1860850, 1873125, 1874616, 1880209, 1881595, 1895146, 1896967, 1898787, 1899596, 1903615, 1903945, 1907120, 1913511, 1922187, 1927570, 1929163, 1934757, 1940897, 1941634, 1945289, 1946155, 1947033, 1948956, 1949989, 1953486, 1954389, 1955235, 1955910, 1958085, 1959051, 1962625, 1964887, 1968305, 1970531, 1972124, 1973957, 1982855, 1984250, 1987078, 2007449, 2008842, 2010494, 2019508, 2021793, 2025730, 2075274, 2081270, 2085389, 2088804, 2106352, 2107533, 2113263, 2138034, 2140813, 2142401, 2157186, 2161756, 2169652, 2184292, 2191358, 2203837, 2206045, 2212849, 2219109, 2219350, 2225023, 2225533, 2241355, 2241600, 2245769, 2247865, 2248825, 2252764, 2254991, 2256123, 2271534, 2275025, 2276764, 2290411, 2293739, 2300345, 2310446, 2316164, 2336063, 2338582, 2339974, 2350781, 2352156, 2352775, 2355659, 2374107, 2398127, 2416903, 2419655, 2442586, 2446359, 2451991, 2456686, 2460220, 2467273, 2467519, 2481827, 2483327, 2490270, 2508966, 2509595, 2537556, 2545028, 2565428, 2575288, 2577465, 2579191, 2586738, 2594837, 2595609, 2667952, 2669060, 2669439, 2684269, 2686842, 2698972, 2700800, 2726298, 2747643, 2754395, 2790380, 2816499, 2817650, 2832331, 2841615, 2845022, 2846591, 2897097, 2903824, 2905721, 2916861, 2918321, 2919390, 2924493, 2925776, 2927773, 2934489, 2939088, 2943769, 2959368, 2970586, 2974543, 2986711, 2987480, 2987880, 2988350, 2990001, 2995207, 2995823, 2996915, 3003024, 3006174, 3011103, 3015675, 3019219, 3021193, 3024547, 3024885, 3029819, 3032825, 3034270, 3036913, 3042870, 3043729, 3047438, 3047833, 3049486, 3056136, 3059100, 3062771, 3063703, 3064676, 3066233, 3070976, 3074207, 3077644, 3081504, 3082579, 3083563, 3084377, 3089710, 3090636, 3092274, 3093735, 3095061, 3095794, 3102002, 3102685, 3103982, 3104415, 3105189, 3108085, 3109414, 3117104, 3119285, 3120925, 3121525, 3123146, 3124177, 3126079, 3126635, 3128863, 3132120, 3135398, 3136969, 3141681, 3145570, 3146685, 3150098, 3152270, 3155183, 3155357, 3155991, 3156876, 3158076, 3159212, 3160055, 3163621, 3170627, 3171853, 3172883, 3175387, 3176218, 3179161, 3184886, 3191269, 3192644, 3195812, 3197129, 3202475, 3204110, 3206115, 3211523, 3216606, 3217597, 3221802, 3225776, 3240022, 3241064, 3242172, 3244402, 3245335, 3247529, 3262611, 3263646, 3264158, 3265628, 3267724, 3270212, 3272580, 3273884, 3276406, 3279884, 3281437, 3288668, 3290020, 3291261, 3294153, 3295046, 3295899, 3300059, 3302760, 3305468, 3308829, 3314394, 3318813, 3329578, 3331382, 3332171, 3335970, 3336468, 3345127, 3357216, 3359262, 3361914, 3369271, 3385694, 3387484, 3423174, 3425431, 3439357, 3442019, 3442716, 3449837, 3451437, 3463058, 3484629, 3486123, 3486633, 3487593, 3494839, 3508229, 3515347, 3519651, 3525381, 3529058, 3531583, 3551917, 3555034, 3588019, 3590828, 3613846, 3617172, 3644865, 3658723, 3692145, 3703301, 3725367, 3751728, 3760208, 3775326, 3776037, 3789306, 3799788, 3805492, 3807241, 3808503, 3810071, 3811927, 3812849, 3823848, 3829067, 3830081, 3833324, 3835830, 3836292, 3838351, 3846524, 3852701, 3858173, 3859260, 3860537, 3863041, 3868135, 3873028, 3873241, 3876555, 3878553, 3888933, 3917740, 3963508, 3973043, 3995584, 3996063, 4001118, 4015199, 4021974, 4055758, 4061018, 4075486, 4076206, 4093164, 4097792, 4103933, 4104285, 4104511, 4109781, 4115639, 4127153, 4128380, 4133682, 4147023, 4147404, 4154432, 4159479, 4163185, 4187861, 4188907, 4196121, 4199186, 4200022, 4204334, 4209004, 4213207, 4214430, 4218188, 4218779, 4219007, 4219650, 4229323, 4230422, 4234012, 4235739, 4236922, 4237936, 4241016, 4246500, 4247462, 4248129, 4248684, 4251091, 4252569, 4255911, 4258978, 4263150, 4264661, 4266066, 4274127, 4276049, 4277753, 4279165, 4280623, 4284963, 4287017, 4287783, 4293025, 4293860, 4294692, 4295735, 4302638, 4304067, 4306290, 4309287, 4310385, 4320288, 4322009, 4322709, 4323527, 4324003, 4325741, 4325951, 4330636, 4335900, 4337193, 4341008, 4341778, 4345902, 4349805, 4351071, 4354899, 4355760, 4357074, 4358751, 4361053, 4362145, 4364900, 4366134, 4368155, 4371043, 4373141, 4375145, 4381478, 4382220, 4385598, 4387029, 4388848, 4400594, 4404293, 4405082, 4410475, 4415354, 4415562, 4416010, 4417923, 4421299, 4425469, 4427524, 4430411, 4430809, 4437214, 4442029, 4449798, 4450826, 4452823, 4454912, 4457664, 4459302, 4459782, 4463873, 4466128, 4470151, 4471577, 4472604, 4479570, 4480344, 4482617, 4490884, 4492548, 4498238, 4501437, 4505109, 4505465, 4514994, 4522966, 4524725, 4529191, 4529656, 4531531, 4534136, 4541517, 4545732, 4557325, 4557906, 4559019, 4560502, 4563011, 4568915, 4570307, 4571118, 4574473, 4578823, 4579837, 4581035, 4581627, 4582305, 4587494, 4595461, 4596918, 4600718, 4601297, 4609881, 4612783, 4618392, 4620412, 4624078, 4625438, 4628109, 4630150, 4635066, 4636931, 4639844, 4653993, 4655797, 4669866, 4670764, 4671620, 4673218, 4682258, 4682406, 4687683, 4692440, 4694863, 4696879, 4698336, 4699290, 4700842, 4704663, 4719973, 4735750, 4750572, 4754277, 4774865, 4777273, 4801805, 4806621, 4822622, 4823774, 4829097, 4835983, 4841470, 4853533, 4854195, 4863201, 4866442, 4867178, 4873485, 4879042, 4884760, 4885590, 4887704, 4897511, 4898136, 4900687, 4902566, 4905017, 4907156, 4907806, 4913991, 4930297, 4931014, 4934278, 4938835, 4946804, 4969512, 4979443, 5026467, 5050495, 5065923, 5076315, 5076694, 5088680, 5098987, 5122365, 5126680, 5128039, 5143851, 5147524, 5163406, 5166735, 5195966, 5200374, 5206400, 5244222, 5246719, 5249314, 5275390, 5284208, 5292321, 5316250, 5363093, 5402981, 5406868, 5467550, 5521997, 5544911, 5560276, 5572524, 5582102, 5588354, 5619611, 5660355, 5672126, 5710318, 5741770, 5749453, 5750338, 5750737, 5775539, 5776875, 5803718, 5804318, 5836813, 5841994, 5849091, 5851512, 5862360, 5862639, 5863717, 5864398, 5864780, 5865340, 5876042, 5877756, 5886120, 5887399, 5888453, 5889254, 5894769, 5896098, 5899665, 5901186, 5903092, 5903325, 5904222, 5905583, 5906522, 5908469, 5908674, 5914046, 5915150, 5916244, 5917178, 5917896, 5918925, 5919468, 5920403, 5922134, 5923027, 5924795, 5931786, 5938738, 5940438, 5944868, 5950446, 5951405, 5953587, 5954281, 5960923, 5965589, 5967375, 5968390, 5969427, 5970192, 5974119, 5974793, 5984265, 5985501, 5992436, 5994089, 5995229, 5997546, 5998432, 5999364, 6001980, 6010204, 6011684, 6012797, 6013583, 6015657, 6016402, 6027971, 6028977, 6030236, 6030955, 6033753, 6034499, 6041463, 6052814, 6056628, 6064794, 6067883, 6068646, 6069220, 6070061, 6070904, 6076152, 6080417, 6093973, 6095004, 6096210, 6098306, 6098982, 6099778, 6106594, 6108714, 6109846, 6112716, 6114982, 6117560, 6118702, 6120795, 6123077, 6126715, 6129761, 6132297, 6133681, 6143351, 6146366, 6150206, 6153903, 6155168, 6165277, 6178081, 6210447, 6212638, 6219450, 6229432, 6231299, 6244263, 6251456, 6253459, 6312406, 6316219, 6324006, 6381578, 6382470, 6391780, 6393360, 6393854, 6400926, 6407195, 6413342, 6414730, 6421310, 6422513, 6426158, 6429755, 6446226, 6447180, 6467627, 6471819, 6482848, 6483082, 6505789, 6516713, 6526524, 6548968, 6557443, 6559562, 6569594, 6570177, 6571161, 6573785, 6585573, 6616675, 6642057, 6651647, 6674097, 6690386, 6979135, 6981999, 6990142, 6992298, 7001135, 7012250, 7012712, 7045112, 7061965, 7063829, 7083240, 7088022, 7130278, 7131128, 7134271, 7150634, 7152581, 7153558, 7154785, 7160074, 7160920, 7162488, 7166499, 7167478, 7168444, 7170554, 7170858, 7173724, 7174002, 7175269, 7179554, 7180141, 7180815, 7182059, 7183605, 7185236, 7191308], 'labels_num': [1, 1, 1, 1, 1, 1, 1, 1, 1, 1, 1, 1, 1, 1, 1, 1, 1, 1, 1, 1, 1, 1, 1, 1, 1, 1, 1, 1, 1, 1, 1, 1, 1, 1, 1, 1, 1, 1, 1, 1, 1, 1, 1, 1, 1, 1, 1, 1, 1, 1, 1, 1, 1, 1, 1, 1, 1, 1, 1, 1, 1, 1, 1, 1, 1, 1, 1, 1, 1, 1, 1, 1, 1, 1, 1, 1, 1, 1, 1, 1, 1, 1, 1, 1, 1, 1, 1, 1, 1, 1, 1, 1, 1, 1, 1, 1, 1, 1, 1, 1, 1, 1, 1, 1, 1, 1, 1, 1, 1, 1, 1, 1, 1, 1, 1, 1, 1, 1, 1, 1, 1, 1, 1, 1, 1, 1, 1, 1, 1, 1, 1, 1, 1, 1, 1, 1, 1, 1, 1, 1, 1, 1, 1, 1, 1, 1, 1, 1, 1, 1, 1, 1, 1, 1, 1, 1, 1, 1, 1, 1, 1, 1, 1, 1, 1, 1, 1, 1, 1, 1, 1, 1, 1, 1, 1, 1, 1, 1, 1, 1, 1, 1, 1, 1, 1, 1, 1, 1, 1, 1, 1, 1, 1, 1, 1, 1, 1, 1, 1, 1, 1, 1, 1, 1, 1, 1, 1, 1, 1, 1, 1, 1, 1, 1, 1, 1, 1, 1, 1, 1, 1, 1, 1, 1, 1, 1, 1, 1, 1, 1, 1, 1, 1, 1, 1, 1, 1, 1, 1, 1, 1, 1, 1, 1, 1, 1, 1, 1, 1, 1, 1, 1, 1, 1, 1, 1, 1, 1, 1, 1, 1, 1, 1, 1, 1, 1, 1, 1, 1, 1, 1, 1, 1, 1, 1, 1, 1, 1, 1, 1, 1, 1, 1, 1, 1, 1, 1, 1, 1, 1, 1, 1, 1, 1, 1, 1, 1, 1, 1, 1, 1, 1, 1, 1, 1, 1, 1, 1, 1, 1, 1, 1, 1, 1, 1, 1, 1, 1, 1, 1, 1, 1, 1, 1, 1, 1, 1, 1, 1, 1, 1, 1, 1, 1, 1, 1, 1, 1, 1, 1, 1, 1, 1, 1, 1, 1, 1, 1, 1, 1, 1, 1, 1, 1, 1, 1, 1, 1, 1, 1, 1, 1, 1, 1, 1, 1, 1, 1, 1, 1, 1, 1, 1, 1, 1, 1, 1, 1, 1, 1, 1, 1, 1, 1, 1, 1, 1, 1, 1, 1, 1, 1, 1, 1, 1, 1, 1, 1, 1, 1, 1, 1, 1, 1, 1, 1, 1, 1, 1, 1, 1, 1, 1, 1, 1, 1, 1, 1, 1, 1, 1, 1, 1, 1, 1, 1, 1, 1, 1, 1, 1, 1, 1, 1, 1, 1, 1, 1, 1, 1, 1, 1, 1, 1, 1, 1, 1, 1, 1, 1, 1, 1, 1, 1, 1, 1, 1, 1, 1, 1, 1, 1, 1, 1, 1, 1, 1, 1, 1, 1, 1, 1, 1, 1, 1, 1, 1, 1, 1, 1, 1, 1, 1, 1, 1, 1, 1, 1, 1, 1, 1, 1, 1, 1, 1, 1, 1, 1, 1, 1, 1, 1, 1, 1, 1, 1, 1, 1, 1, 1, 1, 1, 1, 1, 1, 1, 1, 1, 1, 1, 1, 1, 1, 1, 1, 1, 1, 1, 1, 1, 1, 1, 1, 1, 1, 1, 1, 1, 1, 1, 1, 1, 1, 1, 1, 1, 1, 1, 1, 1, 1, 1, 1, 1, 1, 1, 1, 1, 1, 1, 1, 1, 1, 1, 1, 1, 1, 1, 1, 1, 1, 1, 1, 1, 1, 1, 1, 1, 1, 1, 1, 1, 1, 1, 1, 1, 1, 1, 1, 1, 1, 1, 1, 1, 1, 1, 1, 1, 1, 1, 1, 1, 1, 1, 1, 1, 1, 1, 1, 1, 1, 1, 1, 1, 1, 1, 1, 1, 1, 1, 1, 1, 1, 1, 1, 1, 1, 1, 1, 1, 1, 1, 1, 1, 1, 1, 1, 1, 1, 1, 1, 1, 1, 1, 1, 1, 1, 1, 1, 1, 1, 1, 1, 1, 1, 1, 1, 1, 1, 1, 1, 1, 1, 1, 1, 1, 1, 1, 1, 1, 1, 1, 1, 1, 1, 1, 1, 1, 1, 1, 1, 1, 1, 1, 1, 1, 1, 1, 1, 1, 1, 1, 1, 1, 1, 1, 1, 1, 1, 1, 1, 1, 1, 1, 1, 1, 1, 1, 1, 1, 1, 1, 1, 1, 1, 1, 1, 1, 1, 1, 1, 1, 1, 1, 1, 1, 1, 1, 1, 1, 1, 1, 1, 1, 1, 1, 1, 1, 1, 1, 1, 1, 1, 1, 1, 1, 1, 1, 1, 1, 1, 1, 1, 1, 1, 1, 1, 1, 1, 1, 1, 1, 1, 1, 1, 1, 1, 1, 1, 1, 1, 1, 1, 1, 1, 1, 1, 1, 1, 1, 1, 1, 1, 1, 1, 1, 1, 1, 1, 1, 1, 1, 1, 1, 1, 1, 1, 1, 1, 1, 1, 1, 1, 1, 1, 1, 1, 1, 1, 1, 1, 1, 1, 1, 1, 1, 1, 1, 1, 1, 1, 1, 1, 1, 1, 1, 1, 1, 1, 1, 1, 1, 1, 1, 1, 1, 1, 1, 1, 1, 1, 1, 1, 1, 1, 1, 1, 1, 1, 1, 1, 1, 1, 1, 1, 1, 1, 1, 1, 1, 1, 1, 1, 1, 1, 1, 1, 1, 1, 1, 1, 1, 1, 1, 1, 1, 1, 1, 1, 1, 1, 1, 1, 1, 1, 1, 1, 1, 1, 1, 1, 1, 1, 1, 1, 1, 1, 1, 1, 1, 1, 1, 1, 1, 1, 1, 1, 1, 1, 1, 1, 1, 1, 1, 1, 1, 1, 1, 1, 1, 1, 1, 1, 1, 1, 1, 1, 1, 1, 1, 1, 1, 1, 1, 1, 1, 1, 1, 1, 1, 1, 1, 1, 1, 1, 1, 1, 1, 1, 1, 1, 1, 1, 1, 1, 1, 1, 1, 1, 1, 1, 1, 1, 1, 1, 1, 1, 1, 1, 1, 1, 1, 1, 1, 1, 1, 1, 1, 1, 1, 1, 1, 1, 1, 1, 1, 1, 1, 1, 1, 1, 1, 1, 1, 1, 1, 1, 1, 1, 1, 1, 1, 1, 1, 1, 1, 1, 1, 1, 1, 1, 1, 1, 1, 1, 1, 1, 1, 1, 1, 1, 1, 1, 1, 1, 1, 1, 1, 1, 1, 1, 1]}}}, 'PN_01_HJ_Night5': {'age': 28, 'gender': 'M', 'signal_mass': array([  27.33232127,  414.40902229, 2008.8827892 , ...,           nan,\n",
       "                 nan,           nan]), 'signal_filt': array([28.77086449, 28.47473767, 27.93458174, ...,         nan,\n",
       "               nan,         nan]), 'ss_label': array([5., 5., 5., ..., 5., 5., 5.]), 'spindle_mass_lacourse': {'PN_01_HJ_Night5': {'onsets': [], 'offsets': [], 'labels_num': []}}}, 'PN_01_HJ_Night6': {'age': 28, 'gender': 'M', 'signal_mass': array([  50.09079495,  618.43643912, 2169.06368226, ...,  -51.96081789,\n",
       "        -51.3950421 ,  -45.06914711]), 'signal_filt': array([52.72715258, 28.47473837, 27.4743409 , ..., -1.80746574,\n",
       "       -1.71315455, -1.37721569]), 'ss_label': array([5., 5., 5., ..., 5., 5., 5.]), 'spindle_mass_lacourse': {'PN_01_HJ_Night6': {'onsets': [825, 1775, 5700, 9850, 11875, 28650, 29225, 32375, 35775, 55575, 69325, 70450, 75150, 108275, 112775, 138075, 148625, 153575, 172450, 182750, 193450, 194850, 195400, 198300, 221750, 223900, 224350, 227200, 229475, 232675, 233900, 235975, 237650, 241425, 242225, 243750, 244425, 249200, 251800, 252850, 253650, 255925, 257325, 258050, 260325, 260899, 261125, 262150, 262775, 265350, 266400, 267750, 270950, 271725, 272600, 273875, 275300, 278125, 280825, 281725, 282250, 285725, 286500, 289425, 290125, 290800, 294950, 296800, 298275, 303100, 306050, 307250, 308050, 309000, 311050, 311825, 314675, 315575, 317175, 317825, 321475, 329600, 332250, 348275, 354150, 366450, 372175, 378425, 381950, 385650, 393650, 414900, 415700, 436400, 439250, 442850, 453200, 458600, 478150, 479600, 504125, 535775, 537275, 538975, 544675, 560250, 564700, 569850, 572825, 610450, 662550, 664750, 668575, 690875, 717150, 729575, 741775, 748675, 749350, 760050, 775500, 801825, 809075, 853625, 854025, 860200, 869775, 870350, 897025, 902650, 903325, 907550, 910975, 911725, 913075, 914425, 915750, 917100, 917875, 918300, 923475, 925425, 929150, 931450, 933225, 937400, 938225, 939825, 941400, 945950, 946775, 947275, 948400, 950550, 951225, 953300, 958100, 960225, 960825, 962700, 964725, 968450, 969050, 975025, 975300, 980125, 981275, 989000, 993975, 995275, 996025, 996850, 997675, 999925, 1001825, 1002475, 1004450, 1004825, 1007800, 1011275, 1012800, 1013225, 1017575, 1021925, 1022575, 1023600, 1024375, 1025000, 1029275, 1029875, 1031400, 1034325, 1036300, 1045474, 1048300, 1052525, 1055100, 1077450, 1083725, 1096675, 1111325, 1131125, 1165650, 1180050, 1219100, 1251200, 1252350, 1255325, 1257125, 1258975, 1279475, 1281500, 1287675, 1295575, 1303650, 1306600, 1307500, 1308450, 1310150, 1311175, 1314500, 1315000, 1315225, 1317600, 1320875, 1327275, 1329500, 1330500, 1331900, 1333500, 1334450, 1336500, 1337575, 1339650, 1342900, 1343900, 1347425, 1348800, 1351550, 1356100, 1361500, 1362200, 1362800, 1366500, 1367500, 1368850, 1370175, 1370475, 1373225, 1373700, 1377925, 1380025, 1381575, 1387325, 1390275, 1395600, 1399075, 1399825, 1401450, 1414525, 1414900, 1415300, 1416100, 1420675, 1422275, 1431025, 1434100, 1434575, 1437925, 1455500, 1456875, 1459600, 1466125, 1467575, 1470900, 1472650, 1476975, 1479750, 1482775, 1487675, 1491575, 1492225, 1492550, 1493275, 1494225, 1495225, 1496600, 1498750, 1500300, 1502300, 1512675, 1514450, 1517050, 1517800, 1518800, 1523850, 1527450, 1529675, 1532275, 1533275, 1535250, 1538275, 1542475, 1551025, 1555625, 1558950, 1559725, 1561000, 1567475, 1573050, 1576775, 1582000, 1590250, 1592875, 1593850, 1594325, 1612150, 1617750, 1623300, 1623875, 1634150, 1637950, 1645125, 1658800, 1663625, 1697075, 1701250, 1714275, 1727875, 1738000, 1749300, 1762950, 1763700, 1768550, 1769975, 1779500, 1783325, 1787075, 1793000, 1793775, 1797475, 1798900, 1804375, 1806775, 1810200, 1818675, 1825450, 1828100, 1838100, 1846425, 1847900, 1848125, 1849125, 1849825, 1851450, 1852475, 1854625, 1855525, 1857150, 1860025, 1882300, 1883550, 1885100, 1892400, 1892800, 1893850, 1895150, 1895900, 1896650, 1906825, 1910850, 1916975, 1927200, 1929700, 1937150, 1966475, 1973625, 2031825, 2130725, 2155750, 2164150, 2166050, 2166325, 2167050, 2170650, 2173600, 2174400, 2175850, 2178475, 2184675, 2186200, 2188000, 2191800, 2197075, 2199600, 2200075, 2203375, 2240825, 2292750, 2330025, 2346950, 2380650, 2381375, 2407425, 2474200, 2474925, 2483525, 2484550, 2503925, 2504275, 2507675, 2514375, 2520100, 2523600, 2543900, 2544625, 2553350, 2563425, 2571975, 2572650, 2587550, 2589300, 2590075, 2633425, 2652425, 2653175, 2657175, 2663650, 2667075, 2681800, 2684000, 2689275, 2690800, 2693600, 2697275, 2701350, 2701900, 2704175, 2704925, 2709375, 2709675, 2711075, 2712475, 2713500, 2714800, 2716050, 2716925, 2719450, 2721375, 2723225, 2723500, 2724900, 2725750, 2729075, 2730200, 2730900, 2731675, 2733525, 2734475, 2754475, 2755350, 2756525, 2757075, 2759150, 2763200, 2764375, 2764650, 2765225, 2770425, 2772200, 2773400, 2777050, 2779650, 2780650, 2782775, 2784550, 2786950, 2789850, 2795750, 2796625, 2797350, 2799850, 2800750, 2803350, 2808325, 2809400, 2810525, 2815250, 2815775, 2816375, 2816700, 2820200, 2821175, 2822000, 2823100, 2829175, 2835100, 2836800, 2837600, 2838200, 2839625, 2840950, 2841775, 2842650, 2845650, 2846800, 2847725, 2850775, 2854750, 2855900, 2860300, 2866350, 2867800, 2871325, 2872525, 2874300, 2875700, 2876650, 2880875, 2881875, 2882400, 2883150, 2884025, 2884650, 2885275, 2886350, 2889175, 2893025, 2894900, 2897575, 2898700, 2900900, 2902400, 2907025, 2908800, 2909975, 2910650, 2912225, 2913925, 2915175, 2920100, 2924225, 2929550, 2935875, 2938650, 2942775, 2944250, 2951600, 2958375, 2963200, 2967150, 2967600, 2973425, 2974250, 2974800, 2976500, 2977600, 2981775, 2985750, 2986825, 2988750, 2989125, 2992050, 3000400, 3001750, 3013300, 3017000, 3027500, 3028150, 3041850, 3042525, 3042850, 3045525, 3047450, 3048300, 3051425, 3059500, 3064300, 3067700, 3070425, 3072100, 3075200, 3076225, 3076750, 3081975, 3089625, 3098100, 3105875, 3113800, 3119325, 3129375, 3132425, 3150575, 3154675, 3173100, 3186100, 3195950, 3198200, 3198975, 3202250, 3202875, 3204950, 3209175, 3217350, 3228025, 3248150, 3254450, 3263200, 3273275, 3273825, 3274700, 3276650, 3277350, 3282600, 3285575, 3288950, 3294200, 3297525, 3300650, 3304725, 3307850, 3323075, 3324825, 3326400, 3327150, 3328425, 3333500, 3337875, 3349650, 3356550, 3357100, 3358150, 3359225, 3362925, 3367725, 3372950, 3388950, 3392250, 3404825, 3438075, 3476150, 3477725, 3487675, 3493400, 3494275, 3495075, 3506275, 3506625, 3506825, 3507725, 3513225, 3514175, 3522575, 3536675, 3572600, 3600350, 3600575, 3601775, 3604300, 3621775, 3687575, 3710725, 3735400, 3736625, 3741075, 3743900, 3751850, 3752550, 3762075, 3782700, 3794925, 3795150, 3802025, 3813900, 3822800, 3828425, 3830150, 3835575, 3874850, 3909175, 3923025, 3927550, 3934775, 3948425, 3957600, 3961950, 3987300, 3994300, 4028200, 4053900, 4071000, 4072575, 4092025, 4112550, 4113725, 4167575, 4172725, 4175225, 4183825, 4187725, 4188399, 4192950, 4193850, 4201250, 4207125, 4210925, 4213350, 4222175, 4225150, 4247150, 4248800, 4249675, 4250025, 4257400, 4258250, 4269325, 4272300, 4281875, 4291425, 4299700, 4305925, 4310900, 4311750, 4312775, 4323725, 4335350, 4336850, 4349825, 4353900, 4354275, 4361050, 4370225, 4370525, 4372250, 4372825, 4375500, 4378350, 4382125, 4382450, 4385975, 4391225, 4400650, 4401475, 4402800, 4404325, 4410300, 4411200, 4412175, 4412850, 4415875, 4417900, 4422375, 4426050, 4427200, 4428725, 4429600, 4430375, 4431425, 4432350, 4440225, 4440800, 4441825, 4443025, 4445600, 4449825, 4452075, 4455100, 4455675, 4458075, 4459125, 4459600, 4465150, 4471725, 4477225, 4478025, 4478675, 4478975, 4482025, 4484425, 4484800, 4485275, 4487175, 4489375, 4490825, 4491575, 4493075, 4495225, 4496725, 4498500, 4499550, 4501900, 4502625, 4504325, 4508850, 4509850, 4511475, 4512950, 4513825, 4532525, 4533275, 4534300, 4536325, 4546250, 4549475, 4550500, 4552550, 4562525, 4565450, 4567300, 4581125, 4581675, 4582075, 4582675, 4584525, 4585150, 4585675, 4586400, 4587750, 4589800, 4590575, 4596125, 4600850, 4601525, 4610375, 4611225, 4612650, 4613225, 4619375, 4627625, 4628700, 4630750, 4634775, 4637600, 4640000, 4654950, 4664000, 4666225, 4667000, 4671750, 4676375, 4677150, 4696975, 4699675, 4713175, 4716250, 4727375, 4728600, 4736425, 4740375, 4764475, 4765425, 4765725, 4766475, 4779600, 4780500, 4784175, 4787775, 4792400, 4795400, 4802525, 4804300, 4806550, 4814200, 4815300, 4816975, 4828750, 4830300, 4854950, 4863650, 4864675, 4871875, 4878250, 4883050, 4889850, 4892225, 4914475, 4944475, 4960875, 4981650, 4983675, 4990425, 5004925, 5012000, 5015125, 5027875, 5031175, 5031975, 5034400, 5035600, 5036575, 5078850, 5080000, 5102825, 5106825, 5124675, 5170975, 5192300, 5211350, 5212050, 5246775, 5267325, 5315875, 5325750, 5342200, 5344050, 5389225, 5428375, 5443425, 5444750, 5458200, 5459175, 5520300, 5527275, 5547200, 5556750, 5572925, 5574875, 5592650, 5597925, 5604200, 5605125, 5605700, 5616725], 'offsets': [880, 1818, 5814, 9938, 11938, 28736, 29318, 32704, 35818, 55781, 69379, 70501, 75209, 108326, 112972, 138134, 148719, 153643, 172700, 183100, 193799, 194955, 195502, 198431, 221866, 224061, 224466, 227298, 229554, 232740, 234018, 236173, 237833, 241501, 242386, 243910, 244526, 249368, 251937, 252919, 253709, 256038, 257474, 258248, 260487, 261004, 261149, 262221, 262860, 265446, 266483, 267886, 271026, 271856, 272781, 274197, 275376, 278472, 281003, 281807, 282451, 285803, 286547, 289498, 290247, 290908, 295015, 296920, 298721, 303210, 306282, 307319, 308241, 309277, 311190, 311892, 314743, 315718, 317238, 317925, 321686, 329761, 332314, 348315, 354320, 366541, 372281, 378523, 382141, 385802, 393767, 415015, 415807, 436478, 439575, 442921, 453283, 458736, 478208, 479680, 504246, 535887, 537379, 539039, 544756, 560421, 564807, 569938, 572888, 610579, 662668, 664861, 668646, 690963, 717267, 729652, 741819, 748751, 749594, 760104, 775701, 801989, 809214, 853692, 854193, 860285, 869852, 870526, 897074, 902754, 903381, 907634, 911016, 911806, 913145, 914686, 915817, 917186, 917914, 918392, 923598, 925474, 929217, 931609, 933308, 937461, 938304, 939921, 941508, 946066, 946843, 947406, 948470, 950603, 951381, 953394, 958265, 960291, 960881, 962770, 964796, 968825, 969315, 975106, 975467, 980253, 981347, 989092, 994370, 995332, 996147, 996932, 997949, 1000021, 1001920, 1002658, 1004524, 1004941, 1007905, 1011382, 1012916, 1013283, 1017646, 1022014, 1022655, 1023691, 1024452, 1025117, 1029351, 1030029, 1031550, 1034415, 1036472, 1045531, 1048329, 1052608, 1055174, 1077566, 1083845, 1096737, 1111441, 1131156, 1165758, 1180110, 1219160, 1251255, 1252459, 1255365, 1257211, 1259050, 1279506, 1281580, 1287992, 1295660, 1303705, 1306682, 1307638, 1308564, 1310229, 1311321, 1314593, 1315107, 1315276, 1317788, 1321018, 1327456, 1329598, 1330622, 1332134, 1333663, 1334616, 1336575, 1337664, 1339870, 1342995, 1344174, 1347624, 1348882, 1351573, 1356156, 1361593, 1362305, 1362954, 1366561, 1367605, 1368986, 1370272, 1370518, 1373301, 1373793, 1378102, 1380100, 1381683, 1387400, 1390458, 1395820, 1399186, 1400032, 1401609, 1414597, 1414964, 1415361, 1416262, 1420817, 1422360, 1431242, 1434161, 1434768, 1437985, 1455557, 1457158, 1459639, 1466565, 1467786, 1471017, 1472777, 1477086, 1479899, 1482859, 1487749, 1491657, 1492386, 1492665, 1493435, 1494308, 1495294, 1496724, 1499129, 1500377, 1502414, 1512759, 1514534, 1517106, 1517896, 1518859, 1523957, 1527501, 1529746, 1532390, 1533375, 1535317, 1538404, 1542567, 1551235, 1555675, 1559101, 1559937, 1561082, 1567579, 1573119, 1576926, 1582087, 1590337, 1593033, 1593961, 1594452, 1612279, 1617818, 1623366, 1624163, 1634282, 1637994, 1645343, 1658890, 1663672, 1697220, 1701343, 1714426, 1727987, 1738076, 1749531, 1763159, 1763946, 1768628, 1770127, 1779605, 1783419, 1787243, 1793328, 1793955, 1797555, 1799020, 1804474, 1806883, 1810290, 1818733, 1825726, 1828187, 1838177, 1846551, 1847938, 1848291, 1849235, 1849888, 1851722, 1852552, 1854715, 1855646, 1857415, 1860087, 1882439, 1883621, 1885238, 1892454, 1892877, 1893921, 1895338, 1896007, 1896720, 1906908, 1910910, 1917047, 1927295, 1929764, 1937198, 1966565, 1973786, 2031964, 2130871, 2155903, 2164225, 2166107, 2166396, 2167259, 2170746, 2173657, 2174463, 2175934, 2178578, 2184706, 2186276, 2188059, 2191901, 2197144, 2199672, 2200182, 2203557, 2241043, 2292882, 2330091, 2347041, 2380808, 2381457, 2407469, 2474299, 2475027, 2483735, 2484625, 2503986, 2504349, 2507772, 2514438, 2520167, 2523705, 2544103, 2544718, 2553588, 2563490, 2572047, 2572696, 2587679, 2589449, 2590492, 2633484, 2652506, 2653308, 2657244, 2663705, 2667141, 2681880, 2684140, 2689382, 2690975, 2693741, 2697436, 2701594, 2702018, 2704232, 2705002, 2709494, 2709746, 2711141, 2712582, 2713577, 2715038, 2716111, 2717100, 2719514, 2721541, 2723307, 2723563, 2724977, 2725865, 2729199, 2730299, 2730994, 2731778, 2733567, 2734571, 2754543, 2755463, 2756594, 2757151, 2759217, 2763392, 2764455, 2764738, 2765285, 2770663, 2772491, 2773448, 2777148, 2779786, 2780805, 2782933, 2784625, 2787078, 2790031, 2795827, 2797057, 2797487, 2799954, 2800876, 2803473, 2808470, 2809621, 2810604, 2815353, 2815857, 2816459, 2816796, 2820279, 2821289, 2822078, 2823176, 2829265, 2835199, 2836930, 2837649, 2838249, 2839763, 2841081, 2841868, 2842839, 2845734, 2846913, 2847821, 2850863, 2854793, 2856040, 2860521, 2866433, 2867914, 2871598, 2872593, 2874577, 2875805, 2876752, 2880942, 2881926, 2882482, 2883251, 2884137, 2884732, 2885316, 2886502, 2889272, 2893131, 2895026, 2897705, 2898966, 2900959, 2902477, 2907100, 2908869, 2910120, 2910717, 2912358, 2913966, 2915265, 2920246, 2924549, 2929721, 2935956, 2938745, 2942882, 2944485, 2951723, 2958766, 2963257, 2967195, 2967664, 2973545, 2974417, 2974895, 2976713, 2977712, 2981856, 2985821, 2986909, 2988774, 2989168, 2992090, 3000576, 3001877, 3013386, 3017242, 3027599, 3028260, 3041919, 3042695, 3042918, 3045706, 3047563, 3048416, 3051547, 3059583, 3064390, 3067809, 3070474, 3072243, 3075318, 3076307, 3076850, 3082168, 3089691, 3098197, 3105922, 3113889, 3119481, 3129536, 3132600, 3150693, 3154861, 3173273, 3186260, 3196036, 3198327, 3199113, 3202409, 3202907, 3205046, 3209261, 3217406, 3228113, 3248200, 3254712, 3263268, 3273425, 3273913, 3274929, 3276711, 3277494, 3282888, 3285681, 3289030, 3294307, 3297752, 3300743, 3304791, 3307982, 3323165, 3324905, 3326494, 3327240, 3328517, 3333577, 3338234, 3349801, 3356646, 3357188, 3358217, 3359294, 3362994, 3367859, 3373049, 3389049, 3392316, 3404937, 3438151, 3476282, 3477955, 3487843, 3493605, 3494649, 3495144, 3506376, 3506659, 3506881, 3507904, 3513344, 3514270, 3522703, 3536875, 3572810, 3600415, 3600738, 3601820, 3604366, 3621848, 3687671, 3710836, 3735534, 3736728, 3741158, 3743984, 3751984, 3752630, 3762170, 3782790, 3795004, 3795206, 3802100, 3813946, 3822885, 3828538, 3830282, 3835665, 3874940, 3909340, 3923144, 3927593, 3935177, 3948488, 3957670, 3962007, 3987519, 3994358, 4028245, 4054009, 4071095, 4072645, 4092080, 4112715, 4113785, 4167685, 4172866, 4175268, 4184060, 4187768, 4188500, 4193126, 4193925, 4201400, 4207223, 4211035, 4213393, 4222220, 4225304, 4247223, 4248916, 4249783, 4250100, 4257580, 4258469, 4269413, 4272366, 4282154, 4291506, 4299748, 4306101, 4310956, 4311865, 4312841, 4323844, 4335583, 4337057, 4349963, 4354060, 4354348, 4361255, 4370410, 4370600, 4372359, 4373063, 4375612, 4378458, 4382197, 4382570, 4386121, 4391276, 4400761, 4401652, 4402854, 4404413, 4410418, 4411390, 4412377, 4412896, 4415985, 4417981, 4422468, 4426279, 4427345, 4428942, 4429662, 4430419, 4431622, 4432425, 4440369, 4440893, 4441900, 4443309, 4445906, 4450021, 4452151, 4455192, 4455804, 4458181, 4459159, 4459909, 4465234, 4471755, 4477261, 4478176, 4478767, 4479043, 4482163, 4484481, 4484860, 4485398, 4487373, 4489445, 4490929, 4491649, 4493134, 4495359, 4496928, 4498649, 4499845, 4502002, 4502772, 4504500, 4508949, 4510054, 4511623, 4513169, 4513947, 4532602, 4533418, 4534349, 4536479, 4546353, 4549608, 4550617, 4552734, 4562669, 4565551, 4567491, 4581234, 4581734, 4582150, 4582699, 4584591, 4585224, 4585758, 4586501, 4587921, 4589998, 4590706, 4596298, 4601014, 4601596, 4610545, 4611333, 4612716, 4613341, 4619446, 4627973, 4628789, 4630851, 4634848, 4637729, 4640092, 4655075, 4664128, 4666341, 4667130, 4671860, 4676445, 4677243, 4697077, 4699755, 4713267, 4716315, 4727431, 4728698, 4736531, 4740469, 4764552, 4765549, 4765857, 4766684, 4779678, 4780587, 4784264, 4787891, 4792578, 4795515, 4802643, 4804416, 4806606, 4814282, 4815380, 4817127, 4828807, 4830611, 4855062, 4863744, 4864819, 4871969, 4878352, 4883283, 4889898, 4892290, 4914599, 4944567, 4961032, 4981867, 4983749, 4990589, 5005166, 5012091, 5015228, 5027971, 5031245, 5032137, 5034590, 5035736, 5036701, 5078930, 5080119, 5103002, 5106878, 5125073, 5171232, 5192345, 5211706, 5212111, 5246900, 5267413, 5315911, 5325820, 5342310, 5344165, 5389423, 5428541, 5443466, 5445017, 5458329, 5459262, 5520467, 5527407, 5547277, 5556853, 5573016, 5574985, 5592709, 5598081, 5604258, 5605164, 5605731, 5616919], 'labels_num': [1, 1, 1, 1, 1, 1, 1, 1, 1, 1, 1, 1, 1, 1, 1, 1, 1, 1, 1, 1, 1, 1, 1, 1, 1, 1, 1, 1, 1, 1, 1, 1, 1, 1, 1, 1, 1, 1, 1, 1, 1, 1, 1, 1, 1, 1, 1, 1, 1, 1, 1, 1, 1, 1, 1, 1, 1, 1, 1, 1, 1, 1, 1, 1, 1, 1, 1, 1, 1, 1, 1, 1, 1, 1, 1, 1, 1, 1, 1, 1, 1, 1, 1, 1, 1, 1, 1, 1, 1, 1, 1, 1, 1, 1, 1, 1, 1, 1, 1, 1, 1, 1, 1, 1, 1, 1, 1, 1, 1, 1, 1, 1, 1, 1, 1, 1, 1, 1, 1, 1, 1, 1, 1, 1, 1, 1, 1, 1, 1, 1, 1, 1, 1, 1, 1, 1, 1, 1, 1, 1, 1, 1, 1, 1, 1, 1, 1, 1, 1, 1, 1, 1, 1, 1, 1, 1, 1, 1, 1, 1, 1, 1, 1, 1, 1, 1, 1, 1, 1, 1, 1, 1, 1, 1, 1, 1, 1, 1, 1, 1, 1, 1, 1, 1, 1, 1, 1, 1, 1, 1, 1, 1, 1, 1, 1, 1, 1, 1, 1, 1, 1, 1, 1, 1, 1, 1, 1, 1, 1, 1, 1, 1, 1, 1, 1, 1, 1, 1, 1, 1, 1, 1, 1, 1, 1, 1, 1, 1, 1, 1, 1, 1, 1, 1, 1, 1, 1, 1, 1, 1, 1, 1, 1, 1, 1, 1, 1, 1, 1, 1, 1, 1, 1, 1, 1, 1, 1, 1, 1, 1, 1, 1, 1, 1, 1, 1, 1, 1, 1, 1, 1, 1, 1, 1, 1, 1, 1, 1, 1, 1, 1, 1, 1, 1, 1, 1, 1, 1, 1, 1, 1, 1, 1, 1, 1, 1, 1, 1, 1, 1, 1, 1, 1, 1, 1, 1, 1, 1, 1, 1, 1, 1, 1, 1, 1, 1, 1, 1, 1, 1, 1, 1, 1, 1, 1, 1, 1, 1, 1, 1, 1, 1, 1, 1, 1, 1, 1, 1, 1, 1, 1, 1, 1, 1, 1, 1, 1, 1, 1, 1, 1, 1, 1, 1, 1, 1, 1, 1, 1, 1, 1, 1, 1, 1, 1, 1, 1, 1, 1, 1, 1, 1, 1, 1, 1, 1, 1, 1, 1, 1, 1, 1, 1, 1, 1, 1, 1, 1, 1, 1, 1, 1, 1, 1, 1, 1, 1, 1, 1, 1, 1, 1, 1, 1, 1, 1, 1, 1, 1, 1, 1, 1, 1, 1, 1, 1, 1, 1, 1, 1, 1, 1, 1, 1, 1, 1, 1, 1, 1, 1, 1, 1, 1, 1, 1, 1, 1, 1, 1, 1, 1, 1, 1, 1, 1, 1, 1, 1, 1, 1, 1, 1, 1, 1, 1, 1, 1, 1, 1, 1, 1, 1, 1, 1, 1, 1, 1, 1, 1, 1, 1, 1, 1, 1, 1, 1, 1, 1, 1, 1, 1, 1, 1, 1, 1, 1, 1, 1, 1, 1, 1, 1, 1, 1, 1, 1, 1, 1, 1, 1, 1, 1, 1, 1, 1, 1, 1, 1, 1, 1, 1, 1, 1, 1, 1, 1, 1, 1, 1, 1, 1, 1, 1, 1, 1, 1, 1, 1, 1, 1, 1, 1, 1, 1, 1, 1, 1, 1, 1, 1, 1, 1, 1, 1, 1, 1, 1, 1, 1, 1, 1, 1, 1, 1, 1, 1, 1, 1, 1, 1, 1, 1, 1, 1, 1, 1, 1, 1, 1, 1, 1, 1, 1, 1, 1, 1, 1, 1, 1, 1, 1, 1, 1, 1, 1, 1, 1, 1, 1, 1, 1, 1, 1, 1, 1, 1, 1, 1, 1, 1, 1, 1, 1, 1, 1, 1, 1, 1, 1, 1, 1, 1, 1, 1, 1, 1, 1, 1, 1, 1, 1, 1, 1, 1, 1, 1, 1, 1, 1, 1, 1, 1, 1, 1, 1, 1, 1, 1, 1, 1, 1, 1, 1, 1, 1, 1, 1, 1, 1, 1, 1, 1, 1, 1, 1, 1, 1, 1, 1, 1, 1, 1, 1, 1, 1, 1, 1, 1, 1, 1, 1, 1, 1, 1, 1, 1, 1, 1, 1, 1, 1, 1, 1, 1, 1, 1, 1, 1, 1, 1, 1, 1, 1, 1, 1, 1, 1, 1, 1, 1, 1, 1, 1, 1, 1, 1, 1, 1, 1, 1, 1, 1, 1, 1, 1, 1, 1, 1, 1, 1, 1, 1, 1, 1, 1, 1, 1, 1, 1, 1, 1, 1, 1, 1, 1, 1, 1, 1, 1, 1, 1, 1, 1, 1, 1, 1, 1, 1, 1, 1, 1, 1, 1, 1, 1, 1, 1, 1, 1, 1, 1, 1, 1, 1, 1, 1, 1, 1, 1, 1, 1, 1, 1, 1, 1, 1, 1, 1, 1, 1, 1, 1, 1, 1, 1, 1, 1, 1, 1, 1, 1, 1, 1, 1, 1, 1, 1, 1, 1, 1, 1, 1, 1, 1, 1, 1, 1, 1, 1, 1, 1, 1, 1, 1, 1, 1, 1, 1, 1, 1, 1, 1, 1, 1, 1, 1, 1, 1, 1, 1, 1, 1, 1, 1, 1, 1, 1, 1, 1, 1, 1, 1, 1, 1, 1, 1, 1, 1, 1, 1, 1, 1, 1, 1, 1, 1, 1, 1, 1, 1, 1, 1, 1, 1, 1, 1, 1, 1, 1, 1, 1, 1, 1, 1, 1, 1, 1, 1, 1, 1, 1, 1, 1, 1, 1, 1, 1, 1, 1, 1, 1, 1, 1, 1, 1, 1, 1, 1, 1, 1, 1, 1, 1, 1, 1, 1, 1, 1, 1, 1, 1, 1, 1, 1, 1, 1, 1, 1, 1, 1, 1, 1, 1]}}}, 'PN_01_HJ_Night3': {'age': 28, 'gender': 'M', 'signal_mass': array([ 29.63455951, 333.48189192, 969.83737671, ...,   9.12453791,\n",
       "        10.27737116,   9.47121582]), 'signal_filt': array([31.19427317, 28.47473707, 27.04914399, ...,  0.33690182,\n",
       "        0.35387315,  0.30944294]), 'ss_label': array([5., 5., 5., ..., 5., 5., 5.]), 'spindle_mass_lacourse': {'PN_01_HJ_Night3': {'onsets': [6650, 8875, 21250, 28350, 49000, 70550, 76025, 76650, 89675, 91825, 95075, 97250, 97900, 102800, 105175, 106825, 108225, 117775, 118725, 119950, 122500, 124375, 131600, 132575, 132925, 134375, 135725, 139375, 141150, 142500, 142750, 144075, 146900, 153875, 157350, 157825, 162625, 165250, 171100, 171425, 172325, 174525, 176625, 179725, 186350, 191650, 193050, 194200, 195675, 195850, 197700, 199175, 201150, 202325, 204150, 205125, 207000, 208025, 214025, 217625, 218150, 220975, 222150, 223250, 229675, 235725, 236350, 238200, 250500, 252500, 260850, 273525, 304225, 305225, 307325, 311775, 314000, 326225, 332125, 334600, 354525, 365025, 389150, 421825, 426325, 453850, 460800, 472525, 538525, 539175, 542625, 544700, 549025, 551125, 567600, 568925, 571875, 577450, 578825, 583000, 585200, 587625, 589000, 592150, 605125, 669275, 685150, 685750, 689950, 755975, 758175, 770450, 787375, 792725, 799650, 802650, 811450, 814350, 817700, 818675, 821300, 827750, 831175, 834800, 838050, 841275, 843075, 844200, 846025, 849075, 852175, 854600, 860700, 862200, 864775, 866850, 869300, 873550, 876600, 881500, 884375, 887775, 888575, 898400, 900650, 901450, 910375, 910950, 915850, 917275, 932025, 952225, 953000, 964525, 976825, 979700, 981075, 984075, 995625, 1000000, 1000825, 1001600, 1004575, 1008600, 1009750, 1011425, 1013125, 1015650, 1025000, 1030425, 1031575, 1047125, 1047400, 1053300, 1055925, 1056825, 1058025, 1060250, 1063400, 1066725, 1067425, 1068925, 1075125, 1075675, 1090975, 1091500, 1092025, 1092800, 1093150, 1098200, 1098550, 1099225, 1104750, 1110000, 1110475, 1118600, 1119000, 1125575, 1126000, 1126550, 1130650, 1131075, 1137450, 1137925, 1151425, 1155075, 1162150, 1163650, 1164025, 1175375, 1179075, 1186775, 1191300, 1191975, 1193050, 1195100, 1206400, 1207950, 1211900, 1213550, 1214300, 1216200, 1217350, 1221475, 1225400, 1225750, 1228250, 1228850, 1234700, 1235800, 1240700, 1242575, 1243200, 1244300, 1248625, 1249900, 1254100, 1255075, 1256275, 1257675, 1263200, 1264750, 1267550, 1271850, 1273200, 1274350, 1276275, 1279175, 1280925, 1290225, 1292800, 1296000, 1296275, 1305075, 1306375, 1307275, 1309300, 1310175, 1312650, 1316250, 1317700, 1325550, 1326725, 1327000, 1328925, 1329250, 1331000, 1333000, 1334325, 1337625, 1338000, 1342575, 1352300, 1353350, 1361000, 1362250, 1365975, 1369925, 1376900, 1378400, 1392100, 1402175, 1407825, 1415475, 1422025, 1428875, 1443950, 1459775, 1462375, 1468325, 1479725, 1503875, 1522150, 1684375, 1706200, 1721075, 1874425, 1878600, 1896650, 1908250, 1921950, 1922925, 1923325, 1925875, 1940450, 1942775, 1950125, 1954250, 1956275, 1966600, 1971775, 2011125, 2017025, 2031675, 2040800, 2041300, 2053150, 2054250, 2054699, 2110125, 2110800, 2111250, 2127950, 2145575, 2160700, 2180400, 2188900, 2212875, 2220750, 2231925, 2232475, 2251375, 2259925, 2260350, 2263425, 2272550, 2277325, 2279400, 2285850, 2290550, 2293075, 2322950, 2327000, 2328575, 2335525, 2338950, 2349250, 2350400, 2351850, 2358200, 2358950, 2372925, 2390225, 2396775, 2400325, 2404175, 2405625, 2409875, 2412525, 2415750, 2415950, 2417025, 2420475, 2424425, 2426525, 2429475, 2432175, 2435875, 2437025, 2438650, 2439800, 2446375, 2448100, 2448475, 2450050, 2452675, 2454500, 2457850, 2459225, 2461725, 2463450, 2469175, 2470950, 2472075, 2472975, 2475200, 2480475, 2481550, 2483300, 2484200, 2487225, 2488375, 2490850, 2493325, 2493625, 2497100, 2502275, 2507300, 2507675, 2512050, 2514100, 2515000, 2518525, 2519825, 2520175, 2521050, 2521625, 2523275, 2526350, 2529125, 2532000, 2533125, 2534950, 2537200, 2538575, 2541850, 2542900, 2543775, 2545275, 2548050, 2550950, 2552825, 2557650, 2561000, 2564000, 2564950, 2572325, 2572900, 2576725, 2579700, 2580550, 2583500, 2583875, 2586450, 2591175, 2594425, 2607225, 2619150, 2620875, 2623775, 2624575, 2625625, 2627325, 2629950, 2630125, 2633050, 2637225, 2640400, 2642200, 2643350, 2644925, 2651550, 2654675, 2658600, 2659800, 2660475, 2664500, 2671575, 2674775, 2675325, 2677275, 2683850, 2684500, 2685825, 2687200, 2689625, 2692225, 2693225, 2702750, 2704650, 2709325, 2712775, 2713575, 2716925, 2729600, 2736400, 2738425, 2742650, 2748625, 2749275, 2775250, 2810250, 2841725, 2882125, 2933025, 2935425, 2936800, 2937825, 2942225, 2957375, 2969100, 2971975, 2991250, 2993500, 2995275, 2999200, 3000675, 3003825, 3009500, 3009675, 3013850, 3016150, 3018100, 3021675, 3025550, 3036050, 3044775, 3047500, 3051025, 3052775, 3054675, 3063325, 3079125, 3082600, 3083600, 3085050, 3086250, 3088225, 3091150, 3092025, 3099225, 3105150, 3111050, 3113550, 3113850, 3117850, 3119525, 3120875, 3123125, 3124200, 3125200, 3127450, 3128000, 3131975, 3136200, 3136750, 3152425, 3156475, 3160450, 3171325, 3171650, 3173750, 3175550, 3182725, 3189900, 3192625, 3197550, 3204575, 3229200, 3240575, 3246375, 3252700, 3258875, 3282550, 3290275, 3313550, 3318100, 3318800, 3320900, 3326950, 3330950, 3340625, 3345475, 3347600, 3348125, 3352250, 3358750, 3382425, 3391750, 3402575, 3404200, 3413550, 3429500, 3458900, 3500575, 3501600, 3515850, 3516250, 3519600, 3520750, 3523075, 3532550, 3534100, 3547050, 3554475, 3567250, 3568175, 3573575, 3579075, 3591150, 3614775, 3617300, 3622200, 3633575, 3657950, 3660200, 3665175, 3677075, 3690050, 3691125, 3704475, 3705100, 3708250, 3709200, 3712325, 3712850, 3716350, 3717075, 3719350, 3721800, 3726350, 3727825, 3731500, 3731800, 3735475, 3739450, 3741425, 3742725, 3749475, 3753825, 3757100, 3758450, 3760625, 3762925, 3763875, 3765925, 3766250, 3769750, 3770650, 3771000, 3771850, 3772300, 3773300, 3777775, 3778550, 3778700, 3780500, 3783250, 3784325, 3785150, 3788825, 3789175, 3790050, 3791475, 3794025, 3796250, 3797375, 3797500, 3799800, 3800150, 3801650, 3804800, 3808325, 3808700, 3809750, 3812900, 3815225, 3818625, 3820825, 3821625, 3822500, 3827075, 3829150, 3835700, 3842550, 3852725, 3853525, 3854875, 3859550, 3860475, 3861250, 3863875, 3865925, 3867250, 3868550, 3870150, 3872700, 3875125, 3889875, 3890700, 3891050, 3893250, 3895700, 3896550, 3896950, 3899075, 3900275, 3903325, 3907625, 3912575, 3912900, 3914450, 3915850, 3916950, 3919875, 3920300, 3921025, 3922125, 3926500, 3928100, 3930325, 3935250, 3937175, 3938250, 3939375, 3940500, 3941175, 3943750, 3947125, 3948925, 3961525, 3962525, 3963525, 3966625, 3969525, 3970300, 3970650, 3972625, 3975650, 3982650, 3986150, 3987050, 3990675, 4000000, 4000650, 4004775, 4007150, 4008575, 4012075, 4016375, 4017225, 4019250, 4023325, 4027000, 4027850, 4030150, 4038075, 4043425, 4052825, 4055400, 4057200, 4067100, 4072425, 4072975, 4082050, 4084050, 4087675, 4088425, 4091350, 4093350, 4094400, 4111925, 4113500, 4118274, 4123649, 4125550, 4141725, 4143850, 4146425, 4170375, 4172100, 4176850, 4203300, 4207575, 4209825, 4221625, 4224750, 4232500, 4248075, 4253375, 4258700, 4268575, 4287400, 4294900, 4332025, 4338425, 4343325, 4377625, 4380850, 4382425, 4384950, 4416200, 4423050, 4427025, 4432200, 4450450, 4481025, 4569025, 4590250, 4606925, 4611900, 4614825, 4629275, 4630250, 4648300, 4655075, 4698025, 4700600, 4705275, 4715350, 4732950, 4821000, 4830250, 4843075, 4847500, 4849350, 4879425, 4912900, 4926700, 4970600, 4980350, 4982550, 4984850, 4991325, 5001600, 5003300, 5180775, 5185325, 5187250, 5191150, 5195925, 5198675, 5200575, 5206825, 5212300, 5213000, 5213575, 5217600, 5226875, 5228325, 5233400, 5241375, 5243250, 5247375, 5254150, 5254400, 5260175, 5260450, 5268425, 5272050, 5278050, 5279950, 5281925, 5284300, 5284775, 5290025, 5291225, 5296900, 5300125, 5307025, 5308600, 5311600, 5313300, 5313575, 5317050, 5321050, 5323150, 5326450, 5329675, 5332175, 5335925, 5339325, 5340000, 5340550, 5345375, 5351500, 5352675, 5353800, 5354225, 5355450, 5359450, 5363600, 5371675, 5376200, 5376575, 5376975, 5378425, 5379150, 5380100, 5384825, 5387425, 5388950, 5390250, 5393375, 5393700, 5396700, 5397600, 5399475, 5401200, 5404100, 5416725, 5423050, 5424750, 5429100, 5431025, 5432225, 5434875, 5440050, 5442100, 5450400, 5453425, 5454600, 5459925, 5460800, 5461900, 5467575, 5468300, 5469900, 5471150, 5475125, 5479675, 5485100, 5486375, 5487075, 5490825, 5492550, 5508975, 5512250, 5514200, 5517000, 5520675, 5521600, 5523375, 5524575, 5526075, 5526975, 5530275, 5537050, 5537950, 5544600, 5546025, 5547950, 5555400, 5567550, 5570475, 5570675, 5571925, 5573150, 5573900, 5580900, 5581275, 5586300, 5587650, 5588725, 5589575, 5597050, 5598925, 5602775, 5604000, 5609475, 5610025, 5611300, 5616925, 5619850, 5626100, 5627275, 5628775, 5632850, 5638175, 5640025, 5641475, 5643925, 5644600, 5646175, 5647150, 5651400, 5652525, 5658350, 5660500, 5664175, 5664950, 5666375, 5668475, 5672300, 5673350, 5677100, 5680200, 5684400, 5690550, 5695500, 5696900, 5698300, 5701700, 5704200, 5705050, 5706150, 5710200, 5714750, 5715350, 5717350, 5722175, 5728975, 5731200, 5734725, 5737150, 5743900, 5754675, 5755375, 5760550, 5769400, 5772500, 5777300, 5784325, 5790400, 5794650, 5848975, 5877950, 5878300, 5888375, 5891300, 5898075, 5899925, 5900600, 5907525, 5909850, 5914100, 5918700, 5923875, 5925000, 5927475, 5929300, 5937100, 5977250, 5993975, 6009200, 6022875, 6025250, 6033650, 6056725, 6185025, 6222925, 6291000, 6313225, 6353725, 6359200], 'offsets': [6746, 9236, 21339, 28555, 49473, 70652, 76088, 76726, 89886, 91927, 95129, 97336, 97975, 102966, 105247, 106941, 108289, 117883, 118812, 120031, 122628, 124479, 131669, 132720, 133035, 134421, 135813, 139456, 141410, 142620, 142943, 144168, 146946, 153931, 157478, 157881, 162813, 165457, 171284, 171481, 172429, 174853, 176727, 179830, 186434, 191704, 193112, 194247, 195778, 195921, 197829, 199254, 201177, 202413, 204247, 205192, 207058, 208137, 214089, 217904, 218250, 221046, 222269, 223323, 229835, 235820, 236550, 238337, 250596, 252625, 260918, 273681, 304306, 305267, 307580, 311849, 314157, 326292, 332226, 334673, 354611, 365091, 389224, 422046, 426388, 453981, 460984, 472612, 538573, 539254, 542747, 544753, 549135, 551238, 567760, 569043, 572072, 577607, 578878, 583021, 585241, 587792, 589108, 592223, 605340, 669328, 685226, 685894, 690069, 756153, 758294, 770529, 787441, 792838, 799769, 802751, 811618, 814487, 817776, 818770, 821523, 827813, 831300, 834902, 838135, 841423, 843203, 844468, 846083, 849164, 852322, 854713, 860828, 862243, 864933, 866929, 869377, 873624, 876677, 881580, 884670, 887868, 888713, 898529, 900761, 901531, 910548, 911034, 915929, 917315, 932162, 952382, 953109, 964628, 977109, 979872, 981118, 984169, 995715, 1000187, 1000916, 1001642, 1004762, 1008643, 1010026, 1011512, 1013183, 1015744, 1025159, 1030545, 1031682, 1047270, 1047622, 1053375, 1056030, 1057000, 1058113, 1060337, 1063478, 1066949, 1067536, 1068977, 1075235, 1075737, 1091014, 1091590, 1092228, 1092879, 1093223, 1098260, 1098620, 1099303, 1104816, 1110053, 1110527, 1118725, 1119187, 1125836, 1126064, 1126686, 1130800, 1131159, 1137509, 1137988, 1151594, 1155139, 1162178, 1163720, 1164079, 1175453, 1179166, 1186821, 1191505, 1192051, 1193138, 1195198, 1206485, 1208039, 1211914, 1213617, 1214568, 1216270, 1217513, 1221611, 1225548, 1225864, 1228315, 1228927, 1234777, 1235864, 1240769, 1242632, 1243269, 1244472, 1248744, 1250015, 1254177, 1255314, 1256531, 1257764, 1263534, 1264841, 1267623, 1271954, 1273263, 1274424, 1276331, 1279278, 1281123, 1290351, 1293007, 1296132, 1296312, 1305161, 1306455, 1307702, 1309438, 1310357, 1312703, 1316442, 1317835, 1325650, 1326862, 1327133, 1329032, 1329460, 1331155, 1333122, 1334467, 1337693, 1338105, 1342680, 1352345, 1353393, 1361172, 1362436, 1366089, 1370125, 1376992, 1378512, 1392173, 1402455, 1407938, 1415535, 1422161, 1429010, 1444103, 1459841, 1462583, 1468431, 1479857, 1503982, 1522233, 1684449, 1706283, 1721158, 1874758, 1878768, 1896738, 1908355, 1922040, 1922999, 1923422, 1925927, 1940501, 1942897, 1950206, 1954309, 1956447, 1966824, 1971990, 2011224, 2017100, 2031747, 2040849, 2041371, 2053266, 2054489, 2054983, 2110206, 2110897, 2111324, 2128004, 2145649, 2161003, 2180473, 2188983, 2213164, 2220810, 2232242, 2232531, 2251425, 2259983, 2260418, 2263494, 2272661, 2277370, 2279476, 2285952, 2290592, 2293141, 2323014, 2327254, 2328812, 2335573, 2338995, 2349328, 2350621, 2351901, 2358239, 2359075, 2373172, 2390308, 2396910, 2400583, 2404336, 2405784, 2410014, 2412618, 2415797, 2416038, 2417352, 2420618, 2424585, 2426605, 2429584, 2432274, 2435984, 2437297, 2438776, 2439934, 2446502, 2448186, 2448584, 2450089, 2452747, 2454620, 2457978, 2459271, 2461797, 2463622, 2469462, 2471030, 2472315, 2473040, 2475241, 2480573, 2481594, 2483386, 2484307, 2487534, 2488525, 2490940, 2493432, 2493839, 2497172, 2502406, 2507431, 2507779, 2512089, 2514148, 2515138, 2518602, 2519909, 2520208, 2521228, 2521696, 2523379, 2526472, 2529274, 2532098, 2533197, 2535147, 2537310, 2538673, 2541947, 2543009, 2543879, 2545383, 2548139, 2551011, 2553045, 2557840, 2561130, 2564063, 2565206, 2572723, 2573032, 2576809, 2579798, 2580610, 2583633, 2583969, 2586523, 2591332, 2594535, 2607591, 2619217, 2621174, 2623850, 2624704, 2625711, 2627440, 2629995, 2630199, 2633244, 2637330, 2640504, 2642234, 2643508, 2645029, 2651619, 2654773, 2658726, 2659936, 2660566, 2664597, 2671653, 2674859, 2675485, 2677442, 2683967, 2684580, 2685931, 2687273, 2689693, 2692290, 2693413, 2702882, 2704799, 2709411, 2712926, 2713648, 2716994, 2729694, 2736559, 2738488, 2742815, 2748725, 2749390, 2775320, 2810359, 2841836, 2882336, 2933089, 2935592, 2937000, 2937920, 2942444, 2957630, 2969158, 2972083, 2991383, 2993587, 2995581, 2999243, 3000772, 3003896, 3009571, 3009833, 3013918, 3016248, 3018333, 3021782, 3025671, 3036238, 3044838, 3047804, 3051095, 3052892, 3054762, 3063370, 3079364, 3082674, 3083734, 3085120, 3086459, 3088322, 3091201, 3092196, 3099310, 3105317, 3111210, 3113623, 3113970, 3118159, 3119746, 3120969, 3123196, 3124336, 3125325, 3127467, 3128130, 3132086, 3136254, 3136882, 3152492, 3156492, 3160531, 3171411, 3171759, 3173811, 3175690, 3182811, 3189972, 3192656, 3197704, 3204649, 3229290, 3240699, 3246542, 3252779, 3259000, 3282654, 3290336, 3313850, 3318192, 3318949, 3321027, 3327045, 3331043, 3340921, 3345719, 3347834, 3348202, 3352352, 3358880, 3382673, 3391924, 3402787, 3404233, 3413698, 3429540, 3458984, 3500653, 3501745, 3515896, 3516309, 3519737, 3520803, 3523160, 3532697, 3534180, 3547188, 3554609, 3567614, 3568271, 3573786, 3579386, 3591223, 3614867, 3617384, 3622272, 3633654, 3658042, 3660263, 3665222, 3677175, 3690184, 3691186, 3704536, 3705420, 3708353, 3709298, 3712418, 3712986, 3716528, 3717260, 3719417, 3721902, 3726406, 3727953, 3731575, 3731960, 3735611, 3739545, 3741643, 3742854, 3749595, 3754075, 3757272, 3758522, 3760792, 3763105, 3763988, 3765998, 3766430, 3769880, 3770723, 3771117, 3772012, 3772409, 3773362, 3778068, 3778605, 3778893, 3780604, 3783291, 3784458, 3785209, 3788959, 3789286, 3790222, 3791547, 3794106, 3796374, 3797429, 3797613, 3799960, 3800210, 3801824, 3804992, 3808457, 3808844, 3809831, 3812984, 3815278, 3818825, 3820904, 3821743, 3822631, 3827249, 3829253, 3835828, 3842690, 3852886, 3853764, 3855052, 3859666, 3860581, 3861316, 3864114, 3866000, 3867420, 3868622, 3870287, 3872838, 3875330, 3889970, 3890858, 3891111, 3893311, 3895766, 3896654, 3896998, 3899273, 3900306, 3903609, 3907662, 3912712, 3913033, 3914534, 3915975, 3917001, 3919958, 3920472, 3921087, 3922193, 3926612, 3928318, 3930409, 3935299, 3937259, 3938466, 3939546, 3940656, 3941384, 3943830, 3947316, 3949024, 3961678, 3962649, 3963633, 3966728, 3969589, 3970362, 3970716, 3972705, 3975888, 3982756, 3986343, 3987296, 3990921, 4000135, 4000814, 4004832, 4007280, 4008700, 4012274, 4016453, 4017267, 4019311, 4023616, 4027063, 4027962, 4030278, 4038193, 4043563, 4052928, 4055565, 4057459, 4067231, 4072533, 4073134, 4082135, 4084140, 4087791, 4088487, 4091435, 4093435, 4094710, 4112019, 4113602, 4118388, 4123890, 4125669, 4141774, 4143932, 4146567, 4170453, 4172221, 4176952, 4203426, 4207730, 4210001, 4221712, 4224847, 4232585, 4248189, 4253435, 4258808, 4268746, 4287499, 4294963, 4332308, 4338532, 4343435, 4377691, 4380917, 4382491, 4385038, 4416305, 4423105, 4427231, 4432282, 4450506, 4481117, 4569094, 4590327, 4607006, 4611941, 4614898, 4629346, 4630322, 4648425, 4655134, 4698098, 4700734, 4705410, 4715603, 4733031, 4821131, 4830376, 4843120, 4847544, 4849425, 4879473, 4912978, 4926733, 4970625, 4980400, 4982645, 4984938, 4991628, 5001633, 5003377, 5180927, 5185487, 5187437, 5191309, 5196039, 5198870, 5200673, 5206919, 5212397, 5213206, 5213666, 5217667, 5227146, 5228440, 5233581, 5241521, 5243543, 5247443, 5254188, 5254511, 5260310, 5260619, 5268498, 5272134, 5278163, 5280060, 5281959, 5284358, 5284882, 5290265, 5291305, 5296986, 5300245, 5307088, 5308644, 5311710, 5313371, 5313650, 5317174, 5321365, 5323188, 5326549, 5329823, 5332254, 5336100, 5339435, 5340096, 5340712, 5345613, 5351657, 5352814, 5353951, 5354324, 5355612, 5359506, 5363821, 5371834, 5376258, 5376718, 5377039, 5378619, 5379273, 5380247, 5384929, 5387482, 5389068, 5390369, 5393465, 5393789, 5396847, 5397639, 5399544, 5401300, 5404264, 5416870, 5423139, 5424834, 5429220, 5431106, 5432343, 5434927, 5440120, 5442216, 5450550, 5453573, 5454697, 5460038, 5460844, 5462090, 5467672, 5468408, 5470048, 5471258, 5475210, 5479798, 5485229, 5486456, 5487172, 5490955, 5492624, 5509118, 5512326, 5514570, 5517099, 5520830, 5521697, 5523544, 5524657, 5526152, 5527008, 5530462, 5537171, 5538077, 5544663, 5546132, 5548091, 5555880, 5567599, 5570526, 5570744, 5572115, 5573228, 5573992, 5580986, 5581480, 5586434, 5587716, 5588940, 5589760, 5597117, 5599134, 5602965, 5604111, 5609629, 5610314, 5611357, 5617034, 5620002, 5626221, 5627352, 5628893, 5632917, 5638309, 5640226, 5641540, 5643973, 5644702, 5646287, 5647215, 5651575, 5652602, 5658428, 5660595, 5664225, 5665145, 5666461, 5668588, 5672547, 5673417, 5677298, 5680299, 5684644, 5690646, 5695610, 5697057, 5698396, 5701872, 5704276, 5705156, 5706269, 5710303, 5714802, 5715598, 5717411, 5722346, 5729177, 5731378, 5734813, 5737354, 5744015, 5754720, 5755500, 5760651, 5769484, 5772615, 5777514, 5784414, 5790451, 5794773, 5849074, 5878212, 5878578, 5888546, 5891386, 5898146, 5900004, 5900719, 5907606, 5909973, 5914235, 5918920, 5924128, 5925118, 5927637, 5929468, 5937186, 5977348, 5994056, 6009256, 6022939, 6025302, 6033729, 6056769, 6185118, 6223159, 6291077, 6313379, 6353779, 6359265], 'labels_num': [1, 1, 1, 1, 1, 1, 1, 1, 1, 1, 1, 1, 1, 1, 1, 1, 1, 1, 1, 1, 1, 1, 1, 1, 1, 1, 1, 1, 1, 1, 1, 1, 1, 1, 1, 1, 1, 1, 1, 1, 1, 1, 1, 1, 1, 1, 1, 1, 1, 1, 1, 1, 1, 1, 1, 1, 1, 1, 1, 1, 1, 1, 1, 1, 1, 1, 1, 1, 1, 1, 1, 1, 1, 1, 1, 1, 1, 1, 1, 1, 1, 1, 1, 1, 1, 1, 1, 1, 1, 1, 1, 1, 1, 1, 1, 1, 1, 1, 1, 1, 1, 1, 1, 1, 1, 1, 1, 1, 1, 1, 1, 1, 1, 1, 1, 1, 1, 1, 1, 1, 1, 1, 1, 1, 1, 1, 1, 1, 1, 1, 1, 1, 1, 1, 1, 1, 1, 1, 1, 1, 1, 1, 1, 1, 1, 1, 1, 1, 1, 1, 1, 1, 1, 1, 1, 1, 1, 1, 1, 1, 1, 1, 1, 1, 1, 1, 1, 1, 1, 1, 1, 1, 1, 1, 1, 1, 1, 1, 1, 1, 1, 1, 1, 1, 1, 1, 1, 1, 1, 1, 1, 1, 1, 1, 1, 1, 1, 1, 1, 1, 1, 1, 1, 1, 1, 1, 1, 1, 1, 1, 1, 1, 1, 1, 1, 1, 1, 1, 1, 1, 1, 1, 1, 1, 1, 1, 1, 1, 1, 1, 1, 1, 1, 1, 1, 1, 1, 1, 1, 1, 1, 1, 1, 1, 1, 1, 1, 1, 1, 1, 1, 1, 1, 1, 1, 1, 1, 1, 1, 1, 1, 1, 1, 1, 1, 1, 1, 1, 1, 1, 1, 1, 1, 1, 1, 1, 1, 1, 1, 1, 1, 1, 1, 1, 1, 1, 1, 1, 1, 1, 1, 1, 1, 1, 1, 1, 1, 1, 1, 1, 1, 1, 1, 1, 1, 1, 1, 1, 1, 1, 1, 1, 1, 1, 1, 1, 1, 1, 1, 1, 1, 1, 1, 1, 1, 1, 1, 1, 1, 1, 1, 1, 1, 1, 1, 1, 1, 1, 1, 1, 1, 1, 1, 1, 1, 1, 1, 1, 1, 1, 1, 1, 1, 1, 1, 1, 1, 1, 1, 1, 1, 1, 1, 1, 1, 1, 1, 1, 1, 1, 1, 1, 1, 1, 1, 1, 1, 1, 1, 1, 1, 1, 1, 1, 1, 1, 1, 1, 1, 1, 1, 1, 1, 1, 1, 1, 1, 1, 1, 1, 1, 1, 1, 1, 1, 1, 1, 1, 1, 1, 1, 1, 1, 1, 1, 1, 1, 1, 1, 1, 1, 1, 1, 1, 1, 1, 1, 1, 1, 1, 1, 1, 1, 1, 1, 1, 1, 1, 1, 1, 1, 1, 1, 1, 1, 1, 1, 1, 1, 1, 1, 1, 1, 1, 1, 1, 1, 1, 1, 1, 1, 1, 1, 1, 1, 1, 1, 1, 1, 1, 1, 1, 1, 1, 1, 1, 1, 1, 1, 1, 1, 1, 1, 1, 1, 1, 1, 1, 1, 1, 1, 1, 1, 1, 1, 1, 1, 1, 1, 1, 1, 1, 1, 1, 1, 1, 1, 1, 1, 1, 1, 1, 1, 1, 1, 1, 1, 1, 1, 1, 1, 1, 1, 1, 1, 1, 1, 1, 1, 1, 1, 1, 1, 1, 1, 1, 1, 1, 1, 1, 1, 1, 1, 1, 1, 1, 1, 1, 1, 1, 1, 1, 1, 1, 1, 1, 1, 1, 1, 1, 1, 1, 1, 1, 1, 1, 1, 1, 1, 1, 1, 1, 1, 1, 1, 1, 1, 1, 1, 1, 1, 1, 1, 1, 1, 1, 1, 1, 1, 1, 1, 1, 1, 1, 1, 1, 1, 1, 1, 1, 1, 1, 1, 1, 1, 1, 1, 1, 1, 1, 1, 1, 1, 1, 1, 1, 1, 1, 1, 1, 1, 1, 1, 1, 1, 1, 1, 1, 1, 1, 1, 1, 1, 1, 1, 1, 1, 1, 1, 1, 1, 1, 1, 1, 1, 1, 1, 1, 1, 1, 1, 1, 1, 1, 1, 1, 1, 1, 1, 1, 1, 1, 1, 1, 1, 1, 1, 1, 1, 1, 1, 1, 1, 1, 1, 1, 1, 1, 1, 1, 1, 1, 1, 1, 1, 1, 1, 1, 1, 1, 1, 1, 1, 1, 1, 1, 1, 1, 1, 1, 1, 1, 1, 1, 1, 1, 1, 1, 1, 1, 1, 1, 1, 1, 1, 1, 1, 1, 1, 1, 1, 1, 1, 1, 1, 1, 1, 1, 1, 1, 1, 1, 1, 1, 1, 1, 1, 1, 1, 1, 1, 1, 1, 1, 1, 1, 1, 1, 1, 1, 1, 1, 1, 1, 1, 1, 1, 1, 1, 1, 1, 1, 1, 1, 1, 1, 1, 1, 1, 1, 1, 1, 1, 1, 1, 1, 1, 1, 1, 1, 1, 1, 1, 1, 1, 1, 1, 1, 1, 1, 1, 1, 1, 1, 1, 1, 1, 1, 1, 1, 1, 1, 1, 1, 1, 1, 1, 1, 1, 1, 1, 1, 1, 1, 1, 1, 1, 1, 1, 1, 1, 1, 1, 1, 1, 1, 1, 1, 1, 1, 1, 1, 1, 1, 1, 1, 1, 1, 1, 1, 1, 1, 1, 1, 1, 1, 1, 1, 1, 1, 1, 1, 1, 1, 1, 1, 1, 1, 1, 1, 1, 1, 1, 1, 1, 1, 1, 1, 1, 1, 1, 1, 1, 1, 1, 1, 1, 1, 1, 1, 1, 1, 1, 1, 1, 1, 1, 1, 1, 1, 1, 1, 1, 1, 1, 1, 1, 1, 1, 1, 1, 1, 1, 1, 1, 1, 1, 1, 1, 1, 1, 1, 1, 1, 1, 1, 1, 1, 1, 1, 1, 1, 1, 1, 1, 1, 1, 1, 1, 1, 1, 1, 1, 1, 1, 1, 1, 1, 1, 1, 1, 1, 1, 1, 1, 1, 1, 1, 1, 1, 1, 1, 1, 1, 1, 1, 1, 1, 1, 1, 1, 1, 1, 1, 1, 1, 1, 1, 1, 1, 1, 1, 1, 1, 1, 1, 1, 1, 1, 1, 1, 1, 1, 1, 1, 1, 1, 1, 1, 1, 1, 1, 1, 1, 1, 1, 1, 1, 1, 1, 1, 1, 1, 1, 1, 1, 1, 1, 1, 1, 1, 1, 1, 1, 1, 1, 1, 1, 1, 1, 1, 1, 1, 1, 1, 1, 1, 1, 1, 1, 1, 1, 1, 1, 1]}}}},\n",
       "      dtype=object)"
      ]
     },
     "execution_count": 27,
     "metadata": {},
     "output_type": "execute_result"
    }
   ],
   "source": [
    "\n",
    "data['arr_0']"
   ]
  },
  {
   "cell_type": "code",
   "execution_count": 60,
   "metadata": {},
   "outputs": [
    {
     "data": {
      "text/plain": [
       "dict_keys(['PN_01_HJ_Night1', 'PN_01_HJ_Night4', 'PN_01_HJ_Night5', 'PN_01_HJ_Night6', 'PN_01_HJ_Night3'])"
      ]
     },
     "execution_count": 60,
     "metadata": {},
     "output_type": "execute_result"
    }
   ],
   "source": [
    "data.keys()"
   ]
  },
  {
   "cell_type": "code",
   "execution_count": 66,
   "metadata": {},
   "outputs": [
    {
     "name": "stdout",
     "output_type": "stream",
     "text": [
      "dict_keys(['PN_01_HJ_Night1_Stim_night0'])\n",
      "PN_01_HJ_Night1_Stim_night0\n",
      "dict_keys(['PN_01_HJ_Night4_Sham_night1'])\n",
      "PN_01_HJ_Night4_Sham_night1\n",
      "dict_keys(['PN_01_HJ_Night5_Stim_night2'])\n",
      "PN_01_HJ_Night5_Stim_night2\n",
      "dict_keys(['PN_01_HJ_Night6_Sham_night5'])\n",
      "PN_01_HJ_Night6_Sham_night5\n",
      "dict_keys(['PN_01_HJ_Night3_Stim_night6'])\n",
      "PN_01_HJ_Night3_Stim_night6\n"
     ]
    }
   ],
   "source": [
    "# clean the dictionary keys\n",
    "for new_key in list(data.keys()):\n",
    "    print(data[new_key]['spindle_mass_lacourse'].keys())\n",
    "    old_key = list(data[new_key]['spindle_mass_lacourse'].keys())[0]\n",
    "    print(old_key)\n",
    "    data[new_key]['spindle_mass_lacourse'][new_key] = data[new_key]['spindle_mass_lacourse'].pop(old_key)"
   ]
  },
  {
   "cell_type": "code",
   "execution_count": 67,
   "metadata": {},
   "outputs": [
    {
     "data": {
      "text/plain": [
       "dict_keys(['PN_01_HJ_Night1'])"
      ]
     },
     "execution_count": 67,
     "metadata": {},
     "output_type": "execute_result"
    }
   ],
   "source": [
    "data['PN_01_HJ_Night1']['spindle_mass_lacourse'].keys()"
   ]
  },
  {
   "cell_type": "code",
   "execution_count": 69,
   "metadata": {},
   "outputs": [],
   "source": [
    "# Save the cleaned data\n",
    "np.savez_compressed(os.path.join(save_path, f\"{subject_id}.npz\"), data)"
   ]
  },
  {
   "cell_type": "code",
   "execution_count": 13,
   "metadata": {},
   "outputs": [
    {
     "name": "stdout",
     "output_type": "stream",
     "text": [
      "Time taken to load PN_01_HJ_Night4: 21.723674297332764\n",
      "Time taken to load 01-01-0001: 2.1120471954345703\n",
      "Time taken to create lookup table: 1.442598819732666\n",
      "Number of sampleable indices: 14841701\n",
      "Number of spindle indexes: 422714\n",
      "Number of spindles: 2301\n",
      "Number of N1 indexes: 0\n",
      "Number of N2 indexes: 0\n",
      "Number of N3 indexes: 0\n",
      "Number of R indexes: 0\n",
      "Number of W indexes: 0\n"
     ]
    }
   ],
   "source": [
    "from portiloopml.portiloop_python.ANN.data.mass_data_new import MassDataset\n",
    "\n",
    "data_path = '/project/MASS/mass_spindles_dataset/'\n",
    "subjects = ['PN_01_HJ_Night4', '01-01-0001']\n",
    "\n",
    "dataset = MassDataset(data_path, 30, 30, 30, subjects=subjects, use_filtered=False, sampleable='spindles', compute_spindle_labels=False)"
   ]
  },
  {
   "cell_type": "code",
   "execution_count": 51,
   "metadata": {},
   "outputs": [
    {
     "name": "stdout",
     "output_type": "stream",
     "text": [
      "Time taken to load PN_08_AC_Night4: 1.5086579322814941\n",
      "Time taken to create lookup table: 0.6257777214050293\n",
      "Number of sampleable indices: 7430667\n",
      "Number of spindle indexes: 189157\n",
      "Number of spindles: 1638\n",
      "Number of N1 indexes: 0\n",
      "Number of N2 indexes: 0\n",
      "Number of N3 indexes: 0\n",
      "Number of R indexes: 0\n",
      "Number of W indexes: 0\n",
      "Time taken to load PN_08_AC_Night6a: 1.574091911315918\n",
      "Time taken to create lookup table: 0.1373581886291504\n",
      "Number of sampleable indices: 2162079\n",
      "Number of spindle indexes: 54092\n",
      "Number of spindles: 471\n",
      "Number of N1 indexes: 0\n",
      "Number of N2 indexes: 0\n",
      "Number of N3 indexes: 0\n",
      "Number of R indexes: 0\n",
      "Number of W indexes: 0\n"
     ]
    },
    {
     "ename": "KeyError",
     "evalue": "'PN_08_AC_Night6b'",
     "output_type": "error",
     "traceback": [
      "\u001b[0;31m---------------------------------------------------------------------------\u001b[0m",
      "\u001b[0;31mKeyError\u001b[0m                                  Traceback (most recent call last)",
      "Cell \u001b[0;32mIn[51], line 11\u001b[0m\n\u001b[1;32m      7\u001b[0m subjects \u001b[38;5;241m=\u001b[39m [x\u001b[38;5;241m.\u001b[39mstrip() \u001b[38;5;28;01mfor\u001b[39;00m x \u001b[38;5;129;01min\u001b[39;00m subjects]\n\u001b[1;32m     10\u001b[0m \u001b[38;5;28;01mfor\u001b[39;00m subject \u001b[38;5;129;01min\u001b[39;00m subjects[\u001b[38;5;241m15\u001b[39m:]:\n\u001b[0;32m---> 11\u001b[0m     dataset \u001b[38;5;241m=\u001b[39m MassDataset(data_path, \u001b[38;5;241m30\u001b[39m, \u001b[38;5;241m30\u001b[39m, \u001b[38;5;241m30\u001b[39m, subjects\u001b[38;5;241m=\u001b[39m[subject], use_filtered\u001b[38;5;241m=\u001b[39m\u001b[38;5;28;01mFalse\u001b[39;00m, sampleable\u001b[38;5;241m=\u001b[39m\u001b[38;5;124m'\u001b[39m\u001b[38;5;124mspindles\u001b[39m\u001b[38;5;124m'\u001b[39m, compute_spindle_labels\u001b[38;5;241m=\u001b[39m\u001b[38;5;28;01mFalse\u001b[39;00m)\n",
      "File \u001b[0;32m~/portiloop-training/portiloopml/portiloop_python/ANN/data/mass_data_new.py:457\u001b[0m, in \u001b[0;36mMassDataset.__init__\u001b[0;34m(self, data_path, window_size, seq_stride, seq_len, subjects, use_filtered, sampleable, compute_spindle_labels, wamsley_config, train_all_ss)\u001b[0m\n\u001b[1;32m    455\u001b[0m     subset \u001b[38;5;241m=\u001b[39m key[:\u001b[38;5;241m8\u001b[39m]\n\u001b[1;32m    456\u001b[0m     all_nights \u001b[38;5;241m=\u001b[39m \u001b[38;5;28mself\u001b[39m\u001b[38;5;241m.\u001b[39mdata_unloaded[subset][\u001b[38;5;124m'\u001b[39m\u001b[38;5;124marr_0\u001b[39m\u001b[38;5;124m'\u001b[39m]\u001b[38;5;241m.\u001b[39mitem()\n\u001b[0;32m--> 457\u001b[0m     \u001b[38;5;28mself\u001b[39m\u001b[38;5;241m.\u001b[39mdata[key] \u001b[38;5;241m=\u001b[39m all_nights[key]\n\u001b[1;32m    458\u001b[0m \u001b[38;5;28;01melse\u001b[39;00m:\n\u001b[1;32m    459\u001b[0m     subset \u001b[38;5;241m=\u001b[39m key[\u001b[38;5;241m3\u001b[39m:\u001b[38;5;241m5\u001b[39m]\n",
      "\u001b[0;31mKeyError\u001b[0m: 'PN_08_AC_Night6b'"
     ]
    }
   ],
   "source": [
    "# Read the list of subjects from the file\n",
    "subject_list_path = '/home/ubuntu/portiloop-training/subjects_portinight.txt'\n",
    "\n",
    "with open(subject_list_path, 'r') as f:\n",
    "    subjects = f.readlines()\n",
    "\n",
    "subjects = [x.strip() for x in subjects]\n",
    "\n",
    "\n",
    "for subject in subjects[15:]:\n",
    "    dataset = MassDataset(data_path, 30, 30, 30, subjects=[subject], use_filtered=False, sampleable='spindles', compute_spindle_labels=False)"
   ]
  },
  {
   "cell_type": "code",
   "execution_count": null,
   "metadata": {},
   "outputs": [],
   "source": []
  }
 ],
 "metadata": {
  "kernelspec": {
   "display_name": "portiloop-training",
   "language": "python",
   "name": "python3"
  },
  "language_info": {
   "codemirror_mode": {
    "name": "ipython",
    "version": 3
   },
   "file_extension": ".py",
   "mimetype": "text/x-python",
   "name": "python",
   "nbconvert_exporter": "python",
   "pygments_lexer": "ipython3",
   "version": "3.11.4"
  }
 },
 "nbformat": 4,
 "nbformat_minor": 2
}
