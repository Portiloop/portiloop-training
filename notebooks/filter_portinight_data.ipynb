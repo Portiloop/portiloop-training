{
 "cells": [
  {
   "cell_type": "code",
   "execution_count": 1,
   "metadata": {},
   "outputs": [],
   "source": [
    "import pandas as pd\n",
    "import numpy as np\n",
    "import matplotlib.pyplot as plt\n",
    "from scipy.signal import firwin\n",
    "from tqdm import tqdm\n",
    "from portiloopml.portiloop_python.ANN.wamsley_utils import detect_lacourse\n",
    "import os"
   ]
  },
  {
   "cell_type": "code",
   "execution_count": 3,
   "metadata": {},
   "outputs": [],
   "source": [
    "\n",
    "\n",
    "def shift_numpy(arr, num, fill_value=np.nan):\n",
    "    result = np.empty_like(arr)\n",
    "    if num > 0:\n",
    "        result[:num] = fill_value\n",
    "        result[num:] = arr[:-num]\n",
    "    elif num < 0:\n",
    "        result[num:] = fill_value\n",
    "        result[:num] = arr[-num:]\n",
    "    else:\n",
    "        result[:] = arr\n",
    "    return result\n",
    "\n",
    "class FIR:\n",
    "    def __init__(self, nb_channels, coefficients, buffer=None):\n",
    "        \n",
    "        self.coefficients = np.expand_dims(np.array(coefficients), axis=1)\n",
    "        self.taps = len(self.coefficients)\n",
    "        self.nb_channels = nb_channels\n",
    "        self.buffer = np.array(buffer) if buffer is not None else np.zeros((self.taps, self.nb_channels))\n",
    "    \n",
    "    def filter(self, x):\n",
    "        self.buffer = shift_numpy(self.buffer, 1, x)\n",
    "        filtered = np.sum(self.buffer * self.coefficients, axis=0)\n",
    "        return filtered\n",
    "\n",
    "    \n",
    "class FilterPipeline:\n",
    "    def __init__(self,\n",
    "                 nb_channels,\n",
    "                 sampling_rate,\n",
    "                 power_line_fq=60,\n",
    "                 use_custom_fir=False,\n",
    "                 custom_fir_order=20,\n",
    "                 custom_fir_cutoff=30,\n",
    "                 alpha_avg=0.1,\n",
    "                 alpha_std=0.001,\n",
    "                 epsilon=0.000001,\n",
    "                 filter_args=[]):\n",
    "        if len(filter_args) > 0:\n",
    "            use_fir, use_notch, use_std = filter_args\n",
    "        else:\n",
    "            use_fir=True,\n",
    "            use_notch=False,\n",
    "            use_std=True\n",
    "        self.use_fir = use_fir\n",
    "        self.use_notch = use_notch\n",
    "        self.use_std = use_std\n",
    "        self.nb_channels = nb_channels\n",
    "        assert power_line_fq in [50, 60], f\"The only supported power line frequencies are 50 Hz and 60 Hz\"\n",
    "        if power_line_fq == 60:\n",
    "            self.notch_coeff1 = -0.12478308884588535\n",
    "            self.notch_coeff2 = 0.98729186796473023\n",
    "            self.notch_coeff3 = 0.99364593398236511\n",
    "            self.notch_coeff4 = -0.12478308884588535\n",
    "            self.notch_coeff5 = 0.99364593398236511\n",
    "        else:\n",
    "            self.notch_coeff1 = -0.61410695998423581\n",
    "            self.notch_coeff2 =  0.98729186796473023\n",
    "            self.notch_coeff3 = 0.99364593398236511\n",
    "            self.notch_coeff4 = -0.61410695998423581\n",
    "            self.notch_coeff5 = 0.99364593398236511\n",
    "        self.dfs = [np.zeros(self.nb_channels), np.zeros(self.nb_channels)]\n",
    "        \n",
    "        self.moving_average = None\n",
    "        self.moving_variance = np.zeros(self.nb_channels)\n",
    "        self.ALPHA_AVG = alpha_avg\n",
    "        self.ALPHA_STD = alpha_std\n",
    "        self.EPSILON = epsilon\n",
    "        \n",
    "        if use_custom_fir:\n",
    "            self.fir_coef = firwin(numtaps=custom_fir_order+1, cutoff=custom_fir_cutoff, fs=sampling_rate)\n",
    "        else:\n",
    "            self.fir_coef = [\n",
    "                0.001623780150148094927192721215192250384,\n",
    "                0.014988684599373741992978104065059596905,\n",
    "                0.021287595318265635502275046064823982306,\n",
    "                0.007349500393709578957568417933998716762,\n",
    "                -0.025127515717112181709014251396183681209,\n",
    "                -0.052210507359822452833064687638398027048,\n",
    "                -0.039273839505489904766477593511808663607,\n",
    "                0.033021568427940004020193498490698402748,\n",
    "                0.147606943281569008563636202779889572412,\n",
    "                0.254000252034505602516389899392379447818,\n",
    "                0.297330876398883392486283128164359368384,\n",
    "                0.254000252034505602516389899392379447818,\n",
    "                0.147606943281569008563636202779889572412,\n",
    "                0.033021568427940004020193498490698402748,\n",
    "                -0.039273839505489904766477593511808663607,\n",
    "                -0.052210507359822452833064687638398027048,\n",
    "                -0.025127515717112181709014251396183681209,\n",
    "                0.007349500393709578957568417933998716762,\n",
    "                0.021287595318265635502275046064823982306,\n",
    "                0.014988684599373741992978104065059596905,\n",
    "                0.001623780150148094927192721215192250384]\n",
    "        self.fir = FIR(self.nb_channels, self.fir_coef)\n",
    "        \n",
    "    def filter(self, value):\n",
    "        \"\"\"\n",
    "        value: a numpy array of shape (data series, channels)\n",
    "        \"\"\"\n",
    "        for i, x in enumerate(value):  # loop over the data series\n",
    "            # FIR:\n",
    "            if self.use_fir:\n",
    "                x = self.fir.filter(x)\n",
    "            # notch:\n",
    "            if self.use_notch:\n",
    "                denAccum = (x - self.notch_coeff1 * self.dfs[0]) - self.notch_coeff2 * self.dfs[1]\n",
    "                x = (self.notch_coeff3 * denAccum + self.notch_coeff4 * self.dfs[0]) + self.notch_coeff5 * self.dfs[1]\n",
    "                self.dfs[1] = self.dfs[0]\n",
    "                self.dfs[0] = denAccum\n",
    "            # standardization:\n",
    "            if self.use_std:\n",
    "                if self.moving_average is not None:\n",
    "                    delta = x - self.moving_average\n",
    "                    self.moving_average = self.moving_average + self.ALPHA_AVG * delta\n",
    "                    self.moving_variance = (1 - self.ALPHA_STD) * (self.moving_variance + self.ALPHA_STD * delta**2)\n",
    "                    moving_std = np.sqrt(self.moving_variance)\n",
    "                    x = (x - self.moving_average) / (moving_std + self.EPSILON)\n",
    "                else:\n",
    "                    self.moving_average = x\n",
    "            value[i] = x\n",
    "        return value"
   ]
  },
  {
   "cell_type": "code",
   "execution_count": 6,
   "metadata": {},
   "outputs": [],
   "source": [
    "def online_detrend(y, alpha=0.95):\n",
    "    detrended_y = np.zeros_like(y)\n",
    "    trend = 0\n",
    "    for i in range(len(y)):\n",
    "        trend = alpha * trend + (1 - alpha) * y[i]\n",
    "        detrended_y[i] = y[i] - trend\n",
    "    return detrended_y"
   ]
  },
  {
   "cell_type": "code",
   "execution_count": 7,
   "metadata": {},
   "outputs": [],
   "source": [
    "def raw2filtered(raw):\n",
    "    '''\n",
    "    Take in the raw data and filter it online, detrend it\n",
    "    '''\n",
    "    filtering4lac = FilterPipeline(nb_channels=1, sampling_rate=250, filter_args=[True, True, False])\n",
    "    filtered4lac = []\n",
    "    print(f'Filtering Data Online')\n",
    "    for i in tqdm(raw):\n",
    "        filtered4lac.append(filtering4lac.filter(np.array([i])))\n",
    "\n",
    "    print(f'Detrending Data')\n",
    "    detrended_data = online_detrend(np.array(filtered4lac).flatten())\n",
    "\n",
    "    print(f\"Running Lacourse\")\n",
    "    data_detect = np.array(detrended_data)\n",
    "    mask = np.ones(len(data_detect), dtype=bool)\n",
    "    lacourse = detect_lacourse(\n",
    "        data_detect,\n",
    "        mask,\n",
    "        sampling_rate=250,\n",
    "    )\n",
    "\n",
    "    print(f\"Lacourse found {len(lacourse)} spindles\")\n",
    "\n",
    "    # Filter data online like on Portiloop\n",
    "    print(f\"Filtering Online with standardization\")\n",
    "    filtering_online = FilterPipeline(nb_channels=1, sampling_rate=250, filter_args=[True, True, True])\n",
    "    filtered_online = []\n",
    "    for i in tqdm(raw):\n",
    "        filtered_online.append(filtering_online.filter(np.array([i])))\n",
    "    filtered_online = np.array(filtered_online).flatten()\n",
    "\n",
    "    return detrended_data, lacourse, filtered_online    \n"
   ]
  },
  {
   "cell_type": "code",
   "execution_count": 9,
   "metadata": {},
   "outputs": [
    {
     "name": "stdout",
     "output_type": "stream",
     "text": [
      "Processing PN_01_HJ_Night1_Stim.csv\n"
     ]
    },
    {
     "name": "stderr",
     "output_type": "stream",
     "text": [
      "Skipping line 1832260: expected 7 fields, saw 10\n",
      "\n",
      "Skipping line 2995247: expected 7 fields, saw 9\n",
      "\n"
     ]
    },
    {
     "name": "stdout",
     "output_type": "stream",
     "text": [
      "Filtering Data Online\n"
     ]
    },
    {
     "name": "stderr",
     "output_type": "stream",
     "text": [
      "  0%|          | 0/3763765 [00:00<?, ?it/s]/tmp/ipykernel_540234/500185841.py:121: DeprecationWarning: Conversion of an array with ndim > 0 to a scalar is deprecated, and will error in future. Ensure you extract a single element from your array before performing this operation. (Deprecated NumPy 1.25.)\n",
      "  value[i] = x\n",
      "100%|██████████| 3763765/3763765 [01:24<00:00, 44579.80it/s]\n"
     ]
    },
    {
     "name": "stdout",
     "output_type": "stream",
     "text": [
      "Detrending Data\n",
      "Running Lacourse\n",
      "Lacourse found 661 spindles\n",
      "Filtering Online with standardization\n"
     ]
    },
    {
     "name": "stderr",
     "output_type": "stream",
     "text": [
      "100%|██████████| 3763765/3763765 [01:55<00:00, 32504.38it/s]\n"
     ]
    },
    {
     "name": "stdout",
     "output_type": "stream",
     "text": [
      "Processing PN_01_HJ_Night4_Sham.csv\n",
      "Filtering Data Online\n"
     ]
    },
    {
     "name": "stderr",
     "output_type": "stream",
     "text": [
      "  0%|          | 0/7204999 [00:00<?, ?it/s]/tmp/ipykernel_540234/500185841.py:121: DeprecationWarning: Conversion of an array with ndim > 0 to a scalar is deprecated, and will error in future. Ensure you extract a single element from your array before performing this operation. (Deprecated NumPy 1.25.)\n",
      "  value[i] = x\n",
      "100%|██████████| 7204999/7204999 [02:39<00:00, 45232.00it/s]\n"
     ]
    },
    {
     "name": "stdout",
     "output_type": "stream",
     "text": [
      "Detrending Data\n",
      "Running Lacourse\n",
      "Lacourse found 1032 spindles\n",
      "Filtering Online with standardization\n"
     ]
    },
    {
     "name": "stderr",
     "output_type": "stream",
     "text": [
      "100%|██████████| 7204999/7204999 [03:41<00:00, 32534.63it/s]\n"
     ]
    },
    {
     "name": "stdout",
     "output_type": "stream",
     "text": [
      "Processing PN_01_HJ_Night5_Stim.csv\n"
     ]
    },
    {
     "name": "stderr",
     "output_type": "stream",
     "text": [
      "Skipping line 978367: expected 7 fields, saw 8\n",
      "\n",
      "Skipping line 3407837: expected 7 fields, saw 11\n",
      "\n",
      "Skipping line 4545507: expected 7 fields, saw 9\n",
      "\n",
      "Skipping line 5283893: expected 7 fields, saw 10\n",
      "\n",
      "Skipping line 6522700: expected 7 fields, saw 8\n",
      "\n"
     ]
    },
    {
     "name": "stdout",
     "output_type": "stream",
     "text": [
      "Filtering Data Online\n"
     ]
    },
    {
     "name": "stderr",
     "output_type": "stream",
     "text": [
      "  0%|          | 0/7961931 [00:00<?, ?it/s]/tmp/ipykernel_540234/500185841.py:121: DeprecationWarning: Conversion of an array with ndim > 0 to a scalar is deprecated, and will error in future. Ensure you extract a single element from your array before performing this operation. (Deprecated NumPy 1.25.)\n",
      "  value[i] = x\n",
      "100%|██████████| 7961931/7961931 [02:55<00:00, 45310.73it/s]\n"
     ]
    },
    {
     "name": "stdout",
     "output_type": "stream",
     "text": [
      "Detrending Data\n",
      "Running Lacourse\n"
     ]
    },
    {
     "name": "stderr",
     "output_type": "stream",
     "text": [
      "/home/ubuntu/anaconda3/envs/portiloop-training/lib/python3.11/site-packages/numpy/core/_methods.py:206: RuntimeWarning: Degrees of freedom <= 0 for slice\n",
      "  ret = _var(a, axis=axis, dtype=dtype, out=out, ddof=ddof,\n",
      "/home/ubuntu/anaconda3/envs/portiloop-training/lib/python3.11/site-packages/numpy/core/_methods.py:163: RuntimeWarning: invalid value encountered in divide\n",
      "  arrmean = um.true_divide(arrmean, div, out=arrmean,\n",
      "/home/ubuntu/anaconda3/envs/portiloop-training/lib/python3.11/site-packages/numpy/core/_methods.py:198: RuntimeWarning: invalid value encountered in scalar divide\n",
      "  ret = ret.dtype.type(ret / rcount)\n"
     ]
    },
    {
     "name": "stdout",
     "output_type": "stream",
     "text": [
      "Lacourse found 0 spindles\n",
      "Filtering Online with standardization\n"
     ]
    },
    {
     "name": "stderr",
     "output_type": "stream",
     "text": [
      "100%|██████████| 7961931/7961931 [04:06<00:00, 32271.98it/s]\n"
     ]
    },
    {
     "name": "stdout",
     "output_type": "stream",
     "text": [
      "Processing PN_01_HJ_Night6_Sham.csv\n"
     ]
    },
    {
     "name": "stderr",
     "output_type": "stream",
     "text": [
      "Skipping line 3410467: expected 7 fields, saw 13\n",
      "\n",
      "Skipping line 4582981: expected 7 fields, saw 9\n",
      "\n",
      "/tmp/ipykernel_540234/616848019.py:19: DtypeWarning: Columns (4) have mixed types. Specify dtype option on import or set low_memory=False.\n",
      "  df = pd.read_csv(path + file, on_bad_lines='warn', encoding_errors='ignore')\n"
     ]
    },
    {
     "name": "stdout",
     "output_type": "stream",
     "text": [
      "Filtering Data Online\n"
     ]
    },
    {
     "name": "stderr",
     "output_type": "stream",
     "text": [
      "  0%|          | 0/5623560 [00:00<?, ?it/s]/tmp/ipykernel_540234/500185841.py:121: DeprecationWarning: Conversion of an array with ndim > 0 to a scalar is deprecated, and will error in future. Ensure you extract a single element from your array before performing this operation. (Deprecated NumPy 1.25.)\n",
      "  value[i] = x\n",
      "100%|██████████| 5623560/5623560 [02:05<00:00, 44894.17it/s]\n"
     ]
    },
    {
     "name": "stdout",
     "output_type": "stream",
     "text": [
      "Detrending Data\n",
      "Running Lacourse\n",
      "Lacourse found 923 spindles\n",
      "Filtering Online with standardization\n"
     ]
    },
    {
     "name": "stderr",
     "output_type": "stream",
     "text": [
      "100%|██████████| 5623560/5623560 [02:53<00:00, 32428.50it/s]\n"
     ]
    },
    {
     "name": "stdout",
     "output_type": "stream",
     "text": [
      "Processing PN_01_HJ_Night3_Stim.csv\n"
     ]
    },
    {
     "name": "stderr",
     "output_type": "stream",
     "text": [
      "Skipping line 820127: expected 7 fields, saw 11\n",
      "\n",
      "Skipping line 2132013: expected 7 fields, saw 10\n",
      "\n"
     ]
    },
    {
     "name": "stdout",
     "output_type": "stream",
     "text": [
      "Filtering Data Online\n"
     ]
    },
    {
     "name": "stderr",
     "output_type": "stream",
     "text": [
      "  0%|          | 0/6373659 [00:00<?, ?it/s]/tmp/ipykernel_540234/500185841.py:121: DeprecationWarning: Conversion of an array with ndim > 0 to a scalar is deprecated, and will error in future. Ensure you extract a single element from your array before performing this operation. (Deprecated NumPy 1.25.)\n",
      "  value[i] = x\n",
      " 12%|█▏        | 751073/6373659 [00:16<02:02, 45721.17it/s]"
     ]
    }
   ],
   "source": [
    "path = '/project/portinight-raw/PN_01_HJ/'\n",
    "save_path = '/project/portinight-dataset/'\n",
    "subject_id = 'PN_01_HJ'\n",
    "age = 28\n",
    "gender = 'M'\n",
    "\n",
    "# Iterate through all the csvs in the folder\n",
    "data = {}\n",
    "for idx, file in enumerate(os.listdir(path)):\n",
    "    if file.endswith(\".csv\"):\n",
    "        print(f\"Processing {file}\")\n",
    "\n",
    "        # Get the filename\n",
    "        filename = file.split('.')[0] + f\"_night{idx}\"\n",
    "        data[filename] = {}\n",
    "\n",
    "        data[filename]['age'] = age\n",
    "        data[filename]['gender'] = gender\n",
    "        df = pd.read_csv(path + file, on_bad_lines='warn', encoding_errors='ignore')\n",
    "        useful_data = df.iloc[:, 1].values\n",
    "        filtered4lac, lacourse, filtered_online = raw2filtered(useful_data)\n",
    "\n",
    "        spindle_info_mass = {}\n",
    "        spindle_info_mass[filename] = {\n",
    "            'onsets': [],\n",
    "            'offsets': [],\n",
    "            'labels_num': []\n",
    "        }\n",
    "\n",
    "        for spindle in lacourse:\n",
    "            spindle_info_mass[filename]['onsets'].append(spindle[0])\n",
    "            spindle_info_mass[filename]['offsets'].append(spindle[1])\n",
    "            spindle_info_mass[filename]['labels_num'].append(1)\n",
    "\n",
    "        data[filename]['signal_mass'] = filtered4lac\n",
    "        data[filename]['signal_filt'] = filtered_online\n",
    "        data[filename]['ss_label'] = np.ones(len(filtered4lac)) * 5\n",
    "        data[filename]['spindle_mass_lacourse'] = spindle_info_mass\n",
    "\n",
    "print(f\"Saving f{subject_id}.npz\")\n",
    "np.savez_compressed(os.path.join(save_path, f\"{subject_id}.npz\"), data)\n",
    "        "
   ]
  },
  {
   "cell_type": "code",
   "execution_count": null,
   "metadata": {},
   "outputs": [],
   "source": []
  }
 ],
 "metadata": {
  "kernelspec": {
   "display_name": "portiloop-training",
   "language": "python",
   "name": "python3"
  },
  "language_info": {
   "codemirror_mode": {
    "name": "ipython",
    "version": 3
   },
   "file_extension": ".py",
   "mimetype": "text/x-python",
   "name": "python",
   "nbconvert_exporter": "python",
   "pygments_lexer": "ipython3",
   "version": "3.11.4"
  }
 },
 "nbformat": 4,
 "nbformat_minor": 2
}
