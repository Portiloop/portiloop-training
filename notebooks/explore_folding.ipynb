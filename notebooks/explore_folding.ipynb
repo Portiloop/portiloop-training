{
 "cells": [
  {
   "cell_type": "code",
   "execution_count": 1,
   "metadata": {},
   "outputs": [],
   "source": [
    "import os\n",
    "from portiloopml.portiloop_python.ANN.data.mass_data_new import SubjectLoader\n",
    "import random"
   ]
  },
  {
   "cell_type": "code",
   "execution_count": 2,
   "metadata": {},
   "outputs": [],
   "source": [
    "dataset_path = '/project/MASS/mass_spindles_dataset/'"
   ]
  },
  {
   "cell_type": "code",
   "execution_count": 3,
   "metadata": {},
   "outputs": [],
   "source": [
    "subject_loader = SubjectLoader(\n",
    "    os.path.join(dataset_path, 'subject_info.csv'))"
   ]
  },
  {
   "cell_type": "code",
   "execution_count": 67,
   "metadata": {},
   "outputs": [],
   "source": [
    "def get_subjects_folds(fold_num, test_subjects_per_fold=28, seed=42):\n",
    "    '''\n",
    "    Get the subjects for a specific fold\n",
    "\n",
    "    Args:\n",
    "    - fold_num: int\n",
    "        The fold number in [0, 1, 2, 3, 4]\n",
    "    '''\n",
    "    # Get the number of subjects\n",
    "    num_subjects_total = len(subject_loader.select_all_subjects()) - 1\n",
    "\n",
    "    # Generate 5 different sets of 28 subjects each with balanced age distribution\n",
    "    fold_test_subjects = []\n",
    "    subjects_sampled_so_far = []\n",
    "    for i in range(5):\n",
    "        # On the last fold, we simply take whatever is left\n",
    "        if i == 4:\n",
    "            subjects_left = subject_loader.select_random_subjects(\n",
    "                num_subjects=test_subjects_per_fold,\n",
    "                exclude=subjects_sampled_so_far\n",
    "            )\n",
    "            fold_test_subjects.append(subjects_left)\n",
    "            break\n",
    "\n",
    "        young_test = subject_loader.select_subjects_age(\n",
    "            min_age=0,\n",
    "            max_age=30,\n",
    "            num_subjects=test_subjects_per_fold // 2,\n",
    "            seed=seed,\n",
    "            exclude=subjects_sampled_so_far)\n",
    "        \n",
    "        old_test = subject_loader.select_subjects_age(\n",
    "            min_age=40,\n",
    "            max_age=100,\n",
    "            num_subjects=test_subjects_per_fold // 2,\n",
    "            seed=seed,\n",
    "            exclude=subjects_sampled_so_far)\n",
    "        \n",
    "        subjects_sampled_so_far += young_test + old_test\n",
    "        fold_test_subjects.append(young_test + old_test)\n",
    "\n",
    "    # Get the subjects for the fold\n",
    "    subjects_test = fold_test_subjects[fold_num] \n",
    "    \n",
    "    # Get 6 young and 6 old subjects for the validation set \n",
    "    young_val_subjects = subject_loader.select_subjects_age(\n",
    "        min_age=0,\n",
    "        max_age=30,\n",
    "        num_subjects=6,\n",
    "        seed=seed,\n",
    "        exclude=subjects_test)\n",
    "    old_val_subjects = subject_loader.select_subjects_age(\n",
    "        min_age=40,\n",
    "        max_age=100,\n",
    "        num_subjects=6,\n",
    "        seed=seed,\n",
    "        exclude=subjects_test + young_val_subjects)\n",
    "    \n",
    "    subjects_val = young_val_subjects + old_val_subjects\n",
    "    \n",
    "    # Get the subjects for the training set\n",
    "    all_subjects_so_far = subjects_test + subjects_val\n",
    "    subjects_train = subject_loader.select_random_subjects(\n",
    "        num_subjects=num_subjects_total - len(all_subjects_so_far),\n",
    "        exclude=all_subjects_so_far\n",
    "    )\n",
    "\n",
    "    return subjects_train, subjects_val, subjects_test"
   ]
  },
  {
   "cell_type": "code",
   "execution_count": 70,
   "metadata": {},
   "outputs": [],
   "source": [
    "for i in range(5):\n",
    "    train, val, test = get_subjects_folds(4)\n",
    "\n",
    "    # Make sure there are no duplicates\n",
    "    assert len(train) == len(set(train))\n",
    "    assert len(val) == len(set(val))\n",
    "    assert len(test) == len(set(test))\n",
    "\n",
    "    # Assert there are no subjects in common in between the sets\n",
    "    assert len(set(train).intersection(set(val))) == 0\n",
    "    assert len(set(train).intersection(set(test))) == 0\n",
    "    assert len(set(val).intersection(set(test))) == 0\n",
    "\n",
    "# Make sure there are no subjects in common in the test set of the different folds\n",
    "for i in range(5):\n",
    "    for j in range(5):\n",
    "        if i != j:\n",
    "            assert len(set(get_subjects_folds(i)[2]).intersection(set(get_subjects_folds(j)[2]))) == 0"
   ]
  }
 ],
 "metadata": {
  "kernelspec": {
   "display_name": "portiloop-training",
   "language": "python",
   "name": "python3"
  },
  "language_info": {
   "codemirror_mode": {
    "name": "ipython",
    "version": 3
   },
   "file_extension": ".py",
   "mimetype": "text/x-python",
   "name": "python",
   "nbconvert_exporter": "python",
   "pygments_lexer": "ipython3",
   "version": "3.11.4"
  }
 },
 "nbformat": 4,
 "nbformat_minor": 2
}
