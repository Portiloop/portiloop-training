{
 "cells": [
  {
   "cell_type": "code",
   "execution_count": 1,
   "metadata": {},
   "outputs": [
    {
     "name": "stderr",
     "output_type": "stream",
     "text": [
      "/project/portiloop-training/venv/lib/python3.10/site-packages/tqdm/auto.py:21: TqdmWarning: IProgress not found. Please update jupyter and ipywidgets. See https://ipywidgets.readthedocs.io/en/stable/user_install.html\n",
      "  from .autonotebook import tqdm as notebook_tqdm\n"
     ]
    }
   ],
   "source": [
    "from portiloop_software.portiloop_python.ANN.portiloop_detector_training import train\n",
    "from portiloop_software.portiloop_python.ANN.models.test_models import PortiConvAtt\n",
    "from portiloop_software.portiloop_python.ANN.utils import LoggerWandb, get_configs, set_seeds\n",
    "from portiloop_software.portiloop_python.ANN.data.moda_data import generate_dataloader\n",
    "from portiloop_software.portiloop_python.ANN.data.mass_data import get_dataloaders_mass\n"
   ]
  },
  {
   "cell_type": "code",
   "execution_count": 5,
   "metadata": {},
   "outputs": [],
   "source": [
    "experiment_name = 'testing_stuff3_MASS_TRAINVAL4'\n",
    "test_set = True\n",
    "seed = 42\n",
    "set_seeds(seed)\n",
    "config_dict = get_configs(experiment_name, test_set, seed)"
   ]
  },
  {
   "cell_type": "code",
   "execution_count": 6,
   "metadata": {},
   "outputs": [
    {
     "data": {
      "text/html": [
       "Finishing last run (ID:testing_stuff3_MASS_TRAINVAL3) before initializing another..."
      ],
      "text/plain": [
       "<IPython.core.display.HTML object>"
      ]
     },
     "metadata": {},
     "output_type": "display_data"
    },
    {
     "data": {
      "text/html": [
       "Waiting for W&B process to finish... <strong style=\"color:green\">(success).</strong>"
      ],
      "text/plain": [
       "<IPython.core.display.HTML object>"
      ]
     },
     "metadata": {},
     "output_type": "display_data"
    },
    {
     "data": {
      "text/html": [
       "<style>\n",
       "    table.wandb td:nth-child(1) { padding: 0 10px; text-align: left ; width: auto;} td:nth-child(2) {text-align: left ; width: 100%}\n",
       "    .wandb-row { display: flex; flex-direction: row; flex-wrap: wrap; justify-content: flex-start; width: 100% }\n",
       "    .wandb-col { display: flex; flex-direction: column; flex-basis: 100%; flex: 1; padding: 10px; }\n",
       "    </style>\n",
       "<div class=\"wandb-row\"><div class=\"wandb-col\"><h3>Run summary:</h3><br/><table class=\"wandb\"><tr><td>accuracy_train</td><td>0.9187</td></tr><tr><td>accuracy_validation</td><td>0.95998</td></tr><tr><td>best_epoch</td><td>144</td></tr><tr><td>best_epoch_early_stopping</td><td>149</td></tr><tr><td>best_model_accuracy_validation</td><td>0.9614</td></tr><tr><td>best_model_f1_score_validation</td><td>0.24525</td></tr><tr><td>best_model_loss_validation</td><td>0.14388</td></tr><tr><td>best_model_on_loss_accuracy_validation</td><td>0.9614</td></tr><tr><td>best_model_on_loss_f1_score_validation</td><td>0.24525</td></tr><tr><td>best_model_on_loss_loss_validation</td><td>0.14388</td></tr><tr><td>best_model_on_loss_precision_validation</td><td>0.14507</td></tr><tr><td>best_model_on_loss_recall_validation</td><td>0.79257</td></tr><tr><td>best_model_precision_validation</td><td>0.14507</td></tr><tr><td>best_model_recall_validation</td><td>0.79257</td></tr><tr><td>f1_validation</td><td>0.24035</td></tr><tr><td>loss_early_stopping</td><td>0.15564</td></tr><tr><td>loss_train</td><td>0.21541</td></tr><tr><td>loss_validation</td><td>0.14573</td></tr><tr><td>precision_validation</td><td>0.14142</td></tr><tr><td>recall_validation</td><td>0.8</td></tr></table><br/></div></div>"
      ],
      "text/plain": [
       "<IPython.core.display.HTML object>"
      ]
     },
     "metadata": {},
     "output_type": "display_data"
    },
    {
     "data": {
      "text/html": [
       " View run <strong style=\"color:#cdcd00\">testing_stuff3_MASS_TRAINVAL3</strong> at: <a href='https://wandb.ai/portiloop/full-dataset-public/runs/testing_stuff3_MASS_TRAINVAL3' target=\"_blank\">https://wandb.ai/portiloop/full-dataset-public/runs/testing_stuff3_MASS_TRAINVAL3</a><br/>Synced 2 W&B file(s), 0 media file(s), 0 artifact file(s) and 0 other file(s)"
      ],
      "text/plain": [
       "<IPython.core.display.HTML object>"
      ]
     },
     "metadata": {},
     "output_type": "display_data"
    },
    {
     "data": {
      "text/html": [
       "Find logs at: <code>./wandb/run-20230404_220835-testing_stuff3_MASS_TRAINVAL3/logs</code>"
      ],
      "text/plain": [
       "<IPython.core.display.HTML object>"
      ]
     },
     "metadata": {},
     "output_type": "display_data"
    },
    {
     "data": {
      "text/html": [
       "Successfully finished last run (ID:testing_stuff3_MASS_TRAINVAL3). Initializing new run:<br/>"
      ],
      "text/plain": [
       "<IPython.core.display.HTML object>"
      ]
     },
     "metadata": {},
     "output_type": "display_data"
    },
    {
     "data": {
      "text/html": [
       "wandb version 0.14.0 is available!  To upgrade, please run:\n",
       " $ pip install wandb --upgrade"
      ],
      "text/plain": [
       "<IPython.core.display.HTML object>"
      ]
     },
     "metadata": {},
     "output_type": "display_data"
    },
    {
     "data": {
      "text/html": [
       "Tracking run with wandb version 0.13.10"
      ],
      "text/plain": [
       "<IPython.core.display.HTML object>"
      ]
     },
     "metadata": {},
     "output_type": "display_data"
    },
    {
     "data": {
      "text/html": [
       "Run data is saved locally in <code>/project/portiloop-training/notebooks/wandb/run-20230404_220853-testing_stuff3_MASS_TRAINVAL4</code>"
      ],
      "text/plain": [
       "<IPython.core.display.HTML object>"
      ]
     },
     "metadata": {},
     "output_type": "display_data"
    },
    {
     "data": {
      "text/html": [
       "Syncing run <strong><a href='https://wandb.ai/portiloop/full-dataset-public/runs/testing_stuff3_MASS_TRAINVAL4' target=\"_blank\">testing_stuff3_MASS_TRAINVAL4</a></strong> to <a href='https://wandb.ai/portiloop/full-dataset-public' target=\"_blank\">Weights & Biases</a> (<a href='https://wandb.me/run' target=\"_blank\">docs</a>)<br/>"
      ],
      "text/plain": [
       "<IPython.core.display.HTML object>"
      ]
     },
     "metadata": {},
     "output_type": "display_data"
    },
    {
     "data": {
      "text/html": [
       " View project at <a href='https://wandb.ai/portiloop/full-dataset-public' target=\"_blank\">https://wandb.ai/portiloop/full-dataset-public</a>"
      ],
      "text/plain": [
       "<IPython.core.display.HTML object>"
      ]
     },
     "metadata": {},
     "output_type": "display_data"
    },
    {
     "data": {
      "text/html": [
       " View run at <a href='https://wandb.ai/portiloop/full-dataset-public/runs/testing_stuff3_MASS_TRAINVAL4' target=\"_blank\">https://wandb.ai/portiloop/full-dataset-public/runs/testing_stuff3_MASS_TRAINVAL4</a>"
      ],
      "text/plain": [
       "<IPython.core.display.HTML object>"
      ]
     },
     "metadata": {},
     "output_type": "display_data"
    }
   ],
   "source": [
    "wandb_project = f\"full-dataset-public\"\n",
    "wandb_group = 'DEFAULT'\n",
    "logger = LoggerWandb(experiment_name, config_dict, wandb_project, group=wandb_group)"
   ]
  },
  {
   "cell_type": "code",
   "execution_count": 7,
   "metadata": {},
   "outputs": [
    {
     "name": "stdout",
     "output_type": "stream",
     "text": [
      "Shuffling took 4.223694086074829 seconds\n",
      "Number of spindle labels: 6851005\n",
      "Shuffling took 0.8016037940979004 seconds\n",
      "Number of spindle labels: 1655005\n"
     ]
    }
   ],
   "source": [
    "# config_dict['seq_len'] = 1\n",
    "# config_dict['batch_size'] = 64\n",
    "# config_dict['window_size'] = 250\n",
    "# train_loader, val_loader, batch_size_validation, _, _, _ = generate_dataloader(config_dict)\n",
    "train_loader, val_loader = get_dataloaders_mass(config_dict)"
   ]
  },
  {
   "cell_type": "code",
   "execution_count": 8,
   "metadata": {},
   "outputs": [
    {
     "data": {
      "text/plain": [
       "torch.Size([1000, 50, 54])"
      ]
     },
     "execution_count": 8,
     "metadata": {},
     "output_type": "execute_result"
    }
   ],
   "source": [
    "next(iter(val_loader))[0].shape"
   ]
  },
  {
   "cell_type": "code",
   "execution_count": null,
   "metadata": {},
   "outputs": [],
   "source": [
    "# from portiloop_software.portiloop_python.ANN.models.lstm import PortiloopNetwork\n",
    "\n",
    "# model = PortiloopNetwork(config_dict)\n",
    "# device = config_dict[\"device_train\"]\n",
    "# model.to(device)"
   ]
  },
  {
   "cell_type": "code",
   "execution_count": 9,
   "metadata": {},
   "outputs": [
    {
     "name": "stdout",
     "output_type": "stream",
     "text": [
      "=================================================================\n",
      "Layer (type:depth-idx)                   Param #\n",
      "=================================================================\n",
      "├─Sequential: 1-1                        --\n",
      "|    └─ResNetBlock: 2-1                  --\n",
      "|    |    └─Conv1d: 3-1                  16\n",
      "|    |    └─BatchNorm1d: 3-2             8\n",
      "|    |    └─ReLU: 3-3                    --\n",
      "|    |    └─Conv1d: 3-4                  52\n",
      "|    |    └─BatchNorm1d: 3-5             8\n",
      "|    └─ResNetBlock: 2-2                  --\n",
      "|    |    └─Conv1d: 3-6                  104\n",
      "|    |    └─BatchNorm1d: 3-7             16\n",
      "|    |    └─ReLU: 3-8                    --\n",
      "|    |    └─Conv1d: 3-9                  200\n",
      "|    |    └─BatchNorm1d: 3-10            16\n",
      "|    |    └─Downsample: 3-11             5\n",
      "|    └─ResNetBlock: 2-3                  --\n",
      "|    |    └─Conv1d: 3-12                 400\n",
      "|    |    └─BatchNorm1d: 3-13            32\n",
      "|    |    └─ReLU: 3-14                   --\n",
      "|    |    └─Conv1d: 3-15                 784\n",
      "|    |    └─BatchNorm1d: 3-16            32\n",
      "|    |    └─Downsample: 3-17             9\n",
      "|    └─ResNetBlock: 2-4                  --\n",
      "|    |    └─Conv1d: 3-18                 1,568\n",
      "|    |    └─BatchNorm1d: 3-19            64\n",
      "|    |    └─ReLU: 3-20                   --\n",
      "|    |    └─Conv1d: 3-21                 3,104\n",
      "|    |    └─BatchNorm1d: 3-22            64\n",
      "|    |    └─Downsample: 3-23             17\n",
      "|    └─ResNetBlock: 2-5                  --\n",
      "|    |    └─Conv1d: 3-24                 6,208\n",
      "|    |    └─BatchNorm1d: 3-25            128\n",
      "|    |    └─ReLU: 3-26                   --\n",
      "|    |    └─Conv1d: 3-27                 12,352\n",
      "|    |    └─BatchNorm1d: 3-28            128\n",
      "|    |    └─Downsample: 3-29             33\n",
      "|    └─ResNetBlock: 2-6                  --\n",
      "|    |    └─Conv1d: 3-30                 24,704\n",
      "|    |    └─BatchNorm1d: 3-31            256\n",
      "|    |    └─ReLU: 3-32                   --\n",
      "|    |    └─Conv1d: 3-33                 49,280\n",
      "|    |    └─BatchNorm1d: 3-34            256\n",
      "|    |    └─Downsample: 3-35             65\n",
      "├─AdaptiveAvgPool1d: 1-2                 --\n",
      "├─GRU: 1-3                               34,560\n",
      "├─Linear: 1-4                            33\n",
      "=================================================================\n",
      "Total params: 134,502\n",
      "Trainable params: 134,502\n",
      "Non-trainable params: 0\n",
      "=================================================================\n"
     ]
    },
    {
     "ename": "KeyboardInterrupt",
     "evalue": "",
     "output_type": "error",
     "traceback": [
      "\u001b[0;31m---------------------------------------------------------------------------\u001b[0m",
      "\u001b[0;31mKeyboardInterrupt\u001b[0m                         Traceback (most recent call last)",
      "Cell \u001b[0;32mIn[9], line 9\u001b[0m\n\u001b[1;32m      7\u001b[0m model \u001b[39m=\u001b[39m PortiResNet(depth, hidden_size, num_layers)\n\u001b[1;32m      8\u001b[0m summary(model)\n\u001b[0;32m----> 9\u001b[0m model\u001b[39m.\u001b[39;49mto(config_dict[\u001b[39m\"\u001b[39;49m\u001b[39mdevice_train\u001b[39;49m\u001b[39m\"\u001b[39;49m])\n",
      "File \u001b[0;32m/project/portiloop-training/venv/lib/python3.10/site-packages/torch/nn/modules/module.py:989\u001b[0m, in \u001b[0;36mModule.to\u001b[0;34m(self, *args, **kwargs)\u001b[0m\n\u001b[1;32m    985\u001b[0m         \u001b[39mreturn\u001b[39;00m t\u001b[39m.\u001b[39mto(device, dtype \u001b[39mif\u001b[39;00m t\u001b[39m.\u001b[39mis_floating_point() \u001b[39mor\u001b[39;00m t\u001b[39m.\u001b[39mis_complex() \u001b[39melse\u001b[39;00m \u001b[39mNone\u001b[39;00m,\n\u001b[1;32m    986\u001b[0m                     non_blocking, memory_format\u001b[39m=\u001b[39mconvert_to_format)\n\u001b[1;32m    987\u001b[0m     \u001b[39mreturn\u001b[39;00m t\u001b[39m.\u001b[39mto(device, dtype \u001b[39mif\u001b[39;00m t\u001b[39m.\u001b[39mis_floating_point() \u001b[39mor\u001b[39;00m t\u001b[39m.\u001b[39mis_complex() \u001b[39melse\u001b[39;00m \u001b[39mNone\u001b[39;00m, non_blocking)\n\u001b[0;32m--> 989\u001b[0m \u001b[39mreturn\u001b[39;00m \u001b[39mself\u001b[39;49m\u001b[39m.\u001b[39;49m_apply(convert)\n",
      "File \u001b[0;32m/project/portiloop-training/venv/lib/python3.10/site-packages/torch/nn/modules/module.py:641\u001b[0m, in \u001b[0;36mModule._apply\u001b[0;34m(self, fn)\u001b[0m\n\u001b[1;32m    639\u001b[0m \u001b[39mdef\u001b[39;00m \u001b[39m_apply\u001b[39m(\u001b[39mself\u001b[39m, fn):\n\u001b[1;32m    640\u001b[0m     \u001b[39mfor\u001b[39;00m module \u001b[39min\u001b[39;00m \u001b[39mself\u001b[39m\u001b[39m.\u001b[39mchildren():\n\u001b[0;32m--> 641\u001b[0m         module\u001b[39m.\u001b[39;49m_apply(fn)\n\u001b[1;32m    643\u001b[0m     \u001b[39mdef\u001b[39;00m \u001b[39mcompute_should_use_set_data\u001b[39m(tensor, tensor_applied):\n\u001b[1;32m    644\u001b[0m         \u001b[39mif\u001b[39;00m torch\u001b[39m.\u001b[39m_has_compatible_shallow_copy_type(tensor, tensor_applied):\n\u001b[1;32m    645\u001b[0m             \u001b[39m# If the new tensor has compatible tensor type as the existing tensor,\u001b[39;00m\n\u001b[1;32m    646\u001b[0m             \u001b[39m# the current behavior is to change the tensor in-place using `.data =`,\u001b[39;00m\n\u001b[0;32m   (...)\u001b[0m\n\u001b[1;32m    651\u001b[0m             \u001b[39m# global flag to let the user control whether they want the future\u001b[39;00m\n\u001b[1;32m    652\u001b[0m             \u001b[39m# behavior of overwriting the existing tensor or not.\u001b[39;00m\n",
      "File \u001b[0;32m/project/portiloop-training/venv/lib/python3.10/site-packages/torch/nn/modules/rnn.py:194\u001b[0m, in \u001b[0;36mRNNBase._apply\u001b[0;34m(self, fn)\u001b[0m\n\u001b[1;32m    192\u001b[0m \u001b[39mself\u001b[39m\u001b[39m.\u001b[39m_flat_weights \u001b[39m=\u001b[39m [(\u001b[39mlambda\u001b[39;00m wn: \u001b[39mgetattr\u001b[39m(\u001b[39mself\u001b[39m, wn) \u001b[39mif\u001b[39;00m \u001b[39mhasattr\u001b[39m(\u001b[39mself\u001b[39m, wn) \u001b[39melse\u001b[39;00m \u001b[39mNone\u001b[39;00m)(wn) \u001b[39mfor\u001b[39;00m wn \u001b[39min\u001b[39;00m \u001b[39mself\u001b[39m\u001b[39m.\u001b[39m_flat_weights_names]\n\u001b[1;32m    193\u001b[0m \u001b[39m# Flattens params (on CUDA)\u001b[39;00m\n\u001b[0;32m--> 194\u001b[0m \u001b[39mself\u001b[39;49m\u001b[39m.\u001b[39;49mflatten_parameters()\n\u001b[1;32m    196\u001b[0m \u001b[39mreturn\u001b[39;00m ret\n",
      "File \u001b[0;32m/project/portiloop-training/venv/lib/python3.10/site-packages/torch/nn/modules/rnn.py:180\u001b[0m, in \u001b[0;36mRNNBase.flatten_parameters\u001b[0;34m(self)\u001b[0m\n\u001b[1;32m    178\u001b[0m \u001b[39mif\u001b[39;00m \u001b[39mself\u001b[39m\u001b[39m.\u001b[39mproj_size \u001b[39m>\u001b[39m \u001b[39m0\u001b[39m:\n\u001b[1;32m    179\u001b[0m     num_weights \u001b[39m+\u001b[39m\u001b[39m=\u001b[39m \u001b[39m1\u001b[39m\n\u001b[0;32m--> 180\u001b[0m torch\u001b[39m.\u001b[39;49m_cudnn_rnn_flatten_weight(\n\u001b[1;32m    181\u001b[0m     \u001b[39mself\u001b[39;49m\u001b[39m.\u001b[39;49m_flat_weights, num_weights,\n\u001b[1;32m    182\u001b[0m     \u001b[39mself\u001b[39;49m\u001b[39m.\u001b[39;49minput_size, rnn\u001b[39m.\u001b[39;49mget_cudnn_mode(\u001b[39mself\u001b[39;49m\u001b[39m.\u001b[39;49mmode),\n\u001b[1;32m    183\u001b[0m     \u001b[39mself\u001b[39;49m\u001b[39m.\u001b[39;49mhidden_size, \u001b[39mself\u001b[39;49m\u001b[39m.\u001b[39;49mproj_size, \u001b[39mself\u001b[39;49m\u001b[39m.\u001b[39;49mnum_layers,\n\u001b[1;32m    184\u001b[0m     \u001b[39mself\u001b[39;49m\u001b[39m.\u001b[39;49mbatch_first, \u001b[39mbool\u001b[39;49m(\u001b[39mself\u001b[39;49m\u001b[39m.\u001b[39;49mbidirectional))\n",
      "\u001b[0;31mKeyboardInterrupt\u001b[0m: "
     ]
    }
   ],
   "source": [
    "from portiloop_software.portiloop_python.ANN.models.test_models import PortiResNet\n",
    "from torchsummary import summary\n",
    "\n",
    "depth = 5\n",
    "hidden_size = 32\n",
    "num_layers = 4\n",
    "model = PortiResNet(depth, hidden_size, num_layers)\n",
    "summary(model)\n",
    "model.to(config_dict[\"device_train\"])"
   ]
  },
  {
   "cell_type": "code",
   "execution_count": null,
   "metadata": {},
   "outputs": [
    {
     "name": "stderr",
     "output_type": "stream",
     "text": [
      "/project/portiloop-training/venv/lib/python3.10/site-packages/torch/nn/modules/rnn.py:955: UserWarning: RNN module weights are not part of single contiguous chunk of memory. This means they need to be compacted at every call, possibly greatly increasing memory usage. To compact weights again call flatten_parameters(). (Triggered internally at ../aten/src/ATen/native/cudnn/RNN.cpp:968.)\n",
      "  result = _VF.gru(input, hx, self._flat_weights, self.bias, self.num_layers,\n"
     ]
    },
    {
     "data": {
      "text/plain": [
       "(0.14387915857365818, 0.24524889218285753, 149)"
      ]
     },
     "execution_count": 7,
     "metadata": {},
     "output_type": "execute_result"
    }
   ],
   "source": [
    "config_dict['batch_size_validation'] = 1000\n",
    "recurrent = True\n",
    "save_model = True\n",
    "unique_name = True\n",
    "config_dict['lr_adam'] = 1e-5\n",
    "\n",
    "train(\n",
    "    train_loader, \n",
    "    val_loader, \n",
    "    model, \n",
    "    recurrent, \n",
    "    logger, \n",
    "    save_model, \n",
    "    unique_name, \n",
    "    config_dict\n",
    "    )"
   ]
  },
  {
   "cell_type": "code",
   "execution_count": null,
   "metadata": {},
   "outputs": [],
   "source": []
  }
 ],
 "metadata": {
  "kernelspec": {
   "display_name": "venv",
   "language": "python",
   "name": "python3"
  },
  "language_info": {
   "codemirror_mode": {
    "name": "ipython",
    "version": 3
   },
   "file_extension": ".py",
   "mimetype": "text/x-python",
   "name": "python",
   "nbconvert_exporter": "python",
   "pygments_lexer": "ipython3",
   "version": "3.10.6"
  },
  "orig_nbformat": 4,
  "vscode": {
   "interpreter": {
    "hash": "6cc72c035d8dbae930cc3088b9c67e09694913c2452874d426681268505fee3b"
   }
  }
 },
 "nbformat": 4,
 "nbformat_minor": 2
}
