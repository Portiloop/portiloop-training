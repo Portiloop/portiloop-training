{
 "cells": [
  {
   "cell_type": "code",
   "execution_count": 1,
   "metadata": {},
   "outputs": [
    {
     "name": "stderr",
     "output_type": "stream",
     "text": [
      "/project/portiloop-training/venv/lib/python3.10/site-packages/tqdm/auto.py:21: TqdmWarning: IProgress not found. Please update jupyter and ipywidgets. See https://ipywidgets.readthedocs.io/en/stable/user_install.html\n",
      "  from .autonotebook import tqdm as notebook_tqdm\n"
     ]
    }
   ],
   "source": [
    "from portiloop_software.portiloop_python.ANN.data.mass_data import SingleSubjectDataset, read_pretraining_dataset, read_spindle_trains_labels\n",
    "from portiloop_software.portiloop_python.ANN.utils import get_configs"
   ]
  },
  {
   "cell_type": "code",
   "execution_count": 2,
   "metadata": {},
   "outputs": [],
   "source": [
    "import numpy as np\n",
    "\n",
    "file1 = '/project/portiloop-training/portiloop_software/dataset/6_segListSrcDataLoc_p1.txt'\n",
    "file2 = '/project/portiloop-training/portiloop_software/dataset/7_segListSrcDataLoc_p2.txt'"
   ]
  },
  {
   "cell_type": "code",
   "execution_count": 3,
   "metadata": {},
   "outputs": [],
   "source": [
    "data1 = np.genfromtxt(file1, delimiter='\\t', dtype=str)[1:, [1, 4]]\n",
    "data2 = np.genfromtxt(file2, delimiter='\\t', dtype=str)[1:, [1, 4]]"
   ]
  },
  {
   "cell_type": "code",
   "execution_count": 4,
   "metadata": {},
   "outputs": [
    {
     "data": {
      "text/plain": [
       "(749, 2)"
      ]
     },
     "execution_count": 4,
     "metadata": {},
     "output_type": "execute_result"
    }
   ],
   "source": [
    "all_segments = np.concatenate((data1, data2), axis=0)\n",
    "all_segments.shape"
   ]
  },
  {
   "cell_type": "code",
   "execution_count": 5,
   "metadata": {},
   "outputs": [],
   "source": [
    "import numpy as np\n",
    "\n",
    "filename_lacourse = '/project/portiloop-training/portiloop_software/dataset/detectionVector_01-01-0001.csv'\n",
    "# Load file\n",
    "spindle_labels = np.loadtxt(filename_lacourse, delimiter=',')"
   ]
  },
  {
   "attachments": {},
   "cell_type": "markdown",
   "metadata": {},
   "source": [
    "This line gets the starting index in seconds for each segment for each subject and puts it in a dictionary where the key is the subject id and the values are lists of the starting indexes. Each segment will hen be exactly 115 seconds."
   ]
  },
  {
   "cell_type": "code",
   "execution_count": 6,
   "metadata": {},
   "outputs": [],
   "source": [
    "segments_dict = {subject: (all_segments[np.where(all_segments[:, 0] == subject)[0], 1].astype(float) * 250).astype(int).tolist() for subject in np.unique(all_segments[:, 0])}"
   ]
  },
  {
   "cell_type": "code",
   "execution_count": 7,
   "metadata": {},
   "outputs": [
    {
     "data": {
      "text/plain": [
       "{'01-01-0001': [2054733,\n",
       "  2122233,\n",
       "  3637233,\n",
       "  4582233,\n",
       "  4849733,\n",
       "  4982233,\n",
       "  6237233,\n",
       "  6269733,\n",
       "  6339733,\n",
       "  6382233],\n",
       " '01-01-0002': [745469, 2502969, 5560469],\n",
       " '01-01-0003': [3800242, 5047742, 5782742],\n",
       " '01-01-0004': [1261480, 3051480, 3611480],\n",
       " '01-01-0005': [787477, 1163477, 1303477],\n",
       " '01-01-0006': [3782239, 4772239, 4872239],\n",
       " '01-01-0007': [1352880,\n",
       "  2070380,\n",
       "  4005150,\n",
       "  4207880,\n",
       "  5332880,\n",
       "  5455380,\n",
       "  6300380,\n",
       "  6445380,\n",
       "  6522880,\n",
       "  6605380],\n",
       " '01-01-0008': [2689748,\n",
       "  3147248,\n",
       "  4424748,\n",
       "  4469748,\n",
       "  4507248,\n",
       "  4579748,\n",
       "  5629748,\n",
       "  5749248,\n",
       "  5791748,\n",
       "  5851748],\n",
       " '01-01-0010': [870471,\n",
       "  2257971,\n",
       "  3355471,\n",
       "  4362971,\n",
       "  5027971,\n",
       "  5482971,\n",
       "  5946971,\n",
       "  5989471,\n",
       "  6036971,\n",
       "  6091971],\n",
       " '01-01-0011': [868210,\n",
       "  1840710,\n",
       "  3570710,\n",
       "  3870710,\n",
       "  4045710,\n",
       "  4445710,\n",
       "  4814710,\n",
       "  5483210,\n",
       "  5630710,\n",
       "  5710710],\n",
       " '01-01-0012': [2460241,\n",
       "  2502741,\n",
       "  3457241,\n",
       "  4134741,\n",
       "  4383241,\n",
       "  4810241,\n",
       "  5109741,\n",
       "  5284741,\n",
       "  5344741,\n",
       "  7618741],\n",
       " '01-01-0013': [512745,\n",
       "  1110245,\n",
       "  2035245,\n",
       "  2095245,\n",
       "  2170245,\n",
       "  2962745,\n",
       "  3965245,\n",
       "  4112745,\n",
       "  5530245,\n",
       "  6805245],\n",
       " '01-01-0014': [1636540,\n",
       "  1676540,\n",
       "  2114352,\n",
       "  2296852,\n",
       "  3206084,\n",
       "  3261084,\n",
       "  4271852,\n",
       "  4334352,\n",
       "  4926852,\n",
       "  5096852],\n",
       " '01-01-0016': [2544727,\n",
       "  3157227,\n",
       "  3187227,\n",
       "  3864727,\n",
       "  4009727,\n",
       "  4049727,\n",
       "  4752227,\n",
       "  4994727,\n",
       "  5194727,\n",
       "  5267227],\n",
       " '01-01-0017': [2785719,\n",
       "  3465719,\n",
       "  3560719,\n",
       "  3603219,\n",
       "  5338219,\n",
       "  5393219,\n",
       "  6258219,\n",
       "  6403219,\n",
       "  6450719,\n",
       "  6480719],\n",
       " '01-01-0018': [1329977,\n",
       "  1622477,\n",
       "  1786477,\n",
       "  2692477,\n",
       "  3412477,\n",
       "  3619977,\n",
       "  4782477,\n",
       "  4874977,\n",
       "  5139977,\n",
       "  5254977],\n",
       " '01-01-0019': [1495324,\n",
       "  1687824,\n",
       "  2413324,\n",
       "  3282824,\n",
       "  3312824,\n",
       "  5410324,\n",
       "  5725324,\n",
       "  6260324,\n",
       "  6725324,\n",
       "  6964324],\n",
       " '01-01-0020': [994084,\n",
       "  1106629,\n",
       "  1226629,\n",
       "  1574129,\n",
       "  2634129,\n",
       "  3671629,\n",
       "  3969129,\n",
       "  4014129,\n",
       "  4486629,\n",
       "  7894129],\n",
       " '01-01-0021': [2953488,\n",
       "  2990988,\n",
       "  3025988,\n",
       "  3113488,\n",
       "  3155988,\n",
       "  3278488,\n",
       "  4418488,\n",
       "  4640988,\n",
       "  4710988,\n",
       "  6328440],\n",
       " '01-01-0022': [498245,\n",
       "  603245,\n",
       "  653245,\n",
       "  733245,\n",
       "  888245,\n",
       "  1308245,\n",
       "  2025745,\n",
       "  2183245,\n",
       "  2488245,\n",
       "  2733245],\n",
       " '01-01-0023': [1179292, 4429249, 7053249],\n",
       " '01-01-0024': [4216747, 4246747, 7714247],\n",
       " '01-01-0025': [2224493, 2284493, 5881993],\n",
       " '01-01-0026': [1456140, 3723640, 5714140],\n",
       " '01-01-0027': [1627995, 2542995, 3962995],\n",
       " '01-01-0028': [1127422, 4534922, 4569922],\n",
       " '01-01-0029': [1992866, 4260366, 6037866],\n",
       " '01-01-0030': [680229, 2665229, 4017729],\n",
       " '01-01-0031': [551608, 1979108, 4326608],\n",
       " '01-01-0032': [1466190, 5668690, 5818690],\n",
       " '01-01-0033': [3129721, 4769221, 5150721],\n",
       " '01-01-0035': [1970742, 2005742, 5365742],\n",
       " '01-01-0036': [2338735, 4985235, 6611235],\n",
       " '01-01-0037': [1574505, 2519505, 2549505],\n",
       " '01-01-0038': [975244, 5654994, 6082494],\n",
       " '01-01-0040': [4184995, 4234995, 4332495],\n",
       " '01-01-0041': [663982, 3456482, 3521482],\n",
       " '01-01-0042': [2013142, 5100642, 5160642],\n",
       " '01-01-0043': [3344420, 4556920, 6814420],\n",
       " '01-01-0044': [4350480, 7120480, 7740480],\n",
       " '01-01-0046': [2018238, 3670738, 3793238],\n",
       " '01-01-0047': [2409970, 4847470, 5279970],\n",
       " '01-01-0048': [3431482, 3501482, 6181482],\n",
       " '01-01-0049': [3696654, 3739154, 3804154],\n",
       " '01-01-0050': [3053986, 5501486, 6441486],\n",
       " '01-01-0051': [1041499, 1996499, 4526499],\n",
       " '01-01-0052': [2953490, 3938490, 4953490],\n",
       " '01-01-0053': [3077719, 3530219, 7592719],\n",
       " '01-02-0001': [1448705, 3057725, 3325229],\n",
       " '01-02-0002': [235492, 2028015, 2320518],\n",
       " '01-02-0003': [664342, 709343, 1589354],\n",
       " '01-02-0004': [161808, 1971833, 2404337],\n",
       " '01-02-0005': [1937058, 1999558, 2037059],\n",
       " '01-02-0006': [304231, 1124741, 1890251],\n",
       " '01-02-0010': [2842098, 2939600, 3255104],\n",
       " '01-02-0011': [342991, 1350503, 2528019],\n",
       " '01-02-0012': [2650917, 2769842, 2867344],\n",
       " '01-02-0013': [706773, 1964790],\n",
       " '01-02-0014': [1850371, 2036374, 2550380],\n",
       " '01-02-0015': [458830, 488831, 1716346],\n",
       " '01-02-0017': [2266803, 3447818, 3485319],\n",
       " '01-02-0019': [1321788, 1733042, 2855307],\n",
       " '01-03-0001': [1319226, 3151726, 6781726],\n",
       " '01-03-0002': [432226, 6267226, 7407226],\n",
       " '01-03-0003': [1839245, 2311750, 3069260],\n",
       " '01-03-0004': [1716910, 2167760, 3215773],\n",
       " '01-03-0005': [2021228, 3358745, 3451246],\n",
       " '01-03-0006': [2041618, 3389118, 3556618],\n",
       " '01-03-0007': [591482, 2185502, 2280504],\n",
       " '01-03-0008': [1344004, 1553506, 3128277],\n",
       " '01-03-0009': [4061986, 4383486, 6504486],\n",
       " '01-03-0010': [1246484, 1306485, 3041507],\n",
       " '01-03-0011': [2016945, 2171947, 3131959],\n",
       " '01-03-0012': [1739473, 4694473, 4749473],\n",
       " '01-03-0013': [3047711, 4551211, 4751211],\n",
       " '01-03-0014': [440407, 2782907, 6900407],\n",
       " '01-03-0015': [1680202, 2212708, 3937731],\n",
       " '01-03-0016': [6197154, 7024654, 7099654],\n",
       " '01-03-0017': [417480, 1672480, 2647480],\n",
       " '01-03-0018': [1853566, 5211066, 6026066],\n",
       " '01-03-0019': [676926, 3497426, 4139426],\n",
       " '01-03-0020': [393205, 1705721, 1738221],\n",
       " '01-03-0021': [1321979, 1586982, 1686983],\n",
       " '01-03-0022': [1533529, 2962235, 3677244],\n",
       " '01-03-0023': [478055, 835560, 2255578],\n",
       " '01-03-0024': [3877152, 4772152, 5019652],\n",
       " '01-03-0025': [430703, 1403215, 1460716],\n",
       " '01-03-0026': [2810444, 5440444, 6442944],\n",
       " '01-03-0027': [175444, 1290444, 4523944],\n",
       " '01-03-0028': [4185721, 4373221, 6328221],\n",
       " '01-03-0029': [4873240, 4913240, 6568240],\n",
       " '01-03-0030': [1035156, 4460156, 5885156],\n",
       " '01-03-0031': [778690, 2007690, 5812690],\n",
       " '01-03-0032': [1416214, 3823714, 6558714],\n",
       " '01-03-0033': [1129718, 2314733, 2711988],\n",
       " '01-03-0034': [302730, 3797776, 4320283],\n",
       " '01-03-0035': [1306212, 1351213, 2478228],\n",
       " '01-03-0036': [2741978, 2829478, 3296978],\n",
       " '01-03-0037': [460208, 590208, 4542708],\n",
       " '01-03-0038': [296910, 4145910, 6752672],\n",
       " '01-03-0039': [5040193, 5300193, 5376693],\n",
       " '01-03-0040': [1326997, 2222008, 2375010],\n",
       " '01-03-0041': [2236720, 2413972, 3472236],\n",
       " '01-03-0042': [2786236, 2857987, 3187242],\n",
       " '01-03-0044': [1336756, 1431757, 2281769],\n",
       " '01-03-0045': [954000, 1519007, 2676522],\n",
       " '01-03-0046': [336713, 1686784, 2819246],\n",
       " '01-03-0047': [3129028, 3717124, 3754624],\n",
       " '01-03-0048': [740739, 1483249, 1538250],\n",
       " '01-03-0050': [2640523, 2793025, 2915527],\n",
       " '01-03-0051': [2184478, 4339978, 5364978],\n",
       " '01-03-0052': [2751687, 3195443, 3227943],\n",
       " '01-03-0053': [5217229, 5634729, 7289729],\n",
       " '01-03-0054': [1523237, 2070744, 3080757],\n",
       " '01-03-0056': [3230720, 3468220, 6440720],\n",
       " '01-03-0057': [2836776, 3466784, 3915290],\n",
       " '01-03-0058': [1587977, 1949977, 2702477],\n",
       " '01-03-0059': [2994761, 3069763, 3137264],\n",
       " '01-03-0060': [3362982, 5765482, 5855482],\n",
       " '01-03-0061': [778478, 2950978, 4345978],\n",
       " '01-03-0062': [3440733, 4510733, 5073233],\n",
       " '01-03-0063': [741500, 3194000, 3819000],\n",
       " '01-03-0064': [1544249, 1869249, 6966749],\n",
       " '01-04-0002': [1456207, 1546958, 1832962],\n",
       " '01-04-0003': [316038, 2791112, 3076120],\n",
       " '01-04-0005': [1194442, 2787989, 3253003],\n",
       " '01-04-0006': [540033, 1652566, 1692568],\n",
       " '01-04-0007': [376676, 453428, 2790248],\n",
       " '01-04-0008': [579337, 694339, 1171846],\n",
       " '01-04-0009': [1036322, 3370352, 3721356],\n",
       " '01-04-0011': [692235, 1312243, 1704748],\n",
       " '01-04-0012': [307877, 1502392, 2652907],\n",
       " '01-04-0013': [1254806, 1304803, 2011324],\n",
       " '01-04-0014': [1876599, 3101635, 3159137],\n",
       " '01-04-0015': [1235274, 1697034, 2562801],\n",
       " '01-04-0016': [1295050, 2822595, 3407613],\n",
       " '01-04-0017': [491917, 1578449, 3129495],\n",
       " '01-04-0018': [1066097, 1310104, 2705145],\n",
       " '01-04-0019': [381986, 838492, 2028506],\n",
       " '01-04-0020': [692915, 3455451, 3535452],\n",
       " '01-04-0021': [745593, 948099, 2885657],\n",
       " '01-04-0022': [826228, 1836258, 2181268],\n",
       " '01-04-0023': [1759318, 2991833, 3397838],\n",
       " '01-04-0025': [1765170, 1866173, 1950175],\n",
       " '01-04-0026': [1760922, 1866426, 3213465],\n",
       " '01-04-0028': [635066, 722568, 3222600],\n",
       " '01-04-0029': [2576224, 2835229, 3247738],\n",
       " '01-04-0030': [1242322, 1926841, 2389854],\n",
       " '01-04-0031': [535724, 1048231, 2978255],\n",
       " '01-04-0033': [1153683, 2151196, 2336198],\n",
       " '01-04-0034': [637335, 1562348, 1642349],\n",
       " '01-04-0035': [1595861, 1845869, 2193378],\n",
       " '01-04-0036': [1082892, 1170395, 2192432],\n",
       " '01-04-0037': [711458, 2935523, 3017525],\n",
       " '01-04-0038': [1886495, 2054000, 2669018],\n",
       " '01-04-0040': [755627, 2710684, 2790687],\n",
       " '01-05-0001': [746443,\n",
       "  833945,\n",
       "  876445,\n",
       "  908946,\n",
       "  941446,\n",
       "  2136461,\n",
       "  2173961,\n",
       "  2206462,\n",
       "  2278963,\n",
       "  2311463],\n",
       " '01-05-0002': [1085253, 2645274, 2695274],\n",
       " '01-05-0003': [97404,\n",
       "  1273169,\n",
       "  1456921,\n",
       "  1592673,\n",
       "  1647674,\n",
       "  1697674,\n",
       "  1785175,\n",
       "  1820176,\n",
       "  2137430,\n",
       "  2187430],\n",
       " '01-05-0004': [419625,\n",
       "  464626,\n",
       "  649878,\n",
       "  809880,\n",
       "  1732392,\n",
       "  1952395,\n",
       "  2009896,\n",
       "  2072397,\n",
       "  2262399,\n",
       "  3631917],\n",
       " '01-05-0005': [510958,\n",
       "  565958,\n",
       "  748460,\n",
       "  933462,\n",
       "  2070977,\n",
       "  2260979,\n",
       "  2655985,\n",
       "  2785987,\n",
       "  2935989,\n",
       "  3343494],\n",
       " '01-05-0006': [1750017,\n",
       "  1802517,\n",
       "  1862518,\n",
       "  1990020,\n",
       "  2552527,\n",
       "  3030034,\n",
       "  3074534,\n",
       "  3640042,\n",
       "  3724690,\n",
       "  3789691],\n",
       " '01-05-0007': [1755994,\n",
       "  1925996,\n",
       "  1983497,\n",
       "  2228500,\n",
       "  2771006,\n",
       "  2871008,\n",
       "  3053510,\n",
       "  3116011,\n",
       "  3686019,\n",
       "  3766019],\n",
       " '01-05-0008': [351203,\n",
       "  1046211,\n",
       "  1143713,\n",
       "  1398716,\n",
       "  1506217,\n",
       "  2061725,\n",
       "  3091238,\n",
       "  3133739,\n",
       "  3213740,\n",
       "  3256241],\n",
       " '01-05-0009': [713829,\n",
       "  1271336,\n",
       "  1526339,\n",
       "  1631340,\n",
       "  1716342,\n",
       "  2471352,\n",
       "  3046359,\n",
       "  3076359,\n",
       "  3121360,\n",
       "  3171361],\n",
       " '01-05-0010': [249196,\n",
       "  284196,\n",
       "  319197,\n",
       "  676701,\n",
       "  1481711,\n",
       "  1859216,\n",
       "  2011718,\n",
       "  2059219,\n",
       "  2834229,\n",
       "  2866729],\n",
       " '01-05-0011': [86743,\n",
       "  124244,\n",
       "  736751,\n",
       "  1314258,\n",
       "  1349258,\n",
       "  1391759,\n",
       "  1641763,\n",
       "  2001767,\n",
       "  2086769,\n",
       "  2441773],\n",
       " '01-05-0012': [426545,\n",
       "  471545,\n",
       "  529046,\n",
       "  569047,\n",
       "  856551,\n",
       "  1306557,\n",
       "  1714062,\n",
       "  2464072,\n",
       "  2934078,\n",
       "  3064079],\n",
       " '01-05-0013': [207348,\n",
       "  275349,\n",
       "  911357,\n",
       "  943857,\n",
       "  1311362,\n",
       "  1346363,\n",
       "  1381363,\n",
       "  1418864,\n",
       "  1528865,\n",
       "  2469695],\n",
       " '01-05-0014': [167372,\n",
       "  410875,\n",
       "  1040882,\n",
       "  1113383,\n",
       "  1155884,\n",
       "  1408388,\n",
       "  1438388,\n",
       "  2723405,\n",
       "  2763405,\n",
       "  3008408],\n",
       " '01-05-0015': [466219,\n",
       "  1040976,\n",
       "  1130978,\n",
       "  1570984,\n",
       "  1865987,\n",
       "  1940989,\n",
       "  2771000,\n",
       "  3591009,\n",
       "  4053516,\n",
       "  4401020],\n",
       " '01-05-0016': [815346, 2732872, 2826623],\n",
       " '01-05-0017': [201820,\n",
       "  286821,\n",
       "  748828,\n",
       "  796328,\n",
       "  1916842,\n",
       "  2759353,\n",
       "  2849354,\n",
       "  3164358,\n",
       "  3881868,\n",
       "  3921868],\n",
       " '01-05-0018': [218573, 1940095, 1987595],\n",
       " '01-05-0019': [664497, 1552008, 1604508],\n",
       " '01-05-0020': [293939, 328939, 1616457],\n",
       " '01-05-0022': [314208, 2839240, 2994242],\n",
       " '01-05-0023': [853740, 1208744, 1678750],\n",
       " '01-05-0024': [1263443, 2883464, 2923464],\n",
       " '01-05-0025': [1532511, 1848015, 2670526]}"
      ]
     },
     "execution_count": 7,
     "metadata": {},
     "output_type": "execute_result"
    }
   ],
   "source": [
    "segments_dict"
   ]
  },
  {
   "attachments": {},
   "cell_type": "markdown",
   "metadata": {},
   "source": [
    "Load the Wamsley data"
   ]
  },
  {
   "cell_type": "code",
   "execution_count": 47,
   "metadata": {},
   "outputs": [],
   "source": [
    "experiment_name = 'MASS'\n",
    "seed = 42\n",
    "\n",
    "config = get_configs(experiment_name, False, seed)\n",
    "\n",
    "data = read_pretraining_dataset(config['MASS_dir'])\n",
    "labels = read_spindle_trains_labels(config['old_dataset'])"
   ]
  },
  {
   "cell_type": "code",
   "execution_count": 50,
   "metadata": {},
   "outputs": [],
   "source": [
    "from portiloop_software.portiloop_python.ANN.data.mass_data import read_sleep_staging_labels\n",
    "\n",
    "ss_labels = read_sleep_staging_labels(config['path_dataset'])\n"
   ]
  },
  {
   "cell_type": "code",
   "execution_count": 54,
   "metadata": {},
   "outputs": [],
   "source": [
    "wamsley_labels = {}\n",
    "all_keys = list(data.keys())\n",
    "for subject in all_keys:\n",
    "    try:\n",
    "        dataset = SingleSubjectDataset(subject, data=data, labels=labels, config=config, ss_labels=ss_labels)\n",
    "        wamsley_labels[subject] = dataset.full_labels\n",
    "    except KeyError:\n",
    "        continue"
   ]
  },
  {
   "cell_type": "code",
   "execution_count": 57,
   "metadata": {},
   "outputs": [
    {
     "name": "stdout",
     "output_type": "stream",
     "text": [
      "01-01-0034\n",
      "01-01-0039\n",
      "01-02-0007\n",
      "01-02-0008\n",
      "01-02-0009\n",
      "01-02-0016\n",
      "01-02-0018\n",
      "01-03-0055\n",
      "01-05-0021\n",
      "01-05-0026\n"
     ]
    }
   ],
   "source": [
    "for wamsley_label in wamsley_labels.keys():\n",
    "    if wamsley_label not in segments_dict.keys():\n",
    "        continue\n",
    "\n",
    "    "
   ]
  },
  {
   "cell_type": "code",
   "execution_count": null,
   "metadata": {},
   "outputs": [],
   "source": []
  },
  {
   "attachments": {},
   "cell_type": "markdown",
   "metadata": {},
   "source": [
    "Load the MODA Data"
   ]
  },
  {
   "cell_type": "code",
   "execution_count": 8,
   "metadata": {},
   "outputs": [],
   "source": [
    "subjects_path = '/project/portiloop-training/portiloop_software/dataset/subject_sequence_full_big.txt'\n",
    "data_path = '/project/portiloop-training/portiloop_software/dataset/dataset_classification_full_big_250_matlab_standardized_envelope_pf.txt'"
   ]
  },
  {
   "cell_type": "code",
   "execution_count": 9,
   "metadata": {},
   "outputs": [],
   "source": [
    "import pandas as pd\n",
    "\n",
    "data = pd.read_csv(data_path, header=None).to_numpy()\n"
   ]
  },
  {
   "cell_type": "code",
   "execution_count": 10,
   "metadata": {},
   "outputs": [],
   "source": [
    "subjects = np.genfromtxt(subjects_path, dtype=str)"
   ]
  },
  {
   "cell_type": "code",
   "execution_count": 11,
   "metadata": {},
   "outputs": [],
   "source": [
    "mask = (data[:, 3] != -1) & (data[:, 3] != -2)\n",
    "data_filtered = data[mask]"
   ]
  },
  {
   "cell_type": "code",
   "execution_count": 12,
   "metadata": {},
   "outputs": [
    {
     "data": {
      "text/plain": [
       "695.0"
      ]
     },
     "execution_count": 12,
     "metadata": {},
     "output_type": "execute_result"
    }
   ],
   "source": [
    "len(data_filtered) / 115 / 250"
   ]
  },
  {
   "cell_type": "code",
   "execution_count": 13,
   "metadata": {},
   "outputs": [
    {
     "data": {
      "text/plain": [
       "array([[-0.1674333 ,  0.3998575 ,  0.5673624 ,  0.        ],\n",
       "       [-0.104413  ,  0.3958714 ,  0.5783259 ,  0.        ],\n",
       "       [-0.0406625 ,  0.3920332 ,  0.5835297 ,  0.        ],\n",
       "       ...,\n",
       "       [-0.1219364 ,  0.2911943 ,  0.6499147 ,  0.        ],\n",
       "       [-0.1322542 ,  0.2894326 ,  0.6500487 ,  0.        ],\n",
       "       [-0.09577711,  0.2870451 ,  0.6502095 ,  0.        ]])"
      ]
     },
     "execution_count": 13,
     "metadata": {},
     "output_type": "execute_result"
    }
   ],
   "source": [
    "data_filtered"
   ]
  },
  {
   "cell_type": "code",
   "execution_count": 14,
   "metadata": {},
   "outputs": [
    {
     "data": {
      "text/plain": [
       "(695, 28750)"
      ]
     },
     "execution_count": 14,
     "metadata": {},
     "output_type": "execute_result"
    }
   ],
   "source": [
    "split_data = np.array(np.split(data_filtered[:, -1], int(len(data_filtered) / (115 * 250))))\n",
    "split_data.shape"
   ]
  },
  {
   "cell_type": "code",
   "execution_count": 17,
   "metadata": {},
   "outputs": [
    {
     "data": {
      "text/plain": [
       "(162, 3)"
      ]
     },
     "execution_count": 17,
     "metadata": {},
     "output_type": "execute_result"
    }
   ],
   "source": [
    "subjects.shape"
   ]
  },
  {
   "cell_type": "code",
   "execution_count": 18,
   "metadata": {},
   "outputs": [],
   "source": [
    "moda_index_dict = {}\n",
    "for subject in subjects[:, 0]:\n",
    "    s = subjects[subjects[:, 0] == subject][:, 1:].astype(int)[0]\n",
    "    moda_index_dict[subject] = list(range(s[0], s[1]))"
   ]
  },
  {
   "cell_type": "code",
   "execution_count": 19,
   "metadata": {},
   "outputs": [],
   "source": [
    "moda_labels = {}\n",
    "\n",
    "for subject in moda_index_dict.keys():\n",
    "    moda_labels[subject] = np.hstack(split_data[moda_index_dict[subject]])"
   ]
  },
  {
   "cell_type": "code",
   "execution_count": 20,
   "metadata": {},
   "outputs": [
    {
     "data": {
      "text/plain": [
       "(86250,)"
      ]
     },
     "execution_count": 20,
     "metadata": {},
     "output_type": "execute_result"
    }
   ],
   "source": [
    "moda_labels['01-04-0018'].shape"
   ]
  },
  {
   "attachments": {},
   "cell_type": "markdown",
   "metadata": {},
   "source": [
    "Putting everything together:"
   ]
  },
  {
   "cell_type": "code",
   "execution_count": 23,
   "metadata": {},
   "outputs": [
    {
     "data": {
      "text/plain": [
       "287500"
      ]
     },
     "execution_count": 23,
     "metadata": {},
     "output_type": "execute_result"
    }
   ],
   "source": [
    "len(moda_labels['01-01-0001'])"
   ]
  },
  {
   "cell_type": "code",
   "execution_count": 25,
   "metadata": {},
   "outputs": [
    {
     "data": {
      "text/plain": [
       "7638500"
      ]
     },
     "execution_count": 25,
     "metadata": {},
     "output_type": "execute_result"
    }
   ],
   "source": [
    "len(spindle_labels)"
   ]
  },
  {
   "cell_type": "code",
   "execution_count": 29,
   "metadata": {},
   "outputs": [],
   "source": [
    "final_lacourse_labels = []\n",
    "\n",
    "subject_id = '01-01-0001'\n",
    "\n",
    "for sequence_index in segments_dict[subject_id]:\n",
    "    final_lacourse_labels += spindle_labels[sequence_index:sequence_index + 115 * 250].tolist()\n",
    "\n",
    "# for subject in moda_labels.keys():\n",
    "#     if subject not in wamsley_labels.keys():\n",
    "#         continue\n",
    "\n",
    "#     # Get the necessary indexes of the wamsley labels\n",
    "#     for "
   ]
  },
  {
   "cell_type": "code",
   "execution_count": 31,
   "metadata": {},
   "outputs": [
    {
     "data": {
      "text/plain": [
       "287500"
      ]
     },
     "execution_count": 31,
     "metadata": {},
     "output_type": "execute_result"
    }
   ],
   "source": [
    "len(final_lacourse_labels)"
   ]
  },
  {
   "cell_type": "code",
   "execution_count": 36,
   "metadata": {},
   "outputs": [],
   "source": [
    "from sklearn.metrics import precision_recall_fscore_support"
   ]
  },
  {
   "cell_type": "code",
   "execution_count": 40,
   "metadata": {},
   "outputs": [
    {
     "data": {
      "text/plain": [
       "0.9432069565217391"
      ]
     },
     "execution_count": 40,
     "metadata": {},
     "output_type": "execute_result"
    }
   ],
   "source": [
    "sum(np.array(final_lacourse_labels) == moda_labels['01-01-0001']) / len(final_lacourse_labels)"
   ]
  },
  {
   "cell_type": "code",
   "execution_count": 41,
   "metadata": {},
   "outputs": [],
   "source": [
    "def get_metrics(predictions, labels):\n",
    "    \"\"\"\n",
    "    Compute the F1, precision and recall for spindles from a true positive count, false positive count and false negative count\n",
    "    \"\"\"\n",
    "    # n_classes = len(torch.unique(labels))\n",
    "\n",
    "    # tp = torch.zeros(n_classes)\n",
    "    # tn = torch.zeros(n_classes)\n",
    "    # fp = torch.zeros(n_classes)\n",
    "    # fn = torch.zeros(n_classes)\n",
    "\n",
    "    # for i in range(n_classes):\n",
    "    #     tp[i] = torch.sum((predictions == i) & (labels == i))\n",
    "    #     tn[i] = torch.sum((predictions != i) & (labels != i))\n",
    "    #     fp[i] = torch.sum((predictions == i) & (labels != i))\n",
    "    #     fn[i] = torch.sum((predictions != i) & (labels == i))\n",
    "\n",
    "    # epsilon = 1e-7\n",
    "\n",
    "    # accuracy = torch.sum(tp) / torch.sum(tp + tn + fp + fn)\n",
    "    # recall = torch.mean(tp / (tp + fn + epsilon))\n",
    "    # precision = torch.mean(tp / (tp + fp + epsilon))\n",
    "    # f1_score = torch.mean(2 * precision * recall / (precision + recall + epsilon))\n",
    "\n",
    "    # return accuracy, recall, precision, f1_score\n",
    "    acc = (predictions == labels).float().mean()\n",
    "    predictions = predictions.float()\n",
    "    labels = labels.float()\n",
    "\n",
    "    # Get the true positives, true negatives, false positives and false negatives\n",
    "    tp = (labels * predictions)\n",
    "    tn = ((1 - labels) * (1 - predictions))\n",
    "    fp = ((1 - labels) * predictions)\n",
    "    fn = (labels * (1 - predictions))\n",
    "\n",
    "    tp_sum = tp.sum().to(torch.float32).item()\n",
    "    fp_sum = fp.sum().to(torch.float32).item()\n",
    "    fn_sum = fn.sum().to(torch.float32).item()\n",
    "    epsilon = 1e-7\n",
    "\n",
    "    precision = tp_sum / (tp_sum + fp_sum + epsilon)\n",
    "    recall = tp_sum / (tp_sum + fn_sum + epsilon)\n",
    "\n",
    "    f1 = 2 * (precision * recall) / (precision + recall + epsilon)\n",
    "\n",
    "    return acc, f1, precision, recall\n"
   ]
  },
  {
   "cell_type": "code",
   "execution_count": 39,
   "metadata": {},
   "outputs": [
    {
     "data": {
      "text/plain": [
       "(0.7450109194969501, 0.674323495330925, 0.707906976744186, None)"
      ]
     },
     "execution_count": 39,
     "metadata": {},
     "output_type": "execute_result"
    }
   ],
   "source": [
    "precision_recall_fscore_support(np.array(final_lacourse_labels), moda_labels['01-01-0001'], average='binary')"
   ]
  },
  {
   "cell_type": "code",
   "execution_count": 42,
   "metadata": {},
   "outputs": [
    {
     "data": {
      "text/plain": [
       "(tensor(0.9432), 0.7079069268656748, 0.6743234953286268, 0.7450109194941448)"
      ]
     },
     "execution_count": 42,
     "metadata": {},
     "output_type": "execute_result"
    }
   ],
   "source": [
    "import torch\n",
    "\n",
    "get_metrics(torch.tensor(final_lacourse_labels), torch.from_numpy(moda_labels['01-01-0001']))"
   ]
  }
 ],
 "metadata": {
  "kernelspec": {
   "display_name": "venv",
   "language": "python",
   "name": "python3"
  },
  "language_info": {
   "codemirror_mode": {
    "name": "ipython",
    "version": 3
   },
   "file_extension": ".py",
   "mimetype": "text/x-python",
   "name": "python",
   "nbconvert_exporter": "python",
   "pygments_lexer": "ipython3",
   "version": "3.10.6"
  },
  "orig_nbformat": 4
 },
 "nbformat": 4,
 "nbformat_minor": 2
}
