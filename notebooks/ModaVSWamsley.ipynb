{
 "cells": [
  {
   "cell_type": "code",
   "execution_count": 48,
   "metadata": {},
   "outputs": [],
   "source": [
    "from portiloop_software.portiloop_python.ANN.data.mass_data import SingleSubjectDataset, read_pretraining_dataset, read_spindle_trains_labels\n",
    "from portiloop_software.portiloop_python.ANN.utils import get_configs"
   ]
  },
  {
   "cell_type": "code",
   "execution_count": 3,
   "metadata": {},
   "outputs": [],
   "source": [
    "import numpy as np\n",
    "\n",
    "file1 = '/project/portiloop-training/portiloop_software/dataset/6_segListSrcDataLoc_p1.txt'\n",
    "file2 = '/project/portiloop-training/portiloop_software/dataset/7_segListSrcDataLoc_p2.txt'"
   ]
  },
  {
   "cell_type": "code",
   "execution_count": 14,
   "metadata": {},
   "outputs": [],
   "source": [
    "data1 = np.genfromtxt(file1, delimiter='\\t', dtype=str)[1:, [1, 4]]\n",
    "data2 = np.genfromtxt(file2, delimiter='\\t', dtype=str)[1:, [1, 4]]"
   ]
  },
  {
   "cell_type": "code",
   "execution_count": 19,
   "metadata": {},
   "outputs": [
    {
     "data": {
      "text/plain": [
       "(749, 2)"
      ]
     },
     "execution_count": 19,
     "metadata": {},
     "output_type": "execute_result"
    }
   ],
   "source": [
    "all_segments = np.concatenate((data1, data2), axis=0)\n",
    "all_segments.shape"
   ]
  },
  {
   "attachments": {},
   "cell_type": "markdown",
   "metadata": {},
   "source": [
    "This line gets the starting index in seconds for each segment for each subject and puts it in a dictionary where the key is the subject id and the values are lists of the starting indexes. Each segment will hen be exactly 115 seconds."
   ]
  },
  {
   "cell_type": "code",
   "execution_count": 43,
   "metadata": {},
   "outputs": [],
   "source": [
    "segments_dict = {subject: (all_segments[np.where(all_segments[:, 0] == subject)[0], 1].astype(float) * 250).astype(int).tolist() for subject in np.unique(all_segments[:, 0])}"
   ]
  },
  {
   "attachments": {},
   "cell_type": "markdown",
   "metadata": {},
   "source": [
    "Load the Wamsley data"
   ]
  },
  {
   "cell_type": "code",
   "execution_count": 47,
   "metadata": {},
   "outputs": [],
   "source": [
    "experiment_name = 'MASS'\n",
    "seed = 42\n",
    "\n",
    "config = get_configs(experiment_name, False, seed)\n",
    "\n",
    "data = read_pretraining_dataset(config['MASS_dir'])\n",
    "labels = read_spindle_trains_labels(config['old_dataset'])"
   ]
  },
  {
   "cell_type": "code",
   "execution_count": 50,
   "metadata": {},
   "outputs": [],
   "source": [
    "from portiloop_software.portiloop_python.ANN.data.mass_data import read_sleep_staging_labels\n",
    "\n",
    "ss_labels = read_sleep_staging_labels(config['path_dataset'])\n"
   ]
  },
  {
   "cell_type": "code",
   "execution_count": 54,
   "metadata": {},
   "outputs": [],
   "source": [
    "wamsley_labels = {}\n",
    "all_keys = list(data.keys())\n",
    "for subject in all_keys:\n",
    "    try:\n",
    "        dataset = SingleSubjectDataset(subject, data=data, labels=labels, config=config, ss_labels=ss_labels)  \n",
    "        wamsley_labels[subject] = dataset.full_labels\n",
    "    except KeyError:\n",
    "        continue"
   ]
  },
  {
   "cell_type": "code",
   "execution_count": 57,
   "metadata": {},
   "outputs": [
    {
     "name": "stdout",
     "output_type": "stream",
     "text": [
      "01-01-0034\n",
      "01-01-0039\n",
      "01-02-0007\n",
      "01-02-0008\n",
      "01-02-0009\n",
      "01-02-0016\n",
      "01-02-0018\n",
      "01-03-0055\n",
      "01-05-0021\n",
      "01-05-0026\n"
     ]
    }
   ],
   "source": [
    "for wamsley_label in wamsley_labels.keys():\n",
    "    if wamsley_label not in segments_dict.keys():\n",
    "        continue\n",
    "\n",
    "    "
   ]
  },
  {
   "cell_type": "code",
   "execution_count": null,
   "metadata": {},
   "outputs": [],
   "source": []
  },
  {
   "attachments": {},
   "cell_type": "markdown",
   "metadata": {},
   "source": [
    "Load the MODA Data"
   ]
  },
  {
   "cell_type": "code",
   "execution_count": 58,
   "metadata": {},
   "outputs": [],
   "source": [
    "subjects_path = '/project/portiloop-training/portiloop_software/dataset/subject_sequence_full_big.txt'\n",
    "data_path = '/project/portiloop-training/portiloop_software/dataset/dataset_classification_full_big_250_matlab_standardized_envelope_pf.txt'"
   ]
  },
  {
   "cell_type": "code",
   "execution_count": 69,
   "metadata": {},
   "outputs": [],
   "source": [
    "import pandas as pd\n",
    "\n",
    "data = pd.read_csv(data_path, header=None).to_numpy()\n"
   ]
  },
  {
   "cell_type": "code",
   "execution_count": 60,
   "metadata": {},
   "outputs": [],
   "source": [
    "subjects = np.genfromtxt(subjects_path, dtype=str)"
   ]
  },
  {
   "cell_type": "code",
   "execution_count": 65,
   "metadata": {},
   "outputs": [],
   "source": [
    "mask = (data[:, 3] != -1) & (data[:, 3] != -2)\n",
    "data_filtered = data[mask]"
   ]
  },
  {
   "cell_type": "code",
   "execution_count": 68,
   "metadata": {},
   "outputs": [
    {
     "data": {
      "text/plain": [
       "695.0"
      ]
     },
     "execution_count": 68,
     "metadata": {},
     "output_type": "execute_result"
    }
   ],
   "source": [
    "len(data_filtered) / 115 / 250"
   ]
  },
  {
   "cell_type": "code",
   "execution_count": 79,
   "metadata": {},
   "outputs": [
    {
     "data": {
      "text/plain": [
       "(695, 28750)"
      ]
     },
     "execution_count": 79,
     "metadata": {},
     "output_type": "execute_result"
    }
   ],
   "source": [
    "split_data = np.array(np.split(data_filtered[:, -1], int(len(data_filtered) / (115 * 250))))\n",
    "split_data.shape"
   ]
  },
  {
   "cell_type": "code",
   "execution_count": 83,
   "metadata": {},
   "outputs": [
    {
     "data": {
      "text/plain": [
       "(162, 3)"
      ]
     },
     "execution_count": 83,
     "metadata": {},
     "output_type": "execute_result"
    }
   ],
   "source": [
    "subjects.shape"
   ]
  },
  {
   "cell_type": "code",
   "execution_count": 99,
   "metadata": {},
   "outputs": [],
   "source": [
    "moda_index_dict = {}\n",
    "for subject in subjects[:, 0]:\n",
    "    s = subjects[subjects[:, 0] == subject][:, 1:].astype(int)[0]\n",
    "    moda_index_dict[subject] = list(range(s[0], s[1]))"
   ]
  },
  {
   "cell_type": "code",
   "execution_count": 103,
   "metadata": {},
   "outputs": [],
   "source": [
    "moda_labels = {}\n",
    "\n",
    "for subject in moda_index_dict.keys():\n",
    "    moda_labels[subject] = np.hstack(split_data[moda_index_dict[subject]])"
   ]
  },
  {
   "cell_type": "code",
   "execution_count": 105,
   "metadata": {},
   "outputs": [
    {
     "data": {
      "text/plain": [
       "(86250,)"
      ]
     },
     "execution_count": 105,
     "metadata": {},
     "output_type": "execute_result"
    }
   ],
   "source": [
    "moda_labels['01-04-0018'].shape"
   ]
  },
  {
   "attachments": {},
   "cell_type": "markdown",
   "metadata": {},
   "source": [
    "Putting everything together:"
   ]
  },
  {
   "cell_type": "code",
   "execution_count": 107,
   "metadata": {},
   "outputs": [
    {
     "data": {
      "text/plain": [
       "63"
      ]
     },
     "execution_count": 107,
     "metadata": {},
     "output_type": "execute_result"
    }
   ],
   "source": [
    "count = 0\n",
    "final_wamsley_labels = []\n",
    "final_moda_labels = []\n",
    "for subject in moda_labels.keys():\n",
    "    if subject not in wamsley_labels.keys():\n",
    "        continue\n",
    "\n",
    "    # Get the necessary indexes of the wamsley labels\n"
   ]
  }
 ],
 "metadata": {
  "kernelspec": {
   "display_name": "venv",
   "language": "python",
   "name": "python3"
  },
  "language_info": {
   "codemirror_mode": {
    "name": "ipython",
    "version": 3
   },
   "file_extension": ".py",
   "mimetype": "text/x-python",
   "name": "python",
   "nbconvert_exporter": "python",
   "pygments_lexer": "ipython3",
   "version": "3.10.6"
  },
  "orig_nbformat": 4
 },
 "nbformat": 4,
 "nbformat_minor": 2
}
