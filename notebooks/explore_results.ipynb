{
 "cells": [
  {
   "cell_type": "code",
   "execution_count": 1,
   "metadata": {},
   "outputs": [],
   "source": [
    "import json\n",
    "import numpy as np"
   ]
  },
  {
   "cell_type": "code",
   "execution_count": 2,
   "metadata": {},
   "outputs": [],
   "source": [
    "path = \"/home/ubuntu/portiloop-training/merged_results.json\""
   ]
  },
  {
   "cell_type": "code",
   "execution_count": 3,
   "metadata": {},
   "outputs": [],
   "source": [
    "# Load the results into a dictionaries\n",
    "with open(path, \"r\") as f:\n",
    "    results = json.load(f)"
   ]
  },
  {
   "cell_type": "code",
   "execution_count": 6,
   "metadata": {},
   "outputs": [
    {
     "data": {
      "text/plain": [
       "42"
      ]
     },
     "execution_count": 6,
     "metadata": {},
     "output_type": "execute_result"
    }
   ],
   "source": [
    "len(results['1'].keys())"
   ]
  },
  {
   "cell_type": "code",
   "execution_count": 7,
   "metadata": {},
   "outputs": [
    {
     "ename": "AttributeError",
     "evalue": "'bool' object has no attribute 'keys'",
     "output_type": "error",
     "traceback": [
      "\u001b[0;31m---------------------------------------------------------------------------\u001b[0m",
      "\u001b[0;31mAttributeError\u001b[0m                            Traceback (most recent call last)",
      "\u001b[1;32m/home/ubuntu/portiloop-training/notebooks/explore_results.ipynb Cell 5\u001b[0m line \u001b[0;36m2\n\u001b[1;32m      <a href='vscode-notebook-cell://ssh-remote%2B206.12.97.14/home/ubuntu/portiloop-training/notebooks/explore_results.ipynb#W4sdnNjb2RlLXJlbW90ZQ%3D%3D?line=0'>1</a>\u001b[0m \u001b[39m# Print all the existing keys in the dictionary\u001b[39;00m\n\u001b[0;32m----> <a href='vscode-notebook-cell://ssh-remote%2B206.12.97.14/home/ubuntu/portiloop-training/notebooks/explore_results.ipynb#W4sdnNjb2RlLXJlbW90ZQ%3D%3D?line=1'>2</a>\u001b[0m metrics \u001b[39m=\u001b[39m results[\u001b[39m'\u001b[39m\u001b[39m0\u001b[39m\u001b[39m'\u001b[39m][\u001b[39mlist\u001b[39m(results[\u001b[39m'\u001b[39m\u001b[39m0\u001b[39m\u001b[39m'\u001b[39m]\u001b[39m.\u001b[39mkeys())[\u001b[39m0\u001b[39m]]\u001b[39m.\u001b[39mkeys()\n",
      "\u001b[0;31mAttributeError\u001b[0m: 'bool' object has no attribute 'keys'"
     ]
    }
   ],
   "source": [
    "# Print all the existing keys in the dictionary\n",
    "metrics = results['0'][list(results['0'].keys())[0]].keys()"
   ]
  },
  {
   "cell_type": "code",
   "execution_count": 8,
   "metadata": {},
   "outputs": [
    {
     "data": {
      "text/plain": [
       "dict_keys(['train', 'skip_ss', '01-01-0024', '01-05-0004', '01-05-0013', '01-05-0002', '01-03-0001', '01-03-0046', '01-01-0041', '01-01-0032', '01-03-0054', '01-01-0010', '01-01-0019', '01-02-0010', '01-05-0007', '01-03-0010', '01-03-0034', '01-02-0016', '01-01-0003', '01-05-0001', '01-01-0022', '01-03-0027', '01-05-0015', '01-03-0014', '01-03-0044', '01-01-0038', '01-03-0015', '01-03-0021', '01-03-0026', '01-02-0011', '01-01-0034', '01-03-0019', '01-03-0028', '01-01-0033', '01-03-0048', '01-01-0017', '01-01-0002', '01-03-0052', '01-03-0030', '01-02-0009', '01-02-0015', '01-03-0007'])"
      ]
     },
     "execution_count": 8,
     "metadata": {},
     "output_type": "execute_result"
    }
   ],
   "source": [
    "results['0'].keys()"
   ]
  },
  {
   "cell_type": "code",
   "execution_count": 17,
   "metadata": {},
   "outputs": [],
   "source": [
    "def get_average(key, experiment):\n",
    "    all_vals = [v[key] for k, v in experiment.items() if k != 'train' and k != 'skip_ss']\n",
    "    return np.mean(all_vals), np.std(all_vals)"
   ]
  },
  {
   "cell_type": "code",
   "execution_count": 27,
   "metadata": {},
   "outputs": [
    {
     "data": {
      "text/plain": [
       "(0.4122933604021596, 0.1554967376072838)"
      ]
     },
     "execution_count": 27,
     "metadata": {},
     "output_type": "execute_result"
    }
   ],
   "source": [
    "get_average('precision', results['0'])"
   ]
  },
  {
   "cell_type": "code",
   "execution_count": 28,
   "metadata": {},
   "outputs": [
    {
     "data": {
      "text/plain": [
       "(0.477784686579288, 0.1660890495262609)"
      ]
     },
     "execution_count": 28,
     "metadata": {},
     "output_type": "execute_result"
    }
   ],
   "source": [
    "get_average('precision', results['1'])"
   ]
  },
  {
   "cell_type": "code",
   "execution_count": 20,
   "metadata": {},
   "outputs": [],
   "source": [
    "def check_better(key):\n",
    "    total = 0\n",
    "    for subject in results[list(results.keys())[0]].keys():\n",
    "        if subject == 'train' or subject == 'skip_ss':\n",
    "            continue\n",
    "        print(subject)\n",
    "        no_learning = results['0'][subject][key]\n",
    "        learning = results['1'][subject][key]\n",
    "        print(f\"No learning: {no_learning}\")\n",
    "        print(f\"Learning: { learning}\")\n",
    "        if no_learning <= learning:\n",
    "            total += 1\n",
    "    print(f\"Total: {total}\")"
   ]
  },
  {
   "cell_type": "code",
   "execution_count": 21,
   "metadata": {},
   "outputs": [
    {
     "name": "stdout",
     "output_type": "stream",
     "text": [
      "01-01-0024\n",
      "No learning: 0.529466209619903\n",
      "Learning: 0.5554022938535437\n",
      "01-05-0004\n",
      "No learning: 0.5201793672214655\n",
      "Learning: 0.47332924100565343\n",
      "01-05-0013\n",
      "No learning: 0.6987285743267082\n",
      "Learning: 0.6813186763378305\n",
      "01-05-0002\n",
      "No learning: 0.43643643201900606\n",
      "Learning: 0.4195519304914116\n",
      "01-03-0001\n",
      "No learning: 0.37941176076523575\n",
      "Learning: 0.3588588550642196\n",
      "01-03-0046\n",
      "No learning: 0.6873585467644523\n",
      "Learning: 0.6282051232230259\n",
      "01-01-0041\n",
      "No learning: 0.030476185720290996\n",
      "Learning: 0.030828511653933556\n",
      "01-01-0032\n",
      "No learning: 0.2247952523579187\n",
      "Learning: 0.3138146626017225\n",
      "01-03-0054\n",
      "No learning: 0.5500558195731811\n",
      "Learning: 0.5281058051087794\n",
      "01-01-0010\n",
      "No learning: 0.5220804667247925\n",
      "Learning: 0.48612439694173215\n",
      "01-01-0019\n",
      "No learning: 0.30538393302246886\n",
      "Learning: 0.3333333291793673\n",
      "01-02-0010\n",
      "No learning: 0.6385041506702513\n",
      "Learning: 0.6968174156162338\n",
      "01-05-0007\n",
      "No learning: 0.6394001314255846\n",
      "Learning: 0.6100707399170652\n",
      "01-03-0010\n",
      "No learning: 0.5706623718460422\n",
      "Learning: 0.695393754474777\n",
      "01-03-0034\n",
      "No learning: 0.45150246884898615\n",
      "Learning: 0.47829549611234656\n",
      "01-02-0016\n",
      "No learning: 0.4973069977158992\n",
      "Learning: 0.5321205184077081\n",
      "01-01-0003\n",
      "No learning: 0.6262178870725758\n",
      "Learning: 0.6053042071699593\n",
      "01-05-0001\n",
      "No learning: 0.5451448000321562\n",
      "Learning: 0.6348773794991095\n",
      "01-01-0022\n",
      "No learning: 0.021715522666224108\n",
      "Learning: 0.021786488461584805\n",
      "01-03-0027\n",
      "No learning: 0.17455138220996153\n",
      "Learning: 0.1623931582207467\n",
      "01-05-0015\n",
      "No learning: 0.6805385510314028\n",
      "Learning: 0.6995253692937025\n",
      "01-03-0014\n",
      "No learning: 0.6512357741106082\n",
      "Learning: 0.669404512465942\n",
      "01-03-0044\n",
      "No learning: 0.6301267663284214\n",
      "Learning: 0.6001846672170684\n",
      "01-01-0038\n",
      "No learning: 0.5295327610163648\n",
      "Learning: 0.42563366310510237\n",
      "01-03-0015\n",
      "No learning: 0.5179731446369669\n",
      "Learning: 0.5790807044324223\n",
      "01-03-0021\n",
      "No learning: 0.4979404995805435\n",
      "Learning: 0.573284378580787\n",
      "01-03-0026\n",
      "No learning: 0.5744351549124128\n",
      "Learning: 0.6031745981748347\n",
      "01-02-0011\n",
      "No learning: 0.6178861745027834\n",
      "Learning: 0.7184942668706724\n",
      "01-01-0034\n",
      "No learning: 0.3749999950720476\n",
      "Learning: 0.36845273433680775\n",
      "01-03-0019\n",
      "No learning: 0.45885286345447\n",
      "Learning: 0.4403048221345737\n",
      "01-03-0028\n",
      "No learning: 0.5426742489629008\n",
      "Learning: 0.5051194490599038\n",
      "01-01-0033\n",
      "No learning: 0.43154573668780466\n",
      "Learning: 0.38544891146245297\n",
      "01-03-0048\n",
      "No learning: 0.4467860856218459\n",
      "Learning: 0.3885853017436572\n",
      "01-01-0017\n",
      "No learning: 0.3259259210291798\n",
      "Learning: 0.3172288008485561\n",
      "01-01-0002\n",
      "No learning: 0.4359296433548395\n",
      "Learning: 0.4157218392956753\n",
      "01-03-0052\n",
      "No learning: 0.23537508166683643\n",
      "Learning: 0.22222221804055978\n",
      "01-03-0030\n",
      "No learning: 0.3851774481772657\n",
      "Learning: 0.34855304966411854\n",
      "01-02-0009\n",
      "No learning: 0.6844802296098221\n",
      "Learning: 0.7167204003706581\n",
      "01-02-0015\n",
      "No learning: 0.22395325763061416\n",
      "Learning: 0.2119725178241865\n",
      "01-03-0007\n",
      "No learning: 0.5083215755908818\n",
      "Learning: 0.5092080981492222\n",
      "Total: 18\n"
     ]
    }
   ],
   "source": [
    "check_better('f1')"
   ]
  },
  {
   "cell_type": "code",
   "execution_count": 9,
   "metadata": {},
   "outputs": [
    {
     "name": "stdout",
     "output_type": "stream",
     "text": [
      "acc\n",
      "(0.9916333213448525, 0.004212741928046651)\n",
      "(0.9923783123493195, 0.0037155503032831835)\n",
      "\n",
      "f1\n",
      "(0.2410517307937396, 0.1487657477392848)\n",
      "(0.22125931196381238, 0.09429821840204648)\n",
      "\n",
      "precision\n",
      "(0.4192404895933448, 0.1742717353904977)\n",
      "(0.5147305804864035, 0.187910331968255)\n",
      "\n",
      "recall\n",
      "(0.2054439413805101, 0.15689781207153883)\n",
      "(0.14887255091698764, 0.0717705180595252)\n",
      "\n",
      "dist_preds\n",
      "(46852.7875, 81142.03154456908)\n",
      "(46852.7875, 81361.58553591088)\n",
      "\n",
      "dist_labels\n",
      "(46852.7875, 80778.47909927707)\n",
      "(46852.7875, 80778.47909927707)\n",
      "\n"
     ]
    }
   ],
   "source": [
    "for metric in metrics:\n",
    "    print(metric)\n",
    "    # print(get_average(metric, results['0']))\n",
    "    print(get_average(metric, results['0']))\n",
    "    print(get_average(metric, results['1']))\n",
    "    # print(get_average(metric, results['3']))\n",
    "    print()"
   ]
  },
  {
   "cell_type": "code",
   "execution_count": null,
   "metadata": {},
   "outputs": [],
   "source": []
  }
 ],
 "metadata": {
  "kernelspec": {
   "display_name": "portiloop-training",
   "language": "python",
   "name": "python3"
  },
  "language_info": {
   "codemirror_mode": {
    "name": "ipython",
    "version": 3
   },
   "file_extension": ".py",
   "mimetype": "text/x-python",
   "name": "python",
   "nbconvert_exporter": "python",
   "pygments_lexer": "ipython3",
   "version": "3.11.4"
  },
  "orig_nbformat": 4
 },
 "nbformat": 4,
 "nbformat_minor": 2
}
