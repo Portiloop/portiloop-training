{
 "cells": [
  {
   "cell_type": "code",
   "execution_count": 1,
   "metadata": {},
   "outputs": [],
   "source": [
    "import json\n",
    "import numpy as np"
   ]
  },
  {
   "cell_type": "code",
   "execution_count": 2,
   "metadata": {},
   "outputs": [],
   "source": [
    "path = \"/home/ubuntu/portiloop-training/adaptation_results.json\""
   ]
  },
  {
   "cell_type": "code",
   "execution_count": 3,
   "metadata": {},
   "outputs": [],
   "source": [
    "# Load the results into a dictionary\n",
    "with open(path, \"r\") as f:\n",
    "    results = json.load(f)"
   ]
  },
  {
   "cell_type": "code",
   "execution_count": 22,
   "metadata": {},
   "outputs": [],
   "source": [
    "# Print all the existing keys in the dictionary\n",
    "metrics = results['0'][list(results['0'].keys())[0]].keys()"
   ]
  },
  {
   "cell_type": "code",
   "execution_count": 6,
   "metadata": {},
   "outputs": [
    {
     "data": {
      "text/plain": [
       "dict_keys(['01-03-0016', '01-02-0013', '01-03-0039', '01-01-0009', '01-03-0013', '01-01-0033', '01-03-0025', '01-02-0009', '01-02-0012', '01-05-0026', '01-03-0031', '01-05-0025', '01-03-0045', '01-01-0021', '01-03-0005', '01-03-0037', '01-02-0008', '01-01-0003', '01-01-0004', '01-01-0038', '01-05-0018', '01-02-0005', '01-01-0005', '01-01-0028', '01-05-0023', '01-03-0007', '01-05-0007', '01-05-0011', '01-02-0007', '01-03-0038', '01-01-0040', '01-03-0040', '01-01-0014', '01-03-0017', '01-01-0042', '01-01-0037', '01-02-0003', '01-03-0010', '01-02-0001', '01-03-0048'])"
      ]
     },
     "execution_count": 6,
     "metadata": {},
     "output_type": "execute_result"
    }
   ],
   "source": [
    "results['0'].keys()"
   ]
  },
  {
   "cell_type": "code",
   "execution_count": 20,
   "metadata": {},
   "outputs": [],
   "source": [
    "def get_average(key, experiment):\n",
    "    all_vals = [v[key] for k, v in experiment.items()]\n",
    "    return np.mean(all_vals), np.std(all_vals)"
   ]
  },
  {
   "cell_type": "code",
   "execution_count": 34,
   "metadata": {},
   "outputs": [],
   "source": [
    "def check_better(key):\n",
    "    total = 0\n",
    "    for subject in results[list(results.keys())[0]].keys():\n",
    "        print(subject)\n",
    "        no_learning = results['1'][subject][key]\n",
    "        learning = results['2'][subject][key]\n",
    "        print(f\"No learning: {no_learning}\")\n",
    "        print(f\"Learning: { learning}\")\n",
    "        if no_learning <= learning:\n",
    "            total += 1\n",
    "    print(f\"Total: {total}\")"
   ]
  },
  {
   "cell_type": "code",
   "execution_count": 35,
   "metadata": {},
   "outputs": [
    {
     "name": "stdout",
     "output_type": "stream",
     "text": [
      "01-03-0016\n",
      "No learning: 0.1719394515019082\n",
      "Learning: 0.17116352510626395\n",
      "01-02-0013\n",
      "No learning: 0.4572344502552491\n",
      "Learning: 0.2508082821316492\n",
      "01-03-0039\n",
      "No learning: 0.38945822593930957\n",
      "Learning: 0.09419148861447034\n",
      "01-01-0009\n",
      "No learning: 0.12856095984710833\n",
      "Learning: 0.11138409056043254\n",
      "01-03-0013\n",
      "No learning: 0.01784651745919097\n",
      "Learning: 0.11310780088109237\n",
      "01-01-0033\n",
      "No learning: 0.17021271596312013\n",
      "Learning: 0.10801959354552094\n",
      "01-03-0025\n",
      "No learning: 0.3504620652570733\n",
      "Learning: 0.2776910690917862\n",
      "01-02-0009\n",
      "No learning: 0.476050064525326\n",
      "Learning: 0.34709785491067263\n",
      "01-02-0012\n",
      "No learning: 0.41611540593072005\n",
      "Learning: 0.4081526847958869\n",
      "01-05-0026\n",
      "No learning: 0.4932575802088015\n",
      "Learning: 0.32919585423209824\n",
      "01-03-0031\n",
      "No learning: 0.06761175981800677\n",
      "Learning: 0.004656570241554042\n",
      "01-05-0025\n",
      "No learning: 0.1455562993434588\n",
      "Learning: 0.1744966169411831\n",
      "01-03-0045\n",
      "No learning: 0.49124783263698113\n",
      "Learning: 0.33667949600343355\n",
      "01-01-0021\n",
      "No learning: 0.20492861715259608\n",
      "Learning: 0.0760455798169355\n",
      "01-03-0005\n",
      "No learning: 0.3710098975807171\n",
      "Learning: 0.3626740529569651\n",
      "01-03-0037\n",
      "No learning: 0.12256665719117919\n",
      "Learning: 0.17794673986902093\n",
      "01-02-0008\n",
      "No learning: 0.4073770078502797\n",
      "Learning: 0.37067541201526993\n",
      "01-01-0003\n",
      "No learning: 0.2961480346671637\n",
      "Learning: 0.1587857308713429\n",
      "01-01-0004\n",
      "No learning: 0.1280787847402958\n",
      "Learning: 0.14921777482134913\n",
      "01-01-0038\n",
      "No learning: 0.2811279360894483\n",
      "Learning: 0.3023000597064299\n",
      "01-05-0018\n",
      "No learning: 0.317505958863509\n",
      "Learning: 0.3784844445783754\n",
      "01-02-0005\n",
      "No learning: 0.2331838072745495\n",
      "Learning: 0.13123355996032968\n",
      "01-01-0005\n",
      "No learning: 0.2033096518616715\n",
      "Learning: 0.024144821558642747\n",
      "01-01-0028\n",
      "No learning: 0.04669255993316104\n",
      "Learning: 0.005730631692809353\n",
      "01-05-0023\n",
      "No learning: 0.1723076664217033\n",
      "Learning: 0.2652127534070669\n",
      "01-03-0007\n",
      "No learning: 0.3173669804225124\n",
      "Learning: 0.184019338377469\n",
      "01-05-0007\n",
      "No learning: 0.29581712406208216\n",
      "Learning: 0.1928757222398005\n",
      "01-05-0011\n",
      "No learning: 0.28874480381011935\n",
      "Learning: 0.3312675629563078\n",
      "01-02-0007\n",
      "No learning: 0.4615080445070405\n",
      "Learning: 0.3581690196871264\n",
      "01-03-0038\n",
      "No learning: 0.21903784145060423\n",
      "Learning: 0.147916638997184\n",
      "01-01-0040\n",
      "No learning: 0.17287626023575148\n",
      "Learning: 0.21199035848580405\n",
      "01-03-0040\n",
      "No learning: 0.1859113795053\n",
      "Learning: 0.4071563655629408\n",
      "01-01-0014\n",
      "No learning: 0.09962402368687381\n",
      "Learning: 0.11022041015679507\n",
      "01-03-0017\n",
      "No learning: 0.3905324965104917\n",
      "Learning: 0.14895727502492864\n",
      "01-01-0042\n",
      "No learning: 0.21743201737004614\n",
      "Learning: 0.20715627413986917\n",
      "01-01-0037\n",
      "No learning: 0.015915101232000028\n",
      "Learning: 0.133156469167059\n",
      "01-02-0003\n",
      "No learning: 0.18892124953936446\n",
      "Learning: 0.3847816202532824\n",
      "01-03-0010\n",
      "No learning: 0.4746062160775712\n",
      "Learning: 0.03683548900221445\n",
      "01-02-0001\n",
      "No learning: 0.494517258160248\n",
      "Learning: 0.40730638903699445\n",
      "01-03-0048\n",
      "No learning: 0.14321230811749114\n",
      "Learning: 0.10967096329655614\n",
      "Total: 13\n"
     ]
    }
   ],
   "source": [
    "check_better('f1')"
   ]
  },
  {
   "cell_type": "code",
   "execution_count": 24,
   "metadata": {},
   "outputs": [
    {
     "name": "stdout",
     "output_type": "stream",
     "text": [
      "acc\n",
      "(0.9917226284742355, 0.0036326528235605055)\n",
      "(0.9913649052381516, 0.00370334674529085)\n",
      "\n",
      "f1\n",
      "(0.26314532532500057, 0.14181255279511262)\n",
      "(0.21251440961737283, 0.1212944517495657)\n",
      "\n",
      "precision\n",
      "(0.4390227350301604, 0.1697945665238069)\n",
      "(0.40384693973949287, 0.18750784871127915)\n",
      "\n",
      "recall\n",
      "(0.2219598634419922, 0.15985217550186298)\n",
      "(0.16510589459658045, 0.10803869722787518)\n",
      "\n",
      "dist_preds\n",
      "(45389.84375, 78826.34636580486)\n",
      "(45389.84375, 78894.80054228439)\n",
      "\n",
      "dist_labels\n",
      "(45389.84375, 78456.28129773508)\n",
      "(45389.84375, 78456.28129773508)\n",
      "\n"
     ]
    }
   ],
   "source": [
    "for metric in metrics:\n",
    "    print(metric)\n",
    "    # print(get_average(metric, results['0']))\n",
    "    print(get_average(metric, results['1']))\n",
    "    print(get_average(metric, results['2']))\n",
    "    # print(get_average(metric, results['3']))\n",
    "    print()"
   ]
  }
 ],
 "metadata": {
  "kernelspec": {
   "display_name": "portiloop-training",
   "language": "python",
   "name": "python3"
  },
  "language_info": {
   "codemirror_mode": {
    "name": "ipython",
    "version": 3
   },
   "file_extension": ".py",
   "mimetype": "text/x-python",
   "name": "python",
   "nbconvert_exporter": "python",
   "pygments_lexer": "ipython3",
   "version": "3.11.4"
  },
  "orig_nbformat": 4
 },
 "nbformat": 4,
 "nbformat_minor": 2
}
