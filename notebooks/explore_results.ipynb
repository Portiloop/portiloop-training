{
 "cells": [
  {
   "cell_type": "code",
   "execution_count": 1,
   "metadata": {},
   "outputs": [],
   "source": [
    "import json\n",
    "import numpy as np"
   ]
  },
  {
   "cell_type": "code",
   "execution_count": 2,
   "metadata": {},
   "outputs": [],
   "source": [
    "path = \"/home/ubuntu/portiloop-training/adaptation_results_exp2.json\""
   ]
  },
  {
   "cell_type": "code",
   "execution_count": 3,
   "metadata": {},
   "outputs": [],
   "source": [
    "# Load the results into a dictionary\n",
    "with open(path, \"r\") as f:\n",
    "    results = json.load(f)"
   ]
  },
  {
   "cell_type": "code",
   "execution_count": 4,
   "metadata": {},
   "outputs": [],
   "source": [
    "# Print all the existing keys in the dictionary\n",
    "metrics = results['0'][list(results['0'].keys())[0]].keys()"
   ]
  },
  {
   "cell_type": "code",
   "execution_count": 5,
   "metadata": {},
   "outputs": [
    {
     "data": {
      "text/plain": [
       "dict_keys(['01-03-0044', '01-05-0017', '01-01-0022', '01-05-0024', '01-03-0003', '01-01-0036', '01-01-0020', '01-03-0018', '01-03-0001', '01-02-0004', '01-03-0050', '01-01-0035', '01-01-0017', '01-03-0041', '01-01-0005', '01-05-0006', '01-01-0019', '01-01-0032', '01-03-0048', '01-03-0013', '01-02-0009', '01-05-0021', '01-01-0015', '01-01-0009', '01-03-0053', '01-05-0002', '01-01-0008', '01-01-0007', '01-03-0047', '01-02-0014', '01-05-0015', '01-05-0022', '01-03-0039', '01-03-0015', '01-01-0033', '01-01-0027', '01-02-0016', '01-01-0018', '01-03-0031', '01-05-0007'])"
      ]
     },
     "execution_count": 5,
     "metadata": {},
     "output_type": "execute_result"
    }
   ],
   "source": [
    "results['0'].keys()"
   ]
  },
  {
   "cell_type": "code",
   "execution_count": 6,
   "metadata": {},
   "outputs": [],
   "source": [
    "def get_average(key, experiment):\n",
    "    all_vals = [v[key] for k, v in experiment.items()]\n",
    "    return np.mean(all_vals), np.std(all_vals)"
   ]
  },
  {
   "cell_type": "code",
   "execution_count": 11,
   "metadata": {},
   "outputs": [],
   "source": [
    "def check_better(key):\n",
    "    total = 0\n",
    "    for subject in results[list(results.keys())[0]].keys():\n",
    "        print(subject)\n",
    "        no_learning = results['0'][subject][key]\n",
    "        learning = results['1'][subject][key]\n",
    "        print(f\"No learning: {no_learning}\")\n",
    "        print(f\"Learning: { learning}\")\n",
    "        if no_learning <= learning:\n",
    "            total += 1\n",
    "    print(f\"Total: {total}\")"
   ]
  },
  {
   "cell_type": "code",
   "execution_count": 12,
   "metadata": {},
   "outputs": [
    {
     "name": "stdout",
     "output_type": "stream",
     "text": [
      "01-03-0044\n",
      "No learning: 0.34874900929941477\n",
      "Learning: 0.28138524758865496\n",
      "01-05-0017\n",
      "No learning: 0.4240804926537553\n",
      "Learning: 0.31622565314837187\n",
      "01-01-0022\n",
      "No learning: 0.0\n",
      "Learning: 0.0\n",
      "01-05-0024\n",
      "No learning: 0.060989634478873976\n",
      "Learning: 0.2286272285974321\n",
      "01-03-0003\n",
      "No learning: 0.33006777304014695\n",
      "Learning: 0.31543335752093615\n",
      "01-01-0036\n",
      "No learning: 0.17391300408437663\n",
      "Learning: 0.19846018324598064\n",
      "01-01-0020\n",
      "No learning: 0.23932724654955015\n",
      "Learning: 0.2342177037462975\n",
      "01-03-0018\n",
      "No learning: 0.0344403363806793\n",
      "Learning: 0.12695106188165386\n",
      "01-03-0001\n",
      "No learning: 0.10518405545866309\n",
      "Learning: 0.26147955649656546\n",
      "01-02-0004\n",
      "No learning: 0.3057914687551811\n",
      "Learning: 0.26823335440553586\n",
      "01-03-0050\n",
      "No learning: 0.4197589862451736\n",
      "Learning: 0.3480884863890532\n",
      "01-01-0035\n",
      "No learning: 0.3019271518658728\n",
      "Learning: 0.30778263544431317\n",
      "01-01-0017\n",
      "No learning: 0.09178742155272356\n",
      "Learning: 0.14167648409485006\n",
      "01-03-0041\n",
      "No learning: 0.3017214008250618\n",
      "Learning: 0.20895519913840843\n",
      "01-01-0005\n",
      "No learning: 0.2033096518616715\n",
      "Learning: 0.18248845180080686\n",
      "01-05-0006\n",
      "No learning: 0.43516478522280794\n",
      "Learning: 0.31464607280005313\n",
      "01-01-0019\n",
      "No learning: 0.12842100871115072\n",
      "Learning: 0.14749257571681343\n",
      "01-01-0032\n",
      "No learning: 0.20869560752220173\n",
      "Learning: 0.11382111320312532\n",
      "01-03-0048\n",
      "No learning: 0.14321230811749114\n",
      "Learning: 0.19217766440899423\n",
      "01-03-0013\n",
      "No learning: 0.01784651745919097\n",
      "Learning: 0.09684683462609724\n",
      "01-02-0009\n",
      "No learning: 0.476050064525326\n",
      "Learning: 0.34564954830712885\n",
      "01-05-0021\n",
      "No learning: 0.29065739856829664\n",
      "Learning: 0.2260757541594165\n",
      "01-01-0015\n",
      "No learning: 0.0053763200342155345\n",
      "Learning: 0.005235574899403833\n",
      "01-01-0009\n",
      "No learning: 0.12856095984710833\n",
      "Learning: 0.20996165695395355\n",
      "01-03-0053\n",
      "No learning: 0.1836141475092062\n",
      "Learning: 0.1437499782008627\n",
      "01-05-0002\n",
      "No learning: 0.12653444843880804\n",
      "Learning: 0.28222726765496525\n",
      "01-01-0008\n",
      "No learning: 0.1300639298377994\n",
      "Learning: 0.16494842421795258\n",
      "01-01-0007\n",
      "No learning: 0.20994471813492344\n",
      "Learning: 0.20512817684942353\n",
      "01-03-0047\n",
      "No learning: 0.34302794952210997\n",
      "Learning: 0.2777956424534067\n",
      "01-02-0014\n",
      "No learning: 0.48438295139764015\n",
      "Learning: 0.3144992159249665\n",
      "01-05-0015\n",
      "No learning: 0.47773440847904547\n",
      "Learning: 0.4093943862802282\n",
      "01-05-0022\n",
      "No learning: 0.4383156370787797\n",
      "Learning: 0.31283065350037387\n",
      "01-03-0039\n",
      "No learning: 0.38945822593930957\n",
      "Learning: 0.39999995236795327\n",
      "01-03-0015\n",
      "No learning: 0.49273620881390534\n",
      "Learning: 0.22118134286417426\n",
      "01-01-0033\n",
      "No learning: 0.17021271596312013\n",
      "Learning: 0.19913414979397323\n",
      "01-01-0027\n",
      "No learning: 0.06566600343732489\n",
      "Learning: 0.08091283427326654\n",
      "01-02-0016\n",
      "No learning: 0.38986350123438346\n",
      "Learning: 0.2693020064701137\n",
      "01-01-0018\n",
      "No learning: 0.20205289902420634\n",
      "Learning: 0.21064678047739255\n",
      "01-03-0031\n",
      "No learning: 0.06761175981800677\n",
      "Learning: 0.129787212862611\n",
      "01-05-0007\n",
      "No learning: 0.29581712406208216\n",
      "Learning: 0.1569230557869851\n",
      "Total: 18\n"
     ]
    }
   ],
   "source": [
    "check_better('f1')"
   ]
  },
  {
   "cell_type": "code",
   "execution_count": 9,
   "metadata": {},
   "outputs": [
    {
     "name": "stdout",
     "output_type": "stream",
     "text": [
      "acc\n",
      "(0.9916333213448525, 0.004212741928046651)\n",
      "(0.9923783123493195, 0.0037155503032831835)\n",
      "\n",
      "f1\n",
      "(0.2410517307937396, 0.1487657477392848)\n",
      "(0.22125931196381238, 0.09429821840204648)\n",
      "\n",
      "precision\n",
      "(0.4192404895933448, 0.1742717353904977)\n",
      "(0.5147305804864035, 0.187910331968255)\n",
      "\n",
      "recall\n",
      "(0.2054439413805101, 0.15689781207153883)\n",
      "(0.14887255091698764, 0.0717705180595252)\n",
      "\n",
      "dist_preds\n",
      "(46852.7875, 81142.03154456908)\n",
      "(46852.7875, 81361.58553591088)\n",
      "\n",
      "dist_labels\n",
      "(46852.7875, 80778.47909927707)\n",
      "(46852.7875, 80778.47909927707)\n",
      "\n"
     ]
    }
   ],
   "source": [
    "for metric in metrics:\n",
    "    print(metric)\n",
    "    # print(get_average(metric, results['0']))\n",
    "    print(get_average(metric, results['0']))\n",
    "    print(get_average(metric, results['1']))\n",
    "    # print(get_average(metric, results['3']))\n",
    "    print()"
   ]
  },
  {
   "cell_type": "code",
   "execution_count": null,
   "metadata": {},
   "outputs": [],
   "source": []
  }
 ],
 "metadata": {
  "kernelspec": {
   "display_name": "portiloop-training",
   "language": "python",
   "name": "python3"
  },
  "language_info": {
   "codemirror_mode": {
    "name": "ipython",
    "version": 3
   },
   "file_extension": ".py",
   "mimetype": "text/x-python",
   "name": "python",
   "nbconvert_exporter": "python",
   "pygments_lexer": "ipython3",
   "version": "3.11.4"
  },
  "orig_nbformat": 4
 },
 "nbformat": 4,
 "nbformat_minor": 2
}
