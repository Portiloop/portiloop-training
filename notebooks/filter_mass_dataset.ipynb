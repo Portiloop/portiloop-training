{
 "cells": [
  {
   "attachments": {},
   "cell_type": "markdown",
   "metadata": {},
   "source": [
    "# Filter the MASS dataset\n",
    "\n",
    "This notebook will filter the MASS dataset for training with the Portiloop."
   ]
  },
  {
   "attachments": {},
   "cell_type": "markdown",
   "metadata": {},
   "source": [
    "## Filtering code"
   ]
  },
  {
   "cell_type": "code",
   "execution_count": 1,
   "metadata": {},
   "outputs": [],
   "source": [
    "import numpy as np\n",
    "from scipy.signal import firwin\n",
    "\n",
    "def shift_numpy(arr, num, fill_value=np.nan):\n",
    "    result = np.empty_like(arr)\n",
    "    if num > 0:\n",
    "        result[:num] = fill_value\n",
    "        result[num:] = arr[:-num]\n",
    "    elif num < 0:\n",
    "        result[num:] = fill_value\n",
    "        result[:num] = arr[-num:]\n",
    "    else:\n",
    "        result[:] = arr\n",
    "    return result\n",
    "\n",
    "class FIR:\n",
    "    def __init__(self, nb_channels, coefficients, buffer=None):\n",
    "        \n",
    "        self.coefficients = np.expand_dims(np.array(coefficients), axis=1)\n",
    "        self.taps = len(self.coefficients)\n",
    "        self.nb_channels = nb_channels\n",
    "        self.buffer = np.array(buffer) if buffer is not None else np.zeros((self.taps, self.nb_channels))\n",
    "    \n",
    "    def filter(self, x):\n",
    "        self.buffer = shift_numpy(self.buffer, 1, x)\n",
    "        filtered = np.sum(self.buffer * self.coefficients, axis=0)\n",
    "        return filtered\n",
    "\n",
    "    \n",
    "class FilterPipeline:\n",
    "    def __init__(self,\n",
    "                 nb_channels,\n",
    "                 sampling_rate,\n",
    "                 power_line_fq=60,\n",
    "                 use_custom_fir=False,\n",
    "                 custom_fir_order=20,\n",
    "                 custom_fir_cutoff=30,\n",
    "                 alpha_avg=0.1,\n",
    "                 alpha_std=0.001,\n",
    "                 epsilon=0.000001,\n",
    "                 filter_args=[]):\n",
    "        if len(filter_args) > 0:\n",
    "            use_fir, use_notch, use_std = filter_args\n",
    "        else:\n",
    "            use_fir=True,\n",
    "            use_notch=False,\n",
    "            use_std=True\n",
    "        self.use_fir = use_fir\n",
    "        self.use_notch = use_notch\n",
    "        self.use_std = use_std\n",
    "        self.nb_channels = nb_channels\n",
    "        assert power_line_fq in [50, 60], f\"The only supported power line frequencies are 50 Hz and 60 Hz\"\n",
    "        if power_line_fq == 60:\n",
    "            self.notch_coeff1 = -0.12478308884588535\n",
    "            self.notch_coeff2 = 0.98729186796473023\n",
    "            self.notch_coeff3 = 0.99364593398236511\n",
    "            self.notch_coeff4 = -0.12478308884588535\n",
    "            self.notch_coeff5 = 0.99364593398236511\n",
    "        else:\n",
    "            self.notch_coeff1 = -0.61410695998423581\n",
    "            self.notch_coeff2 =  0.98729186796473023\n",
    "            self.notch_coeff3 = 0.99364593398236511\n",
    "            self.notch_coeff4 = -0.61410695998423581\n",
    "            self.notch_coeff5 = 0.99364593398236511\n",
    "        self.dfs = [np.zeros(self.nb_channels), np.zeros(self.nb_channels)]\n",
    "        \n",
    "        self.moving_average = None\n",
    "        self.moving_variance = np.zeros(self.nb_channels)\n",
    "        self.ALPHA_AVG = alpha_avg\n",
    "        self.ALPHA_STD = alpha_std\n",
    "        self.EPSILON = epsilon\n",
    "        \n",
    "        if use_custom_fir:\n",
    "            self.fir_coef = firwin(numtaps=custom_fir_order+1, cutoff=custom_fir_cutoff, fs=sampling_rate)\n",
    "        else:\n",
    "            self.fir_coef = [\n",
    "                0.001623780150148094927192721215192250384,\n",
    "                0.014988684599373741992978104065059596905,\n",
    "                0.021287595318265635502275046064823982306,\n",
    "                0.007349500393709578957568417933998716762,\n",
    "                -0.025127515717112181709014251396183681209,\n",
    "                -0.052210507359822452833064687638398027048,\n",
    "                -0.039273839505489904766477593511808663607,\n",
    "                0.033021568427940004020193498490698402748,\n",
    "                0.147606943281569008563636202779889572412,\n",
    "                0.254000252034505602516389899392379447818,\n",
    "                0.297330876398883392486283128164359368384,\n",
    "                0.254000252034505602516389899392379447818,\n",
    "                0.147606943281569008563636202779889572412,\n",
    "                0.033021568427940004020193498490698402748,\n",
    "                -0.039273839505489904766477593511808663607,\n",
    "                -0.052210507359822452833064687638398027048,\n",
    "                -0.025127515717112181709014251396183681209,\n",
    "                0.007349500393709578957568417933998716762,\n",
    "                0.021287595318265635502275046064823982306,\n",
    "                0.014988684599373741992978104065059596905,\n",
    "                0.001623780150148094927192721215192250384]\n",
    "        self.fir = FIR(self.nb_channels, self.fir_coef)\n",
    "        \n",
    "    def filter(self, value):\n",
    "        \"\"\"\n",
    "        value: a numpy array of shape (data series, channels)\n",
    "        \"\"\"\n",
    "        for i, x in enumerate(value):  # loop over the data series\n",
    "            # FIR:\n",
    "            if self.use_fir:\n",
    "                x = self.fir.filter(x)\n",
    "            # notch:\n",
    "            if self.use_notch:\n",
    "                denAccum = (x - self.notch_coeff1 * self.dfs[0]) - self.notch_coeff2 * self.dfs[1]\n",
    "                x = (self.notch_coeff3 * denAccum + self.notch_coeff4 * self.dfs[0]) + self.notch_coeff5 * self.dfs[1]\n",
    "                self.dfs[1] = self.dfs[0]\n",
    "                self.dfs[0] = denAccum\n",
    "            # standardization:\n",
    "            if self.use_std:\n",
    "                if self.moving_average is not None:\n",
    "                    delta = x - self.moving_average\n",
    "                    self.moving_average = self.moving_average + self.ALPHA_AVG * delta\n",
    "                    self.moving_variance = (1 - self.ALPHA_STD) * (self.moving_variance + self.ALPHA_STD * delta**2)\n",
    "                    moving_std = np.sqrt(self.moving_variance)\n",
    "                    x = (x - self.moving_average) / (moving_std + self.EPSILON)\n",
    "                else:\n",
    "                    self.moving_average = x\n",
    "            value[i] = x\n",
    "        return value"
   ]
  },
  {
   "attachments": {},
   "cell_type": "markdown",
   "metadata": {},
   "source": [
    "## Loading the data\n",
    "Here, we'll load all the EDF files from the right place."
   ]
  },
  {
   "cell_type": "code",
   "execution_count": 3,
   "metadata": {},
   "outputs": [],
   "source": [
    "import pyedflib"
   ]
  },
  {
   "cell_type": "code",
   "execution_count": 4,
   "metadata": {},
   "outputs": [],
   "source": [
    "unfiltered_mass = \"/project/portiloop_transformer/transformiloop/dataset/MASS_preds/\"\n",
    "dest_mass = \"/project/portiloop-training/portiloop_software/dataset/MASS\""
   ]
  },
  {
   "cell_type": "code",
   "execution_count": 22,
   "metadata": {},
   "outputs": [
    {
     "name": "stdout",
     "output_type": "stream",
     "text": [
      "Reading 01-01-0035.edf...\n",
      "Filtering 01-01-0035.edf...\n",
      "Filtered 01-01-0035.edf\n",
      "Writing new edf file /project/portiloop-training/portiloop_software/dataset/MASS/01-01-0035.edf...\n"
     ]
    },
    {
     "name": "stderr",
     "output_type": "stream",
     "text": [
      "/project/portiloop-training/venv/lib/python3.10/site-packages/pyedflib/edfwriter.py:92: UserWarning: Physical minimum for channel 0 (CH_0) is -25.818547300589163, which has 19 chars, however, EDF+ can only save 8 chars, will be truncated to -25.8185, some loss of precision is to be expected\n",
      "  warnings.warn('Physical minimum for channel {} ({}) is {}, which has {} chars, '\\\n",
      "/project/portiloop-training/venv/lib/python3.10/site-packages/pyedflib/edfwriter.py:99: UserWarning: Physical minimum for channel 0 (CH_0) is 28.46786190033405, which has 17 chars, however, EDF+ can only save 8 chars, will be truncated to 28.46786, some loss of precision is to be expected.\n",
      "  warnings.warn('Physical minimum for channel {} ({}) is {}, which has {} chars, '\\\n"
     ]
    },
    {
     "name": "stdout",
     "output_type": "stream",
     "text": [
      "Reading 01-03-0004.edf...\n",
      "Filtering 01-03-0004.edf...\n",
      "Filtered 01-03-0004.edf\n",
      "Writing new edf file /project/portiloop-training/portiloop_software/dataset/MASS/01-03-0004.edf...\n"
     ]
    },
    {
     "name": "stderr",
     "output_type": "stream",
     "text": [
      "/project/portiloop-training/venv/lib/python3.10/site-packages/pyedflib/edfwriter.py:92: UserWarning: Physical minimum for channel 0 (CH_0) is -19.981151775100365, which has 19 chars, however, EDF+ can only save 8 chars, will be truncated to -19.9811, some loss of precision is to be expected\n",
      "  warnings.warn('Physical minimum for channel {} ({}) is {}, which has {} chars, '\\\n",
      "/project/portiloop-training/venv/lib/python3.10/site-packages/pyedflib/edfwriter.py:99: UserWarning: Physical minimum for channel 0 (CH_0) is 17.78638696749601, which has 17 chars, however, EDF+ can only save 8 chars, will be truncated to 17.78638, some loss of precision is to be expected.\n",
      "  warnings.warn('Physical minimum for channel {} ({}) is {}, which has {} chars, '\\\n"
     ]
    },
    {
     "name": "stdout",
     "output_type": "stream",
     "text": [
      "Reading 01-01-0004.edf...\n",
      "Filtering 01-01-0004.edf...\n",
      "Filtered 01-01-0004.edf\n",
      "Writing new edf file /project/portiloop-training/portiloop_software/dataset/MASS/01-01-0004.edf...\n"
     ]
    },
    {
     "name": "stderr",
     "output_type": "stream",
     "text": [
      "/project/portiloop-training/venv/lib/python3.10/site-packages/pyedflib/edfwriter.py:92: UserWarning: Physical minimum for channel 0 (CH_0) is -13.433949330685216, which has 19 chars, however, EDF+ can only save 8 chars, will be truncated to -13.4339, some loss of precision is to be expected\n",
      "  warnings.warn('Physical minimum for channel {} ({}) is {}, which has {} chars, '\\\n",
      "/project/portiloop-training/venv/lib/python3.10/site-packages/pyedflib/edfwriter.py:99: UserWarning: Physical minimum for channel 0 (CH_0) is 15.524641846390741, which has 18 chars, however, EDF+ can only save 8 chars, will be truncated to 15.52464, some loss of precision is to be expected.\n",
      "  warnings.warn('Physical minimum for channel {} ({}) is {}, which has {} chars, '\\\n"
     ]
    },
    {
     "name": "stdout",
     "output_type": "stream",
     "text": [
      "Reading 01-03-0055.edf...\n",
      "Filtering 01-03-0055.edf...\n",
      "Filtered 01-03-0055.edf\n",
      "Writing new edf file /project/portiloop-training/portiloop_software/dataset/MASS/01-03-0055.edf...\n"
     ]
    },
    {
     "name": "stderr",
     "output_type": "stream",
     "text": [
      "/project/portiloop-training/venv/lib/python3.10/site-packages/pyedflib/edfwriter.py:92: UserWarning: Physical minimum for channel 0 (CH_0) is -24.113546728082188, which has 19 chars, however, EDF+ can only save 8 chars, will be truncated to -24.1135, some loss of precision is to be expected\n",
      "  warnings.warn('Physical minimum for channel {} ({}) is {}, which has {} chars, '\\\n",
      "/project/portiloop-training/venv/lib/python3.10/site-packages/pyedflib/edfwriter.py:99: UserWarning: Physical minimum for channel 0 (CH_0) is 21.167146627498493, which has 18 chars, however, EDF+ can only save 8 chars, will be truncated to 21.16714, some loss of precision is to be expected.\n",
      "  warnings.warn('Physical minimum for channel {} ({}) is {}, which has {} chars, '\\\n"
     ]
    },
    {
     "name": "stdout",
     "output_type": "stream",
     "text": [
      "Reading 01-03-0015.edf...\n",
      "Filtering 01-03-0015.edf...\n",
      "Filtered 01-03-0015.edf\n",
      "Writing new edf file /project/portiloop-training/portiloop_software/dataset/MASS/01-03-0015.edf...\n"
     ]
    },
    {
     "name": "stderr",
     "output_type": "stream",
     "text": [
      "/project/portiloop-training/venv/lib/python3.10/site-packages/pyedflib/edfwriter.py:92: UserWarning: Physical minimum for channel 0 (CH_0) is -14.9274543828998, which has 17 chars, however, EDF+ can only save 8 chars, will be truncated to -14.9274, some loss of precision is to be expected\n",
      "  warnings.warn('Physical minimum for channel {} ({}) is {}, which has {} chars, '\\\n",
      "/project/portiloop-training/venv/lib/python3.10/site-packages/pyedflib/edfwriter.py:99: UserWarning: Physical minimum for channel 0 (CH_0) is 18.81950370982681, which has 17 chars, however, EDF+ can only save 8 chars, will be truncated to 18.81950, some loss of precision is to be expected.\n",
      "  warnings.warn('Physical minimum for channel {} ({}) is {}, which has {} chars, '\\\n"
     ]
    },
    {
     "name": "stdout",
     "output_type": "stream",
     "text": [
      "Reading 01-03-0026.edf...\n",
      "Filtering 01-03-0026.edf...\n",
      "Filtered 01-03-0026.edf\n",
      "Writing new edf file /project/portiloop-training/portiloop_software/dataset/MASS/01-03-0026.edf...\n"
     ]
    },
    {
     "name": "stderr",
     "output_type": "stream",
     "text": [
      "/project/portiloop-training/venv/lib/python3.10/site-packages/pyedflib/edfwriter.py:92: UserWarning: Physical minimum for channel 0 (CH_0) is -18.702675309623483, which has 19 chars, however, EDF+ can only save 8 chars, will be truncated to -18.7026, some loss of precision is to be expected\n",
      "  warnings.warn('Physical minimum for channel {} ({}) is {}, which has {} chars, '\\\n",
      "/project/portiloop-training/venv/lib/python3.10/site-packages/pyedflib/edfwriter.py:99: UserWarning: Physical minimum for channel 0 (CH_0) is 24.03170504802118, which has 17 chars, however, EDF+ can only save 8 chars, will be truncated to 24.03170, some loss of precision is to be expected.\n",
      "  warnings.warn('Physical minimum for channel {} ({}) is {}, which has {} chars, '\\\n"
     ]
    },
    {
     "name": "stdout",
     "output_type": "stream",
     "text": [
      "Reading 01-03-0033.edf...\n",
      "Filtering 01-03-0033.edf...\n",
      "Filtered 01-03-0033.edf\n",
      "Writing new edf file /project/portiloop-training/portiloop_software/dataset/MASS/01-03-0033.edf...\n"
     ]
    },
    {
     "name": "stderr",
     "output_type": "stream",
     "text": [
      "/project/portiloop-training/venv/lib/python3.10/site-packages/pyedflib/edfwriter.py:92: UserWarning: Physical minimum for channel 0 (CH_0) is -11.707422273438501, which has 19 chars, however, EDF+ can only save 8 chars, will be truncated to -11.7074, some loss of precision is to be expected\n",
      "  warnings.warn('Physical minimum for channel {} ({}) is {}, which has {} chars, '\\\n",
      "/project/portiloop-training/venv/lib/python3.10/site-packages/pyedflib/edfwriter.py:99: UserWarning: Physical minimum for channel 0 (CH_0) is 14.029346717833972, which has 18 chars, however, EDF+ can only save 8 chars, will be truncated to 14.02934, some loss of precision is to be expected.\n",
      "  warnings.warn('Physical minimum for channel {} ({}) is {}, which has {} chars, '\\\n"
     ]
    },
    {
     "name": "stdout",
     "output_type": "stream",
     "text": [
      "Reading 01-03-0030.edf...\n",
      "Filtering 01-03-0030.edf...\n",
      "Filtered 01-03-0030.edf\n",
      "Writing new edf file /project/portiloop-training/portiloop_software/dataset/MASS/01-03-0030.edf...\n"
     ]
    },
    {
     "name": "stderr",
     "output_type": "stream",
     "text": [
      "/project/portiloop-training/venv/lib/python3.10/site-packages/pyedflib/edfwriter.py:92: UserWarning: Physical minimum for channel 0 (CH_0) is -19.744303351935258, which has 19 chars, however, EDF+ can only save 8 chars, will be truncated to -19.7443, some loss of precision is to be expected\n",
      "  warnings.warn('Physical minimum for channel {} ({}) is {}, which has {} chars, '\\\n",
      "/project/portiloop-training/venv/lib/python3.10/site-packages/pyedflib/edfwriter.py:99: UserWarning: Physical minimum for channel 0 (CH_0) is 18.23734823162139, which has 17 chars, however, EDF+ can only save 8 chars, will be truncated to 18.23734, some loss of precision is to be expected.\n",
      "  warnings.warn('Physical minimum for channel {} ({}) is {}, which has {} chars, '\\\n"
     ]
    },
    {
     "name": "stdout",
     "output_type": "stream",
     "text": [
      "Reading 01-01-0006.edf...\n",
      "Filtering 01-01-0006.edf...\n",
      "Filtered 01-01-0006.edf\n",
      "Writing new edf file /project/portiloop-training/portiloop_software/dataset/MASS/01-01-0006.edf...\n"
     ]
    },
    {
     "name": "stderr",
     "output_type": "stream",
     "text": [
      "/project/portiloop-training/venv/lib/python3.10/site-packages/pyedflib/edfwriter.py:92: UserWarning: Physical minimum for channel 0 (CH_0) is -18.05543356942415, which has 18 chars, however, EDF+ can only save 8 chars, will be truncated to -18.0554, some loss of precision is to be expected\n",
      "  warnings.warn('Physical minimum for channel {} ({}) is {}, which has {} chars, '\\\n",
      "/project/portiloop-training/venv/lib/python3.10/site-packages/pyedflib/edfwriter.py:99: UserWarning: Physical minimum for channel 0 (CH_0) is 18.765206132724952, which has 18 chars, however, EDF+ can only save 8 chars, will be truncated to 18.76520, some loss of precision is to be expected.\n",
      "  warnings.warn('Physical minimum for channel {} ({}) is {}, which has {} chars, '\\\n"
     ]
    },
    {
     "name": "stdout",
     "output_type": "stream",
     "text": [
      "Reading 01-02-0002.edf...\n",
      "Filtering 01-02-0002.edf...\n",
      "Filtered 01-02-0002.edf\n",
      "Writing new edf file /project/portiloop-training/portiloop_software/dataset/MASS/01-02-0002.edf...\n"
     ]
    },
    {
     "name": "stderr",
     "output_type": "stream",
     "text": [
      "/project/portiloop-training/venv/lib/python3.10/site-packages/pyedflib/edfwriter.py:92: UserWarning: Physical minimum for channel 0 (CH_0) is -20.77110128137139, which has 18 chars, however, EDF+ can only save 8 chars, will be truncated to -20.7711, some loss of precision is to be expected\n",
      "  warnings.warn('Physical minimum for channel {} ({}) is {}, which has {} chars, '\\\n",
      "/project/portiloop-training/venv/lib/python3.10/site-packages/pyedflib/edfwriter.py:99: UserWarning: Physical minimum for channel 0 (CH_0) is 13.408557616623595, which has 18 chars, however, EDF+ can only save 8 chars, will be truncated to 13.40855, some loss of precision is to be expected.\n",
      "  warnings.warn('Physical minimum for channel {} ({}) is {}, which has {} chars, '\\\n"
     ]
    },
    {
     "name": "stdout",
     "output_type": "stream",
     "text": [
      "Reading 01-03-0045.edf...\n",
      "Filtering 01-03-0045.edf...\n",
      "Filtered 01-03-0045.edf\n",
      "Writing new edf file /project/portiloop-training/portiloop_software/dataset/MASS/01-03-0045.edf...\n"
     ]
    },
    {
     "name": "stderr",
     "output_type": "stream",
     "text": [
      "/project/portiloop-training/venv/lib/python3.10/site-packages/pyedflib/edfwriter.py:92: UserWarning: Physical minimum for channel 0 (CH_0) is -22.3744072031197, which has 17 chars, however, EDF+ can only save 8 chars, will be truncated to -22.3744, some loss of precision is to be expected\n",
      "  warnings.warn('Physical minimum for channel {} ({}) is {}, which has {} chars, '\\\n",
      "/project/portiloop-training/venv/lib/python3.10/site-packages/pyedflib/edfwriter.py:99: UserWarning: Physical minimum for channel 0 (CH_0) is 23.8944677592876, which has 16 chars, however, EDF+ can only save 8 chars, will be truncated to 23.89446, some loss of precision is to be expected.\n",
      "  warnings.warn('Physical minimum for channel {} ({}) is {}, which has {} chars, '\\\n"
     ]
    },
    {
     "name": "stdout",
     "output_type": "stream",
     "text": [
      "Reading 01-03-0035.edf...\n",
      "Filtering 01-03-0035.edf...\n",
      "Filtered 01-03-0035.edf\n",
      "Writing new edf file /project/portiloop-training/portiloop_software/dataset/MASS/01-03-0035.edf...\n"
     ]
    },
    {
     "name": "stderr",
     "output_type": "stream",
     "text": [
      "/project/portiloop-training/venv/lib/python3.10/site-packages/pyedflib/edfwriter.py:92: UserWarning: Physical minimum for channel 0 (CH_0) is -17.455456062119072, which has 19 chars, however, EDF+ can only save 8 chars, will be truncated to -17.4554, some loss of precision is to be expected\n",
      "  warnings.warn('Physical minimum for channel {} ({}) is {}, which has {} chars, '\\\n",
      "/project/portiloop-training/venv/lib/python3.10/site-packages/pyedflib/edfwriter.py:99: UserWarning: Physical minimum for channel 0 (CH_0) is 16.34955543328713, which has 17 chars, however, EDF+ can only save 8 chars, will be truncated to 16.34955, some loss of precision is to be expected.\n",
      "  warnings.warn('Physical minimum for channel {} ({}) is {}, which has {} chars, '\\\n"
     ]
    },
    {
     "name": "stdout",
     "output_type": "stream",
     "text": [
      "Reading 01-01-0014.edf...\n",
      "Filtering 01-01-0014.edf...\n",
      "Filtered 01-01-0014.edf\n",
      "Writing new edf file /project/portiloop-training/portiloop_software/dataset/MASS/01-01-0014.edf...\n"
     ]
    },
    {
     "name": "stderr",
     "output_type": "stream",
     "text": [
      "/project/portiloop-training/venv/lib/python3.10/site-packages/pyedflib/edfwriter.py:92: UserWarning: Physical minimum for channel 0 (CH_0) is -21.421914816760026, which has 19 chars, however, EDF+ can only save 8 chars, will be truncated to -21.4219, some loss of precision is to be expected\n",
      "  warnings.warn('Physical minimum for channel {} ({}) is {}, which has {} chars, '\\\n",
      "/project/portiloop-training/venv/lib/python3.10/site-packages/pyedflib/edfwriter.py:99: UserWarning: Physical minimum for channel 0 (CH_0) is 18.805584000572598, which has 18 chars, however, EDF+ can only save 8 chars, will be truncated to 18.80558, some loss of precision is to be expected.\n",
      "  warnings.warn('Physical minimum for channel {} ({}) is {}, which has {} chars, '\\\n"
     ]
    },
    {
     "name": "stdout",
     "output_type": "stream",
     "text": [
      "Reading 01-03-0011.edf...\n",
      "Filtering 01-03-0011.edf...\n",
      "Filtered 01-03-0011.edf\n",
      "Writing new edf file /project/portiloop-training/portiloop_software/dataset/MASS/01-03-0011.edf...\n"
     ]
    },
    {
     "name": "stderr",
     "output_type": "stream",
     "text": [
      "/project/portiloop-training/venv/lib/python3.10/site-packages/pyedflib/edfwriter.py:92: UserWarning: Physical minimum for channel 0 (CH_0) is -13.142200709594473, which has 19 chars, however, EDF+ can only save 8 chars, will be truncated to -13.1422, some loss of precision is to be expected\n",
      "  warnings.warn('Physical minimum for channel {} ({}) is {}, which has {} chars, '\\\n",
      "/project/portiloop-training/venv/lib/python3.10/site-packages/pyedflib/edfwriter.py:99: UserWarning: Physical minimum for channel 0 (CH_0) is 16.313510297374226, which has 18 chars, however, EDF+ can only save 8 chars, will be truncated to 16.31351, some loss of precision is to be expected.\n",
      "  warnings.warn('Physical minimum for channel {} ({}) is {}, which has {} chars, '\\\n"
     ]
    },
    {
     "name": "stdout",
     "output_type": "stream",
     "text": [
      "Reading 01-03-0006.edf...\n",
      "Filtering 01-03-0006.edf...\n",
      "Filtered 01-03-0006.edf\n",
      "Writing new edf file /project/portiloop-training/portiloop_software/dataset/MASS/01-03-0006.edf...\n"
     ]
    },
    {
     "name": "stderr",
     "output_type": "stream",
     "text": [
      "/project/portiloop-training/venv/lib/python3.10/site-packages/pyedflib/edfwriter.py:92: UserWarning: Physical minimum for channel 0 (CH_0) is -9.662214480096974, which has 18 chars, however, EDF+ can only save 8 chars, will be truncated to -9.66221, some loss of precision is to be expected\n",
      "  warnings.warn('Physical minimum for channel {} ({}) is {}, which has {} chars, '\\\n",
      "/project/portiloop-training/venv/lib/python3.10/site-packages/pyedflib/edfwriter.py:99: UserWarning: Physical minimum for channel 0 (CH_0) is 10.572786411918162, which has 18 chars, however, EDF+ can only save 8 chars, will be truncated to 10.57278, some loss of precision is to be expected.\n",
      "  warnings.warn('Physical minimum for channel {} ({}) is {}, which has {} chars, '\\\n"
     ]
    },
    {
     "name": "stdout",
     "output_type": "stream",
     "text": [
      "Reading 01-03-0051.edf...\n",
      "Filtering 01-03-0051.edf...\n",
      "Filtered 01-03-0051.edf\n",
      "Writing new edf file /project/portiloop-training/portiloop_software/dataset/MASS/01-03-0051.edf...\n"
     ]
    },
    {
     "name": "stderr",
     "output_type": "stream",
     "text": [
      "/project/portiloop-training/venv/lib/python3.10/site-packages/pyedflib/edfwriter.py:92: UserWarning: Physical minimum for channel 0 (CH_0) is -16.9696331653949, which has 17 chars, however, EDF+ can only save 8 chars, will be truncated to -16.9696, some loss of precision is to be expected\n",
      "  warnings.warn('Physical minimum for channel {} ({}) is {}, which has {} chars, '\\\n",
      "/project/portiloop-training/venv/lib/python3.10/site-packages/pyedflib/edfwriter.py:99: UserWarning: Physical minimum for channel 0 (CH_0) is 14.200280671292044, which has 18 chars, however, EDF+ can only save 8 chars, will be truncated to 14.20028, some loss of precision is to be expected.\n",
      "  warnings.warn('Physical minimum for channel {} ({}) is {}, which has {} chars, '\\\n"
     ]
    },
    {
     "name": "stdout",
     "output_type": "stream",
     "text": [
      "Reading patient_info.csv...\n"
     ]
    },
    {
     "ename": "OSError",
     "evalue": "/project/portiloop_transformer/transformiloop/dataset/MASS_preds/patient_info.csv: the file is not EDF(+) or BDF(+) compliant (it contains format errors)",
     "output_type": "error",
     "traceback": [
      "\u001b[0;31m---------------------------------------------------------------------------\u001b[0m",
      "\u001b[0;31mOSError\u001b[0m                                   Traceback (most recent call last)",
      "Cell \u001b[0;32mIn[22], line 12\u001b[0m\n\u001b[1;32m      8\u001b[0m \u001b[39mfor\u001b[39;00m file \u001b[39min\u001b[39;00m os\u001b[39m.\u001b[39mlistdir(unfiltered_mass):\n\u001b[1;32m      9\u001b[0m \n\u001b[1;32m     10\u001b[0m     \u001b[39m# Reading\u001b[39;00m\n\u001b[1;32m     11\u001b[0m     \u001b[39mprint\u001b[39m(\u001b[39mf\u001b[39m\u001b[39m\"\u001b[39m\u001b[39mReading \u001b[39m\u001b[39m{\u001b[39;00mfile\u001b[39m}\u001b[39;00m\u001b[39m...\u001b[39m\u001b[39m\"\u001b[39m)\n\u001b[0;32m---> 12\u001b[0m     \u001b[39mwith\u001b[39;00m pyedflib\u001b[39m.\u001b[39;49mEdfReader(os\u001b[39m.\u001b[39;49mpath\u001b[39m.\u001b[39;49mjoin(unfiltered_mass, file)) \u001b[39mas\u001b[39;00m f:\n\u001b[1;32m     13\u001b[0m         data \u001b[39m=\u001b[39m f\u001b[39m.\u001b[39mreadSignal(\u001b[39m0\u001b[39m)\n\u001b[1;32m     15\u001b[0m     \u001b[39m# Filtering\u001b[39;00m\n",
      "File \u001b[0;32mpyedflib/_extensions/_pyedflib.pyx:146\u001b[0m, in \u001b[0;36mpyedflib._extensions._pyedflib.CyEdfReader.__init__\u001b[0;34m()\u001b[0m\n",
      "File \u001b[0;32mpyedflib/_extensions/_pyedflib.pyx:209\u001b[0m, in \u001b[0;36mpyedflib._extensions._pyedflib.CyEdfReader.open\u001b[0;34m()\u001b[0m\n",
      "File \u001b[0;32mpyedflib/_extensions/_pyedflib.pyx:181\u001b[0m, in \u001b[0;36mpyedflib._extensions._pyedflib.CyEdfReader.check_open_ok\u001b[0;34m()\u001b[0m\n",
      "\u001b[0;31mOSError\u001b[0m: /project/portiloop_transformer/transformiloop/dataset/MASS_preds/patient_info.csv: the file is not EDF(+) or BDF(+) compliant (it contains format errors)"
     ]
    }
   ],
   "source": [
    "import os\n",
    "import pyedflib\n",
    "from pyedflib.highlevel import write_edf_quick\n",
    "\n",
    "\n",
    "filtering = FilterPipeline(nb_channels=1, sampling_rate=250)\n",
    "\n",
    "for file in os.listdir(unfiltered_mass):\n",
    "\n",
    "    if file in os.listdir(dest_mass):\n",
    "        print(f\"{file} already filtered\")\n",
    "        continue\n",
    "    \n",
    "    # Check if file extension is edf\n",
    "    if not file.endswith(\".edf\"):\n",
    "        print(f\"{file} is not an edf file\")\n",
    "        continue\n",
    "\n",
    "    # Reading\n",
    "    print(f\"Reading {file}...\")\n",
    "    with pyedflib.EdfReader(os.path.join(unfiltered_mass, file)) as f:\n",
    "        data = f.readSignal(0)\n",
    "\n",
    "    # Filtering\n",
    "    print(f\"Filtering {file}...\")\n",
    "    data_filtered = [filtering.filter([point])[0].item() for point in data]\n",
    "    print(f\"Filtered {file}\")\n",
    "\n",
    "    out_file = os.path.join(dest_mass, file)\n",
    "    fe_out = 250\n",
    "    signals = np.array([data_filtered])\n",
    "    print(f\"Writing new edf file {out_file}...\")\n",
    "    write_edf_quick(out_file, signals, fe_out)\n"
   ]
  },
  {
   "cell_type": "code",
   "execution_count": 15,
   "metadata": {},
   "outputs": [
    {
     "name": "stdout",
     "output_type": "stream",
     "text": [
      "Writing new edf file /project/portiloop-training/portiloop_software/dataset/MASS/01-01-0001.edf\n"
     ]
    },
    {
     "name": "stderr",
     "output_type": "stream",
     "text": [
      "/project/portiloop-training/venv/lib/python3.10/site-packages/pyedflib/edfwriter.py:92: UserWarning: Physical minimum for channel 0 (CH_0) is -28.466204990970578, which has 19 chars, however, EDF+ can only save 8 chars, will be truncated to -28.4662, some loss of precision is to be expected\n",
      "  warnings.warn('Physical minimum for channel {} ({}) is {}, which has {} chars, '\\\n",
      "/project/portiloop-training/venv/lib/python3.10/site-packages/pyedflib/edfwriter.py:99: UserWarning: Physical minimum for channel 0 (CH_0) is 20.08902067538717, which has 17 chars, however, EDF+ can only save 8 chars, will be truncated to 20.08902, some loss of precision is to be expected.\n",
      "  warnings.warn('Physical minimum for channel {} ({}) is {}, which has {} chars, '\\\n"
     ]
    },
    {
     "data": {
      "text/plain": [
       "True"
      ]
     },
     "execution_count": 15,
     "metadata": {},
     "output_type": "execute_result"
    }
   ],
   "source": [
    "\n",
    "# Write to a new EDF file\n"
   ]
  }
 ],
 "metadata": {
  "kernelspec": {
   "display_name": "venv",
   "language": "python",
   "name": "python3"
  },
  "language_info": {
   "codemirror_mode": {
    "name": "ipython",
    "version": 3
   },
   "file_extension": ".py",
   "mimetype": "text/x-python",
   "name": "python",
   "nbconvert_exporter": "python",
   "pygments_lexer": "ipython3",
   "version": "3.10.6"
  },
  "orig_nbformat": 4
 },
 "nbformat": 4,
 "nbformat_minor": 2
}
