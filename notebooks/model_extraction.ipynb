{
 "cells": [
  {
   "cell_type": "code",
   "execution_count": 1,
   "metadata": {},
   "outputs": [],
   "source": [
    "import random\n",
    "import numpy as np\n",
    "import tensorflow as tf\n",
    "\n",
    "SEED=1995\n",
    "\n",
    "np.random.seed(SEED)\n",
    "random.seed(SEED)\n",
    "tf.random.set_seed(SEED)\n",
    "\n",
    "gru_tf = tf.keras.layers.GRU(\n",
    "    units=5,\n",
    "    return_sequences=True,\n",
    "    kernel_initializer=tf.keras.initializers.GlorotUniform(seed=SEED),\n",
    "    recurrent_initializer=tf.keras.initializers.Orthogonal(seed=SEED),\n",
    "    bias_initializer=tf.keras.initializers.GlorotUniform(seed=SEED)\n",
    ")\n",
    "\n",
    "y_tf = gru_tf(tf.ones((1, 3, 5)), training=False)  # forward pass with ones\n",
    "\n",
    "np.savez(\n",
    "    'tf_model_weights.npz', \n",
    "    gru_kernel=gru_tf.weights[0].numpy(), \n",
    "    gru_recurrent_kernel=gru_tf.weights[1].numpy(),\n",
    "    gru_bias=gru_tf.weights[2].numpy()\n",
    ")"
   ]
  },
  {
   "cell_type": "code",
   "execution_count": 2,
   "metadata": {},
   "outputs": [],
   "source": [
    "import random as r\n",
    "import numpy as np\n",
    "import torch\n",
    "\n",
    "SEED=1995\n",
    "torch.set_printoptions(precision=8)\n",
    "\n",
    "r.seed(SEED)\n",
    "np.random.seed(SEED)\n",
    "torch.manual_seed(SEED)\n",
    "\n",
    "# from speechbrain.nnet.RNN import GRU, LSTM\n",
    "\n",
    "npz_weights = np.load('tf_model_weights.npz')\n",
    "\n",
    "\n",
    "def convert_input_kernel_inv(kernel):\n",
    "    kernel_r, kernel_z, kernel_h = np.hsplit(kernel, 3)\n",
    "    return np.concatenate((kernel_z.T, kernel_r.T, kernel_h.T))\n",
    "    \n",
    "\n",
    "def convert_recurrent_kernel_inv(kernel):\n",
    "    kernel_r, kernel_z, kernel_h = np.hsplit(kernel, 3)\n",
    "    return np.concatenate((kernel_z.T, kernel_r.T, kernel_h.T))\n",
    "\n",
    "\n",
    "def convert_bias_inv(bias):\n",
    "    bias = bias.reshape(2, 3, -1) \n",
    "    return bias[:, [1, 0, 2], :].reshape((2, -1))\n",
    "\n",
    "\n",
    "gru_pt = torch.nn.GRU(\n",
    "    hidden_size=5,\n",
    "    input_size=5,\n",
    "    num_layers=1,\n",
    "    bidirectional=False,\n",
    "    batch_first=True\n",
    ")\n",
    "for pn, p in gru_pt.named_parameters():\n",
    "    if 'weight_ih' in pn:\n",
    "        p.data = torch.from_numpy(convert_input_kernel_inv(npz_weights['gru_kernel']))\n",
    "    elif 'weight_hh' in pn:\n",
    "        p.data = torch.from_numpy(convert_recurrent_kernel_inv(npz_weights['gru_recurrent_kernel']))\n",
    "    elif 'bias_ih' in pn:\n",
    "        p.data = torch.from_numpy(convert_bias_inv(npz_weights['gru_bias'])[0])\n",
    "    else:\n",
    "        p.data = torch.from_numpy(convert_bias_inv(npz_weights['gru_bias'])[1])"
   ]
  },
  {
   "cell_type": "code",
   "execution_count": 3,
   "metadata": {},
   "outputs": [
    {
     "data": {
      "text/plain": [
       "<tf.Tensor: shape=(1, 3, 5), dtype=float32, numpy=\n",
       "array([[[-0.7925101 , -0.40041846,  0.20510904,  0.13561569,\n",
       "          0.28905517],\n",
       "        [-0.9018102 , -0.5436267 ,  0.2940711 ,  0.23402843,\n",
       "          0.48948967],\n",
       "        [-0.9190761 , -0.58599323,  0.34698206,  0.30531275,\n",
       "          0.58507884]]], dtype=float32)>"
      ]
     },
     "execution_count": 3,
     "metadata": {},
     "output_type": "execute_result"
    }
   ],
   "source": [
    "y_tf"
   ]
  },
  {
   "cell_type": "code",
   "execution_count": 4,
   "metadata": {},
   "outputs": [
    {
     "data": {
      "text/plain": [
       "GRU(5, 5, batch_first=True)"
      ]
     },
     "execution_count": 4,
     "metadata": {},
     "output_type": "execute_result"
    }
   ],
   "source": [
    "gru_pt.eval()"
   ]
  },
  {
   "cell_type": "code",
   "execution_count": 5,
   "metadata": {},
   "outputs": [],
   "source": [
    "y_pt, _ = gru_pt(torch.ones(1, 3, 5))"
   ]
  },
  {
   "cell_type": "code",
   "execution_count": 6,
   "metadata": {},
   "outputs": [
    {
     "data": {
      "text/plain": [
       "tensor([[[-0.79250997, -0.40041843,  0.20510904,  0.13561571,  0.28905517],\n",
       "         [-0.90181017, -0.54362673,  0.29407114,  0.23402844,  0.48948961],\n",
       "         [-0.91907609, -0.58599323,  0.34698212,  0.30531275,  0.58507884]]],\n",
       "       grad_fn=<TransposeBackward1>)"
      ]
     },
     "execution_count": 6,
     "metadata": {},
     "output_type": "execute_result"
    }
   ],
   "source": [
    "y_pt"
   ]
  },
  {
   "cell_type": "code",
   "execution_count": 7,
   "metadata": {},
   "outputs": [],
   "source": [
    "def convert_kernel(kernel):\n",
    "    kernel_z, kernel_r, kernel_h = np.vsplit(kernel, 3)\n",
    "    return np.concatenate((kernel_r.T, kernel_z.T, kernel_h.T), axis=1)\n",
    "\n",
    "def convert_bias(bias):\n",
    "    bias = bias.reshape(2, 3, -1) \n",
    "    return bias[:, [1, 0, 2], :].reshape((2, -1))"
   ]
  },
  {
   "cell_type": "code",
   "execution_count": 8,
   "metadata": {},
   "outputs": [],
   "source": [
    "for pn, p in gru_pt.named_parameters():\n",
    "    if 'weight_ih' in pn:\n",
    "        kernel = p.data\n",
    "    elif 'weight_hh' in pn:\n",
    "        recurrent_kernel = p.data\n",
    "    elif 'bias_ih' in pn:\n",
    "        bias_ih = p.data\n",
    "    else:\n",
    "        bias_hh = p.data\n",
    "bias = np.stack((bias_ih, bias_hh), axis=0)"
   ]
  },
  {
   "cell_type": "code",
   "execution_count": 9,
   "metadata": {},
   "outputs": [],
   "source": [
    "bias = np.stack((bias_ih, bias_hh), axis=0)"
   ]
  },
  {
   "cell_type": "code",
   "execution_count": 10,
   "metadata": {},
   "outputs": [],
   "source": [
    "gru_tf.set_weights([convert_kernel(kernel), \n",
    "                    convert_kernel(recurrent_kernel), \n",
    "                    convert_bias(bias)])"
   ]
  },
  {
   "cell_type": "code",
   "execution_count": 11,
   "metadata": {},
   "outputs": [],
   "source": [
    "y_tf = gru_tf(tf.ones((1, 3, 5)), training=False)  # forward pass with ones"
   ]
  },
  {
   "cell_type": "code",
   "execution_count": 12,
   "metadata": {},
   "outputs": [
    {
     "data": {
      "text/plain": [
       "<tf.Tensor: shape=(1, 3, 5), dtype=float32, numpy=\n",
       "array([[[-0.7925101 , -0.40041846,  0.20510904,  0.13561569,\n",
       "          0.28905517],\n",
       "        [-0.9018102 , -0.5436267 ,  0.2940711 ,  0.23402843,\n",
       "          0.48948967],\n",
       "        [-0.9190761 , -0.58599323,  0.34698206,  0.30531275,\n",
       "          0.58507884]]], dtype=float32)>"
      ]
     },
     "execution_count": 12,
     "metadata": {},
     "output_type": "execute_result"
    }
   ],
   "source": [
    "y_tf"
   ]
  },
  {
   "cell_type": "code",
   "execution_count": 13,
   "metadata": {},
   "outputs": [],
   "source": [
    "# library imports:\n",
    "\n",
    "import pandas as pd\n",
    "from pathlib import Path\n",
    "import portiloop_software\n",
    "import torch\n",
    "from portiloop_software import run_offline_unlabelled, get_final_model_config_dict, get_trained_model\n",
    "from matplotlib import pyplot as plt\n",
    "from torchsummary import summary\n",
    "import tensorflow as tf\n",
    "from tensorflow.keras.layers import Dense, Flatten, Conv2D, Conv1D, MaxPool1D, GRU\n",
    "from tensorflow.keras import Model\n",
    "import numpy as np"
   ]
  },
  {
   "cell_type": "code",
   "execution_count": 14,
   "metadata": {},
   "outputs": [],
   "source": [
    "# path to the portiloop software package:\n",
    "\n",
    "path_software = Path(portiloop_software.__file__).parent.absolute()"
   ]
  },
  {
   "cell_type": "code",
   "execution_count": 15,
   "metadata": {},
   "outputs": [],
   "source": [
    "# path to the folder containing pre-trained models:\n",
    "\n",
    "path_experiments = path_software / 'experiments'"
   ]
  },
  {
   "cell_type": "code",
   "execution_count": 16,
   "metadata": {},
   "outputs": [],
   "source": [
    "# configuration dictionary of the model:\n",
    "\n",
    "config_dict = get_final_model_config_dict()"
   ]
  },
  {
   "cell_type": "code",
   "execution_count": 17,
   "metadata": {},
   "outputs": [],
   "source": [
    "# run offline inference (on all data points):\n",
    "\n",
    "model_torch = get_trained_model(config_dict, path_experiments)"
   ]
  },
  {
   "cell_type": "code",
   "execution_count": 18,
   "metadata": {},
   "outputs": [
    {
     "data": {
      "text/plain": [
       "PortiloopNetwork(\n",
       "  (first_layer_input1): ConvPoolModule(\n",
       "    (conv): Conv1d(1, 31, kernel_size=(7,), stride=(1,))\n",
       "    (pool): MaxPool1d(kernel_size=7, stride=1, padding=0, dilation=1, ceil_mode=False)\n",
       "    (dropout): Dropout(p=0, inplace=False)\n",
       "  )\n",
       "  (seq_input1): Sequential(\n",
       "    (0): ConvPoolModule(\n",
       "      (conv): Conv1d(31, 31, kernel_size=(7,), stride=(1,))\n",
       "      (pool): MaxPool1d(kernel_size=7, stride=1, padding=0, dilation=1, ceil_mode=False)\n",
       "      (dropout): Dropout(p=0.5, inplace=False)\n",
       "    )\n",
       "    (1): ConvPoolModule(\n",
       "      (conv): Conv1d(31, 31, kernel_size=(7,), stride=(1,))\n",
       "      (pool): MaxPool1d(kernel_size=7, stride=1, padding=0, dilation=1, ceil_mode=False)\n",
       "      (dropout): Dropout(p=0.5, inplace=False)\n",
       "    )\n",
       "  )\n",
       "  (gru_input1): GRU(558, 7, batch_first=True)\n",
       "  (fc): Linear(in_features=7, out_features=1, bias=True)\n",
       ")"
      ]
     },
     "execution_count": 18,
     "metadata": {},
     "output_type": "execute_result"
    }
   ],
   "source": [
    "model_torch"
   ]
  },
  {
   "cell_type": "code",
   "execution_count": 19,
   "metadata": {},
   "outputs": [
    {
     "name": "stdout",
     "output_type": "stream",
     "text": [
      "=================================================================\n",
      "Layer (type:depth-idx)                   Param #\n",
      "=================================================================\n",
      "├─ConvPoolModule: 1-1                    --\n",
      "|    └─Conv1d: 2-1                       248\n",
      "|    └─MaxPool1d: 2-2                    --\n",
      "|    └─Dropout: 2-3                      --\n",
      "├─Sequential: 1-2                        --\n",
      "|    └─ConvPoolModule: 2-4               --\n",
      "|    |    └─Conv1d: 3-1                  6,758\n",
      "|    |    └─MaxPool1d: 3-2               --\n",
      "|    |    └─Dropout: 3-3                 --\n",
      "|    └─ConvPoolModule: 2-5               --\n",
      "|    |    └─Conv1d: 3-4                  6,758\n",
      "|    |    └─MaxPool1d: 3-5               --\n",
      "|    |    └─Dropout: 3-6                 --\n",
      "├─GRU: 1-3                               11,907\n",
      "├─Linear: 1-4                            8\n",
      "=================================================================\n",
      "Total params: 25,679\n",
      "Trainable params: 25,679\n",
      "Non-trainable params: 0\n",
      "=================================================================\n"
     ]
    },
    {
     "data": {
      "text/plain": [
       "=================================================================\n",
       "Layer (type:depth-idx)                   Param #\n",
       "=================================================================\n",
       "├─ConvPoolModule: 1-1                    --\n",
       "|    └─Conv1d: 2-1                       248\n",
       "|    └─MaxPool1d: 2-2                    --\n",
       "|    └─Dropout: 2-3                      --\n",
       "├─Sequential: 1-2                        --\n",
       "|    └─ConvPoolModule: 2-4               --\n",
       "|    |    └─Conv1d: 3-1                  6,758\n",
       "|    |    └─MaxPool1d: 3-2               --\n",
       "|    |    └─Dropout: 3-3                 --\n",
       "|    └─ConvPoolModule: 2-5               --\n",
       "|    |    └─Conv1d: 3-4                  6,758\n",
       "|    |    └─MaxPool1d: 3-5               --\n",
       "|    |    └─Dropout: 3-6                 --\n",
       "├─GRU: 1-3                               11,907\n",
       "├─Linear: 1-4                            8\n",
       "=================================================================\n",
       "Total params: 25,679\n",
       "Trainable params: 25,679\n",
       "Non-trainable params: 0\n",
       "================================================================="
      ]
     },
     "execution_count": 19,
     "metadata": {},
     "output_type": "execute_result"
    }
   ],
   "source": [
    "summary(model_torch)"
   ]
  },
  {
   "cell_type": "code",
   "execution_count": 20,
   "metadata": {},
   "outputs": [],
   "source": [
    "import tensorflow.keras as keras\n",
    "\n",
    "class ReshapeLayer(keras.layers.Layer):\n",
    "    def init(self, target_shape, kwargs):\n",
    "        super(ReshapeLayer, self).init(kwargs)\n",
    "        self.target_shape = tuple(target_shape)\n",
    "    \n",
    "    def call(self, input):\n",
    "        # desired_shape = (int(tf.shape(input)[0]), ) + self.target_shape\n",
    "        desired_shape = (-1, 50, 558)\n",
    "        print(desired_shape)\n",
    "        return tf.reshape(input, desired_shape)"
   ]
  },
  {
   "cell_type": "code",
   "execution_count": 21,
   "metadata": {},
   "outputs": [
    {
     "name": "stdout",
     "output_type": "stream",
     "text": [
      "(-1, 50, 558)\n",
      "Model: \"sequential\"\n",
      "_________________________________________________________________\n",
      " Layer (type)                Output Shape              Param #   \n",
      "=================================================================\n",
      " reshape (Reshape)           (None, 50, 54, 1)         0         \n",
      "                                                                 \n",
      " conv1d (Conv1D)             (None, 50, 48, 31)        248       \n",
      "                                                                 \n",
      " max_pooling2d (MaxPooling2D  (None, 50, 42, 31)       0         \n",
      " )                                                               \n",
      "                                                                 \n",
      " conv1d_1 (Conv1D)           (None, 50, 36, 31)        6758      \n",
      "                                                                 \n",
      " max_pooling2d_1 (MaxPooling  (None, 50, 30, 31)       0         \n",
      " 2D)                                                             \n",
      "                                                                 \n",
      " conv1d_2 (Conv1D)           (None, 50, 24, 31)        6758      \n",
      "                                                                 \n",
      " max_pooling2d_2 (MaxPooling  (None, 50, 18, 31)       0         \n",
      " 2D)                                                             \n",
      "                                                                 \n",
      " reshape_layer (ReshapeLayer  (None, 50, 558)          0         \n",
      " )                                                               \n",
      "                                                                 \n",
      " gru_1 (GRU)                 (None, 7)                 11907     \n",
      "                                                                 \n",
      " dense (Dense)               (None, 1)                 8         \n",
      "                                                                 \n",
      "=================================================================\n",
      "Total params: 25,679\n",
      "Trainable params: 25,679\n",
      "Non-trainable params: 0\n",
      "_________________________________________________________________\n"
     ]
    }
   ],
   "source": [
    "model_keras = tf.keras.Sequential()\n",
    "model_keras.add(tf.keras.layers.Reshape((-1, 54, 1)))\n",
    "model_keras.add(tf.keras.layers.Conv1D(31, strides=[1], kernel_size=7, activation='relu'))\n",
    "model_keras.add(tf.keras.layers.MaxPooling2D(pool_size=(1, 7), strides=1, padding='valid'))\n",
    "model_keras.add(tf.keras.layers.Conv1D(31, strides=[1], kernel_size=7, activation='relu'))\n",
    "model_keras.add(tf.keras.layers.MaxPooling2D(pool_size=(1, 7), strides=1, padding='valid'))\n",
    "model_keras.add(tf.keras.layers.Conv1D(31, strides=[1], kernel_size=7, activation='relu'))\n",
    "model_keras.add(tf.keras.layers.MaxPooling2D(pool_size=(1, 7), strides=1, padding='valid'))\n",
    "# model_keras.add(tf.keras.layers.Reshape((-1, 558)))\n",
    "model_keras.add(ReshapeLayer())\n",
    "model_keras.add(GRU(units=7, time_major=False))\n",
    "model_keras.add(tf.keras.layers.Dense(1, activation='sigmoid'))\n",
    "model_keras.build((None, 50, 54))\n",
    "model_keras.summary()"
   ]
  },
  {
   "cell_type": "code",
   "execution_count": 22,
   "metadata": {},
   "outputs": [
    {
     "data": {
      "text/plain": [
       "[<keras.layers.core.reshape.Reshape at 0x136b2bced90>,\n",
       " <keras.layers.convolutional.Conv1D at 0x136ab93eca0>,\n",
       " <keras.layers.pooling.MaxPooling2D at 0x1368613a190>,\n",
       " <keras.layers.convolutional.Conv1D at 0x136ab86b460>,\n",
       " <keras.layers.pooling.MaxPooling2D at 0x1368613a850>,\n",
       " <keras.layers.convolutional.Conv1D at 0x136ab93ea90>,\n",
       " <keras.layers.pooling.MaxPooling2D at 0x136ab83d250>,\n",
       " <__main__.ReshapeLayer at 0x136ab945580>,\n",
       " <keras.layers.recurrent_v2.GRU at 0x136ab86bbe0>,\n",
       " <keras.layers.core.dense.Dense at 0x136ab931370>]"
      ]
     },
     "execution_count": 22,
     "metadata": {},
     "output_type": "execute_result"
    }
   ],
   "source": [
    "model_keras.layers"
   ]
  },
  {
   "cell_type": "code",
   "execution_count": 23,
   "metadata": {},
   "outputs": [],
   "source": [
    "torch_params = [param.detach().numpy() for param in model_torch.parameters()]"
   ]
  },
  {
   "cell_type": "code",
   "execution_count": 24,
   "metadata": {},
   "outputs": [
    {
     "name": "stdout",
     "output_type": "stream",
     "text": [
      "param 0: (31, 1, 7)\n",
      "param 1: (31,)\n",
      "param 2: (31, 31, 7)\n",
      "param 3: (31,)\n",
      "param 4: (31, 31, 7)\n",
      "param 5: (31,)\n",
      "param 6: (21, 558)\n",
      "param 7: (21, 7)\n",
      "param 8: (21,)\n",
      "param 9: (21,)\n",
      "param 10: (1, 7)\n",
      "param 11: (1,)\n"
     ]
    }
   ],
   "source": [
    "for i, param in enumerate(torch_params):\n",
    "    print(f\"param {i}: {param.shape}\")"
   ]
  },
  {
   "cell_type": "code",
   "execution_count": 25,
   "metadata": {},
   "outputs": [],
   "source": [
    "def convert_kernel_inv(kernel):\n",
    "    kernel_r, kernel_z, kernel_h = np.hsplit(kernel, 3)\n",
    "    return np.concatenate((kernel_z.T, kernel_r.T, kernel_h.T))\n",
    "\n",
    "def convert_kernel(kernel):\n",
    "    kernel_z, kernel_r, kernel_h = np.vsplit(kernel, 3)\n",
    "    return np.concatenate((kernel_r.T, kernel_z.T, kernel_h.T), axis=1)\n",
    "\n",
    "def convert_bias(bias):\n",
    "    bias = bias.reshape(2, 3, -1) \n",
    "    return bias[:, [1, 0, 2], :].reshape((2, -1))"
   ]
  },
  {
   "cell_type": "code",
   "execution_count": 26,
   "metadata": {},
   "outputs": [
    {
     "data": {
      "text/plain": [
       "[<tf.Variable 'gru_1/gru_cell_1/kernel:0' shape=(558, 21) dtype=float32, numpy=\n",
       " array([[ 0.06987111, -0.08233741, -0.01363966, ...,  0.08950477,\n",
       "          0.03794876, -0.05743991],\n",
       "        [ 0.03526143, -0.02010861,  0.04055554, ..., -0.03146853,\n",
       "          0.0947753 ,  0.06274372],\n",
       "        [ 0.05155519, -0.04070115, -0.03309855, ..., -0.05078401,\n",
       "         -0.10165539, -0.0556715 ],\n",
       "        ...,\n",
       "        [-0.04685628,  0.05984283, -0.03304814, ...,  0.06785407,\n",
       "          0.01720869,  0.08539138],\n",
       "        [-0.03967514, -0.09396231, -0.09895834, ...,  0.1006132 ,\n",
       "          0.10082895,  0.02969674],\n",
       "        [ 0.07360422,  0.03359257,  0.09591938, ...,  0.03117121,\n",
       "          0.01499479,  0.09121189]], dtype=float32)>,\n",
       " <tf.Variable 'gru_1/gru_cell_1/recurrent_kernel:0' shape=(7, 21) dtype=float32, numpy=\n",
       " array([[-0.06439924, -0.39913705,  0.13888477, -0.16469152,  0.12037365,\n",
       "         -0.04164285, -0.02109119,  0.48498216,  0.06057859,  0.02622014,\n",
       "         -0.19166383, -0.2502437 , -0.08914786, -0.24688394, -0.24372229,\n",
       "          0.29412922, -0.19208331,  0.25329462, -0.32489115, -0.09019891,\n",
       "         -0.07059297],\n",
       "        [ 0.11651931, -0.27481133,  0.12253045, -0.08813241, -0.27338555,\n",
       "          0.1583273 ,  0.12005048,  0.2314367 ,  0.07560905,  0.48561653,\n",
       "          0.09606937,  0.2765152 ,  0.3000314 ,  0.00953368,  0.00750332,\n",
       "          0.13655701,  0.34498736, -0.334808  , -0.07651103,  0.21423155,\n",
       "         -0.0378556 ],\n",
       "        [ 0.25957644,  0.29807842,  0.3052868 ,  0.15143752,  0.14789414,\n",
       "          0.19250643, -0.11675072,  0.19431633, -0.16224319,  0.06707513,\n",
       "         -0.01498475,  0.12905838, -0.07228871, -0.18385127,  0.22433437,\n",
       "          0.02335636,  0.43509546,  0.4479203 ,  0.05152517, -0.1628564 ,\n",
       "         -0.24616341],\n",
       "        [-0.2729896 ,  0.18103236,  0.00686835, -0.09127312,  0.46020657,\n",
       "         -0.27840713,  0.1946611 ,  0.24170414, -0.03049991, -0.04544829,\n",
       "          0.13006893,  0.0812289 , -0.35355535, -0.02676451,  0.14797479,\n",
       "          0.19733062,  0.1480786 , -0.42074826,  0.06255004,  0.16241051,\n",
       "         -0.23748723],\n",
       "        [ 0.37780103, -0.05790307, -0.04866154, -0.04943074,  0.2971677 ,\n",
       "         -0.21591495, -0.21558926, -0.11392651,  0.42202592, -0.18943088,\n",
       "         -0.51563334,  0.15837935,  0.22618678,  0.08770233,  0.06157947,\n",
       "          0.02651411,  0.07394177, -0.06020824, -0.03987994,  0.22172338,\n",
       "         -0.16301394],\n",
       "        [ 0.03630215, -0.09287278,  0.19859613, -0.10177528, -0.19061667,\n",
       "         -0.41430718,  0.22749667, -0.14693908, -0.08164717,  0.10398301,\n",
       "         -0.05582098,  0.1358706 ,  0.0106173 ,  0.4230925 ,  0.25156987,\n",
       "          0.4545583 , -0.13919358,  0.22782259,  0.15923423, -0.26425123,\n",
       "         -0.06617335],\n",
       "        [-0.05147867, -0.21328117, -0.2707493 ,  0.40337664,  0.08764679,\n",
       "          0.23834367,  0.595686  , -0.13991988,  0.0665615 ,  0.04934175,\n",
       "         -0.30609062, -0.16527672, -0.0016123 , -0.16090967,  0.00659461,\n",
       "          0.11255705,  0.10628357,  0.06459019,  0.27324814, -0.01668987,\n",
       "         -0.1415737 ]], dtype=float32)>,\n",
       " <tf.Variable 'gru_1/gru_cell_1/bias:0' shape=(2, 21) dtype=float32, numpy=\n",
       " array([[0., 0., 0., 0., 0., 0., 0., 0., 0., 0., 0., 0., 0., 0., 0., 0.,\n",
       "         0., 0., 0., 0., 0.],\n",
       "        [0., 0., 0., 0., 0., 0., 0., 0., 0., 0., 0., 0., 0., 0., 0., 0.,\n",
       "         0., 0., 0., 0., 0.]], dtype=float32)>]"
      ]
     },
     "execution_count": 26,
     "metadata": {},
     "output_type": "execute_result"
    }
   ],
   "source": [
    "model_keras.layers[8].weights"
   ]
  },
  {
   "cell_type": "code",
   "execution_count": 27,
   "metadata": {},
   "outputs": [
    {
     "data": {
      "text/plain": [
       "array([[-0.02185846, -0.14705312, -0.06134333, -0.21139653, -0.18442982,\n",
       "         0.00979619, -0.14749926, -0.24829413,  1.0149685 ,  0.30653724,\n",
       "        -0.07180233, -0.6962207 , -0.48068357, -0.37287533, -0.01478305,\n",
       "         0.0281016 , -0.29703212, -0.05942979,  0.1469805 ,  0.30490357,\n",
       "         0.17594711],\n",
       "       [-0.05141691, -0.14167127, -0.00835179, -0.31697038,  0.17389293,\n",
       "         0.12304442,  0.03572496, -0.31770235,  0.99044317,  0.0597805 ,\n",
       "        -0.47962168, -0.7721744 , -0.4003129 , -0.18330953,  0.1975466 ,\n",
       "         0.06060247,  0.20888945,  0.0802715 , -0.32268295,  0.0396922 ,\n",
       "        -0.1638425 ]], dtype=float32)"
      ]
     },
     "execution_count": 27,
     "metadata": {},
     "output_type": "execute_result"
    }
   ],
   "source": [
    "np.stack((torch_params[8], torch_params[9]), axis=0)"
   ]
  },
  {
   "cell_type": "code",
   "execution_count": 28,
   "metadata": {},
   "outputs": [
    {
     "data": {
      "text/plain": [
       "(21, 558)"
      ]
     },
     "execution_count": 28,
     "metadata": {},
     "output_type": "execute_result"
    }
   ],
   "source": [
    "torch_params[6].shape"
   ]
  },
  {
   "cell_type": "code",
   "execution_count": 29,
   "metadata": {},
   "outputs": [
    {
     "data": {
      "text/plain": [
       "(21, 7)"
      ]
     },
     "execution_count": 29,
     "metadata": {},
     "output_type": "execute_result"
    }
   ],
   "source": [
    "torch_params[7].shape"
   ]
  },
  {
   "cell_type": "code",
   "execution_count": 30,
   "metadata": {},
   "outputs": [
    {
     "data": {
      "text/plain": [
       "GRU(558, 7, batch_first=True)"
      ]
     },
     "execution_count": 30,
     "metadata": {},
     "output_type": "execute_result"
    }
   ],
   "source": [
    "l = [m for m in model_torch.modules()]\n",
    "gru_pt = l[14]\n",
    "gru_pt"
   ]
  },
  {
   "cell_type": "code",
   "execution_count": 31,
   "metadata": {},
   "outputs": [],
   "source": [
    "for pn, p in gru_pt.named_parameters():\n",
    "    if 'weight_ih' in pn:\n",
    "        kernel = p.data\n",
    "    elif 'weight_hh' in pn:\n",
    "        recurrent_kernel = p.data\n",
    "    elif 'bias_ih' in pn:\n",
    "        bias_ih = p.data\n",
    "    else:\n",
    "        bias_hh = p.data\n",
    "bias = np.stack((bias_ih, bias_hh), axis=0)"
   ]
  },
  {
   "cell_type": "code",
   "execution_count": 32,
   "metadata": {},
   "outputs": [],
   "source": [
    "model_keras.layers[1].set_weights([torch_params[0].T, torch_params[1].T])\n",
    "\n",
    "# Second Conv Layer:\n",
    "model_keras.layers[3].set_weights([torch_params[2].T, torch_params[3].T])\n",
    "\n",
    "# Third Conv Layer:\n",
    "model_keras.layers[5].set_weights([torch_params[4].T, torch_params[5].T])\n",
    "\n",
    "# GRU Layer:\n",
    "\n",
    "# kernel_input = convert_kernel(torch_params[6])\n",
    "# kernel_h = convert_kernel(torch_params[7])\n",
    "# bias = convert_bias(np.stack((torch_params[8], torch_params[9]), axis=0))\n",
    "\n",
    "# model_keras.layers[8].set_weights([kernel_input, \n",
    "#                                    kernel_h, \n",
    "#                                    bias])\n",
    "\n",
    "model_keras.layers[8].set_weights([convert_kernel(kernel), \n",
    "                    convert_kernel(recurrent_kernel), \n",
    "                    convert_bias(bias)])\n",
    "\n",
    "# Dense Layer:\n",
    "model_keras.layers[9].set_weights([torch_params[10].T, torch_params[11].T])"
   ]
  },
  {
   "cell_type": "code",
   "execution_count": 33,
   "metadata": {},
   "outputs": [
    {
     "data": {
      "text/plain": [
       "[<tf.Variable 'gru_1/gru_cell_1/kernel:0' shape=(558, 21) dtype=float32, numpy=\n",
       " array([[-0.16189827, -0.02721401, -0.00131223, ..., -0.0224664 ,\n",
       "         -0.10324092,  0.9781653 ],\n",
       "        [-0.04380907,  0.07253738, -0.03930822, ..., -0.04212598,\n",
       "         -0.05580707,  0.70585686],\n",
       "        [-0.22128211,  0.04012021, -0.01671478, ..., -0.07443257,\n",
       "         -0.06322375,  0.50437504],\n",
       "        ...,\n",
       "        [-0.11483102, -0.11880854, -0.21867967, ..., -0.04734865,\n",
       "         -0.17091021,  0.05709471],\n",
       "        [-0.38440633, -0.02999607, -0.02425925, ..., -0.0608215 ,\n",
       "         -0.324488  ,  0.04215567],\n",
       "        [-0.3089492 , -0.13285387,  0.00966667, ..., -0.04424573,\n",
       "         -0.311438  ,  0.10411689]], dtype=float32)>,\n",
       " <tf.Variable 'gru_1/gru_cell_1/recurrent_kernel:0' shape=(7, 21) dtype=float32, numpy=\n",
       " array([[-0.25731143,  0.20413998,  0.03256913, -0.12562902, -0.09498331,\n",
       "         -0.04637064,  0.57656753, -0.6201707 ,  0.11997185, -0.385144  ,\n",
       "         -0.16755357, -0.01406851, -0.30629292,  0.84103894,  0.26957858,\n",
       "         -0.23364532,  0.4858145 , -0.19182166, -0.02058285, -0.14663768,\n",
       "          0.20199597],\n",
       "        [-0.08290721, -0.7156107 ,  0.6436561 ,  0.8648586 ,  0.23764145,\n",
       "          0.4843558 ,  0.541567  ,  0.99050075,  0.58542514, -0.37351114,\n",
       "         -0.5361482 , -0.12143751, -0.4020688 ,  0.9570223 ,  0.6181705 ,\n",
       "          0.8609289 ,  0.1446287 ,  0.04311623, -1.0878714 ,  0.4679108 ,\n",
       "          0.5199532 ],\n",
       "        [-0.00129379, -0.3808429 , -0.3010374 ,  0.41121995,  0.30062875,\n",
       "         -0.03313773,  0.09777896, -1.049533  ,  0.05118641, -0.04941377,\n",
       "          0.18696588, -0.67202705, -0.01426913,  0.47784302, -0.40248397,\n",
       "         -0.10835762,  0.7193698 , -0.67076224,  0.56294024, -0.76738054,\n",
       "         -0.06679677],\n",
       "        [-0.383081  , -0.47720516, -0.15077524,  0.3159395 , -0.02226975,\n",
       "         -0.12925296,  0.18289088, -0.06415956,  0.99747765, -0.10408336,\n",
       "          0.23619236, -0.6557599 ,  0.02152075, -0.21043305,  0.16101497,\n",
       "         -1.2776432 ,  0.4523377 ,  0.9240666 , -0.03697446, -0.37980303,\n",
       "          0.2119384 ],\n",
       "        [ 0.47613987,  0.25982323, -0.0247053 ,  0.18450245, -0.1856036 ,\n",
       "          0.12359718,  0.04531681,  0.46495888, -0.46623012,  0.56620854,\n",
       "         -0.0826712 , -0.05039903, -0.10795129,  0.16746247, -0.24384166,\n",
       "          0.47527328,  0.3609554 , -0.3862204 ,  0.24658927,  0.00823306,\n",
       "         -0.38670537],\n",
       "        [-0.22790648,  0.5568326 ,  0.47821113,  0.2174998 ,  0.3589264 ,\n",
       "          0.00234067,  0.35112065,  0.16686618,  0.4407554 , -0.16659576,\n",
       "          0.08327495,  0.25054178,  0.7629469 ,  0.92793316,  0.18923017,\n",
       "         -0.03207939, -0.05671681,  0.22380543, -0.04293799,  0.41144708,\n",
       "         -0.07449327],\n",
       "        [-0.02701967,  0.12061775,  0.15009059,  0.07626069, -0.5685571 ,\n",
       "         -0.1676254 ,  0.00547623, -0.40365946,  0.07156827, -0.19733106,\n",
       "         -0.2179275 ,  0.07091554,  0.11236315,  0.7094855 ,  0.4993342 ,\n",
       "         -0.03916965,  0.7572489 ,  0.08080562, -0.33383942,  0.1061549 ,\n",
       "          0.6750245 ]], dtype=float32)>,\n",
       " <tf.Variable 'gru_1/gru_cell_1/bias:0' shape=(2, 21) dtype=float32, numpy=\n",
       " array([[-0.24829413,  1.0149685 ,  0.30653724, -0.07180233, -0.6962207 ,\n",
       "         -0.48068357, -0.37287533, -0.02185846, -0.14705312, -0.06134333,\n",
       "         -0.21139653, -0.18442982,  0.00979619, -0.14749926, -0.01478305,\n",
       "          0.0281016 , -0.29703212, -0.05942979,  0.1469805 ,  0.30490357,\n",
       "          0.17594711],\n",
       "        [-0.31770235,  0.99044317,  0.0597805 , -0.47962168, -0.7721744 ,\n",
       "         -0.4003129 , -0.18330953, -0.05141691, -0.14167127, -0.00835179,\n",
       "         -0.31697038,  0.17389293,  0.12304442,  0.03572496,  0.1975466 ,\n",
       "          0.06060247,  0.20888945,  0.0802715 , -0.32268295,  0.0396922 ,\n",
       "         -0.1638425 ]], dtype=float32)>]"
      ]
     },
     "execution_count": 33,
     "metadata": {},
     "output_type": "execute_result"
    }
   ],
   "source": [
    "model_keras.layers[8].weights"
   ]
  },
  {
   "cell_type": "code",
   "execution_count": 34,
   "metadata": {},
   "outputs": [],
   "source": [
    "input_numpy = np.ones((1, 50, 54))\n",
    "input_torch = torch.ones((1, 50, 54))"
   ]
  },
  {
   "cell_type": "code",
   "execution_count": 35,
   "metadata": {},
   "outputs": [
    {
     "name": "stdout",
     "output_type": "stream",
     "text": [
      "DEBUG: =========================\n",
      "DEBUG: x.shape:(50, 31, 42)\n",
      "DEBUG: x.mean():0.01873699761927128\n",
      "DEBUG: x:\n",
      "[[[0.         0.         0.         ... 0.         0.         0.        ]\n",
      "  [0.         0.         0.         ... 0.         0.         0.        ]\n",
      "  [0.0898011  0.0898011  0.0898011  ... 0.0898011  0.0898011  0.0898011 ]\n",
      "  ...\n",
      "  [0.02003773 0.02003773 0.02003773 ... 0.02003773 0.02003773 0.02003773]\n",
      "  [0.20981292 0.20981292 0.20981292 ... 0.20981292 0.20981292 0.20981292]\n",
      "  [0.         0.         0.         ... 0.         0.         0.        ]]\n",
      "\n",
      " [[0.         0.         0.         ... 0.         0.         0.        ]\n",
      "  [0.         0.         0.         ... 0.         0.         0.        ]\n",
      "  [0.0898011  0.0898011  0.0898011  ... 0.0898011  0.0898011  0.0898011 ]\n",
      "  ...\n",
      "  [0.02003773 0.02003773 0.02003773 ... 0.02003773 0.02003773 0.02003773]\n",
      "  [0.20981292 0.20981292 0.20981292 ... 0.20981292 0.20981292 0.20981292]\n",
      "  [0.         0.         0.         ... 0.         0.         0.        ]]\n",
      "\n",
      " [[0.         0.         0.         ... 0.         0.         0.        ]\n",
      "  [0.         0.         0.         ... 0.         0.         0.        ]\n",
      "  [0.0898011  0.0898011  0.0898011  ... 0.0898011  0.0898011  0.0898011 ]\n",
      "  ...\n",
      "  [0.02003773 0.02003773 0.02003773 ... 0.02003773 0.02003773 0.02003773]\n",
      "  [0.20981292 0.20981292 0.20981292 ... 0.20981292 0.20981292 0.20981292]\n",
      "  [0.         0.         0.         ... 0.         0.         0.        ]]\n",
      "\n",
      " ...\n",
      "\n",
      " [[0.         0.         0.         ... 0.         0.         0.        ]\n",
      "  [0.         0.         0.         ... 0.         0.         0.        ]\n",
      "  [0.0898011  0.0898011  0.0898011  ... 0.0898011  0.0898011  0.0898011 ]\n",
      "  ...\n",
      "  [0.02003773 0.02003773 0.02003773 ... 0.02003773 0.02003773 0.02003773]\n",
      "  [0.20981292 0.20981292 0.20981292 ... 0.20981292 0.20981292 0.20981292]\n",
      "  [0.         0.         0.         ... 0.         0.         0.        ]]\n",
      "\n",
      " [[0.         0.         0.         ... 0.         0.         0.        ]\n",
      "  [0.         0.         0.         ... 0.         0.         0.        ]\n",
      "  [0.0898011  0.0898011  0.0898011  ... 0.0898011  0.0898011  0.0898011 ]\n",
      "  ...\n",
      "  [0.02003773 0.02003773 0.02003773 ... 0.02003773 0.02003773 0.02003773]\n",
      "  [0.20981292 0.20981292 0.20981292 ... 0.20981292 0.20981292 0.20981292]\n",
      "  [0.         0.         0.         ... 0.         0.         0.        ]]\n",
      "\n",
      " [[0.         0.         0.         ... 0.         0.         0.        ]\n",
      "  [0.         0.         0.         ... 0.         0.         0.        ]\n",
      "  [0.0898011  0.0898011  0.0898011  ... 0.0898011  0.0898011  0.0898011 ]\n",
      "  ...\n",
      "  [0.02003773 0.02003773 0.02003773 ... 0.02003773 0.02003773 0.02003773]\n",
      "  [0.20981292 0.20981292 0.20981292 ... 0.20981292 0.20981292 0.20981292]\n",
      "  [0.         0.         0.         ... 0.         0.         0.        ]]]\n",
      "DEBUG: =========================\n",
      "DEBUG: x.shape:(50, 31, 30)\n",
      "DEBUG: x.mean():0.00975038856267929\n",
      "DEBUG: x:\n",
      "[[[0.        0.        0.        ... 0.        0.        0.       ]\n",
      "  [0.0103266 0.0103266 0.0103266 ... 0.0103266 0.0103266 0.0103266]\n",
      "  [0.        0.        0.        ... 0.        0.        0.       ]\n",
      "  ...\n",
      "  [0.        0.        0.        ... 0.        0.        0.       ]\n",
      "  [0.        0.        0.        ... 0.        0.        0.       ]\n",
      "  [0.        0.        0.        ... 0.        0.        0.       ]]\n",
      "\n",
      " [[0.        0.        0.        ... 0.        0.        0.       ]\n",
      "  [0.0103266 0.0103266 0.0103266 ... 0.0103266 0.0103266 0.0103266]\n",
      "  [0.        0.        0.        ... 0.        0.        0.       ]\n",
      "  ...\n",
      "  [0.        0.        0.        ... 0.        0.        0.       ]\n",
      "  [0.        0.        0.        ... 0.        0.        0.       ]\n",
      "  [0.        0.        0.        ... 0.        0.        0.       ]]\n",
      "\n",
      " [[0.        0.        0.        ... 0.        0.        0.       ]\n",
      "  [0.0103266 0.0103266 0.0103266 ... 0.0103266 0.0103266 0.0103266]\n",
      "  [0.        0.        0.        ... 0.        0.        0.       ]\n",
      "  ...\n",
      "  [0.        0.        0.        ... 0.        0.        0.       ]\n",
      "  [0.        0.        0.        ... 0.        0.        0.       ]\n",
      "  [0.        0.        0.        ... 0.        0.        0.       ]]\n",
      "\n",
      " ...\n",
      "\n",
      " [[0.        0.        0.        ... 0.        0.        0.       ]\n",
      "  [0.0103266 0.0103266 0.0103266 ... 0.0103266 0.0103266 0.0103266]\n",
      "  [0.        0.        0.        ... 0.        0.        0.       ]\n",
      "  ...\n",
      "  [0.        0.        0.        ... 0.        0.        0.       ]\n",
      "  [0.        0.        0.        ... 0.        0.        0.       ]\n",
      "  [0.        0.        0.        ... 0.        0.        0.       ]]\n",
      "\n",
      " [[0.        0.        0.        ... 0.        0.        0.       ]\n",
      "  [0.0103266 0.0103266 0.0103266 ... 0.0103266 0.0103266 0.0103266]\n",
      "  [0.        0.        0.        ... 0.        0.        0.       ]\n",
      "  ...\n",
      "  [0.        0.        0.        ... 0.        0.        0.       ]\n",
      "  [0.        0.        0.        ... 0.        0.        0.       ]\n",
      "  [0.        0.        0.        ... 0.        0.        0.       ]]\n",
      "\n",
      " [[0.        0.        0.        ... 0.        0.        0.       ]\n",
      "  [0.0103266 0.0103266 0.0103266 ... 0.0103266 0.0103266 0.0103266]\n",
      "  [0.        0.        0.        ... 0.        0.        0.       ]\n",
      "  ...\n",
      "  [0.        0.        0.        ... 0.        0.        0.       ]\n",
      "  [0.        0.        0.        ... 0.        0.        0.       ]\n",
      "  [0.        0.        0.        ... 0.        0.        0.       ]]]\n",
      "DEBUG: =========================\n",
      "DEBUG: x.shape:(50, 31, 18)\n",
      "DEBUG: x.mean():0.010295066982507706\n",
      "DEBUG: x:\n",
      "[[[0.08828816 0.08828816 0.08828816 ... 0.08828816 0.08828816 0.08828816]\n",
      "  [0.11046179 0.11046179 0.11046179 ... 0.11046179 0.11046179 0.11046179]\n",
      "  [0.         0.         0.         ... 0.         0.         0.        ]\n",
      "  ...\n",
      "  [0.03081214 0.03081214 0.03081214 ... 0.03081214 0.03081214 0.03081214]\n",
      "  [0.         0.         0.         ... 0.         0.         0.        ]\n",
      "  [0.         0.         0.         ... 0.         0.         0.        ]]\n",
      "\n",
      " [[0.08828816 0.08828816 0.08828816 ... 0.08828816 0.08828816 0.08828816]\n",
      "  [0.11046179 0.11046179 0.11046179 ... 0.11046179 0.11046179 0.11046179]\n",
      "  [0.         0.         0.         ... 0.         0.         0.        ]\n",
      "  ...\n",
      "  [0.03081214 0.03081214 0.03081214 ... 0.03081214 0.03081214 0.03081214]\n",
      "  [0.         0.         0.         ... 0.         0.         0.        ]\n",
      "  [0.         0.         0.         ... 0.         0.         0.        ]]\n",
      "\n",
      " [[0.08828816 0.08828816 0.08828816 ... 0.08828816 0.08828816 0.08828816]\n",
      "  [0.11046179 0.11046179 0.11046179 ... 0.11046179 0.11046179 0.11046179]\n",
      "  [0.         0.         0.         ... 0.         0.         0.        ]\n",
      "  ...\n",
      "  [0.03081214 0.03081214 0.03081214 ... 0.03081214 0.03081214 0.03081214]\n",
      "  [0.         0.         0.         ... 0.         0.         0.        ]\n",
      "  [0.         0.         0.         ... 0.         0.         0.        ]]\n",
      "\n",
      " ...\n",
      "\n",
      " [[0.08828816 0.08828816 0.08828816 ... 0.08828816 0.08828816 0.08828816]\n",
      "  [0.11046179 0.11046179 0.11046179 ... 0.11046179 0.11046179 0.11046179]\n",
      "  [0.         0.         0.         ... 0.         0.         0.        ]\n",
      "  ...\n",
      "  [0.03081214 0.03081214 0.03081214 ... 0.03081214 0.03081214 0.03081214]\n",
      "  [0.         0.         0.         ... 0.         0.         0.        ]\n",
      "  [0.         0.         0.         ... 0.         0.         0.        ]]\n",
      "\n",
      " [[0.08828816 0.08828816 0.08828816 ... 0.08828816 0.08828816 0.08828816]\n",
      "  [0.11046179 0.11046179 0.11046179 ... 0.11046179 0.11046179 0.11046179]\n",
      "  [0.         0.         0.         ... 0.         0.         0.        ]\n",
      "  ...\n",
      "  [0.03081214 0.03081214 0.03081214 ... 0.03081214 0.03081214 0.03081214]\n",
      "  [0.         0.         0.         ... 0.         0.         0.        ]\n",
      "  [0.         0.         0.         ... 0.         0.         0.        ]]\n",
      "\n",
      " [[0.08828816 0.08828816 0.08828816 ... 0.08828816 0.08828816 0.08828816]\n",
      "  [0.11046179 0.11046179 0.11046179 ... 0.11046179 0.11046179 0.11046179]\n",
      "  [0.         0.         0.         ... 0.         0.         0.        ]\n",
      "  ...\n",
      "  [0.03081214 0.03081214 0.03081214 ... 0.03081214 0.03081214 0.03081214]\n",
      "  [0.         0.         0.         ... 0.         0.         0.        ]\n",
      "  [0.         0.         0.         ... 0.         0.         0.        ]]]\n",
      "DEBUG: GRU input\n",
      "DEBUG: =========================\n",
      "DEBUG: x.shape:(50, 558)\n",
      "DEBUG: x.mean():0.010295066982507706\n",
      "DEBUG: x:\n",
      "[[0.08828816 0.08828816 0.08828816 ... 0.         0.         0.        ]\n",
      " [0.08828816 0.08828816 0.08828816 ... 0.         0.         0.        ]\n",
      " [0.08828816 0.08828816 0.08828816 ... 0.         0.         0.        ]\n",
      " ...\n",
      " [0.08828816 0.08828816 0.08828816 ... 0.         0.         0.        ]\n",
      " [0.08828816 0.08828816 0.08828816 ... 0.         0.         0.        ]\n",
      " [0.08828816 0.08828816 0.08828816 ... 0.         0.         0.        ]]\n",
      "DEBUG: before FC\n",
      "DEBUG: =========================\n",
      "DEBUG: x.shape:(7,)\n",
      "DEBUG: x.mean():0.2577822506427765\n",
      "DEBUG: x:\n",
      "[ 0.7966442  -0.03222394  0.4979974  -0.05747593 -0.29114568 -0.09384963\n",
      "  0.9845294 ]\n",
      "DEBUG: after FC\n",
      "DEBUG: =========================\n",
      "DEBUG: x.shape:()\n",
      "DEBUG: x.mean():-2.943443775177002\n",
      "DEBUG: x:\n",
      "-2.943443775177002\n",
      "DEBUG: after sigmoid:\n",
      "DEBUG: =========================\n",
      "DEBUG: x.shape:()\n",
      "DEBUG: x.mean():0.050047293305397034\n",
      "DEBUG: x:\n",
      "0.050047293305397034\n"
     ]
    }
   ],
   "source": [
    "x, hn1, _, _ = model_torch(input_torch, None, None, torch.zeros(1, 1, 7), None)"
   ]
  },
  {
   "cell_type": "code",
   "execution_count": 36,
   "metadata": {},
   "outputs": [
    {
     "data": {
      "text/plain": [
       "tensor([[0.05004729]], grad_fn=<SigmoidBackward0>)"
      ]
     },
     "execution_count": 36,
     "metadata": {},
     "output_type": "execute_result"
    }
   ],
   "source": [
    "x"
   ]
  },
  {
   "cell_type": "code",
   "execution_count": 37,
   "metadata": {},
   "outputs": [
    {
     "data": {
      "text/plain": [
       "tensor([[[ 0.79664421, -0.03222394,  0.49799740, -0.05747593, -0.29114568,\n",
       "          -0.09384963,  0.98452938]]], grad_fn=<StackBackward0>)"
      ]
     },
     "execution_count": 37,
     "metadata": {},
     "output_type": "execute_result"
    }
   ],
   "source": [
    "hn1"
   ]
  },
  {
   "cell_type": "code",
   "execution_count": 38,
   "metadata": {},
   "outputs": [
    {
     "name": "stdout",
     "output_type": "stream",
     "text": [
      "(-1, 50, 558)\n",
      "tf.Tensor([[0.09079182]], shape=(1, 1), dtype=float32)\n"
     ]
    }
   ],
   "source": [
    "out_keras = model_keras(input_numpy)\n",
    "print(out_keras)"
   ]
  },
  {
   "cell_type": "code",
   "execution_count": 39,
   "metadata": {},
   "outputs": [
    {
     "name": "stdout",
     "output_type": "stream",
     "text": [
      "(-1, 50, 558)\n",
      "(-1, 50, 558)\n",
      "(-1, 50, 558)\n"
     ]
    }
   ],
   "source": [
    "from keras import backend as K\n",
    "\n",
    "inp = model_keras.input                                           # input placeholder\n",
    "outputs = [layer.output for layer in model_keras.layers]          # all layer outputs\n",
    "functors = [K.function([inp], [out]) for out in outputs]   # evaluation function\n",
    "\n",
    "# Testing\n",
    "layer_outs = [func([input_numpy]) for func in functors]"
   ]
  },
  {
   "cell_type": "code",
   "execution_count": 40,
   "metadata": {},
   "outputs": [
    {
     "name": "stdout",
     "output_type": "stream",
     "text": [
      "===\n",
      "(50, 31, 42)\n",
      "[[[0.         0.         0.         ... 0.         0.         0.        ]\n",
      "  [0.         0.         0.         ... 0.         0.         0.        ]\n",
      "  [0.0898011  0.0898011  0.0898011  ... 0.0898011  0.0898011  0.0898011 ]\n",
      "  ...\n",
      "  [0.02003773 0.02003773 0.02003773 ... 0.02003773 0.02003773 0.02003773]\n",
      "  [0.20981297 0.20981297 0.20981297 ... 0.20981297 0.20981297 0.20981297]\n",
      "  [0.         0.         0.         ... 0.         0.         0.        ]]\n",
      "\n",
      " [[0.         0.         0.         ... 0.         0.         0.        ]\n",
      "  [0.         0.         0.         ... 0.         0.         0.        ]\n",
      "  [0.0898011  0.0898011  0.0898011  ... 0.0898011  0.0898011  0.0898011 ]\n",
      "  ...\n",
      "  [0.02003773 0.02003773 0.02003773 ... 0.02003773 0.02003773 0.02003773]\n",
      "  [0.20981297 0.20981297 0.20981297 ... 0.20981297 0.20981297 0.20981297]\n",
      "  [0.         0.         0.         ... 0.         0.         0.        ]]\n",
      "\n",
      " [[0.         0.         0.         ... 0.         0.         0.        ]\n",
      "  [0.         0.         0.         ... 0.         0.         0.        ]\n",
      "  [0.0898011  0.0898011  0.0898011  ... 0.0898011  0.0898011  0.0898011 ]\n",
      "  ...\n",
      "  [0.02003773 0.02003773 0.02003773 ... 0.02003773 0.02003773 0.02003773]\n",
      "  [0.20981297 0.20981297 0.20981297 ... 0.20981297 0.20981297 0.20981297]\n",
      "  [0.         0.         0.         ... 0.         0.         0.        ]]\n",
      "\n",
      " ...\n",
      "\n",
      " [[0.         0.         0.         ... 0.         0.         0.        ]\n",
      "  [0.         0.         0.         ... 0.         0.         0.        ]\n",
      "  [0.0898011  0.0898011  0.0898011  ... 0.0898011  0.0898011  0.0898011 ]\n",
      "  ...\n",
      "  [0.02003773 0.02003773 0.02003773 ... 0.02003773 0.02003773 0.02003773]\n",
      "  [0.20981297 0.20981297 0.20981297 ... 0.20981297 0.20981297 0.20981297]\n",
      "  [0.         0.         0.         ... 0.         0.         0.        ]]\n",
      "\n",
      " [[0.         0.         0.         ... 0.         0.         0.        ]\n",
      "  [0.         0.         0.         ... 0.         0.         0.        ]\n",
      "  [0.0898011  0.0898011  0.0898011  ... 0.0898011  0.0898011  0.0898011 ]\n",
      "  ...\n",
      "  [0.02003773 0.02003773 0.02003773 ... 0.02003773 0.02003773 0.02003773]\n",
      "  [0.20981297 0.20981297 0.20981297 ... 0.20981297 0.20981297 0.20981297]\n",
      "  [0.         0.         0.         ... 0.         0.         0.        ]]\n",
      "\n",
      " [[0.         0.         0.         ... 0.         0.         0.        ]\n",
      "  [0.         0.         0.         ... 0.         0.         0.        ]\n",
      "  [0.0898011  0.0898011  0.0898011  ... 0.0898011  0.0898011  0.0898011 ]\n",
      "  ...\n",
      "  [0.02003773 0.02003773 0.02003773 ... 0.02003773 0.02003773 0.02003773]\n",
      "  [0.20981297 0.20981297 0.20981297 ... 0.20981297 0.20981297 0.20981297]\n",
      "  [0.         0.         0.         ... 0.         0.         0.        ]]]\n",
      "===\n",
      "(50, 31, 30)\n",
      "[[[0.        0.        0.        ... 0.        0.        0.       ]\n",
      "  [0.0103266 0.0103266 0.0103266 ... 0.0103266 0.0103266 0.0103266]\n",
      "  [0.        0.        0.        ... 0.        0.        0.       ]\n",
      "  ...\n",
      "  [0.        0.        0.        ... 0.        0.        0.       ]\n",
      "  [0.        0.        0.        ... 0.        0.        0.       ]\n",
      "  [0.        0.        0.        ... 0.        0.        0.       ]]\n",
      "\n",
      " [[0.        0.        0.        ... 0.        0.        0.       ]\n",
      "  [0.0103266 0.0103266 0.0103266 ... 0.0103266 0.0103266 0.0103266]\n",
      "  [0.        0.        0.        ... 0.        0.        0.       ]\n",
      "  ...\n",
      "  [0.        0.        0.        ... 0.        0.        0.       ]\n",
      "  [0.        0.        0.        ... 0.        0.        0.       ]\n",
      "  [0.        0.        0.        ... 0.        0.        0.       ]]\n",
      "\n",
      " [[0.        0.        0.        ... 0.        0.        0.       ]\n",
      "  [0.0103266 0.0103266 0.0103266 ... 0.0103266 0.0103266 0.0103266]\n",
      "  [0.        0.        0.        ... 0.        0.        0.       ]\n",
      "  ...\n",
      "  [0.        0.        0.        ... 0.        0.        0.       ]\n",
      "  [0.        0.        0.        ... 0.        0.        0.       ]\n",
      "  [0.        0.        0.        ... 0.        0.        0.       ]]\n",
      "\n",
      " ...\n",
      "\n",
      " [[0.        0.        0.        ... 0.        0.        0.       ]\n",
      "  [0.0103266 0.0103266 0.0103266 ... 0.0103266 0.0103266 0.0103266]\n",
      "  [0.        0.        0.        ... 0.        0.        0.       ]\n",
      "  ...\n",
      "  [0.        0.        0.        ... 0.        0.        0.       ]\n",
      "  [0.        0.        0.        ... 0.        0.        0.       ]\n",
      "  [0.        0.        0.        ... 0.        0.        0.       ]]\n",
      "\n",
      " [[0.        0.        0.        ... 0.        0.        0.       ]\n",
      "  [0.0103266 0.0103266 0.0103266 ... 0.0103266 0.0103266 0.0103266]\n",
      "  [0.        0.        0.        ... 0.        0.        0.       ]\n",
      "  ...\n",
      "  [0.        0.        0.        ... 0.        0.        0.       ]\n",
      "  [0.        0.        0.        ... 0.        0.        0.       ]\n",
      "  [0.        0.        0.        ... 0.        0.        0.       ]]\n",
      "\n",
      " [[0.        0.        0.        ... 0.        0.        0.       ]\n",
      "  [0.0103266 0.0103266 0.0103266 ... 0.0103266 0.0103266 0.0103266]\n",
      "  [0.        0.        0.        ... 0.        0.        0.       ]\n",
      "  ...\n",
      "  [0.        0.        0.        ... 0.        0.        0.       ]\n",
      "  [0.        0.        0.        ... 0.        0.        0.       ]\n",
      "  [0.        0.        0.        ... 0.        0.        0.       ]]]\n",
      "===\n",
      "(50, 31, 18)\n",
      "[[[0.08828814 0.08828814 0.08828814 ... 0.08828814 0.08828814 0.08828814]\n",
      "  [0.11046176 0.11046176 0.11046176 ... 0.11046176 0.11046176 0.11046176]\n",
      "  [0.         0.         0.         ... 0.         0.         0.        ]\n",
      "  ...\n",
      "  [0.03081214 0.03081214 0.03081214 ... 0.03081214 0.03081214 0.03081214]\n",
      "  [0.         0.         0.         ... 0.         0.         0.        ]\n",
      "  [0.         0.         0.         ... 0.         0.         0.        ]]\n",
      "\n",
      " [[0.08828814 0.08828814 0.08828814 ... 0.08828814 0.08828814 0.08828814]\n",
      "  [0.11046176 0.11046176 0.11046176 ... 0.11046176 0.11046176 0.11046176]\n",
      "  [0.         0.         0.         ... 0.         0.         0.        ]\n",
      "  ...\n",
      "  [0.03081214 0.03081214 0.03081214 ... 0.03081214 0.03081214 0.03081214]\n",
      "  [0.         0.         0.         ... 0.         0.         0.        ]\n",
      "  [0.         0.         0.         ... 0.         0.         0.        ]]\n",
      "\n",
      " [[0.08828814 0.08828814 0.08828814 ... 0.08828814 0.08828814 0.08828814]\n",
      "  [0.11046176 0.11046176 0.11046176 ... 0.11046176 0.11046176 0.11046176]\n",
      "  [0.         0.         0.         ... 0.         0.         0.        ]\n",
      "  ...\n",
      "  [0.03081214 0.03081214 0.03081214 ... 0.03081214 0.03081214 0.03081214]\n",
      "  [0.         0.         0.         ... 0.         0.         0.        ]\n",
      "  [0.         0.         0.         ... 0.         0.         0.        ]]\n",
      "\n",
      " ...\n",
      "\n",
      " [[0.08828814 0.08828814 0.08828814 ... 0.08828814 0.08828814 0.08828814]\n",
      "  [0.11046176 0.11046176 0.11046176 ... 0.11046176 0.11046176 0.11046176]\n",
      "  [0.         0.         0.         ... 0.         0.         0.        ]\n",
      "  ...\n",
      "  [0.03081214 0.03081214 0.03081214 ... 0.03081214 0.03081214 0.03081214]\n",
      "  [0.         0.         0.         ... 0.         0.         0.        ]\n",
      "  [0.         0.         0.         ... 0.         0.         0.        ]]\n",
      "\n",
      " [[0.08828814 0.08828814 0.08828814 ... 0.08828814 0.08828814 0.08828814]\n",
      "  [0.11046176 0.11046176 0.11046176 ... 0.11046176 0.11046176 0.11046176]\n",
      "  [0.         0.         0.         ... 0.         0.         0.        ]\n",
      "  ...\n",
      "  [0.03081214 0.03081214 0.03081214 ... 0.03081214 0.03081214 0.03081214]\n",
      "  [0.         0.         0.         ... 0.         0.         0.        ]\n",
      "  [0.         0.         0.         ... 0.         0.         0.        ]]\n",
      "\n",
      " [[0.08828814 0.08828814 0.08828814 ... 0.08828814 0.08828814 0.08828814]\n",
      "  [0.11046176 0.11046176 0.11046176 ... 0.11046176 0.11046176 0.11046176]\n",
      "  [0.         0.         0.         ... 0.         0.         0.        ]\n",
      "  ...\n",
      "  [0.03081214 0.03081214 0.03081214 ... 0.03081214 0.03081214 0.03081214]\n",
      "  [0.         0.         0.         ... 0.         0.         0.        ]\n",
      "  [0.         0.         0.         ... 0.         0.         0.        ]]]\n",
      "===\n",
      "(50, 558)\n",
      "0.010295066\n",
      "[[0.08828814 0.11046176 0.         ... 0.03081214 0.         0.        ]\n",
      " [0.08828814 0.11046176 0.         ... 0.03081214 0.         0.        ]\n",
      " [0.08828814 0.11046176 0.         ... 0.03081214 0.         0.        ]\n",
      " ...\n",
      " [0.08828814 0.11046176 0.         ... 0.03081214 0.         0.        ]\n",
      " [0.08828814 0.11046176 0.         ... 0.03081214 0.         0.        ]\n",
      " [0.08828814 0.11046176 0.         ... 0.03081214 0.         0.        ]]\n",
      "===\n",
      "(7,)\n",
      "[ 0.61592853  0.14224592 -0.07494228 -0.18201146  0.14648148  0.6308197\n",
      "  0.8100449 ]\n"
     ]
    }
   ],
   "source": [
    "print(\"===\")\n",
    "print(np.array(layer_outs[2]).squeeze().swapaxes(1,2).shape)\n",
    "print(np.array(layer_outs[2]).squeeze().swapaxes(1,2))\n",
    "\n",
    "print(\"===\")\n",
    "print(np.array(layer_outs[4]).squeeze().swapaxes(1,2).shape)\n",
    "print(np.array(layer_outs[4]).squeeze().swapaxes(1,2))\n",
    "\n",
    "print(\"===\")\n",
    "print(np.array(layer_outs[6]).squeeze().swapaxes(1,2).shape)\n",
    "print(np.array(layer_outs[6]).squeeze().swapaxes(1,2))\n",
    "\n",
    "print(\"===\")\n",
    "print(np.array(layer_outs[7]).squeeze().shape)\n",
    "print(np.array(layer_outs[7]).squeeze().mean())\n",
    "print(np.array(layer_outs[7]).squeeze())\n",
    "\n",
    "print(\"===\")\n",
    "print(np.array(layer_outs[8]).squeeze().shape)\n",
    "print(np.array(layer_outs[8]).squeeze())"
   ]
  },
  {
   "cell_type": "code",
   "execution_count": 46,
   "metadata": {},
   "outputs": [
    {
     "data": {
      "text/plain": [
       "<keras.layers.recurrent_v2.GRU at 0x136ab86bbe0>"
      ]
     },
     "execution_count": 46,
     "metadata": {},
     "output_type": "execute_result"
    }
   ],
   "source": [
    "gru_tf = model_keras.layers[8]\n",
    "gru_tf"
   ]
  },
  {
   "cell_type": "code",
   "execution_count": 47,
   "metadata": {},
   "outputs": [
    {
     "data": {
      "text/plain": [
       "GRU(558, 7, batch_first=True)"
      ]
     },
     "execution_count": 47,
     "metadata": {},
     "output_type": "execute_result"
    }
   ],
   "source": [
    "gru_pt"
   ]
  },
  {
   "cell_type": "code",
   "execution_count": 48,
   "metadata": {},
   "outputs": [
    {
     "data": {
      "text/plain": [
       "(tensor([[[ 1.00000000e+00,  0.00000000e+00, -4.53531742e-04, -1.00000000e+00,\n",
       "            1.00000000e+00, -9.79106963e-01,  1.00000000e+00],\n",
       "          [ 1.00000000e+00,  0.00000000e+00, -9.85145569e-04, -1.00000000e+00,\n",
       "            1.00000000e+00, -9.99547601e-01,  1.00000000e+00],\n",
       "          [ 1.00000000e+00,  0.00000000e+00, -1.52158737e-03, -1.00000000e+00,\n",
       "            1.00000000e+00, -9.99990225e-01,  1.00000000e+00],\n",
       "          [ 1.00000000e+00,  0.00000000e+00, -2.05773115e-03, -1.00000000e+00,\n",
       "            1.00000000e+00, -9.99999762e-01,  1.00000000e+00],\n",
       "          [ 1.00000000e+00,  0.00000000e+00, -2.59357691e-03, -1.00000000e+00,\n",
       "            1.00000000e+00, -1.00000000e+00,  1.00000000e+00],\n",
       "          [ 1.00000000e+00,  0.00000000e+00, -3.12906504e-03, -1.00000000e+00,\n",
       "            1.00000000e+00, -1.00000000e+00,  1.00000000e+00],\n",
       "          [ 1.00000000e+00,  0.00000000e+00, -3.66413593e-03, -1.00000000e+00,\n",
       "            1.00000000e+00, -1.00000000e+00,  1.00000000e+00],\n",
       "          [ 1.00000000e+00,  0.00000000e+00, -4.19890881e-03, -1.00000000e+00,\n",
       "            1.00000000e+00, -1.00000000e+00,  1.00000000e+00],\n",
       "          [ 1.00000000e+00,  0.00000000e+00, -4.73326445e-03, -1.00000000e+00,\n",
       "            1.00000000e+00, -1.00000000e+00,  1.00000000e+00],\n",
       "          [ 1.00000000e+00,  0.00000000e+00, -5.26720285e-03, -1.00000000e+00,\n",
       "            1.00000000e+00, -1.00000000e+00,  1.00000000e+00],\n",
       "          [ 1.00000000e+00,  0.00000000e+00, -5.80078363e-03, -1.00000000e+00,\n",
       "            1.00000000e+00, -1.00000000e+00,  1.00000000e+00],\n",
       "          [ 1.00000000e+00,  0.00000000e+00, -6.33406639e-03, -1.00000000e+00,\n",
       "            1.00000000e+00, -1.00000000e+00,  1.00000000e+00],\n",
       "          [ 1.00000000e+00,  0.00000000e+00, -6.86693192e-03, -1.00000000e+00,\n",
       "            1.00000000e+00, -1.00000000e+00,  1.00000000e+00],\n",
       "          [ 1.00000000e+00,  0.00000000e+00, -7.39938021e-03, -1.00000000e+00,\n",
       "            1.00000000e+00, -1.00000000e+00,  1.00000000e+00],\n",
       "          [ 1.00000000e+00,  0.00000000e+00, -7.93141127e-03, -1.00000000e+00,\n",
       "            1.00000000e+00, -1.00000000e+00,  1.00000000e+00],\n",
       "          [ 1.00000000e+00,  0.00000000e+00, -8.46320391e-03, -1.00000000e+00,\n",
       "            1.00000000e+00, -1.00000000e+00,  1.00000000e+00],\n",
       "          [ 1.00000000e+00,  0.00000000e+00, -8.99457932e-03, -1.00000000e+00,\n",
       "            1.00000000e+00, -1.00000000e+00,  1.00000000e+00],\n",
       "          [ 1.00000000e+00,  0.00000000e+00, -9.52553749e-03, -1.00000000e+00,\n",
       "            1.00000000e+00, -1.00000000e+00,  1.00000000e+00],\n",
       "          [ 1.00000000e+00,  0.00000000e+00, -1.00561976e-02, -1.00000000e+00,\n",
       "            1.00000000e+00, -1.00000000e+00,  1.00000000e+00],\n",
       "          [ 1.00000000e+00,  0.00000000e+00, -1.05865002e-02, -1.00000000e+00,\n",
       "            1.00000000e+00, -1.00000000e+00,  1.00000000e+00],\n",
       "          [ 1.00000000e+00,  0.00000000e+00, -1.11163855e-02, -1.00000000e+00,\n",
       "            1.00000000e+00, -1.00000000e+00,  1.00000000e+00],\n",
       "          [ 1.00000000e+00,  0.00000000e+00, -1.16458535e-02, -1.00000000e+00,\n",
       "            1.00000000e+00, -1.00000000e+00,  1.00000000e+00],\n",
       "          [ 1.00000000e+00,  0.00000000e+00, -1.21750236e-02, -1.00000000e+00,\n",
       "            1.00000000e+00, -1.00000000e+00,  1.00000000e+00],\n",
       "          [ 1.00000000e+00,  0.00000000e+00, -1.27038360e-02, -1.00000000e+00,\n",
       "            1.00000000e+00, -1.00000000e+00,  1.00000000e+00],\n",
       "          [ 1.00000000e+00,  0.00000000e+00, -1.32322311e-02, -1.00000000e+00,\n",
       "            1.00000000e+00, -1.00000000e+00,  1.00000000e+00],\n",
       "          [ 1.00000000e+00,  0.00000000e+00, -1.37603283e-02, -1.00000000e+00,\n",
       "            1.00000000e+00, -1.00000000e+00,  1.00000000e+00],\n",
       "          [ 1.00000000e+00,  0.00000000e+00, -1.42880082e-02, -1.00000000e+00,\n",
       "            1.00000000e+00, -1.00000000e+00,  1.00000000e+00],\n",
       "          [ 1.00000000e+00,  0.00000000e+00, -1.48153305e-02, -1.00000000e+00,\n",
       "            1.00000000e+00, -1.00000000e+00,  1.00000000e+00],\n",
       "          [ 1.00000000e+00,  0.00000000e+00, -1.53422356e-02, -1.00000000e+00,\n",
       "            1.00000000e+00, -1.00000000e+00,  1.00000000e+00],\n",
       "          [ 1.00000000e+00,  0.00000000e+00, -1.58688426e-02, -1.00000000e+00,\n",
       "            1.00000000e+00, -1.00000000e+00,  1.00000000e+00],\n",
       "          [ 1.00000000e+00,  0.00000000e+00, -1.63950920e-02, -1.00000000e+00,\n",
       "            1.00000000e+00, -1.00000000e+00,  1.00000000e+00],\n",
       "          [ 1.00000000e+00,  0.00000000e+00, -1.69209242e-02, -1.00000000e+00,\n",
       "            1.00000000e+00, -1.00000000e+00,  1.00000000e+00],\n",
       "          [ 1.00000000e+00,  0.00000000e+00, -1.74464583e-02, -1.00000000e+00,\n",
       "            1.00000000e+00, -1.00000000e+00,  1.00000000e+00],\n",
       "          [ 1.00000000e+00,  0.00000000e+00, -1.79716349e-02, -1.00000000e+00,\n",
       "            1.00000000e+00, -1.00000000e+00,  1.00000000e+00],\n",
       "          [ 1.00000000e+00,  0.00000000e+00, -1.84963942e-02, -1.00000000e+00,\n",
       "            1.00000000e+00, -1.00000000e+00,  1.00000000e+00],\n",
       "          [ 1.00000000e+00,  0.00000000e+00, -1.90207362e-02, -1.00000000e+00,\n",
       "            1.00000000e+00, -1.00000000e+00,  1.00000000e+00],\n",
       "          [ 1.00000000e+00,  0.00000000e+00, -1.95448399e-02, -1.00000000e+00,\n",
       "            1.00000000e+00, -1.00000000e+00,  1.00000000e+00],\n",
       "          [ 1.00000000e+00,  0.00000000e+00, -2.00685263e-02, -1.00000000e+00,\n",
       "            1.00000000e+00, -1.00000000e+00,  1.00000000e+00],\n",
       "          [ 1.00000000e+00,  0.00000000e+00, -2.05917954e-02, -1.00000000e+00,\n",
       "            1.00000000e+00, -1.00000000e+00,  1.00000000e+00],\n",
       "          [ 1.00000000e+00,  0.00000000e+00, -2.11148262e-02, -1.00000000e+00,\n",
       "            1.00000000e+00, -1.00000000e+00,  1.00000000e+00],\n",
       "          [ 1.00000000e+00,  0.00000000e+00, -2.16374397e-02, -1.00000000e+00,\n",
       "            1.00000000e+00, -1.00000000e+00,  1.00000000e+00],\n",
       "          [ 1.00000000e+00,  0.00000000e+00, -2.21596360e-02, -1.00000000e+00,\n",
       "            1.00000000e+00, -1.00000000e+00,  1.00000000e+00],\n",
       "          [ 1.00000000e+00,  0.00000000e+00, -2.26815939e-02, -1.00000000e+00,\n",
       "            1.00000000e+00, -1.00000000e+00,  1.00000000e+00],\n",
       "          [ 1.00000000e+00,  0.00000000e+00, -2.32031345e-02, -1.00000000e+00,\n",
       "            1.00000000e+00, -1.00000000e+00,  1.00000000e+00],\n",
       "          [ 1.00000000e+00,  0.00000000e+00, -2.37242579e-02, -1.00000000e+00,\n",
       "            1.00000000e+00, -1.00000000e+00,  1.00000000e+00],\n",
       "          [ 1.00000000e+00,  0.00000000e+00, -2.42450237e-02, -1.00000000e+00,\n",
       "            1.00000000e+00, -1.00000000e+00,  1.00000000e+00],\n",
       "          [ 1.00000000e+00,  0.00000000e+00, -2.47654915e-02, -1.00000000e+00,\n",
       "            1.00000000e+00, -1.00000000e+00,  1.00000000e+00],\n",
       "          [ 1.00000000e+00,  0.00000000e+00, -2.52855420e-02, -1.00000000e+00,\n",
       "            1.00000000e+00, -1.00000000e+00,  1.00000000e+00],\n",
       "          [ 1.00000000e+00,  0.00000000e+00, -2.58052349e-02, -1.00000000e+00,\n",
       "            1.00000000e+00, -1.00000000e+00,  1.00000000e+00],\n",
       "          [ 1.00000000e+00,  0.00000000e+00, -2.63246298e-02, -1.00000000e+00,\n",
       "            1.00000000e+00, -1.00000000e+00,  1.00000000e+00]]],\n",
       "        grad_fn=<TransposeBackward1>),\n",
       " tensor([[[ 1.00000000,  0.00000000, -0.02632463, -1.00000000,  1.00000000,\n",
       "           -1.00000000,  1.00000000]]], grad_fn=<StackBackward0>))"
      ]
     },
     "execution_count": 48,
     "metadata": {},
     "output_type": "execute_result"
    }
   ],
   "source": [
    "gru_pt(torch.ones(1, 50, 558))"
   ]
  },
  {
   "cell_type": "code",
   "execution_count": 49,
   "metadata": {},
   "outputs": [],
   "source": [
    "y_tf = gru_tf(tf.ones((1, 50, 558)), training=False)"
   ]
  },
  {
   "cell_type": "code",
   "execution_count": 50,
   "metadata": {},
   "outputs": [
    {
     "data": {
      "text/plain": [
       "<tf.Tensor: shape=(1, 7), dtype=float32, numpy=\n",
       "array([[ 1.        ,  0.        , -0.02632462, -1.        ,  1.        ,\n",
       "        -1.        ,  1.        ]], dtype=float32)>"
      ]
     },
     "execution_count": 50,
     "metadata": {},
     "output_type": "execute_result"
    }
   ],
   "source": [
    "y_tf"
   ]
  },
  {
   "cell_type": "code",
   "execution_count": null,
   "metadata": {},
   "outputs": [],
   "source": []
  },
  {
   "cell_type": "code",
   "execution_count": null,
   "metadata": {},
   "outputs": [],
   "source": []
  }
 ],
 "metadata": {
  "kernelspec": {
   "display_name": "Python 3 (ipykernel)",
   "language": "python",
   "name": "python3"
  },
  "language_info": {
   "codemirror_mode": {
    "name": "ipython",
    "version": 3
   },
   "file_extension": ".py",
   "mimetype": "text/x-python",
   "name": "python",
   "nbconvert_exporter": "python",
   "pygments_lexer": "ipython3",
   "version": "3.9.0"
  }
 },
 "nbformat": 4,
 "nbformat_minor": 4
}
