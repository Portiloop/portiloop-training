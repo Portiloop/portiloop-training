{
 "cells": [
  {
   "attachments": {},
   "cell_type": "markdown",
   "metadata": {},
   "source": [
    "## Model stuffs"
   ]
  },
  {
   "cell_type": "code",
   "execution_count": 1,
   "metadata": {},
   "outputs": [],
   "source": [
    "import torch.nn as nn\n",
    "import torch\n",
    "from einops import rearrange"
   ]
  },
  {
   "cell_type": "code",
   "execution_count": 2,
   "metadata": {},
   "outputs": [],
   "source": [
    "# initialize wandb logger\n",
    "import wandb\n",
    "import os\n",
    "import time\n",
    "\n",
    "from portiloop_software.portiloop_python.ANN.utils import set_seeds\n",
    "\n",
    "project_name = \"sleep_staging_portiloop\"\n",
    "\n",
    "os.environ['WANDB_API_KEY'] = \"a74040bb77f7705257c1c8d5dc482e06b874c5ce\"\n",
    "os.environ['WANDB_NOTEBOOK_NAME '] = \"sleep_staging_training.ipynb\"\n",
    "seed = 42\n",
    "set_seeds(seed)"
   ]
  },
  {
   "cell_type": "code",
   "execution_count": 3,
   "metadata": {},
   "outputs": [],
   "source": [
    "import math\n",
    "\n",
    "class PositionalEncoding(nn.Module):\n",
    "    def __init__(self, d_model: int, dropout: float = 0.1, max_len: int = 5000):\n",
    "        super().__init__()\n",
    "        self.dropout = nn.Dropout(p=dropout)\n",
    "\n",
    "        position = torch.arange(max_len).unsqueeze(1)\n",
    "        div_term = torch.exp(torch.arange(0, d_model, 2) * (-math.log(10000.0) / d_model))\n",
    "        pe = torch.zeros(max_len, 1, d_model)\n",
    "        pe[:, 0, 0::2] = torch.sin(position * div_term)\n",
    "        pe[:, 0, 1::2] = torch.cos(position * div_term)\n",
    "        self.register_buffer('pe', pe)\n",
    "\n",
    "    def forward(self, x):\n",
    "        \"\"\"\n",
    "        Arguments:\n",
    "            x: Tensor, shape ``[seq_len, batch_size, embedding_dim]``\n",
    "        \"\"\"\n",
    "        x = x + self.pe[:x.size(0)]\n",
    "        return self.dropout(x)"
   ]
  },
  {
   "cell_type": "code",
   "execution_count": 4,
   "metadata": {},
   "outputs": [],
   "source": [
    "class TransformerEncoderWithCLS(nn.Module):\n",
    "    def __init__(self, embedder, embedding_size, num_heads, num_layers, num_classes, cls=False, dropout=0.1):\n",
    "        super(TransformerEncoderWithCLS, self).__init__()\n",
    "\n",
    "        self.embedder = embedder\n",
    "\n",
    "        self.positional_embedding = PositionalEncoding(embedding_size, dropout=dropout)\n",
    "\n",
    "        self.transformer_encoder = nn.TransformerEncoder(\n",
    "            nn.TransformerEncoderLayer(embedding_size, num_heads, dropout=dropout, batch_first=True),\n",
    "            num_layers\n",
    "        )\n",
    "        self.cls = cls\n",
    "        if cls:\n",
    "            self.cls_token = nn.Parameter(torch.randn(1, embedding_size, 1))  # Learnable <cls> token\n",
    "        self.activation = nn.ReLU()\n",
    "        self.classifier = nn.Linear(embedding_size, num_classes)  # Classification layer\n",
    "        self.final_activation = nn.Softmax(dim=1)\n",
    "        self.dropout = nn.Dropout(dropout)\n",
    "\n",
    "    def forward(self, x):\n",
    "\n",
    "        x = self.dropout(self.embedder(x))  # Embed the input sequence\n",
    "        batch_size, embedding_size, seq_len = x.size()\n",
    "\n",
    "        # Add positional embedding\n",
    "        x = rearrange(x, 'b e s -> s b e')\n",
    "        x = self.positional_embedding(x)\n",
    "        x = rearrange(x, 's b e -> b e s')\n",
    "\n",
    "        if self.cls:\n",
    "            cls_tokens = self.cls_token.expand(batch_size, -1, -1)  # Shape: (batch_size, 1, embedding_size)\n",
    "            x = torch.cat([cls_tokens, x], dim=-1)  # Shape: (batch_size, seq_length + 1, embedding_size)\n",
    "\n",
    "        x = rearrange(x, 'b e s -> b s e')\n",
    "\n",
    "        output = self.transformer_encoder(x)  # Apply TransformerEncoder\n",
    "        \n",
    "        if self.cls:\n",
    "            output = output[:, 0, :]  # Return the representation of the <cls> token\n",
    "        else:\n",
    "            output = torch.mean(output, dim=1)\n",
    "\n",
    "        out = self.dropout(self.classifier(output)) # Classify the <cls> token representation\n",
    "\n",
    "        return out \n"
   ]
  },
  {
   "cell_type": "code",
   "execution_count": 5,
   "metadata": {},
   "outputs": [],
   "source": [
    "class SimpleModel(nn.Module):\n",
    "    def __init__(self, seq_len, hidden_dim, num_classes):\n",
    "        super(SimpleModel, self).__init__()\n",
    "        \n",
    "        # self.embedding = nn.Embedding(seq_len, hidden_dim)\n",
    "        self.hidden_layer = nn.Linear(seq_len, hidden_dim)\n",
    "        self.output_layer = nn.Linear(hidden_dim, num_classes)\n",
    "        self.relu = nn.ReLU()\n",
    "        self.softmax = nn.Softmax(dim=1)\n",
    "    \n",
    "    def forward(self, x):\n",
    "        x = x.squeeze(1)\n",
    "        x = self.hidden_layer(x)\n",
    "        x = self.relu(x)\n",
    "        x = self.output_layer(x)\n",
    "        return x"
   ]
  },
  {
   "cell_type": "code",
   "execution_count": 6,
   "metadata": {},
   "outputs": [],
   "source": [
    "class InceptionBlock(nn.Module):\n",
    "    def __init__(self, in_channels, out_channels):\n",
    "        super(InceptionBlock, self).__init__()\n",
    "\n",
    "        # 1x1 convolution branch\n",
    "        self.branch1x1 = nn.Conv1d(in_channels, out_channels[0], kernel_size=1)\n",
    "\n",
    "        # 3x3 convolution branch\n",
    "        self.branch3x3 = nn.Sequential(\n",
    "            nn.Conv1d(in_channels, out_channels[1], kernel_size=1),\n",
    "            nn.Conv1d(out_channels[1], out_channels[2], kernel_size=3, padding=1)\n",
    "        )\n",
    "\n",
    "        # 5x5 convolution branch\n",
    "        self.branch5x5 = nn.Sequential(\n",
    "            nn.Conv1d(in_channels, out_channels[3], kernel_size=1),\n",
    "            nn.Conv1d(out_channels[3], out_channels[4], kernel_size=5, padding=2)\n",
    "        )\n",
    "\n",
    "        # # Max pooling branch\n",
    "        # self.branch_pool = nn.Sequential(\n",
    "        #     nn.MaxPool1d(kernel_size=3, stride=1, padding=1),\n",
    "        #     nn.Conv1d(in_channels, out_channels[5], kernel_size=1)\n",
    "        # )\n",
    "\n",
    "    def forward(self, x):\n",
    "        branch1x1 = self.branch1x1(x)\n",
    "        branch3x3 = self.branch3x3(x)\n",
    "        branch5x5 = self.branch5x5(x)\n",
    "        # branch_pool = self.branch_pool(x)\n",
    "\n",
    "        # Concatenate the branch outputs along the channel dimension\n",
    "        outputs = [branch1x1, branch3x3, branch5x5]\n",
    "        outputs = torch.cat(outputs, dim=1)\n",
    "        outputs = rearrange(outputs, 'b c s -> b s c')  # Convert back to (batch_size, seq_len, channels)\n",
    "\n",
    "        return outputs\n",
    "    \n",
    "class CNNBlock(nn.Module):\n",
    "    def __init__(self, in_channels, out_channels):\n",
    "        super(CNNBlock, self).__init__()\n",
    "\n",
    "        self.conv1 = nn.Conv1d(in_channels, out_channels, kernel_size=5)\n",
    "        self.conv2 = nn.Conv1d(out_channels, out_channels, kernel_size=5)\n",
    "        self.conv3 = nn.Conv1d(out_channels, out_channels, kernel_size=5)\n",
    "\n",
    "        self.activation = nn.ReLU()\n",
    "        self.pool = nn.MaxPool1d(kernel_size=2, stride=2)\n",
    "\n",
    "    def forward(self, x):\n",
    "        x = self.conv1(x)\n",
    "        x = self.activation(x)\n",
    "        x = self.pool(x)\n",
    "\n",
    "        x = self.conv2(x)\n",
    "        x = self.activation(x)\n",
    "        x = self.pool(x)\n",
    "\n",
    "        x = self.conv3(x)\n",
    "        x = self.activation(x)\n",
    "        x = self.pool(x)\n",
    "\n",
    "        return x"
   ]
  },
  {
   "cell_type": "code",
   "execution_count": 7,
   "metadata": {},
   "outputs": [],
   "source": [
    "import random\n",
    "from torch.utils.data import Dataset, DataLoader, Sampler\n",
    "\n",
    "class SleepStageDataset(Dataset):\n",
    "    def __init__(self, subjects, data, labels, seq_len, freq):\n",
    "        '''\n",
    "        This class takes in a list of subject, a path to the MASS directory \n",
    "        and reads the files associated with the given subjects as well as the sleep stage annotations\n",
    "        '''\n",
    "        super().__init__()\n",
    "\n",
    "        self.seq_len = seq_len\n",
    "\n",
    "        # Get the sleep stage labels\n",
    "        self.full_signal = []\n",
    "        self.full_labels = []\n",
    "\n",
    "        self.subject_list = []\n",
    "        for subject in subjects:\n",
    "            if subject not in data.keys():\n",
    "                print(f\"Subject {subject} not found in the pretraining dataset\")\n",
    "                continue\n",
    "\n",
    "            # Get the signal for the given subject\n",
    "            signal = torch.tensor(data[subject]['signal'], dtype=torch.float)\n",
    "\n",
    "            # Get all the labels for the given subject\n",
    "            label = torch.tensor([SleepStageDataset.get_labels().index(lab) for lab in labels[subject]]).type(torch.uint8)\n",
    "\n",
    "            # Repeat the labels freq times to match the signal using a pytorch function\n",
    "            label = torch.tensor(label).repeat_interleave(freq) \n",
    "\n",
    "            # Add some '?' padding at the end to make sure the length of signal and label match\n",
    "            missing = len(signal) - len(label)\n",
    "            label = torch.cat([label, torch.full((missing, ), SleepStageDataset.get_labels().index('?')).type(torch.uint8)])\n",
    "\n",
    "            # Make sure that the signal and the labels are the same length\n",
    "            assert len(signal) == len(label)\n",
    "\n",
    "            # Add to full signal and full label\n",
    "            self.full_labels.append(label)\n",
    "            self.full_signal.append(signal)\n",
    "            del data[subject], signal, label\n",
    "        \n",
    "        self.full_signal = torch.cat(self.full_signal)\n",
    "        self.full_labels = torch.cat(self.full_labels)\n",
    "\n",
    "        # Make a dictionary of all the indexes of each class label\n",
    "        self.label_indexes = {}\n",
    "        for label in self.full_labels.unique():\n",
    "            self.label_indexes[int(label)] = (self.full_labels == label).nonzero(as_tuple=False).reshape(-1)\n",
    "\n",
    "    @staticmethod\n",
    "    def get_labels():\n",
    "        return ['1', '2', '3', 'R', 'W', '?']\n",
    "\n",
    "    def __getitem__(self, index):\n",
    "        # Get data and label at the given index\n",
    "        signal = self.full_signal[index - self.seq_len:index]\n",
    "        label = self.full_labels[index]\n",
    "        signal = signal.unsqueeze(0)\n",
    "\n",
    "        return signal, label.type(torch.LongTensor)\n",
    "\n",
    "    def __len__(self):\n",
    "        return len(self.full_signal)\n",
    "    \n",
    "class SleepStageSampler(Sampler):\n",
    "    def __init__(self, dataset, seq_len, nb_batch_per_epoch, batch_size):\n",
    "        self.dataset = dataset\n",
    "        self.seq_len = seq_len\n",
    "        self.max_len = len(dataset)\n",
    "        self.limit = nb_batch_per_epoch * batch_size\n",
    "        self.nb_batch_per_epoch = nb_batch_per_epoch\n",
    "\n",
    "    def __iter__(self):\n",
    "        for i in range(self.limit): \n",
    "            # Get a random class between 0 and 4\n",
    "            sample_class = random.randint(0, 4)\n",
    "\n",
    "            # Get a random index from the list of indexes for the given class\n",
    "            sample_index = random.choice(self.dataset.label_indexes[sample_class])\n",
    "\n",
    "            yield sample_index\n",
    "\n",
    "    def __len__(self):\n",
    "        return self.nb_batch_per_epoch"
   ]
  },
  {
   "cell_type": "code",
   "execution_count": 8,
   "metadata": {},
   "outputs": [],
   "source": [
    "class ArtificialEEGDataset(Dataset):\n",
    "    def __init__(self, num_classes, signal_length, noise_std=0.5):\n",
    "        self.num_classes = num_classes\n",
    "        self.signal_length = signal_length\n",
    "        self.noise_std = noise_std\n",
    "        self.data, self.labels = self.generate_data()\n",
    "\n",
    "    def generate_data(self):\n",
    "        t = np.linspace(0, 2 * np.pi, self.signal_length)\n",
    "        # Expand the dimension of t to make it compatible with the shape of the signal\n",
    "        t = np.expand_dims(t, axis=0)\n",
    "        # Duplicate the first dimension num_samples times\n",
    "        t = np.repeat(t, self.num_classes, axis=0)\n",
    "        # Get the random multiplier of for each sequence\n",
    "        labels = np.array([1, 2, 3, 4, 5])\n",
    "        t = t * labels[:, np.newaxis] * 10\n",
    "        # Add spme noise to the signal\n",
    "        signal = np.sin(t)\n",
    "        labels = labels - 1\n",
    "\n",
    "        data = torch.tensor(signal, dtype=torch.float32)\n",
    "        labels = torch.tensor(labels, dtype=torch.long)\n",
    "\n",
    "        return data, labels\n",
    "\n",
    "    def __len__(self):\n",
    "        return self.num_samples\n",
    "\n",
    "    def __getitem__(self, index):\n",
    "        data = self.data[index].unsqueeze(0)\n",
    "        # Add noise to the data\n",
    "        # data = data + torch.randn_like(data) * self.noise_std\n",
    "        return data, self.labels[index]\n",
    "    \n",
    "class ArtificialEEGSampler(Sampler):\n",
    "    def __init__(self, num_batches, batch_size):\n",
    "        self.num_samples = num_batches * batch_size\n",
    "\n",
    "    def __iter__(self):\n",
    "        for _ in range(self.num_samples):\n",
    "            yield np.random.choice([0, 1, 2, 3, 4])\n",
    "\n",
    "    def __len__(self):\n",
    "        return self.num_samples\n",
    "    "
   ]
  },
  {
   "cell_type": "code",
   "execution_count": 9,
   "metadata": {},
   "outputs": [],
   "source": [
    "import torch.optim as optim\n",
    "from tqdm import tqdm \n",
    "\n",
    "def train_epoch(model, data_loader, loss_function, optimizer, device):\n",
    "    model.train()\n",
    "    epoch_loss = 0.0\n",
    "    correct_predictions = 0\n",
    "    total_predictions = 0\n",
    "\n",
    "    for inputs, labels in tqdm(data_loader):\n",
    "        inputs = inputs.to(device)\n",
    "        labels = labels.to(device)\n",
    "\n",
    "        optimizer.zero_grad()\n",
    "\n",
    "        outputs = model(inputs)\n",
    "        _, predicted = torch.max(outputs, dim=1)\n",
    "\n",
    "        loss = loss_function(outputs, labels)\n",
    "        # loss = loss.mean()\n",
    "        loss.backward()\n",
    "        optimizer.step()\n",
    "\n",
    "        epoch_loss += loss.item()\n",
    "\n",
    "        correct_predictions += (predicted == labels).sum().item()\n",
    "        total_predictions += labels.size(0)\n",
    "\n",
    "    epoch_loss /= len(data_loader)\n",
    "    accuracy = correct_predictions / total_predictions\n",
    "\n",
    "    return epoch_loss, accuracy"
   ]
  },
  {
   "cell_type": "code",
   "execution_count": 10,
   "metadata": {},
   "outputs": [],
   "source": [
    "from sklearn.metrics import confusion_matrix\n",
    "from sklearn.metrics import classification_report\n",
    "from sklearn.metrics import accuracy_score\n",
    "\n",
    "def evaluate(model, data_loader, criterion):\n",
    "    model.eval()\n",
    "\n",
    "    total_loss = 0\n",
    "    total_correct = 0\n",
    "    total_samples = 0\n",
    "    y_true = []\n",
    "    y_pred = []\n",
    "    with torch.no_grad():\n",
    "        for batch in tqdm(data_loader):\n",
    "            X, y = batch\n",
    "            X = X.to(device)\n",
    "            y = y.to(device)\n",
    "\n",
    "            out = model(X)\n",
    "\n",
    "            prediction = torch.argmax(out, dim=1)\n",
    "\n",
    "            y_true.append(y.cpu())\n",
    "            y_pred.append(prediction)\n",
    "            loss = criterion(out, y)\n",
    "            total_loss += loss.item()\n",
    "            total_correct += torch.sum(prediction == y)\n",
    "            total_samples += len(X)\n",
    "\n",
    "    loss  = total_loss / len(data_loader)\n",
    "    accuracy = total_correct / total_samples\n",
    "\n",
    "    y_true = torch.cat(y_true).cpu().numpy()\n",
    "    y_pred = torch.cat(y_pred).cpu().numpy()\n",
    "\n",
    "    print(np.unique(y_true, return_counts=True))\n",
    "\n",
    "    conf_mat = confusion_matrix(y_true, y_pred)\n",
    "    class_report = classification_report(y_true, y_pred, target_names=SleepStageDataset.get_labels()[:-1], output_dict=True)\n",
    "    return loss, accuracy, conf_mat, class_report"
   ]
  },
  {
   "attachments": {},
   "cell_type": "markdown",
   "metadata": {},
   "source": [
    "## Data"
   ]
  },
  {
   "cell_type": "code",
   "execution_count": 11,
   "metadata": {},
   "outputs": [],
   "source": [
    "import time\n",
    "\n",
    "import numpy as np\n",
    "\n",
    "from portiloop_software.portiloop_python.ANN.utils import get_configs\n",
    "\n",
    "from portiloop_software.portiloop_python.ANN.data.mass_data import read_pretraining_dataset, read_sleep_staging_labels, read_spindle_trains_labels\n",
    "import torch\n",
    "\n",
    "\n",
    "experiment_name = 'test_sleep_staging'\n",
    "seed = 42\n",
    "\n",
    "config = get_configs(experiment_name, False, seed)\n",
    "# config['nb_conv_layers'] = 4\n",
    "# config['hidden_size'] = 64\n",
    "# config['nb_rnn_layers'] = 4\n",
    "\n",
    "# Run some testing on subject 1\n",
    "# Load the data\n",
    "labels = read_spindle_trains_labels(config['old_dataset'])\n",
    "ss_labels = read_sleep_staging_labels(config['path_dataset'])\n",
    "# for index, patient_id in enumerate(ss_labels.keys()):\n",
    "unfiltered_mass = \"/project/portiloop_transformer/transformiloop/dataset/MASS_preds/\"\n",
    "\n",
    "data = read_pretraining_dataset(unfiltered_mass, patients_to_keep=['01-01-0001', '01-01-0002', '01-01-0003', '01-01-0004', '01-01-0005'])"
   ]
  },
  {
   "attachments": {},
   "cell_type": "markdown",
   "metadata": {},
   "source": [
    "## Experiment Code"
   ]
  },
  {
   "cell_type": "code",
   "execution_count": 12,
   "metadata": {},
   "outputs": [],
   "source": [
    "device = torch.device('cuda' if torch.cuda.is_available() else 'cpu')"
   ]
  },
  {
   "cell_type": "code",
   "execution_count": 13,
   "metadata": {},
   "outputs": [],
   "source": [
    "config = {\n",
    "    'batch_size': 128, \n",
    "    'freq': 250, \n",
    "    'inception': [16, 8, 16, 16, 32, 16], \n",
    "    'lr': 0.00005,\n",
    "    'num_heads': 8,\n",
    "    'num_layers': 1,\n",
    "    'noise_std': 0.1,\n",
    "    'dropout': 0.1,\n",
    "}\n",
    "\n",
    "config['seq_len'] = 25 * config['freq']\n",
    "config['embedding_size'] = config['inception'][0] + config['inception'][2] + config['inception'][4]"
   ]
  },
  {
   "cell_type": "code",
   "execution_count": 14,
   "metadata": {},
   "outputs": [
    {
     "name": "stdout",
     "output_type": "stream",
     "text": [
      "===============================================================================================\n",
      "Layer (type:depth-idx)                        Output Shape              Param #\n",
      "===============================================================================================\n",
      "├─CNNBlock: 1-1                               [-1, 64, 777]             --\n",
      "|    └─Conv1d: 2-1                            [-1, 64, 6246]            384\n",
      "|    └─ReLU: 2-2                              [-1, 64, 6246]            --\n",
      "|    └─MaxPool1d: 2-3                         [-1, 64, 3123]            --\n",
      "|    └─Conv1d: 2-4                            [-1, 64, 3119]            20,544\n",
      "|    └─ReLU: 2-5                              [-1, 64, 3119]            --\n",
      "|    └─MaxPool1d: 2-6                         [-1, 64, 1559]            --\n",
      "|    └─Conv1d: 2-7                            [-1, 64, 1555]            20,544\n",
      "|    └─ReLU: 2-8                              [-1, 64, 1555]            --\n",
      "|    └─MaxPool1d: 2-9                         [-1, 64, 777]             --\n",
      "├─Dropout: 1-2                                [-1, 64, 777]             --\n",
      "├─PositionalEncoding: 1-3                     [-1, 2, 64]               --\n",
      "|    └─Dropout: 2-10                          [-1, 2, 64]               --\n",
      "├─TransformerEncoder: 1-4                     [-1, 778, 64]             --\n",
      "|    └─ModuleList: 2                          []                        --\n",
      "|    |    └─TransformerEncoderLayer: 3-1      [-1, 778, 64]             281,152\n",
      "├─Linear: 1-5                                 [-1, 5]                   325\n",
      "├─Dropout: 1-6                                [-1, 5]                   --\n",
      "===============================================================================================\n",
      "Total params: 322,949\n",
      "Trainable params: 322,949\n",
      "Non-trainable params: 0\n",
      "Total mult-adds (M): 98.32\n",
      "===============================================================================================\n",
      "Input size (MB): 0.02\n",
      "Forward/backward pass size (MB): 5.33\n",
      "Params size (MB): 1.23\n",
      "Estimated Total Size (MB): 6.59\n",
      "===============================================================================================\n"
     ]
    },
    {
     "data": {
      "text/plain": [
       "===============================================================================================\n",
       "Layer (type:depth-idx)                        Output Shape              Param #\n",
       "===============================================================================================\n",
       "├─CNNBlock: 1-1                               [-1, 64, 777]             --\n",
       "|    └─Conv1d: 2-1                            [-1, 64, 6246]            384\n",
       "|    └─ReLU: 2-2                              [-1, 64, 6246]            --\n",
       "|    └─MaxPool1d: 2-3                         [-1, 64, 3123]            --\n",
       "|    └─Conv1d: 2-4                            [-1, 64, 3119]            20,544\n",
       "|    └─ReLU: 2-5                              [-1, 64, 3119]            --\n",
       "|    └─MaxPool1d: 2-6                         [-1, 64, 1559]            --\n",
       "|    └─Conv1d: 2-7                            [-1, 64, 1555]            20,544\n",
       "|    └─ReLU: 2-8                              [-1, 64, 1555]            --\n",
       "|    └─MaxPool1d: 2-9                         [-1, 64, 777]             --\n",
       "├─Dropout: 1-2                                [-1, 64, 777]             --\n",
       "├─PositionalEncoding: 1-3                     [-1, 2, 64]               --\n",
       "|    └─Dropout: 2-10                          [-1, 2, 64]               --\n",
       "├─TransformerEncoder: 1-4                     [-1, 778, 64]             --\n",
       "|    └─ModuleList: 2                          []                        --\n",
       "|    |    └─TransformerEncoderLayer: 3-1      [-1, 778, 64]             281,152\n",
       "├─Linear: 1-5                                 [-1, 5]                   325\n",
       "├─Dropout: 1-6                                [-1, 5]                   --\n",
       "===============================================================================================\n",
       "Total params: 322,949\n",
       "Trainable params: 322,949\n",
       "Non-trainable params: 0\n",
       "Total mult-adds (M): 98.32\n",
       "===============================================================================================\n",
       "Input size (MB): 0.02\n",
       "Forward/backward pass size (MB): 5.33\n",
       "Params size (MB): 1.23\n",
       "Estimated Total Size (MB): 6.59\n",
       "==============================================================================================="
      ]
     },
     "execution_count": 14,
     "metadata": {},
     "output_type": "execute_result"
    }
   ],
   "source": [
    "# encoder = InceptionBlock(1, config['inception'])\n",
    "encoder = CNNBlock(1, config['embedding_size'])\n",
    "\n",
    "transformer = TransformerEncoderWithCLS(\n",
    "    encoder, \n",
    "    config['embedding_size'], \n",
    "    config['num_heads'], \n",
    "    config['num_layers'], \n",
    "    5, \n",
    "    dropout=config['dropout'],\n",
    "    cls=True)\n",
    "\n",
    "from torchsummary import summary\n",
    "summary(transformer, (1, config['seq_len']))"
   ]
  },
  {
   "attachments": {},
   "cell_type": "markdown",
   "metadata": {},
   "source": [
    "Get the data:"
   ]
  },
  {
   "cell_type": "code",
   "execution_count": 15,
   "metadata": {},
   "outputs": [
    {
     "name": "stderr",
     "output_type": "stream",
     "text": [
      "/tmp/ipykernel_1012812/3033477500.py:31: UserWarning: To copy construct from a tensor, it is recommended to use sourceTensor.clone().detach() or sourceTensor.clone().detach().requires_grad_(True), rather than torch.tensor(sourceTensor).\n",
      "  label = torch.tensor(label).repeat_interleave(freq)\n"
     ]
    }
   ],
   "source": [
    "from torch.utils.data import RandomSampler\n",
    "\n",
    "dataset = SleepStageDataset(['01-01-0001', '01-01-0002', '01-01-0003', '01-01-0004'], data, ss_labels, config['seq_len'], config['freq'])\n",
    "test_dataset = SleepStageDataset(['01-01-0005'], data, ss_labels, config['seq_len'], config['freq'])\n",
    "sampler = SleepStageSampler(dataset, config['seq_len'], 1000, config['batch_size'])\n",
    "test_sampler = SleepStageSampler(test_dataset, config['seq_len'], 1000, config['batch_size'])\n",
    "\n",
    "# dataset = ArtificialEEGDataset(5, config['seq_len'], noise_std=config['noise_std'])\n",
    "# sampler = ArtificialEEGSampler(1000, config['batch_size'])\n",
    "\n",
    "loader = DataLoader(\n",
    "    dataset=dataset,\n",
    "    batch_size=config['batch_size'],\n",
    "    sampler=sampler,\n",
    "    num_workers=0,\n",
    "    pin_memory=True,\n",
    "    drop_last=True\n",
    ")\n",
    "\n",
    "test_loader = DataLoader(\n",
    "    dataset=test_dataset,\n",
    "    batch_size=config['batch_size'],\n",
    "    sampler=test_sampler,\n",
    "    num_workers=0,\n",
    "    pin_memory=True,\n",
    "    drop_last=True\n",
    ")"
   ]
  },
  {
   "cell_type": "code",
   "execution_count": 16,
   "metadata": {},
   "outputs": [
    {
     "data": {
      "text/plain": [
       "tensor([ 1.5170,  3.2430,  6.0444,  ..., -0.4921, -2.3031, -3.9443])"
      ]
     },
     "execution_count": 16,
     "metadata": {},
     "output_type": "execute_result"
    }
   ],
   "source": [
    "dataset[1000000][0][0]"
   ]
  },
  {
   "cell_type": "code",
   "execution_count": 17,
   "metadata": {},
   "outputs": [
    {
     "data": {
      "image/png": "[encoded data removed]",
      "text/plain": [
       "<Figure size 640x480 with 1 Axes>"
      ]
     },
     "metadata": {},
     "output_type": "display_data"
    }
   ],
   "source": [
    "from matplotlib import pyplot as plt\n",
    "plt.plot(dataset[1000000][0][0].numpy())\n",
    "plt.show()\n",
    "# plt.plot(dataset[1][0].squeeze(0).numpy())\n",
    "# plt.show()\n",
    "# plt.plot(dataset[2][0].squeeze(0).numpy())\n",
    "# plt.show()\n",
    "# plt.plot(dataset[3][0].squeeze(0).numpy())\n",
    "# plt.show()\n",
    "# plt.plot(dataset[4][0].squeeze(0).numpy())\n",
    "# plt.show()"
   ]
  },
  {
   "attachments": {},
   "cell_type": "markdown",
   "metadata": {},
   "source": [
    "Initialize WandB:"
   ]
  },
  {
   "attachments": {},
   "cell_type": "markdown",
   "metadata": {},
   "source": [
    "Training:"
   ]
  },
  {
   "cell_type": "code",
   "execution_count": 18,
   "metadata": {},
   "outputs": [
    {
     "name": "stderr",
     "output_type": "stream",
     "text": [
      "Failed to detect the name of this notebook, you can set it manually with the WANDB_NOTEBOOK_NAME environment variable to enable code saving.\n"
     ]
    },
    {
     "name": "stdout",
     "output_type": "stream",
     "text": [
      "===============================================================================================\n",
      "Layer (type:depth-idx)                        Output Shape              Param #\n",
      "===============================================================================================\n",
      "├─CNNBlock: 1-1                               [-1, 64, 777]             --\n",
      "|    └─Conv1d: 2-1                            [-1, 64, 6246]            384\n",
      "|    └─ReLU: 2-2                              [-1, 64, 6246]            --\n",
      "|    └─MaxPool1d: 2-3                         [-1, 64, 3123]            --\n",
      "|    └─Conv1d: 2-4                            [-1, 64, 3119]            20,544\n",
      "|    └─ReLU: 2-5                              [-1, 64, 3119]            --\n",
      "|    └─MaxPool1d: 2-6                         [-1, 64, 1559]            --\n",
      "|    └─Conv1d: 2-7                            [-1, 64, 1555]            20,544\n",
      "|    └─ReLU: 2-8                              [-1, 64, 1555]            --\n",
      "|    └─MaxPool1d: 2-9                         [-1, 64, 777]             --\n",
      "├─Dropout: 1-2                                [-1, 64, 777]             --\n",
      "├─PositionalEncoding: 1-3                     [-1, 2, 64]               --\n",
      "|    └─Dropout: 2-10                          [-1, 2, 64]               --\n",
      "├─TransformerEncoder: 1-4                     [-1, 777, 64]             --\n",
      "|    └─ModuleList: 2                          []                        --\n",
      "|    |    └─TransformerEncoderLayer: 3-1      [-1, 777, 64]             281,152\n",
      "├─Linear: 1-5                                 [-1, 5]                   325\n",
      "├─Dropout: 1-6                                [-1, 5]                   --\n",
      "===============================================================================================\n",
      "Total params: 322,949\n",
      "Trainable params: 322,949\n",
      "Non-trainable params: 0\n",
      "Total mult-adds (M): 98.32\n",
      "===============================================================================================\n",
      "Input size (MB): 0.02\n",
      "Forward/backward pass size (MB): 5.33\n",
      "Params size (MB): 1.23\n",
      "Estimated Total Size (MB): 6.59\n",
      "===============================================================================================\n"
     ]
    },
    {
     "name": "stderr",
     "output_type": "stream",
     "text": [
      "\u001b[34m\u001b[1mwandb\u001b[0m: Currently logged in as: \u001b[33mmilosobral\u001b[0m. Use \u001b[1m`wandb login --relogin`\u001b[0m to force relogin\n"
     ]
    },
    {
     "data": {
      "text/html": [
       "wandb version 0.15.4 is available!  To upgrade, please run:\n",
       " $ pip install wandb --upgrade"
      ],
      "text/plain": [
       "<IPython.core.display.HTML object>"
      ]
     },
     "metadata": {},
     "output_type": "display_data"
    },
    {
     "data": {
      "text/html": [
       "Tracking run with wandb version 0.13.10"
      ],
      "text/plain": [
       "<IPython.core.display.HTML object>"
      ]
     },
     "metadata": {},
     "output_type": "display_data"
    },
    {
     "data": {
      "text/html": [
       "Run data is saved locally in <code>/project/portiloop-training/notebooks/wandb/run-20230613_201546-test_sleep_staging_1686687344</code>"
      ],
      "text/plain": [
       "<IPython.core.display.HTML object>"
      ]
     },
     "metadata": {},
     "output_type": "display_data"
    },
    {
     "data": {
      "text/html": [
       "Syncing run <strong><a href='https://wandb.ai/milosobral/sleep_staging_portiloop/runs/test_sleep_staging_1686687344' target=\"_blank\">test_sleep_staging_1686687344</a></strong> to <a href='https://wandb.ai/milosobral/sleep_staging_portiloop' target=\"_blank\">Weights & Biases</a> (<a href='https://wandb.me/run' target=\"_blank\">docs</a>)<br/>"
      ],
      "text/plain": [
       "<IPython.core.display.HTML object>"
      ]
     },
     "metadata": {},
     "output_type": "display_data"
    },
    {
     "data": {
      "text/html": [
       " View project at <a href='https://wandb.ai/milosobral/sleep_staging_portiloop' target=\"_blank\">https://wandb.ai/milosobral/sleep_staging_portiloop</a>"
      ],
      "text/plain": [
       "<IPython.core.display.HTML object>"
      ]
     },
     "metadata": {},
     "output_type": "display_data"
    },
    {
     "data": {
      "text/html": [
       " View run at <a href='https://wandb.ai/milosobral/sleep_staging_portiloop/runs/test_sleep_staging_1686687344' target=\"_blank\">https://wandb.ai/milosobral/sleep_staging_portiloop/runs/test_sleep_staging_1686687344</a>"
      ],
      "text/plain": [
       "<IPython.core.display.HTML object>"
      ]
     },
     "metadata": {},
     "output_type": "display_data"
    },
    {
     "name": "stdout",
     "output_type": "stream",
     "text": [
      "Epoch 1/1000\n"
     ]
    },
    {
     "name": "stderr",
     "output_type": "stream",
     "text": [
      "1000it [02:27,  6.77it/s]                    \n"
     ]
    },
    {
     "name": "stdout",
     "output_type": "stream",
     "text": [
      "Train loss: 142.3394, Train accuracy: 0.5917, Time: 147.6746\n"
     ]
    },
    {
     "name": "stderr",
     "output_type": "stream",
     "text": [
      "1000it [00:39, 25.57it/s]                    \n"
     ]
    },
    {
     "name": "stdout",
     "output_type": "stream",
     "text": [
      "(array([0, 1, 2, 3, 4]), array([25553, 25336, 25872, 25520, 25719]))\n",
      "Test loss: 119.3354, Test accuracy: 0.6510, Time: 39.3274\n",
      "Epoch 2/1000\n"
     ]
    },
    {
     "name": "stderr",
     "output_type": "stream",
     "text": [
      "1000it [02:27,  6.77it/s]                    \n"
     ]
    },
    {
     "name": "stdout",
     "output_type": "stream",
     "text": [
      "Train loss: 113.9576, Train accuracy: 0.6713, Time: 147.7458\n"
     ]
    },
    {
     "name": "stderr",
     "output_type": "stream",
     "text": [
      "1000it [00:39, 25.50it/s]                    \n"
     ]
    },
    {
     "name": "stdout",
     "output_type": "stream",
     "text": [
      "(array([0, 1, 2, 3, 4]), array([25755, 25323, 25908, 25538, 25476]))\n",
      "Test loss: 109.0091, Test accuracy: 0.7002, Time: 39.4361\n",
      "Epoch 3/1000\n"
     ]
    },
    {
     "name": "stderr",
     "output_type": "stream",
     "text": [
      "1000it [02:26,  6.84it/s]                    \n"
     ]
    },
    {
     "name": "stdout",
     "output_type": "stream",
     "text": [
      "Train loss: 105.6810, Train accuracy: 0.6994, Time: 146.1233\n"
     ]
    },
    {
     "name": "stderr",
     "output_type": "stream",
     "text": [
      "1000it [00:38, 26.02it/s]                    \n"
     ]
    },
    {
     "name": "stdout",
     "output_type": "stream",
     "text": [
      "(array([0, 1, 2, 3, 4]), array([25641, 25479, 25392, 25831, 25657]))\n",
      "Test loss: 106.2911, Test accuracy: 0.7038, Time: 38.6488\n",
      "Epoch 4/1000\n"
     ]
    },
    {
     "name": "stderr",
     "output_type": "stream",
     "text": [
      "1000it [02:28,  6.75it/s]                    \n"
     ]
    },
    {
     "name": "stdout",
     "output_type": "stream",
     "text": [
      "Train loss: 100.7509, Train accuracy: 0.7179, Time: 148.1952\n"
     ]
    },
    {
     "name": "stderr",
     "output_type": "stream",
     "text": [
      "1000it [00:39, 25.31it/s]                    \n"
     ]
    },
    {
     "name": "stdout",
     "output_type": "stream",
     "text": [
      "(array([0, 1, 2, 3, 4]), array([25652, 25627, 25576, 25601, 25544]))\n",
      "Test loss: 105.9202, Test accuracy: 0.7063, Time: 39.7369\n",
      "Epoch 5/1000\n"
     ]
    },
    {
     "name": "stderr",
     "output_type": "stream",
     "text": [
      "1000it [02:26,  6.81it/s]                    \n"
     ]
    },
    {
     "name": "stdout",
     "output_type": "stream",
     "text": [
      "Train loss: 97.8172, Train accuracy: 0.7286, Time: 146.8483\n"
     ]
    },
    {
     "name": "stderr",
     "output_type": "stream",
     "text": [
      "1000it [00:39, 25.36it/s]                    \n"
     ]
    },
    {
     "name": "stdout",
     "output_type": "stream",
     "text": [
      "(array([0, 1, 2, 3, 4]), array([25907, 25543, 25332, 25654, 25564]))\n",
      "Test loss: 108.9247, Test accuracy: 0.7011, Time: 39.6611\n",
      "Epoch 6/1000\n"
     ]
    },
    {
     "name": "stderr",
     "output_type": "stream",
     "text": [
      "1000it [02:29,  6.70it/s]                    \n"
     ]
    },
    {
     "name": "stdout",
     "output_type": "stream",
     "text": [
      "Train loss: 95.5830, Train accuracy: 0.7376, Time: 149.2004\n"
     ]
    },
    {
     "name": "stderr",
     "output_type": "stream",
     "text": [
      "1000it [00:38, 25.68it/s]                    \n"
     ]
    },
    {
     "name": "stdout",
     "output_type": "stream",
     "text": [
      "(array([0, 1, 2, 3, 4]), array([25813, 25340, 25587, 25741, 25519]))\n",
      "Test loss: 104.8080, Test accuracy: 0.7137, Time: 39.1550\n",
      "Epoch 7/1000\n"
     ]
    },
    {
     "name": "stderr",
     "output_type": "stream",
     "text": [
      "1000it [02:26,  6.84it/s]                    \n"
     ]
    },
    {
     "name": "stdout",
     "output_type": "stream",
     "text": [
      "Train loss: 93.7503, Train accuracy: 0.7434, Time: 146.1810\n"
     ]
    },
    {
     "name": "stderr",
     "output_type": "stream",
     "text": [
      "1000it [00:38, 26.00it/s]                    \n"
     ]
    },
    {
     "name": "stdout",
     "output_type": "stream",
     "text": [
      "(array([0, 1, 2, 3, 4]), array([25961, 25518, 25679, 25211, 25631]))\n",
      "Test loss: 109.7674, Test accuracy: 0.6976, Time: 38.6739\n",
      "Epoch 8/1000\n"
     ]
    },
    {
     "name": "stderr",
     "output_type": "stream",
     "text": [
      "1000it [02:26,  6.84it/s]                    \n"
     ]
    },
    {
     "name": "stdout",
     "output_type": "stream",
     "text": [
      "Train loss: 93.0180, Train accuracy: 0.7458, Time: 146.2629\n"
     ]
    },
    {
     "name": "stderr",
     "output_type": "stream",
     "text": [
      "1000it [00:39, 25.54it/s]                    \n"
     ]
    },
    {
     "name": "stdout",
     "output_type": "stream",
     "text": [
      "(array([0, 1, 2, 3, 4]), array([25325, 25811, 25405, 25954, 25505]))\n",
      "Test loss: 109.9908, Test accuracy: 0.7021, Time: 39.4142\n",
      "Epoch 9/1000\n"
     ]
    },
    {
     "name": "stderr",
     "output_type": "stream",
     "text": [
      "1000it [02:28,  6.73it/s]                    \n"
     ]
    },
    {
     "name": "stdout",
     "output_type": "stream",
     "text": [
      "Train loss: 90.9207, Train accuracy: 0.7517, Time: 148.5783\n"
     ]
    },
    {
     "name": "stderr",
     "output_type": "stream",
     "text": [
      "1000it [00:38, 25.69it/s]                    \n"
     ]
    },
    {
     "name": "stdout",
     "output_type": "stream",
     "text": [
      "(array([0, 1, 2, 3, 4]), array([25695, 25668, 25448, 25456, 25733]))\n",
      "Test loss: 111.8997, Test accuracy: 0.6913, Time: 39.1447\n",
      "Epoch 10/1000\n"
     ]
    },
    {
     "name": "stderr",
     "output_type": "stream",
     "text": [
      "434it [01:04,  6.74it/s]                     \n"
     ]
    },
    {
     "data": {
      "text/html": [
       "Waiting for W&B process to finish... <strong style=\"color:red\">(failed 1).</strong> Press Control-C to abort syncing."
      ],
      "text/plain": [
       "<IPython.core.display.HTML object>"
      ]
     },
     "metadata": {},
     "output_type": "display_data"
    },
    {
     "data": {
      "text/html": [
       "<style>\n",
       "    table.wandb td:nth-child(1) { padding: 0 10px; text-align: left ; width: auto;} td:nth-child(2) {text-align: left ; width: 100%}\n",
       "    .wandb-row { display: flex; flex-direction: row; flex-wrap: wrap; justify-content: flex-start; width: 100% }\n",
       "    .wandb-col { display: flex; flex-direction: column; flex-basis: 100%; flex: 1; padding: 10px; }\n",
       "    </style>\n",
       "<div class=\"wandb-row\"><div class=\"wandb-col\"><h3>Run history:</h3><br/><table class=\"wandb\"><tr><td>epoch</td><td>▁▁▂▂▃▃▄▄▅▅▅▅▆▆▇▇██</td></tr><tr><td>test_acc</td><td>▁▆▇▇▇█▆▇▆</td></tr><tr><td>test_loss</td><td>█▃▂▂▃▁▃▃▄</td></tr><tr><td>train_acc</td><td>▁▄▆▇▇▇███</td></tr><tr><td>train_loss</td><td>█▄▃▂▂▂▁▁▁</td></tr></table><br/></div><div class=\"wandb-col\"><h3>Run summary:</h3><br/><table class=\"wandb\"><tr><td>epoch</td><td>8</td></tr><tr><td>test_acc</td><td>0.69131</td></tr><tr><td>test_loss</td><td>111.89973</td></tr><tr><td>train_acc</td><td>0.75171</td></tr><tr><td>train_loss</td><td>90.92067</td></tr></table><br/></div></div>"
      ],
      "text/plain": [
       "<IPython.core.display.HTML object>"
      ]
     },
     "metadata": {},
     "output_type": "display_data"
    },
    {
     "data": {
      "text/html": [
       " View run <strong style=\"color:#cdcd00\">test_sleep_staging_1686687344</strong> at: <a href='https://wandb.ai/milosobral/sleep_staging_portiloop/runs/test_sleep_staging_1686687344' target=\"_blank\">https://wandb.ai/milosobral/sleep_staging_portiloop/runs/test_sleep_staging_1686687344</a><br/>Synced 5 W&B file(s), 0 media file(s), 0 artifact file(s) and 0 other file(s)"
      ],
      "text/plain": [
       "<IPython.core.display.HTML object>"
      ]
     },
     "metadata": {},
     "output_type": "display_data"
    },
    {
     "data": {
      "text/html": [
       "Find logs at: <code>./wandb/run-20230613_201546-test_sleep_staging_1686687344/logs</code>"
      ],
      "text/plain": [
       "<IPython.core.display.HTML object>"
      ]
     },
     "metadata": {},
     "output_type": "display_data"
    },
    {
     "ename": "KeyboardInterrupt",
     "evalue": "",
     "output_type": "error",
     "traceback": [
      "\u001b[0;31m---------------------------------------------------------------------------\u001b[0m",
      "\u001b[0;31mKeyboardInterrupt\u001b[0m                         Traceback (most recent call last)",
      "Cell \u001b[0;32mIn[18], line 36\u001b[0m\n\u001b[1;32m     34\u001b[0m \u001b[39m# Training\u001b[39;00m\n\u001b[1;32m     35\u001b[0m start \u001b[39m=\u001b[39m time\u001b[39m.\u001b[39mtime()\n\u001b[0;32m---> 36\u001b[0m train_loss, train_acc \u001b[39m=\u001b[39m train_epoch(transformer, loader, criterion, optimizer, device)\n\u001b[1;32m     37\u001b[0m end \u001b[39m=\u001b[39m time\u001b[39m.\u001b[39mtime()\n\u001b[1;32m     38\u001b[0m wandb\u001b[39m.\u001b[39mlog({\u001b[39m\"\u001b[39m\u001b[39mtrain_loss\u001b[39m\u001b[39m\"\u001b[39m: train_loss, \u001b[39m\"\u001b[39m\u001b[39mtrain_acc\u001b[39m\u001b[39m\"\u001b[39m: train_acc, \u001b[39m'\u001b[39m\u001b[39mepoch\u001b[39m\u001b[39m'\u001b[39m:i})\n",
      "Cell \u001b[0;32mIn[9], line 24\u001b[0m, in \u001b[0;36mtrain_epoch\u001b[0;34m(model, data_loader, loss_function, optimizer, device)\u001b[0m\n\u001b[1;32m     21\u001b[0m loss\u001b[39m.\u001b[39mbackward()\n\u001b[1;32m     22\u001b[0m optimizer\u001b[39m.\u001b[39mstep()\n\u001b[0;32m---> 24\u001b[0m epoch_loss \u001b[39m+\u001b[39m\u001b[39m=\u001b[39m loss\u001b[39m.\u001b[39;49mitem()\n\u001b[1;32m     26\u001b[0m correct_predictions \u001b[39m+\u001b[39m\u001b[39m=\u001b[39m (predicted \u001b[39m==\u001b[39m labels)\u001b[39m.\u001b[39msum()\u001b[39m.\u001b[39mitem()\n\u001b[1;32m     27\u001b[0m total_predictions \u001b[39m+\u001b[39m\u001b[39m=\u001b[39m labels\u001b[39m.\u001b[39msize(\u001b[39m0\u001b[39m)\n",
      "\u001b[0;31mKeyboardInterrupt\u001b[0m: "
     ]
    }
   ],
   "source": [
    "from torchsummary import summary\n",
    "\n",
    "# encoder = InceptionBlock(1, config['inception'])\n",
    "encoder = CNNBlock(1, config['embedding_size'])\n",
    "\n",
    "transformer = TransformerEncoderWithCLS(\n",
    "    encoder, \n",
    "    config['embedding_size'], \n",
    "    config['num_heads'], \n",
    "    config['num_layers'], \n",
    "    5, \n",
    "    dropout=config['dropout'],\n",
    "    cls=False)\n",
    "# transformer = SimpleModel(config['seq_len'], 256, 5)\n",
    "\n",
    "summary(transformer, (1, config['seq_len']))\n",
    "\n",
    "transformer.to(device)  \n",
    "\n",
    "# weights = np.unique(dataset.full_labels, return_counts=True)[1] / len(dataset.full_labels)\n",
    "# weights = 1 / (torch.tensor(weights[:-1], dtype=torch.float) + weights[-1] / 5)\n",
    "\n",
    "criterion = nn.CrossEntropyLoss()\n",
    "optimizer = optim.Adam(transformer.parameters(), lr=config['lr'])\n",
    "\n",
    "experiment_name = f\"test_sleep_staging_{int(time.time())}\" # Add a timestamps to the name\n",
    "\n",
    "max_epochs = 1000\n",
    "with wandb.init(project=project_name, entity=\"milosobral\", id=experiment_name, config=config) as wandb_run:\n",
    "    for i in range(max_epochs):\n",
    "\n",
    "        print(f\"Epoch {i + 1}/{max_epochs}\")\n",
    "\n",
    "        # Training\n",
    "        start = time.time()\n",
    "        train_loss, train_acc = train_epoch(transformer, loader, criterion, optimizer, device)\n",
    "        end = time.time()\n",
    "        wandb.log({\"train_loss\": train_loss, \"train_acc\": train_acc, 'epoch':i})\n",
    "        print(f\"Train loss: {train_loss:.4f}, Train accuracy: {train_acc:.4f}, Time: {end - start:.4f}\")\n",
    "\n",
    "        # Validation\n",
    "        start = time.time()\n",
    "        test_loss, test_accuracy, conf_mat, class_report = evaluate(transformer, test_loader, criterion)\n",
    "        end = time.time()\n",
    "        wandb.log({\"test_loss\": test_loss, \"test_acc\": test_accuracy, 'epoch':i, 'class_report': class_report['weighted avg']})\n",
    "        print(f\"Test loss: {test_loss:.4f}, Test accuracy: {test_accuracy:.4f}, Time: {end - start:.4f}\")\n"
   ]
  },
  {
   "cell_type": "code",
   "execution_count": null,
   "metadata": {},
   "outputs": [],
   "source": []
  },
  {
   "cell_type": "code",
   "execution_count": null,
   "metadata": {},
   "outputs": [],
   "source": []
  },
  {
   "cell_type": "code",
   "execution_count": null,
   "metadata": {},
   "outputs": [],
   "source": []
  }
 ],
 "metadata": {
  "kernelspec": {
   "display_name": "venv",
   "language": "python",
   "name": "python3"
  },
  "language_info": {
   "codemirror_mode": {
    "name": "ipython",
    "version": 3
   },
   "file_extension": ".py",
   "mimetype": "text/x-python",
   "name": "python",
   "nbconvert_exporter": "python",
   "pygments_lexer": "ipython3",
   "version": "3.10.6"
  },
  "orig_nbformat": 4
 },
 "nbformat": 4,
 "nbformat_minor": 2
}
